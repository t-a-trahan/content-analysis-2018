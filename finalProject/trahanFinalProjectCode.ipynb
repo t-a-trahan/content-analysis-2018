{
 "cells": [
  {
   "cell_type": "code",
   "execution_count": 1,
   "metadata": {},
   "outputs": [
    {
     "name": "stderr",
     "output_type": "stream",
     "text": [
      "D:\\computation\\Anaconda3\\lib\\site-packages\\gensim\\utils.py:860: UserWarning: detected Windows; aliasing chunkize to chunkize_serial\n",
      "  warnings.warn(\"detected Windows; aliasing chunkize to chunkize_serial\")\n",
      "D:\\computation\\Anaconda3\\lib\\site-packages\\nltk\\tag\\stanford.py:183: DeprecationWarning: \n",
      "The StanfordTokenizer will be deprecated in version 3.2.5.\n",
      "Please use \u001b[91mnltk.tag.corenlp.CoreNLPPOSTagger\u001b[0m or \u001b[91mnltk.tag.corenlp.CoreNLPNERTagger\u001b[0m instead.\n",
      "  super(StanfordNERTagger, self).__init__(*args, **kwargs)\n",
      "D:\\computation\\Anaconda3\\lib\\site-packages\\nltk\\tag\\stanford.py:149: DeprecationWarning: \n",
      "The StanfordTokenizer will be deprecated in version 3.2.5.\n",
      "Please use \u001b[91mnltk.tag.corenlp.CoreNLPPOSTagger\u001b[0m or \u001b[91mnltk.tag.corenlp.CoreNLPNERTagger\u001b[0m instead.\n",
      "  super(StanfordPOSTagger, self).__init__(*args, **kwargs)\n"
     ]
    }
   ],
   "source": [
    "#Special module written for this class\n",
    "#This provides access to data and to helper functions from previous weeks\n",
    "#Make sure you update it before starting this notebook\n",
    "import lucem_illud #pip install -U git+git://github.com/Computational-Content-Analysis-2018/lucem_illud.git\n",
    "\n",
    "\n",
    "import sklearn\n",
    "import sklearn.cluster\n",
    " \n",
    "\n",
    "#All these packages need to be installed from pip\n",
    "import gensim#For word2vec, etc\n",
    "import requests #For downloading our datasets\n",
    "import numpy as np #For arrays\n",
    "import pandas #Gives us DataFrames\n",
    "import matplotlib.pyplot as plt #For graphics\n",
    "import seaborn #Makes the graphics look nicer\n",
    "import sklearn.metrics.pairwise #For cosine similarity\n",
    "import sklearn.manifold #For T-SNE\n",
    "import sklearn.decomposition #For PCA\n",
    "\n",
    "\n",
    "import matplotlib.cm #Still for graphics\n",
    "\n",
    "\n",
    "#gensim uses a couple of deprecated features\n",
    "#we can't do anything about them so lets ignore them \n",
    "import warnings\n",
    "warnings.filterwarnings(\"ignore\", category=DeprecationWarning) \n",
    "\n",
    "#This 'magic' command makes the plots work better\n",
    "#in the notebook, don't use it outside of a notebook.\n",
    "#Also you can ignore the warning\n",
    "%matplotlib inline\n",
    "\n",
    "import os\n",
    "java_path = \"C:/Program Files/Java/jdk1.8.0_161/bin/java.exe\"\n",
    "os.environ['JAVAHOME'] = java_path\n",
    "\n",
    "import os.path #For managing file paths\n",
    "\n",
    "import nltk #For stop words and stemmers\n",
    "\n",
    "import lucem_illud.stanford as stanford # for claim extraction\n",
    "\n",
    "import re # for regex\n",
    "\n",
    "import copy # for linguistic change"
   ]
  },
  {
   "cell_type": "code",
   "execution_count": 2,
   "metadata": {
    "collapsed": true
   },
   "outputs": [],
   "source": [
    "nyt = pandas.read_csv('D:/contentAnalysis/vietnam/nyt2000.csv')\n",
    "\n",
    "nyt84 = nyt[nyt['date'].str.contains('1980|1981|1982|1983|1984', na = False)]\n",
    "nyt89 = nyt[nyt['date'].str.contains('1985|1986|1987|1988|1989', na = False)]\n",
    "nyt94 = nyt[nyt['date'].str.contains('1990|1991|1992|1993|1994', na = False)]\n",
    "nyt99 = nyt[nyt['date'].str.contains('1995|1996|1997|1998|1999', na = False)]"
   ]
  },
  {
   "cell_type": "markdown",
   "metadata": {},
   "source": [
    "# Corpus Linguistics"
   ]
  },
  {
   "cell_type": "code",
   "execution_count": 92,
   "metadata": {
    "collapsed": true
   },
   "outputs": [],
   "source": [
    "nytCorpLing = nyt\n",
    "\n",
    "snowball = nltk.stem.snowball.SnowballStemmer('english')\n",
    "\n",
    "#nytCorpLing['tokenized_text'] = nytCorpLing['article'].apply(lambda x: nltk.word_tokenize(x))\n",
    "nytCorpLing['normalized_tokens'] = nytCorpLing['tokenized_text'].apply(lambda x: lucem_illud.normalizeTokens(x, stopwordLst = lucem_illud.stop_words_basic, stemmer = snowball))"
   ]
  },
  {
   "cell_type": "code",
   "execution_count": null,
   "metadata": {
    "collapsed": true
   },
   "outputs": [],
   "source": [
    "nytBigrams = nltk.collocations.BigramCollocationFinder.from_words(nytCorpLing['normalized_tokens'].sum())\n",
    "print(\"There are {} bigrams in the finder\".format(nytBigrams.N))"
   ]
  },
  {
   "cell_type": "code",
   "execution_count": 102,
   "metadata": {},
   "outputs": [
    {
     "name": "stdout",
     "output_type": "stream",
     "text": [
      "There are 13325011 bigrams in the finder\n"
     ]
    }
   ],
   "source": [
    "print(\"There are {} bigrams in the finder\".format(nytBigrams.N))"
   ]
  },
  {
   "cell_type": "code",
   "execution_count": 113,
   "metadata": {},
   "outputs": [
    {
     "name": "stdout",
     "output_type": "stream",
     "text": [
      "[('unit', 'state'), ('new', 'york'), ('english', 'graphic'), ('vietnam', 'war'), ('graphic', 'photo'), ('white', 'hous'), ('last', 'year'), ('year', 'ago'), ('soviet', 'union'), ('world', 'war'), ('unit', 'nation'), ('english', 'type'), ('offici', 'said'), ('last', 'week'), ('war', 'ii'), ('khmer', 'roug'), ('air', 'forc'), ('york', 'time'), ('vietnam', 'veteran'), ('vice', 'presid'), ('presid', 'reagan'), ('foreign', 'polici'), ('el', 'salvador'), ('high', 'school'), ('two', 'year'), ('york', 'citi'), ('prime', 'minist'), ('state', 'depart'), ('year', 'old'), ('los', 'angel')]\n"
     ]
    }
   ],
   "source": [
    "def bigramScoring(count, wordsTuple, total):\n",
    "    return count\n",
    "\n",
    "print(nytBigrams.nbest(bigramScoring, 30))"
   ]
  },
  {
   "cell_type": "code",
   "execution_count": null,
   "metadata": {
    "collapsed": true
   },
   "outputs": [],
   "source": [
    "trigram_measures = nltk.collocations.TrigramAssocMeasures()\n",
    "nytTrigrams = nltk.collocations.TrigramCollocationFinder.from_words(nytCorpLing['normalized_tokens'].sum())\n",
    "nytTrigrams.score_ngrams(trigram_measures.student_t)[:20]"
   ]
  },
  {
   "cell_type": "markdown",
   "metadata": {},
   "source": [
    "# word2vec"
   ]
  },
  {
   "cell_type": "markdown",
   "metadata": {},
   "source": [
    "#### prep corpus"
   ]
  },
  {
   "cell_type": "code",
   "execution_count": 3,
   "metadata": {
    "collapsed": true
   },
   "outputs": [],
   "source": [
    "nytDF = nyt\n",
    "\n",
    "def cleanerYear(x):\n",
    "    return re.sub(r'(\\D+)\\s(\\d{1,2})\\W', '', x)\n",
    "\n",
    "nytDF['date'] = nytDF['date'].apply(cleanerYear)\n",
    "nytDF['docID'] = nytDF.index\n",
    "\n",
    "nytDF = nytDF.reset_index(drop=True)\n",
    "\n",
    "#Apply our functions, notice each row is a list of lists now\n",
    "nytDF['tokenized_sents'] = nytDF['article'].apply(lambda x: [nltk.word_tokenize(s) for s in nltk.sent_tokenize(x)])\n",
    "nytDF['normalized_sents'] = nytDF['tokenized_sents'].apply(lambda x: [lucem_illud.normalizeTokens(s, stopwordLst = lucem_illud.stop_words_basic, stemmer = None) for s in x])\n",
    "\n"
   ]
  },
  {
   "cell_type": "markdown",
   "metadata": {},
   "source": [
    "#### iter and dimension testing"
   ]
  },
  {
   "cell_type": "code",
   "execution_count": 98,
   "metadata": {},
   "outputs": [
    {
     "data": {
      "text/plain": [
       "9256326.0"
      ]
     },
     "execution_count": 98,
     "metadata": {},
     "output_type": "execute_result"
    }
   ],
   "source": [
    "# iter\n",
    "\n",
    "nytW2V_loss = gensim.models.word2vec.Word2Vec(size = 100, #dimensions\n",
    "                                                      alpha=0.025,\n",
    "                                                      window=5,\n",
    "                                                      min_count=5,\n",
    "                                                      hs=0,  #hierarchical softmax toggle\n",
    "                                                      compute_loss = True,\n",
    "                                                     )\n",
    "nytW2V_loss.build_vocab(nytDF['normalized_sents'].sum())\n",
    "nytW2V_loss.train(nytDF['normalized_sents'].sum(), \n",
    "                     total_examples=nytW2V.corpus_count, \n",
    "                     epochs=1, #This the running_training_loss is a total so we have to do 1 epoch at a time\n",
    "                    )\n",
    "#Using a list so we can capture every epoch\n",
    "losses = [nytW2V_loss.running_training_loss]\n",
    "losses[0]"
   ]
  },
  {
   "cell_type": "code",
   "execution_count": null,
   "metadata": {
    "collapsed": true
   },
   "outputs": [],
   "source": [
    "# iter\n",
    "\n",
    "lossesDF = pandas.DataFrame({'loss' : losses, 'epoch' : range(len(losses))})\n",
    "lossesDF.plot(y = 'loss', x = 'epoch', logy=False, figsize=(15, 7))\n",
    "plt.show()"
   ]
  },
  {
   "cell_type": "code",
   "execution_count": null,
   "metadata": {
    "collapsed": true
   },
   "outputs": [],
   "source": [
    "# dimensions\n",
    "\n",
    "for i in range(19):\n",
    "    nytW2V_loss.train(nytDF['normalized_sents'].sum(), \n",
    "                     total_examples=nytW2V.corpus_count, \n",
    "                     epochs=1,\n",
    "                             )\n",
    "    losses.append(nytW2V_loss.running_training_loss)\n",
    "    print(\"Done epoch {}\".format(i + 2), end = '\\r')"
   ]
  },
  {
   "cell_type": "code",
   "execution_count": null,
   "metadata": {
    "collapsed": true
   },
   "outputs": [],
   "source": [
    "# dimensions\n",
    "\n",
    "losses_dimsDF = pandas.DataFrame({'loss' : losses_dims, 'dimensions' : [50,100,150,200,250,300,350,400,450,500,550,600,650,700,750]})\n",
    "losses_dimsDF.plot(y = 'loss', x = 'dimensions', logy=False, figsize=(15, 7))\n",
    "plt.show()"
   ]
  },
  {
   "cell_type": "markdown",
   "metadata": {},
   "source": [
    "#### w2v doing its thing"
   ]
  },
  {
   "cell_type": "code",
   "execution_count": 4,
   "metadata": {
    "collapsed": true
   },
   "outputs": [],
   "source": [
    "nytW2V = gensim.models.word2vec.Word2Vec(nytDF['normalized_sents'].sum())"
   ]
  },
  {
   "cell_type": "code",
   "execution_count": 15,
   "metadata": {},
   "outputs": [
    {
     "data": {
      "text/plain": [
       "[('indochina', 0.6871994137763977),\n",
       " ('unaccounted', 0.6217677593231201),\n",
       " ('servicemen', 0.6184337139129639),\n",
       " ('combat', 0.6050904989242554),\n",
       " ('laos', 0.5637581944465637),\n",
       " ('wartime', 0.5516078472137451),\n",
       " ('conflict', 0.5391845107078552),\n",
       " ('hanoi', 0.5248482823371887),\n",
       " ('battlefields', 0.5059446096420288),\n",
       " ('korea', 0.5054271817207336)]"
      ]
     },
     "execution_count": 15,
     "metadata": {},
     "output_type": "execute_result"
    }
   ],
   "source": [
    "nytW2V.most_similar(positive=['vietnam', 'war', 'missing'])"
   ]
  },
  {
   "cell_type": "code",
   "execution_count": 303,
   "metadata": {},
   "outputs": [
    {
     "data": {
      "text/plain": [
       "[('prisoner', 0.7905887961387634),\n",
       " ('servicemen', 0.7384381890296936),\n",
       " ('captives', 0.7081892490386963),\n",
       " ('detainees', 0.6654864549636841),\n",
       " ('hostages', 0.6464436054229736),\n",
       " ('deserters', 0.6186035871505737),\n",
       " ('inmates', 0.5860714912414551),\n",
       " ('defectors', 0.5734658241271973),\n",
       " ('captors', 0.5577869415283203),\n",
       " ('serviceman', 0.5458605885505676)]"
      ]
     },
     "execution_count": 303,
     "metadata": {},
     "output_type": "execute_result"
    }
   ],
   "source": [
    "nytW2V.most_similar('prisoners')"
   ]
  },
  {
   "cell_type": "code",
   "execution_count": 17,
   "metadata": {},
   "outputs": [
    {
     "data": {
      "text/plain": [
       "[('unaccounted', 0.7440609931945801),\n",
       " ('servicemen', 0.6481564044952393),\n",
       " ('listed', 0.6013747453689575),\n",
       " ('dead', 0.592308521270752),\n",
       " ('fate', 0.539675235748291),\n",
       " ('remains', 0.5281307697296143),\n",
       " ('alive', 0.5219168663024902),\n",
       " ('whereabouts', 0.5011625289916992),\n",
       " ('prisoners', 0.47272664308547974),\n",
       " ('search', 0.4711296558380127)]"
      ]
     },
     "execution_count": 17,
     "metadata": {},
     "output_type": "execute_result"
    }
   ],
   "source": [
    "nytW2V.most_similar('missing')\n"
   ]
  },
  {
   "cell_type": "code",
   "execution_count": 7,
   "metadata": {
    "collapsed": true
   },
   "outputs": [],
   "source": [
    "numWords = 150\n",
    "targetWords = nytW2V.wv.index2word[:numWords]"
   ]
  },
  {
   "cell_type": "code",
   "execution_count": 25,
   "metadata": {},
   "outputs": [
    {
     "data": {
      "text/plain": [
       "array([[-1.4698645 ,  0.8078447 , -1.2409662 , ...,  2.4158332 ,\n",
       "         1.5062152 ,  0.5487973 ],\n",
       "       [-2.8091605 , -0.10851444, -0.9104403 , ...,  1.3965249 ,\n",
       "         0.25948116,  1.4704249 ],\n",
       "       [-0.07349849, -1.3920742 ,  0.16081643, ..., -0.17525397,\n",
       "         0.93247485, -0.0958911 ],\n",
       "       ...,\n",
       "       [-2.804545  ,  0.55682176,  0.8765692 , ...,  1.1766677 ,\n",
       "         1.943861  ,  1.596495  ],\n",
       "       [-0.5529652 , -0.02375211,  0.05010545, ...,  0.7956565 ,\n",
       "         0.8077774 , -1.2759283 ],\n",
       "       [-1.3893946 ,  1.8083165 ,  1.0760838 , ...,  0.3107637 ,\n",
       "        -0.26820454,  0.699477  ]], dtype=float32)"
      ]
     },
     "execution_count": 25,
     "metadata": {},
     "output_type": "execute_result"
    }
   ],
   "source": [
    "wordsSubMatrix = []\n",
    "for word in targetWords:\n",
    "    wordsSubMatrix.append(nytW2V[word])\n",
    "wordsSubMatrix = np.array(wordsSubMatrix)\n",
    "wordsSubMatrix"
   ]
  },
  {
   "cell_type": "code",
   "execution_count": 26,
   "metadata": {
    "collapsed": true
   },
   "outputs": [],
   "source": [
    "pcaWords = sklearn.decomposition.PCA(n_components = 50).fit(wordsSubMatrix)\n",
    "reducedPCA_data = pcaWords.transform(wordsSubMatrix)\n",
    "#T-SNE is theoretically better, but you should experiment\n",
    "tsneWords = sklearn.manifold.TSNE(n_components = 2, early_exaggeration = 25).fit_transform(reducedPCA_data)"
   ]
  },
  {
   "cell_type": "code",
   "execution_count": 27,
   "metadata": {},
   "outputs": [
    {
     "data": {
      "image/png": "[encoded data removed]",
      "text/plain": [
       "<matplotlib.figure.Figure at 0x21053d29080>"
      ]
     },
     "metadata": {},
     "output_type": "display_data"
    }
   ],
   "source": [
    "fig = plt.figure(figsize = (15,10))\n",
    "ax = fig.add_subplot(111)\n",
    "ax.set_frame_on(False)\n",
    "plt.scatter(tsneWords[:, 0], tsneWords[:, 1], alpha = 0)#Making the points invisible \n",
    "for i, word in enumerate(targetWords):\n",
    "    ax.annotate(word, \n",
    "                (tsneWords[:, 0][i],tsneWords[:, 1][i]), \n",
    "                size =  20 * (numWords - i) / numWords, \n",
    "                alpha = .8 * (numWords - i) / numWords + .2)\n",
    "plt.xticks(())\n",
    "plt.yticks(())\n",
    "plt.show()"
   ]
  },
  {
   "cell_type": "code",
   "execution_count": 43,
   "metadata": {
    "collapsed": true
   },
   "outputs": [],
   "source": [
    "keywords = ['captivity', 'war', 'soviet', 'clinton', 'reagan', 'carter', 'nixon', 'missing', 'prisoners', 'vietnam']"
   ]
  },
  {
   "cell_type": "code",
   "execution_count": 44,
   "metadata": {
    "collapsed": true
   },
   "outputs": [],
   "source": [
    "heatmapMatrix = []\n",
    "for tagOuter in keywords:\n",
    "    column = []\n",
    "    tagVec = nytW2V.wv[tagOuter].reshape(1, -1)\n",
    "    for tagInner in keywords:\n",
    "        column.append(sklearn.metrics.pairwise.cosine_similarity(tagVec, nytW2V.wv[tagInner].reshape(1, -1))[0][0])\n",
    "    heatmapMatrix.append(column)\n",
    "heatmapMatrix = np.array(heatmapMatrix)"
   ]
  },
  {
   "cell_type": "code",
   "execution_count": 45,
   "metadata": {},
   "outputs": [
    {
     "data": {
      "image/png": "[encoded data removed]",
      "text/plain": [
       "<matplotlib.figure.Figure at 0x1fa63e4b1d0>"
      ]
     },
     "metadata": {},
     "output_type": "display_data"
    }
   ],
   "source": [
    "fig, ax = plt.subplots()\n",
    "hmap = ax.pcolor(heatmapMatrix, cmap='inferno')\n",
    "cbar = plt.colorbar(hmap)\n",
    "\n",
    "cbar.set_label('cosine similarity', rotation=270)\n",
    "a = ax.set_xticks(np.arange(heatmapMatrix.shape[1]) + 0.5, minor=False)\n",
    "a = ax.set_yticks(np.arange(heatmapMatrix.shape[0]) + 0.5, minor=False)\n",
    "\n",
    "a = ax.set_xticklabels(keywords, minor=False, rotation=270)\n",
    "a = ax.set_yticklabels(keywords, minor=False)\n",
    "plt.savefig('all.png', bbox_inches='tight')\n",
    "fig.savefig('corpusHeat.png', bbox_inches='tight')"
   ]
  },
  {
   "cell_type": "code",
   "execution_count": 46,
   "metadata": {
    "collapsed": true
   },
   "outputs": [],
   "source": [
    "nyt84 = nytDF[nytDF['date'].str.contains('1980|1981|1982|1983|1984', na = False)]\n",
    "nyt89 = nytDF[nytDF['date'].str.contains('1985|1986|1987|1988|1989', na = False)]\n",
    "nyt94 = nytDF[nytDF['date'].str.contains('1990|1991|1992|1993|1994', na = False)]\n",
    "nyt99 = nytDF[nytDF['date'].str.contains('1995|1996|1997|1998|1999', na = False)]"
   ]
  },
  {
   "cell_type": "code",
   "execution_count": 19,
   "metadata": {
    "collapsed": true
   },
   "outputs": [],
   "source": [
    "nyt84W2V = gensim.models.word2vec.Word2Vec(nyt84['normalized_sents'].sum())"
   ]
  },
  {
   "cell_type": "code",
   "execution_count": 20,
   "metadata": {
    "collapsed": true
   },
   "outputs": [],
   "source": [
    "nyt89W2V = gensim.models.word2vec.Word2Vec(nyt89['normalized_sents'].sum())"
   ]
  },
  {
   "cell_type": "code",
   "execution_count": 21,
   "metadata": {
    "collapsed": true
   },
   "outputs": [],
   "source": [
    "nyt94W2V = gensim.models.word2vec.Word2Vec(nyt94['normalized_sents'].sum())"
   ]
  },
  {
   "cell_type": "code",
   "execution_count": 22,
   "metadata": {
    "collapsed": true
   },
   "outputs": [],
   "source": [
    "nyt99W2V = gensim.models.word2vec.Word2Vec(nyt99['normalized_sents'].sum())"
   ]
  },
  {
   "cell_type": "code",
   "execution_count": 304,
   "metadata": {
    "collapsed": true
   },
   "outputs": [],
   "source": [
    "keywords = ['captivity', 'war', 'clinton', 'reagan', 'carter', 'nixon', 'missing', 'prisoners', 'vietnam', 'economy', 'trade']"
   ]
  },
  {
   "cell_type": "code",
   "execution_count": 305,
   "metadata": {},
   "outputs": [
    {
     "data": {
      "image/png": "[encoded data removed]",
      "text/plain": [
       "<matplotlib.figure.Figure at 0x1fa81510278>"
      ]
     },
     "metadata": {},
     "output_type": "display_data"
    }
   ],
   "source": [
    "#84\n",
    "\n",
    "heatmapMatrix = []\n",
    "for tagOuter in keywords:\n",
    "    column = []\n",
    "    tagVec = nyt84W2V.wv[tagOuter].reshape(1, -1)\n",
    "    for tagInner in keywords:\n",
    "        column.append(sklearn.metrics.pairwise.cosine_similarity(tagVec, nyt84W2V.wv[tagInner].reshape(1, -1))[0][0])\n",
    "    heatmapMatrix.append(column)\n",
    "heatmapMatrix = np.array(heatmapMatrix)\n",
    "\n",
    "\n",
    "\n",
    "fig, ax = plt.subplots()\n",
    "hmap = ax.pcolor(heatmapMatrix, cmap='inferno')\n",
    "cbar = plt.colorbar(hmap)\n",
    "\n",
    "cbar.set_label('cosine similarity', rotation=270)\n",
    "a = ax.set_xticks(np.arange(heatmapMatrix.shape[1]) + 0.5, minor=False)\n",
    "a = ax.set_yticks(np.arange(heatmapMatrix.shape[0]) + 0.5, minor=False)\n",
    "\n",
    "a = ax.set_xticklabels(keywords, minor=False, rotation=270)\n",
    "a = ax.set_yticklabels(keywords, minor=False)\n",
    "plt.savefig('all.png', bbox_inches='tight')\n",
    "fig.savefig('84heat.png', bbox_inches='tight')\n"
   ]
  },
  {
   "cell_type": "code",
   "execution_count": 306,
   "metadata": {},
   "outputs": [
    {
     "data": {
      "image/png": "[encoded data removed]",
      "text/plain": [
       "<matplotlib.figure.Figure at 0x1fa80e5ecc0>"
      ]
     },
     "metadata": {},
     "output_type": "display_data"
    }
   ],
   "source": [
    "#89\n",
    "\n",
    "heatmapMatrix = []\n",
    "for tagOuter in keywords:\n",
    "    column = []\n",
    "    tagVec = nyt89W2V.wv[tagOuter].reshape(1, -1)\n",
    "    for tagInner in keywords:\n",
    "        column.append(sklearn.metrics.pairwise.cosine_similarity(tagVec, nyt89W2V.wv[tagInner].reshape(1, -1))[0][0])\n",
    "    heatmapMatrix.append(column)\n",
    "heatmapMatrix = np.array(heatmapMatrix)\n",
    "\n",
    "\n",
    "\n",
    "fig, ax = plt.subplots()\n",
    "hmap = ax.pcolor(heatmapMatrix, cmap='inferno')\n",
    "cbar = plt.colorbar(hmap)\n",
    "\n",
    "cbar.set_label('cosine similarity', rotation=270)\n",
    "a = ax.set_xticks(np.arange(heatmapMatrix.shape[1]) + 0.5, minor=False)\n",
    "a = ax.set_yticks(np.arange(heatmapMatrix.shape[0]) + 0.5, minor=False)\n",
    "\n",
    "a = ax.set_xticklabels(keywords, minor=False, rotation=270)\n",
    "a = ax.set_yticklabels(keywords, minor=False)\n",
    "plt.savefig('all.png', bbox_inches='tight')\n",
    "fig.savefig('89heat.png', bbox_inches='tight')"
   ]
  },
  {
   "cell_type": "code",
   "execution_count": 307,
   "metadata": {},
   "outputs": [
    {
     "data": {
      "image/png": "[encoded data removed]",
      "text/plain": [
       "<matplotlib.figure.Figure at 0x1fa81838748>"
      ]
     },
     "metadata": {},
     "output_type": "display_data"
    }
   ],
   "source": [
    "#94\n",
    "\n",
    "\n",
    "heatmapMatrix = []\n",
    "for tagOuter in keywords:\n",
    "    column = []\n",
    "    tagVec = nyt94W2V.wv[tagOuter].reshape(1, -1)\n",
    "    for tagInner in keywords:\n",
    "        column.append(sklearn.metrics.pairwise.cosine_similarity(tagVec, nyt94W2V.wv[tagInner].reshape(1, -1))[0][0])\n",
    "    heatmapMatrix.append(column)\n",
    "heatmapMatrix = np.array(heatmapMatrix)\n",
    "\n",
    "\n",
    "\n",
    "fig, ax = plt.subplots()\n",
    "hmap = ax.pcolor(heatmapMatrix, cmap='inferno')\n",
    "cbar = plt.colorbar(hmap)\n",
    "\n",
    "cbar.set_label('cosine similarity', rotation=270)\n",
    "a = ax.set_xticks(np.arange(heatmapMatrix.shape[1]) + 0.5, minor=False)\n",
    "a = ax.set_yticks(np.arange(heatmapMatrix.shape[0]) + 0.5, minor=False)\n",
    "\n",
    "a = ax.set_xticklabels(keywords, minor=False, rotation=270)\n",
    "a = ax.set_yticklabels(keywords, minor=False)\n",
    "plt.savefig('all.png', bbox_inches='tight')\n",
    "fig.savefig('94heat.png', bbox_inches='tight')"
   ]
  },
  {
   "cell_type": "code",
   "execution_count": 308,
   "metadata": {},
   "outputs": [
    {
     "data": {
      "image/png": "[encoded data removed]",
      "text/plain": [
       "<matplotlib.figure.Figure at 0x1fa82a602e8>"
      ]
     },
     "metadata": {},
     "output_type": "display_data"
    }
   ],
   "source": [
    "#99\n",
    "\n",
    "heatmapMatrix = []\n",
    "for tagOuter in keywords:\n",
    "    column = []\n",
    "    tagVec = nyt99W2V.wv[tagOuter].reshape(1, -1)\n",
    "    for tagInner in keywords:\n",
    "        column.append(sklearn.metrics.pairwise.cosine_similarity(tagVec, nyt99W2V.wv[tagInner].reshape(1, -1))[0][0])\n",
    "    heatmapMatrix.append(column)\n",
    "heatmapMatrix = np.array(heatmapMatrix)\n",
    "\n",
    "\n",
    "\n",
    "fig, ax = plt.subplots()\n",
    "hmap = ax.pcolor(heatmapMatrix, cmap='inferno')\n",
    "cbar = plt.colorbar(hmap)\n",
    "\n",
    "cbar.set_label('cosine similarity', rotation=270)\n",
    "a = ax.set_xticks(np.arange(heatmapMatrix.shape[1]) + 0.5, minor=False)\n",
    "a = ax.set_yticks(np.arange(heatmapMatrix.shape[0]) + 0.5, minor=False)\n",
    "\n",
    "a = ax.set_xticklabels(keywords, minor=False, rotation=270)\n",
    "a = ax.set_yticklabels(keywords, minor=False)\n",
    "plt.savefig('all.png', bbox_inches='tight')\n",
    "fig.savefig('99heat.png', bbox_inches='tight')"
   ]
  },
  {
   "cell_type": "markdown",
   "metadata": {},
   "source": [
    "#### dimensions"
   ]
  },
  {
   "cell_type": "code",
   "execution_count": 59,
   "metadata": {
    "collapsed": true
   },
   "outputs": [],
   "source": [
    "def normalize(vector):\n",
    "    normalized_vector = vector / np.linalg.norm(vector)\n",
    "    return normalized_vector\n",
    "\n",
    "def dimension(model, positives, negatives):\n",
    "    diff = sum([normalize(model[x]) for x in positives]) - sum([normalize(model[y]) for y in negatives])\n",
    "    return diff"
   ]
  },
  {
   "cell_type": "code",
   "execution_count": 60,
   "metadata": {
    "collapsed": true
   },
   "outputs": [],
   "source": [
    "#Administration = dimension(nyt84W2V, ['reagan'], ['carter'])\n",
    "\n",
    "Party = dimension(nyt84W2V, ['republican', 'conservative'], ['democrat', 'liberal'])\n",
    "\n",
    "Gender = dimension(nyt84W2V, ['man'], ['woman'])\n",
    "f\n",
    "Branch = dimension(nyt84W2V, ['president'], ['congress', 'senate', 'house'])"
   ]
  },
  {
   "cell_type": "code",
   "execution_count": 80,
   "metadata": {},
   "outputs": [
    {
     "data": {
      "text/plain": [
       "[('wars', 0.709933876991272),\n",
       " ('conflict', 0.7081298828125),\n",
       " ('combat', 0.6047180891036987),\n",
       " ('battle', 0.595706045627594),\n",
       " ('battles', 0.5816576480865479),\n",
       " ('warfare', 0.5677369236946106),\n",
       " ('wartime', 0.5538725852966309),\n",
       " ('disobedience', 0.5497036576271057),\n",
       " ('strife', 0.53928542137146),\n",
       " ('battlefields', 0.5306195020675659)]"
      ]
     },
     "execution_count": 80,
     "metadata": {},
     "output_type": "execute_result"
    }
   ],
   "source": [
    "nytW2V.most_similar('war')"
   ]
  },
  {
   "cell_type": "code",
   "execution_count": 79,
   "metadata": {},
   "outputs": [
    {
     "data": {
      "text/plain": [
       "[('unaccounted', 0.7440609931945801),\n",
       " ('servicemen', 0.6481564044952393),\n",
       " ('listed', 0.6013747453689575),\n",
       " ('dead', 0.592308521270752),\n",
       " ('fate', 0.539675235748291),\n",
       " ('remains', 0.5281307697296143),\n",
       " ('alive', 0.5219168663024902),\n",
       " ('whereabouts', 0.5011625289916992),\n",
       " ('prisoners', 0.47272664308547974),\n",
       " ('search', 0.4711296558380127)]"
      ]
     },
     "execution_count": 79,
     "metadata": {},
     "output_type": "execute_result"
    }
   ],
   "source": [
    "nytW2V.most_similar('missing')"
   ]
  },
  {
   "cell_type": "code",
   "execution_count": 309,
   "metadata": {
    "collapsed": true
   },
   "outputs": [],
   "source": [
    "VietnamWar = ['captivity', 'prisoners', 'missing', 'remains', 'economy', 'trade']"
   ]
  },
  {
   "cell_type": "code",
   "execution_count": 310,
   "metadata": {},
   "outputs": [
    {
     "data": {
      "image/png": "[encoded data removed]",
      "text/plain": [
       "<matplotlib.figure.Figure at 0x1fa6b14a208>"
      ]
     },
     "metadata": {},
     "output_type": "display_data"
    }
   ],
   "source": [
    "#Administration = dimension(nyt84W2V, ['reagan'], ['carter'])\n",
    "\n",
    "Party = dimension(nyt84W2V, ['republican', 'conservative'], ['democrat', 'liberal'])\n",
    "\n",
    "Gender = dimension(nyt84W2V, ['man'], ['woman'])\n",
    "\n",
    "Branch = dimension(nyt84W2V, ['president'], ['congress', 'senate', 'house'])\n",
    "\n",
    "def makeDF(model, word_list):\n",
    "    g = []\n",
    "    r = []\n",
    "    c = []\n",
    "    b = []\n",
    "    for word in word_list:\n",
    "        #g.append(sklearn.metrics.pairwise.cosine_similarity(nyt89W2V[word].reshape(1,-1), Administration.reshape(1,-1))[0][0])\n",
    "        r.append(sklearn.metrics.pairwise.cosine_similarity(nyt84W2V[word].reshape(1,-1), Party.reshape(1,-1))[0][0])\n",
    "        c.append(sklearn.metrics.pairwise.cosine_similarity(nyt84W2V[word].reshape(1,-1), Gender.reshape(1,-1))[0][0])\n",
    "        b.append(sklearn.metrics.pairwise.cosine_similarity(nyt84W2V[word].reshape(1,-1), Branch.reshape(1,-1))[0][0])\n",
    "    df = pandas.DataFrame({'party': r, 'gender': c, 'branch' : b}, index = word_list)\n",
    "    return df\n",
    "\n",
    "vietnamWarDF = makeDF(nyt89W2V, VietnamWar) \n",
    "\n",
    "def Coloring(Series):\n",
    "    x = Series.values\n",
    "    y = x-x.min()\n",
    "    z = y/y.max()\n",
    "    c = list(plt.cm.viridis(z))\n",
    "    return c\n",
    "\n",
    "def PlotDimension(ax,df, dim):\n",
    "    ax.set_frame_on(False)\n",
    "    ax.set_title(dim, fontsize = 20)\n",
    "    colors = Coloring(df[dim])\n",
    "    for i, word in enumerate(df.index):\n",
    "        ax.annotate(word, (0, df[dim][i]), color = colors[i], alpha = .8, fontsize = 12)\n",
    "    MaxY = df[dim].max()\n",
    "    MinY = df[dim].min()\n",
    "    plt.ylim(MinY,MaxY)\n",
    "    plt.yticks(())\n",
    "    plt.xticks(())\n",
    "    \n",
    "fig = plt.figure(figsize = (6,4))\n",
    "#ax1 = fig.add_subplot(141)\n",
    "#PlotDimension(ax1, vietnamWarDF, 'administration')\n",
    "ax1 = fig.add_subplot(131)\n",
    "PlotDimension(ax1, vietnamWarDF, 'party')\n",
    "ax2 = fig.add_subplot(132)\n",
    "PlotDimension(ax2, vietnamWarDF, 'branch')\n",
    "ax3 = fig.add_subplot(133)\n",
    "PlotDimension(ax3, vietnamWarDF, 'gender')\n",
    "plt.show()\n",
    "fig.savefig('dimension84.png')"
   ]
  },
  {
   "cell_type": "code",
   "execution_count": 311,
   "metadata": {},
   "outputs": [
    {
     "data": {
      "image/png": "[encoded data removed]",
      "text/plain": [
       "<matplotlib.figure.Figure at 0x1fa6c1d4198>"
      ]
     },
     "metadata": {},
     "output_type": "display_data"
    }
   ],
   "source": [
    "#Administration = dimension(nyt84W2V, ['reagan'], ['carter'])\n",
    "\n",
    "Party = dimension(nyt89W2V, ['republican', 'conservative'], ['democrat', 'liberal'])\n",
    "\n",
    "Gender = dimension(nyt89W2V, ['man'], ['woman'])\n",
    "\n",
    "Branch = dimension(nyt89W2V, ['president'], ['congress', 'senate', 'house'])\n",
    "\n",
    "def makeDF(model, word_list):\n",
    "    g = []\n",
    "    r = []\n",
    "    c = []\n",
    "    b = []\n",
    "    for word in word_list:\n",
    "        #g.append(sklearn.metrics.pairwise.cosine_similarity(nyt89W2V[word].reshape(1,-1), Administration.reshape(1,-1))[0][0])\n",
    "        r.append(sklearn.metrics.pairwise.cosine_similarity(nyt89W2V[word].reshape(1,-1), Party.reshape(1,-1))[0][0])\n",
    "        c.append(sklearn.metrics.pairwise.cosine_similarity(nyt89W2V[word].reshape(1,-1), Gender.reshape(1,-1))[0][0])\n",
    "        b.append(sklearn.metrics.pairwise.cosine_similarity(nyt89W2V[word].reshape(1,-1), Branch.reshape(1,-1))[0][0])\n",
    "    df = pandas.DataFrame({'party': r, 'gender': c, 'branch' : b}, index = word_list)\n",
    "    return df\n",
    "\n",
    "vietnamWarDF = makeDF(nyt89W2V, VietnamWar) \n",
    "\n",
    "def Coloring(Series):\n",
    "    x = Series.values\n",
    "    y = x-x.min()\n",
    "    z = y/y.max()\n",
    "    c = list(plt.cm.viridis(z))\n",
    "    return c\n",
    "\n",
    "def PlotDimension(ax,df, dim):\n",
    "    ax.set_frame_on(False)\n",
    "    ax.set_title(dim, fontsize = 20)\n",
    "    colors = Coloring(df[dim])\n",
    "    for i, word in enumerate(df.index):\n",
    "        ax.annotate(word, (0, df[dim][i]), color = colors[i], alpha = .8, fontsize = 12)\n",
    "    MaxY = df[dim].max()\n",
    "    MinY = df[dim].min()\n",
    "    plt.ylim(MinY,MaxY)\n",
    "    plt.yticks(())\n",
    "    plt.xticks(())\n",
    "    \n",
    "fig = plt.figure(figsize = (6,4))\n",
    "#ax1 = fig.add_subplot(141)\n",
    "#PlotDimension(ax1, vietnamWarDF, 'administration')\n",
    "ax1 = fig.add_subplot(131)\n",
    "PlotDimension(ax1, vietnamWarDF, 'party')\n",
    "ax2 = fig.add_subplot(132)\n",
    "PlotDimension(ax2, vietnamWarDF, 'branch')\n",
    "ax3 = fig.add_subplot(133)\n",
    "PlotDimension(ax3, vietnamWarDF, 'gender')\n",
    "plt.show()\n",
    "fig.savefig('dimension89.png')"
   ]
  },
  {
   "cell_type": "code",
   "execution_count": 312,
   "metadata": {},
   "outputs": [
    {
     "data": {
      "image/png": "[encoded data removed]",
      "text/plain": [
       "<matplotlib.figure.Figure at 0x1fa82b6f208>"
      ]
     },
     "metadata": {},
     "output_type": "display_data"
    }
   ],
   "source": [
    "#Administration = dimension(nyt84W2V, ['reagan'], ['carter'])\n",
    "\n",
    "Party = dimension(nyt94W2V, ['republican', 'conservative'], ['democrat', 'liberal'])\n",
    "\n",
    "Gender = dimension(nyt94W2V, ['man'], ['woman'])\n",
    "\n",
    "Branch = dimension(nyt94W2V, ['president'], ['congress', 'senate', 'house'])\n",
    "\n",
    "def makeDF(model, word_list):\n",
    "    g = []\n",
    "    r = []\n",
    "    c = []\n",
    "    b = []\n",
    "    for word in word_list:\n",
    "        #g.append(sklearn.metrics.pairwise.cosine_similarity(nyt89W2V[word].reshape(1,-1), Administration.reshape(1,-1))[0][0])\n",
    "        r.append(sklearn.metrics.pairwise.cosine_similarity(nyt94W2V[word].reshape(1,-1), Party.reshape(1,-1))[0][0])\n",
    "        c.append(sklearn.metrics.pairwise.cosine_similarity(nyt94W2V[word].reshape(1,-1), Gender.reshape(1,-1))[0][0])\n",
    "        b.append(sklearn.metrics.pairwise.cosine_similarity(nyt94W2V[word].reshape(1,-1), Branch.reshape(1,-1))[0][0])\n",
    "    df = pandas.DataFrame({'party': r, 'gender': c, 'branch' : b}, index = word_list)\n",
    "    return df\n",
    "\n",
    "vietnamWarDF = makeDF(nyt94W2V, VietnamWar) \n",
    "\n",
    "def Coloring(Series):\n",
    "    x = Series.values\n",
    "    y = x-x.min()\n",
    "    z = y/y.max()\n",
    "    c = list(plt.cm.viridis(z))\n",
    "    return c\n",
    "\n",
    "def PlotDimension(ax,df, dim):\n",
    "    ax.set_frame_on(False)\n",
    "    ax.set_title(dim, fontsize = 20)\n",
    "    colors = Coloring(df[dim])\n",
    "    for i, word in enumerate(df.index):\n",
    "        ax.annotate(word, (0, df[dim][i]), color = colors[i], alpha = .8, fontsize = 12)\n",
    "    MaxY = df[dim].max()\n",
    "    MinY = df[dim].min()\n",
    "    plt.ylim(MinY,MaxY)\n",
    "    plt.yticks(())\n",
    "    plt.xticks(())\n",
    "    \n",
    "fig = plt.figure(figsize = (6,4))\n",
    "#ax1 = fig.add_subplot(141)\n",
    "#PlotDimension(ax1, vietnamWarDF, 'administration')\n",
    "ax1 = fig.add_subplot(131)\n",
    "PlotDimension(ax1, vietnamWarDF, 'party')\n",
    "ax2 = fig.add_subplot(132)\n",
    "PlotDimension(ax2, vietnamWarDF, 'branch')\n",
    "ax3 = fig.add_subplot(133)\n",
    "PlotDimension(ax3, vietnamWarDF, 'gender')\n",
    "plt.show()\n",
    "fig.savefig('dimension94.png')"
   ]
  },
  {
   "cell_type": "code",
   "execution_count": 313,
   "metadata": {},
   "outputs": [
    {
     "data": {
      "image/png": "[encoded data removed]",
      "text/plain": [
       "<matplotlib.figure.Figure at 0x1fa81885780>"
      ]
     },
     "metadata": {},
     "output_type": "display_data"
    }
   ],
   "source": [
    "#Administration = dimension(nyt84W2V, ['reagan'], ['carter'])\n",
    "\n",
    "Party = dimension(nyt99W2V, ['republican', 'conservative'], ['democrat', 'liberal'])\n",
    "\n",
    "Gender = dimension(nyt99W2V, ['man'], ['woman'])\n",
    "\n",
    "Branch = dimension(nyt99W2V, ['president'], ['congress', 'senate', 'house'])\n",
    "\n",
    "def makeDF(model, word_list):\n",
    "    g = []\n",
    "    r = []\n",
    "    c = []\n",
    "    b = []\n",
    "    for word in word_list:\n",
    "        #g.append(sklearn.metrics.pairwise.cosine_similarity(nyt89W2V[word].reshape(1,-1), Administration.reshape(1,-1))[0][0])\n",
    "        r.append(sklearn.metrics.pairwise.cosine_similarity(nyt94W2V[word].reshape(1,-1), Party.reshape(1,-1))[0][0])\n",
    "        c.append(sklearn.metrics.pairwise.cosine_similarity(nyt94W2V[word].reshape(1,-1), Gender.reshape(1,-1))[0][0])\n",
    "        b.append(sklearn.metrics.pairwise.cosine_similarity(nyt94W2V[word].reshape(1,-1), Branch.reshape(1,-1))[0][0])\n",
    "    df = pandas.DataFrame({'party': r, 'gender': c, 'branch' : b}, index = word_list)\n",
    "    return df\n",
    "\n",
    "vietnamWarDF = makeDF(nyt99W2V, VietnamWar) \n",
    "\n",
    "def Coloring(Series):\n",
    "    x = Series.values\n",
    "    y = x-x.min()\n",
    "    z = y/y.max()\n",
    "    c = list(plt.cm.viridis(z))\n",
    "    return c\n",
    "\n",
    "def PlotDimension(ax,df, dim):\n",
    "    ax.set_frame_on(False)\n",
    "    ax.set_title(dim, fontsize = 20)\n",
    "    colors = Coloring(df[dim])\n",
    "    for i, word in enumerate(df.index):\n",
    "        ax.annotate(word, (0, df[dim][i]), color = colors[i], alpha = .8, fontsize = 12)\n",
    "    MaxY = df[dim].max()\n",
    "    MinY = df[dim].min()\n",
    "    plt.ylim(MinY,MaxY)\n",
    "    plt.yticks(())\n",
    "    plt.xticks(())\n",
    "    \n",
    "fig = plt.figure(figsize = (6,4))\n",
    "#ax1 = fig.add_subplot(141)\n",
    "#PlotDimension(ax1, vietnamWarDF, 'administration')\n",
    "ax1 = fig.add_subplot(131)\n",
    "PlotDimension(ax1, vietnamWarDF, 'party')\n",
    "ax2 = fig.add_subplot(132)\n",
    "PlotDimension(ax2, vietnamWarDF, 'branch')\n",
    "ax3 = fig.add_subplot(133)\n",
    "PlotDimension(ax3, vietnamWarDF, 'gender')\n",
    "plt.show()\n",
    "fig.savefig('dimension99.png')"
   ]
  },
  {
   "cell_type": "markdown",
   "metadata": {},
   "source": [
    "# doc2vec"
   ]
  },
  {
   "cell_type": "code",
   "execution_count": 72,
   "metadata": {
    "collapsed": true
   },
   "outputs": [],
   "source": [
    "nytDF = nyt\n",
    "\n",
    "def cleanerYear(x):\n",
    "    return re.sub(r'(\\D+)\\s(\\d{1,2})\\W', '', x)\n",
    "\n",
    "nytDF['date'] = nytDF['date'].apply(cleanerYear)\n",
    "nytDF['docID'] = nytDF.index\n",
    "nytDF['docID'] = nytDF['docID'].astype(str)\n",
    "\n",
    "\n",
    "nytDF = nytDF.reset_index(drop=True)"
   ]
  },
  {
   "cell_type": "code",
   "execution_count": 73,
   "metadata": {
    "collapsed": true
   },
   "outputs": [],
   "source": [
    "keywords = ['missing', 'vietnam', 'war', 'prisoners', 'captivity', 'nixon', 'reagan', 'remains']"
   ]
  },
  {
   "cell_type": "code",
   "execution_count": 74,
   "metadata": {
    "collapsed": true
   },
   "outputs": [],
   "source": [
    "nytDF['tokenized_words'] = nytDF['article'].apply(lambda x: nltk.word_tokenize(x))\n",
    "nytDF['normalized_words'] = nytDF['tokenized_words'].apply(lambda x: lucem_illud.normalizeTokens(x, stopwordLst = lucem_illud.stop_words_basic, stemmer = None))"
   ]
  },
  {
   "cell_type": "code",
   "execution_count": 76,
   "metadata": {
    "collapsed": true
   },
   "outputs": [],
   "source": [
    "taggedDocs = []\n",
    "for index, row in nytDF.iterrows():\n",
    "    #Just doing a simple keyword assignment\n",
    "    docKeywords = [s for s in keywords if s in row['normalized_words']]\n",
    "    docKeywords.append(row['date'])\n",
    "    docKeywords.append(row['docID']) #This lets us extract individual documnets since doi's are unique\n",
    "    taggedDocs.append(gensim.models.doc2vec.LabeledSentence(words = row['normalized_words'], tags = docKeywords))\n",
    "nytDF['TaggedArticles'] = taggedDocs"
   ]
  },
  {
   "cell_type": "code",
   "execution_count": 77,
   "metadata": {
    "collapsed": true
   },
   "outputs": [],
   "source": [
    "nytD2V = gensim.models.doc2vec.Doc2Vec(nytDF['TaggedArticles'], size = 100) #Limiting to 100 dimensions"
   ]
  },
  {
   "cell_type": "code",
   "execution_count": 78,
   "metadata": {},
   "outputs": [
    {
     "data": {
      "text/plain": [
       "[('unaccounted', 0.7162593007087708),\n",
       " ('listed', 0.6573542952537537),\n",
       " ('servicemen', 0.6111545562744141),\n",
       " ('remains', 0.5707314014434814),\n",
       " ('dead', 0.5617449879646301),\n",
       " ('fate', 0.5099062323570251),\n",
       " ('unknown', 0.49874138832092285),\n",
       " ('unknowns', 0.49828147888183594),\n",
       " ('alive', 0.4934026598930359),\n",
       " ('accounting', 0.486835777759552)]"
      ]
     },
     "execution_count": 78,
     "metadata": {},
     "output_type": "execute_result"
    }
   ],
   "source": [
    "nytD2V.most_similar('missing')"
   ]
  },
  {
   "cell_type": "code",
   "execution_count": 80,
   "metadata": {},
   "outputs": [
    {
     "data": {
      "text/plain": [
       "[('bellicosity', 0.5623066425323486),\n",
       " ('amiability', 0.5449433922767639),\n",
       " ('plausibly', 0.539766252040863),\n",
       " ('clarifying', 0.5348074436187744),\n",
       " ('purer', 0.5314168930053711),\n",
       " ('meaningless', 0.5260014533996582),\n",
       " ('patently', 0.516394317150116),\n",
       " ('expending', 0.5149837136268616),\n",
       " ('forbearance', 0.5087498426437378),\n",
       " ('utterly', 0.5085121393203735)]"
      ]
     },
     "execution_count": 80,
     "metadata": {},
     "output_type": "execute_result"
    }
   ],
   "source": [
    "nytD2V.most_similar( [ nytD2V.docvecs['16440'] ], topn=10) "
   ]
  },
  {
   "cell_type": "code",
   "execution_count": 57,
   "metadata": {},
   "outputs": [
    {
     "data": {
      "text/plain": [
       "\"    The reason for all the theories that American prisoners of war remain alive in Indochina, almost two decades after the end of the Vietnam War, now becomes painfully clear. From 1973 on, official Washington misrepresented what it knew and shrugged off new leads, betraying its obligations to the families of the missing and to the public at large.  Even now, as a Senate select committee pursues its careful investigations, the White House has yet to offer any explanation or apology for the deceptions of Administrations past. The Vietnam syndrome cannot be declared properly buried until the executive branch itself sets the record straight on those missing in action, the M.I.A.'s.  It is too much to expect a resolution of every single case. That has not been possible in any war, and too much time has now gone by.  But it's hard to justify the Nixon Administration's public closing of this issue while the trail was still hot. In 1973, when Hanoi returned 591 American prisoners of war, the Pentagon's own records showed that hundreds more Americans had survived capture and were quite possibly still alive. Even so, the Nixon Administration proclaimed that all prisoners had been returned, thus reducing any incentive for Hanoi to pursue the remaining cases.  Some of the Americans probably died in captivity. But others were held in Laos, possibly captured while carrying out secret missions. And still others might have been held by local authorities, without direct knowledge by Hanoi.  The Senate committee began piecing this story together several weeks ago. Last week, former Reagan Administration officials offered additional evidence suggesting that some captives may indeed have remained alive years after the war. Ross Perot's long-awaited testimony, meanwhile, proved disappointingly vague and unsubstantiated.  By careful comparison of government records, the committee continues to refine its estimates of captives alive in 1973 -- more than 100, it now seems. It pursues leads from the former Soviet Union. And it usefully presses Vietnam, Laos and Cambodia to cooperate. Its efforts are likely to produce the first credible accounting of M.I.A.'s since the war.  George Bush is not to blame for his predecessors' mishandling of the issue. But he has in fact been closely involved with government decision-making in this area for most of the 19 years since U.S. troops left Vietnam. The damaged credibility of the executive branch requires the President to address the issue himself.   LOAD-DATE: August 18, 1992  : ENGLISH  TYPE: Editorial                      \""
      ]
     },
     "execution_count": 57,
     "metadata": {},
     "output_type": "execute_result"
    }
   ],
   "source": [
    "nytDF.iloc[16440]['article']"
   ]
  },
  {
   "cell_type": "markdown",
   "metadata": {},
   "source": [
    "# POW/MIA cluster"
   ]
  },
  {
   "cell_type": "markdown",
   "metadata": {},
   "source": [
    "### Clustering"
   ]
  },
  {
   "cell_type": "code",
   "execution_count": 138,
   "metadata": {
    "collapsed": true
   },
   "outputs": [],
   "source": [
    "nytCluster = nyt"
   ]
  },
  {
   "cell_type": "code",
   "execution_count": 202,
   "metadata": {},
   "outputs": [
    {
     "name": "stdout",
     "output_type": "stream",
     "text": [
      "Top terms per cluster:\n",
      "Cluster 0:\n",
      " china\n",
      " chinese\n",
      " vietnamese\n",
      " border\n",
      " soviet\n",
      " relations\n",
      " foreign\n",
      " states\n",
      " military\n",
      " cambodia\n",
      "\n",
      "\n",
      "Cluster 1:\n",
      " states\n",
      " percent\n",
      " government\n",
      " company\n",
      " type\n",
      " million\n",
      " world\n",
      " president\n",
      " date\n",
      " load\n",
      "\n",
      "\n",
      "Cluster 2:\n",
      " reagan\n",
      " president\n",
      " policy\n",
      " administration\n",
      " nixon\n",
      " congress\n",
      " house\n",
      " foreign\n",
      " carter\n",
      " white\n",
      "\n",
      "\n",
      "Cluster 3:\n",
      " senator\n",
      " republican\n",
      " democratic\n",
      " campaign\n",
      " party\n",
      " senate\n",
      " democrats\n",
      " state\n",
      " republicans\n",
      " president\n",
      "\n",
      "\n",
      "Cluster 4:\n",
      " vietnamese\n",
      " hanoi\n",
      " refugees\n",
      " thailand\n",
      " thai\n",
      " cambodia\n",
      " states\n",
      " officials\n",
      " missing\n",
      " americans\n",
      "\n",
      "\n",
      "Cluster 5:\n",
      " court\n",
      " judge\n",
      " case\n",
      " federal\n",
      " trial\n",
      " law\n",
      " lawyers\n",
      " justice\n",
      " supreme\n",
      " attorney\n",
      "\n",
      "\n",
      "Cluster 6:\n",
      " film\n",
      " movie\n",
      " films\n",
      " movies\n",
      " directed\n",
      " director\n",
      " says\n",
      " story\n",
      " television\n",
      " life\n",
      "\n",
      "\n",
      "Cluster 7:\n",
      " soviet\n",
      " union\n",
      " moscow\n",
      " afghanistan\n",
      " states\n",
      " russians\n",
      " nuclear\n",
      " military\n",
      " nations\n",
      " world\n",
      "\n",
      "\n",
      "Cluster 8:\n",
      " a1\n",
      " president\n",
      " city\n",
      " clinton\n",
      " officials\n",
      " york\n",
      " federal\n",
      " plan\n",
      " state\n",
      " page\n",
      "\n",
      "\n",
      "Cluster 9:\n",
      " bush\n",
      " president\n",
      " iraq\n",
      " clinton\n",
      " campaign\n",
      " vice\n",
      " republican\n",
      " george\n",
      " senator\n",
      " gulf\n",
      "\n",
      "\n",
      "Cluster 10:\n",
      " salvador\n",
      " el\n",
      " military\n",
      " nicaragua\n",
      " guerrillas\n",
      " aid\n",
      " states\n",
      " administration\n",
      " central\n",
      " reagan\n",
      "\n",
      "\n",
      "Cluster 11:\n",
      " theater\n",
      " play\n",
      " broadway\n",
      " production\n",
      " stage\n",
      " plays\n",
      " characters\n",
      " director\n",
      " ms\n",
      " audience\n",
      "\n",
      "\n",
      "Cluster 12:\n",
      " veterans\n",
      " orange\n",
      " agent\n",
      " study\n",
      " administration\n",
      " health\n",
      " chemical\n",
      " veteran\n",
      " 000\n",
      " group\n",
      "\n",
      "\n",
      "Cluster 13:\n",
      " miss\n",
      " saigon\n",
      " york\n",
      " women\n",
      " life\n",
      " says\n",
      " film\n",
      " woman\n",
      " play\n",
      " work\n",
      "\n",
      "\n",
      "Cluster 14:\n",
      " dr\n",
      " medical\n",
      " university\n",
      " health\n",
      " hospital\n",
      " king\n",
      " research\n",
      " study\n",
      " professor\n",
      " center\n",
      "\n",
      "\n",
      "Cluster 15:\n",
      " 95\n",
      " 12\n",
      " novel\n",
      " book\n",
      " 14\n",
      " life\n",
      " 50\n",
      " 13\n",
      " 10\n",
      " 11\n",
      "\n",
      "\n",
      "Cluster 16:\n",
      " city\n",
      " old\n",
      " just\n",
      " ms\n",
      " york\n",
      " life\n",
      " children\n",
      " says\n",
      " don\n",
      " police\n",
      "\n",
      "\n",
      "Cluster 17:\n",
      " cbs\n",
      " general\n",
      " news\n",
      " enemy\n",
      " network\n",
      " television\n",
      " strength\n",
      " intelligence\n",
      " trial\n",
      " program\n",
      "\n",
      "\n",
      "Cluster 18:\n",
      " clinton\n",
      " president\n",
      " campaign\n",
      " bush\n",
      " house\n",
      " white\n",
      " draft\n",
      " political\n",
      " senator\n",
      " dole\n",
      "\n",
      "\n",
      "Cluster 19:\n",
      " students\n",
      " school\n",
      " university\n",
      " college\n",
      " student\n",
      " mrs\n",
      " schools\n",
      " education\n",
      " high\n",
      " york\n",
      "\n",
      "\n",
      "Cluster 20:\n",
      " khmer\n",
      " rouge\n",
      " cambodia\n",
      " cambodian\n",
      " prince\n",
      " vietnamese\n",
      " nations\n",
      " government\n",
      " minister\n",
      " coalition\n",
      "\n",
      "\n",
      "Cluster 21:\n",
      " book\n",
      " novel\n",
      " books\n",
      " story\n",
      " author\n",
      " life\n",
      " 95\n",
      " writing\n",
      " review\n",
      " world\n",
      "\n",
      "\n",
      "Cluster 22:\n",
      " memorial\n",
      " veterans\n",
      " names\n",
      " wall\n",
      " washington\n",
      " day\n",
      " park\n",
      " national\n",
      " dead\n",
      " type\n",
      "\n",
      "\n",
      "Cluster 23:\n",
      " museum\n",
      " art\n",
      " street\n",
      " avenue\n",
      " 30\n",
      " information\n",
      " sunday\n",
      " 10\n",
      " center\n",
      " music\n",
      "\n",
      "\n",
      "Cluster 24:\n",
      " military\n",
      " army\n",
      " general\n",
      " air\n",
      " force\n",
      " pentagon\n",
      " forces\n",
      " navy\n",
      " defense\n",
      " officers\n",
      "\n",
      "\n"
     ]
    }
   ],
   "source": [
    "numCategories = 25\n",
    "\n",
    "nytTFvectorizer = sklearn.feature_extraction.text.TfidfVectorizer(max_df=0.5, max_features=1000, min_df=3, stop_words='english', norm='l2')\n",
    "nytTFvects = nytTFvectorizer.fit_transform(nytCluster['article'])\n",
    "\n",
    "myKM = sklearn.cluster.KMeans(n_clusters = numCategories, init='k-means++')\n",
    "myKM.fit(nytTFvects)\n",
    "\n",
    "terms = nytTFvectorizer.get_feature_names()\n",
    "print(\"Top terms per cluster:\")\n",
    "order_centroids = myKM.cluster_centers_.argsort()[:, ::-1]\n",
    "for i in range(numCategories):\n",
    "    print(\"Cluster %d:\" % i)\n",
    "    try:\n",
    "        for ind in order_centroids[i, :10]:\n",
    "            print(' %s' % terms[ind])\n",
    "    except IndexError:\n",
    "        pass\n",
    "    print('\\n')"
   ]
  },
  {
   "cell_type": "code",
   "execution_count": 139,
   "metadata": {},
   "outputs": [
    {
     "data": {
      "text/plain": [
       "KMeans(algorithm='auto', copy_x=True, init='k-means++', max_iter=300,\n",
       "    n_clusters=30, n_init=10, n_jobs=1, precompute_distances='auto',\n",
       "    random_state=None, tol=0.0001, verbose=0)"
      ]
     },
     "execution_count": 139,
     "metadata": {},
     "output_type": "execute_result"
    }
   ],
   "source": [
    "numCategories = 30\n",
    "\n",
    "nytTFvectorizer = sklearn.feature_extraction.text.TfidfVectorizer(max_df=0.5, max_features=1000, min_df=3, stop_words='english', norm='l2')\n",
    "nytTFvects = nytTFvectorizer.fit_transform(nytCluster['article'])\n",
    "\n",
    "myKM = sklearn.cluster.KMeans(n_clusters = numCategories, init='k-means++')\n",
    "myKM.fit(nytTFvects)\n",
    "\n",
    "terms = nytTFvectorizer.get_feature_names()\n",
    "print(\"Top terms per cluster:\")\n",
    "order_centroids = myKM.cluster_centers_.argsort()[:, ::-1]\n",
    "for i in range(numCategories):\n",
    "    print(\"Cluster %d:\" % i)\n",
    "    try:\n",
    "        for ind in order_centroids[i, :10]:\n",
    "            print(' %s' % terms[ind])\n",
    "    except IndexError:\n",
    "        pass\n",
    "    print('\\n')"
   ]
  },
  {
   "cell_type": "code",
   "execution_count": 141,
   "metadata": {},
   "outputs": [
    {
     "data": {
      "image/png": "[encoded data removed]",
      "text/plain": [
       "<matplotlib.figure.Figure at 0x1fa69e4de80>"
      ]
     },
     "metadata": {},
     "output_type": "display_data"
    }
   ],
   "source": [
    "# visualize\n",
    "\n",
    "nytPCA = sklearn.decomposition.PCA(n_components = 2).fit(nytTFvects.toarray())\n",
    "reducedPCAdata = nytPCA.transform(nytTFvects.toarray())\n",
    "\n",
    "colors = list(plt.cm.rainbow(np.linspace(0,1, numCategories)))\n",
    "colors_p = [colors[l] for l in myKM.labels_]\n",
    "\n",
    "fig = plt.figure(1)\n",
    "ax = fig.add_subplot(111)\n",
    "ax.set_frame_on(False)\n",
    "plt.scatter(reducedPCAdata[:, 0], reducedPCAdata[:, 1], color = colors_p, alpha = 0.5)\n",
    "plt.xticks(())\n",
    "plt.yticks(())\n",
    "plt.title(\"Predicted Clusters\\n k = {}\".format(numCategories))\n",
    "plt.show()"
   ]
  },
  {
   "cell_type": "code",
   "execution_count": 155,
   "metadata": {},
   "outputs": [
    {
     "name": "stderr",
     "output_type": "stream",
     "text": [
      "D:\\computation\\Anaconda3\\lib\\site-packages\\ipykernel_launcher.py:5: SettingWithCopyWarning: \n",
      "A value is trying to be set on a copy of a slice from a DataFrame.\n",
      "Try using .loc[row_indexer,col_indexer] = value instead\n",
      "\n",
      "See the caveats in the documentation: http://pandas.pydata.org/pandas-docs/stable/indexing.html#indexing-view-versus-copy\n",
      "  \"\"\"\n"
     ]
    }
   ],
   "source": [
    "nytCluster['cluster'] = myKM.labels_\n",
    "nytCluster['cluster'] = nytCluster['cluster'].astype(str)\n",
    "powCluster = nytCluster[nytCluster['cluster'].str.match('5', na = False)]\n",
    "len(powCluster)\n",
    "powCluster[\"docID\"] = powCluster.index\n",
    "powCluster = powCluster.reset_index(drop=True)"
   ]
  },
  {
   "cell_type": "markdown",
   "metadata": {},
   "source": [
    "### Linguistic Change"
   ]
  },
  {
   "cell_type": "code",
   "execution_count": 209,
   "metadata": {
    "collapsed": true
   },
   "outputs": [],
   "source": [
    "powLing = powCluster\n"
   ]
  },
  {
   "cell_type": "code",
   "execution_count": 210,
   "metadata": {
    "collapsed": true
   },
   "outputs": [],
   "source": [
    "# to make things easier for comparison, let's strip the date down from day-month-year to just year\n",
    "\n",
    "import re\n",
    "\n",
    "def cleanerYear(x):\n",
    "    return re.sub(r'(\\D+)\\s(\\d{1,2})\\W', '', x)\n",
    "\n",
    "def cleanFix(x):\n",
    "    return re.sub(r'[^\\d+]', '', x)\n",
    "\n",
    "powLing['date'] = powLing['date'].apply(cleanerYear)\n",
    "#powLing['date'] = powLing['date'].apply(cleanFix)"
   ]
  },
  {
   "cell_type": "code",
   "execution_count": 213,
   "metadata": {
    "collapsed": true
   },
   "outputs": [],
   "source": [
    "powLing['tokenized_sents'] = powLing['article'].apply(lambda x: [nltk.word_tokenize(s) for s in nltk.sent_tokenize(x)])\n",
    "powLing['normalized_sents'] = powLing['tokenized_sents'].apply(lambda x: [lucem_illud.normalizeTokens(s, stopwordLst = lucem_illud.stop_words_basic) for s in x])"
   ]
  },
  {
   "cell_type": "code",
   "execution_count": 219,
   "metadata": {
    "collapsed": true
   },
   "outputs": [],
   "source": [
    "def calc_syn0norm(model):\n",
    "    \"\"\"since syn0norm is now depricated\"\"\"\n",
    "    return (model.wv.syn0 / np.sqrt((model.wv.syn0 ** 2).sum(-1))[..., np.newaxis]).astype(np.float32)\n",
    "\n",
    "def smart_procrustes_align_gensim(base_embed, other_embed, words=None):\n",
    "    \"\"\"Procrustes align two gensim word2vec models (to allow for comparison between same word across models).\n",
    "    Code ported from HistWords <https://github.com/williamleif/histwords> by William Hamilton <wleif@stanford.edu>.\n",
    "    (With help from William. Thank you!)\n",
    "    First, intersect the vocabularies (see `intersection_align_gensim` documentation).\n",
    "    Then do the alignment on the other_embed model.\n",
    "    Replace the other_embed model's syn0 and syn0norm numpy matrices with the aligned version.\n",
    "    Return other_embed.\n",
    "    If `words` is set, intersect the two models' vocabulary with the vocabulary in words (see `intersection_align_gensim` documentation).\n",
    "    \"\"\"\n",
    "    base_embed = copy.copy(base_embed)\n",
    "    other_embed = copy.copy(other_embed)\n",
    "    # make sure vocabulary and indices are aligned\n",
    "    in_base_embed, in_other_embed = intersection_align_gensim(base_embed, other_embed, words=words)\n",
    "\n",
    "    # get the embedding matrices\n",
    "    base_vecs = calc_syn0norm(in_base_embed)\n",
    "    other_vecs = calc_syn0norm(in_other_embed)\n",
    "\n",
    "    # just a matrix dot product with numpy\n",
    "    m = other_vecs.T.dot(base_vecs) \n",
    "    # SVD method from numpy\n",
    "    u, _, v = np.linalg.svd(m)\n",
    "    # another matrix operation\n",
    "    ortho = u.dot(v) \n",
    "    # Replace original array with modified one\n",
    "    # i.e. multiplying the embedding matrix (syn0norm)by \"ortho\"\n",
    "    other_embed.wv.syn0norm = other_embed.wv.syn0 = (calc_syn0norm(other_embed)).dot(ortho)\n",
    "    return other_embed\n",
    "    \n",
    "def intersection_align_gensim(m1,m2, words=None):\n",
    "    \"\"\"\n",
    "    Intersect two gensim word2vec models, m1 and m2.\n",
    "    Only the shared vocabulary between them is kept.\n",
    "    If 'words' is set (as list or set), then the vocabulary is intersected with this list as well.\n",
    "    Indices are re-organized from 0..N in order of descending frequency (=sum of counts from both m1 and m2).\n",
    "    These indices correspond to the new syn0 and syn0norm objects in both gensim models:\n",
    "        -- so that Row 0 of m1.syn0 will be for the same word as Row 0 of m2.syn0\n",
    "        -- you can find the index of any word on the .index2word list: model.index2word.index(word) => 2\n",
    "    The .vocab dictionary is also updated for each model, preserving the count but updating the index.\n",
    "    \"\"\"\n",
    "\n",
    "    # Get the vocab for each model\n",
    "    vocab_m1 = set(m1.wv.vocab.keys())\n",
    "    vocab_m2 = set(m2.wv.vocab.keys())\n",
    "\n",
    "    # Find the common vocabulary\n",
    "    common_vocab = vocab_m1&vocab_m2\n",
    "    if words: common_vocab&=set(words)\n",
    "\n",
    "    # If no alignment necessary because vocab is identical...\n",
    "    if not vocab_m1-common_vocab and not vocab_m2-common_vocab:\n",
    "        return (m1,m2)\n",
    "\n",
    "    # Otherwise sort by frequency (summed for both)\n",
    "    common_vocab = list(common_vocab)\n",
    "    common_vocab.sort(key=lambda w: m1.wv.vocab[w].count + m2.wv.vocab[w].count,reverse=True)\n",
    "\n",
    "    # Then for each model...\n",
    "    for m in [m1,m2]:\n",
    "        # Replace old syn0norm array with new one (with common vocab)\n",
    "        indices = [m.wv.vocab[w].index for w in common_vocab]\n",
    "        old_arr = calc_syn0norm(m)\n",
    "        new_arr = np.array([old_arr[index] for index in indices])\n",
    "        m.wv.syn0norm = m.wv.syn0 = new_arr\n",
    "\n",
    "        # Replace old vocab dictionary with new one (with common vocab)\n",
    "        # and old index2word with new one\n",
    "        m.index2word = common_vocab\n",
    "        old_vocab = m.wv.vocab\n",
    "        new_vocab = {}\n",
    "        for new_index,word in enumerate(common_vocab):\n",
    "            old_vocab_obj=old_vocab[word]\n",
    "            new_vocab[word] = gensim.models.word2vec.Vocab(index=new_index, count=old_vocab_obj.count)\n",
    "        m.wv.vocab = new_vocab\n",
    "\n",
    "    return (m1,m2)\n",
    "\n",
    "def compareModels(df, category, sort = True):\n",
    "    \"\"\"If you are using time as your category sorting is important\"\"\"\n",
    "    embeddings_raw = {}\n",
    "    cats = sorted(set(df[category]))\n",
    "    for cat in cats:\n",
    "        #This can take a while\n",
    "        print(\"Embedding {}\".format(cat), end = '\\r')\n",
    "        subsetDF = df[df[category] == cat]\n",
    "        #You might want to change the W2V parameters\n",
    "        embeddings_raw[cat] = gensim.models.word2vec.Word2Vec(subsetDF['normalized_sents'].sum())\n",
    "    #These are much quicker\n",
    "    embeddings_aligned = {}\n",
    "    for catOuter in cats:\n",
    "        embeddings_aligned[catOuter] = [embeddings_raw[catOuter]]\n",
    "        for catInner in cats:\n",
    "            embeddings_aligned[catOuter].append(smart_procrustes_align_gensim(embeddings_aligned[catOuter][-1], embeddings_raw[catInner]))\n",
    "    return embeddings_raw, embeddings_aligned"
   ]
  },
  {
   "cell_type": "code",
   "execution_count": 220,
   "metadata": {},
   "outputs": [
    {
     "name": "stdout",
     "output_type": "stream",
     "text": [
      "Embedding 1999 \r"
     ]
    }
   ],
   "source": [
    "rawEmbeddings, comparedEmbeddings = compareModels(powLing, 'date')"
   ]
  },
  {
   "cell_type": "code",
   "execution_count": 229,
   "metadata": {
    "collapsed": true
   },
   "outputs": [],
   "source": [
    "def getDivergenceDF(word, embeddingsDict):\n",
    "    dists = []\n",
    "    cats = sorted(set(embeddingsDict.keys()))\n",
    "    dists = {}\n",
    "    for cat in cats:\n",
    "        dists[cat] = []\n",
    "        for embed in embeddingsDict[cat][1:]:\n",
    "            dists[cat].append(np.abs(1 - sklearn.metrics.pairwise.cosine_similarity(np.expand_dims(embeddingsDict[cat][0][word], axis = 0),\n",
    "                                                                             np.expand_dims(embed[word], axis = 0))[0,0]))\n",
    "    return pandas.DataFrame(dists, index = cats)"
   ]
  },
  {
   "cell_type": "code",
   "execution_count": 230,
   "metadata": {
    "collapsed": true
   },
   "outputs": [],
   "source": [
    "def findDiverence(word, embeddingsDict):\n",
    "    cats = sorted(set(embeddingsDict.keys()))\n",
    "    \n",
    "    dists = []\n",
    "    for embed in embeddingsDict[cats[0]][1:]:\n",
    "        dists.append(1 - sklearn.metrics.pairwise.cosine_similarity(np.expand_dims(embeddingsDict[cats[0]][0][word], axis = 0), np.expand_dims(embed[word], axis = 0))[0,0])\n",
    "    return sum(dists)\n",
    "\n",
    "def findMostDivergent(embeddingsDict):\n",
    "    words = []\n",
    "    for embeds in embeddingsDict.values():\n",
    "        for embed in embeds:\n",
    "            words += list(embed.wv.vocab.keys())\n",
    "    words = set(words)\n",
    "    print(\"Found {} words to compare\".format(len(words)))\n",
    "    return sorted([(w, findDiverence(w, embeddingsDict)) for w in words], key = lambda x: x[1], reverse=True)\n",
    "    "
   ]
  },
  {
   "cell_type": "code",
   "execution_count": 231,
   "metadata": {},
   "outputs": [
    {
     "name": "stdout",
     "output_type": "stream",
     "text": [
      "Found 27 words to compare\n"
     ]
    },
    {
     "data": {
      "text/plain": [
       "[('would', 18.429503977298737),\n",
       " ('even', 18.046690822578967),\n",
       " ('north', 17.52782302722335),\n",
       " ('still', 17.391511756926775),\n",
       " ('first', 17.295836240518838),\n",
       " ('officials', 16.56882852036506),\n",
       " ('national', 16.04310953244567),\n",
       " ('americans', 15.59699885174632),\n",
       " ('war', 15.377209596335888),\n",
       " ('south', 15.286910980939865),\n",
       " ('last', 15.054173395037651),\n",
       " ('states', 14.675412096083164),\n",
       " ('government', 14.228241987526417),\n",
       " ('english', 14.077082219300792),\n",
       " ('said', 13.799795374274254),\n",
       " ('prisoners', 13.604897953569889),\n",
       " ('former', 13.504997208714485),\n",
       " ('military', 13.194222711026669),\n",
       " ('years', 12.742624454200268),\n",
       " ('political', 12.437028087675571),\n",
       " ('saigon', 12.237650871276855),\n",
       " ('united', 11.970090787857771),\n",
       " ('could', 11.866702742874622),\n",
       " ('hanoi', 11.762787073850632),\n",
       " ('american', 11.00703939050436),\n",
       " ('vietnamese', 10.998234808444977),\n",
       " ('vietnam', 9.661014080047607)]"
      ]
     },
     "execution_count": 231,
     "metadata": {},
     "output_type": "execute_result"
    }
   ],
   "source": [
    "wordDivergences = findMostDivergent(comparedEmbeddings)\n",
    "wordDivergences[:27]"
   ]
  },
  {
   "cell_type": "code",
   "execution_count": 300,
   "metadata": {},
   "outputs": [
    {
     "data": {
      "image/png": "[encoded data removed]",
      "text/plain": [
       "<matplotlib.figure.Figure at 0x1fa80e7dd68>"
      ]
     },
     "metadata": {},
     "output_type": "display_data"
    }
   ],
   "source": [
    "targetWord = 'prisoners'\n",
    "\n",
    "pltDF = getDivergenceDF(targetWord, comparedEmbeddings)\n",
    "fig, ax = plt.subplots(figsize = (10, 7))\n",
    "seaborn.heatmap(pltDF, ax = ax, annot = False) #set annot True for a lot more information\n",
    "ax.set_xlabel(\"Starting year\")\n",
    "ax.set_ylabel(\"Final year\")\n",
    "ax.set_ylabel(\"Final year\")\n",
    "ax.set_title(\"Yearly linguistic change for: '{}'\".format(targetWord))\n",
    "plt.show()\n",
    "fig.savefig('prisonersChange.png', bbox_inches='tight')"
   ]
  },
  {
   "cell_type": "code",
   "execution_count": 302,
   "metadata": {},
   "outputs": [
    {
     "data": {
      "image/png": "[encoded data removed]",
      "text/plain": [
       "<matplotlib.figure.Figure at 0x1fa814a5320>"
      ]
     },
     "metadata": {},
     "output_type": "display_data"
    }
   ],
   "source": [
    "targetWord = 'vietnam'\n",
    "\n",
    "pltDF = getDivergenceDF(targetWord, comparedEmbeddings)\n",
    "fig, ax = plt.subplots(figsize = (10, 7))\n",
    "seaborn.heatmap(pltDF, ax = ax, annot = False) #set annot True for a lot more information\n",
    "ax.set_xlabel(\"Starting year\")\n",
    "ax.set_ylabel(\"Final year\")\n",
    "ax.set_ylabel(\"Final year\")\n",
    "ax.set_title(\"Yearly linguistic change for: '{}'\".format(targetWord))\n",
    "plt.show()\n",
    "fig.savefig('vietnamChange.png', bbox_inches='tight')"
   ]
  },
  {
   "cell_type": "code",
   "execution_count": 233,
   "metadata": {},
   "outputs": [
    {
     "data": {
      "image/png": "[encoded data removed]",
      "text/plain": [
       "<matplotlib.figure.Figure at 0x1fa6c23eef0>"
      ]
     },
     "metadata": {},
     "output_type": "display_data"
    }
   ],
   "source": [
    "targetWord = 'still'\n",
    "\n",
    "pltDF = getDivergenceDF(targetWord, comparedEmbeddings)\n",
    "fig, ax = plt.subplots(figsize = (10, 7))\n",
    "seaborn.heatmap(pltDF, ax = ax, annot = False) #set annot True for a lot more information\n",
    "ax.set_xlabel(\"Starting year\")\n",
    "ax.set_ylabel(\"Final year\")\n",
    "ax.set_ylabel(\"Final year\")\n",
    "ax.set_title(\"Yearly linguistic change for: '{}'\".format(targetWord))\n",
    "plt.show()"
   ]
  },
  {
   "cell_type": "code",
   "execution_count": 327,
   "metadata": {},
   "outputs": [
    {
     "data": {
      "text/plain": [
       "0"
      ]
     },
     "execution_count": 327,
     "metadata": {},
     "output_type": "execute_result"
    }
   ],
   "source": [
    "powCluster.query('date == \"1989\"').date.count()"
   ]
  },
  {
   "cell_type": "code",
   "execution_count": 357,
   "metadata": {
    "collapsed": true
   },
   "outputs": [],
   "source": [
    "powCluster.to_csv('powTest.csv', index=False, header=True)"
   ]
  },
  {
   "cell_type": "code",
   "execution_count": 341,
   "metadata": {},
   "outputs": [
    {
     "data": {
      "text/plain": [
       "1992     94\n",
       "1985     68\n",
       "1993     57\n",
       "1988     56\n",
       "1986     56\n",
       "1995     54\n",
       "1994     53\n",
       "1987     49\n",
       "1991     35\n",
       "1982     33\n",
       "1981     28\n",
       "1990     25\n",
       "1984     23\n",
       "1996     22\n",
       "1997     22\n",
       "1983     21\n",
       "1980     20\n",
       "1999     16\n",
       "1998     15\n",
       "1989      6\n",
       "Name: date, dtype: int64"
      ]
     },
     "execution_count": 341,
     "metadata": {},
     "output_type": "execute_result"
    }
   ],
   "source": [
    "powCluster['date'].value_counts()"
   ]
  },
  {
   "cell_type": "code",
   "execution_count": 363,
   "metadata": {},
   "outputs": [
    {
     "ename": "KeyError",
     "evalue": "'the label [1989] is not in the [index]'",
     "output_type": "error",
     "traceback": [
      "\u001b[1;31m---------------------------------------------------------------------------\u001b[0m",
      "\u001b[1;31mKeyError\u001b[0m                                  Traceback (most recent call last)",
      "\u001b[1;32mD:\\computation\\Anaconda3\\lib\\site-packages\\pandas\\core\\indexing.py\u001b[0m in \u001b[0;36m_has_valid_type\u001b[1;34m(self, key, axis)\u001b[0m\n\u001b[0;32m   1505\u001b[0m                 \u001b[1;32mif\u001b[0m \u001b[1;32mnot\u001b[0m \u001b[0max\u001b[0m\u001b[1;33m.\u001b[0m\u001b[0mcontains\u001b[0m\u001b[1;33m(\u001b[0m\u001b[0mkey\u001b[0m\u001b[1;33m)\u001b[0m\u001b[1;33m:\u001b[0m\u001b[1;33m\u001b[0m\u001b[0m\n\u001b[1;32m-> 1506\u001b[1;33m                     \u001b[0merror\u001b[0m\u001b[1;33m(\u001b[0m\u001b[1;33m)\u001b[0m\u001b[1;33m\u001b[0m\u001b[0m\n\u001b[0m\u001b[0;32m   1507\u001b[0m             \u001b[1;32mexcept\u001b[0m \u001b[0mTypeError\u001b[0m \u001b[1;32mas\u001b[0m \u001b[0me\u001b[0m\u001b[1;33m:\u001b[0m\u001b[1;33m\u001b[0m\u001b[0m\n",
      "\u001b[1;32mD:\\computation\\Anaconda3\\lib\\site-packages\\pandas\\core\\indexing.py\u001b[0m in \u001b[0;36merror\u001b[1;34m()\u001b[0m\n\u001b[0;32m   1500\u001b[0m                                .format(key=key,\n\u001b[1;32m-> 1501\u001b[1;33m                                        axis=self.obj._get_axis_name(axis)))\n\u001b[0m\u001b[0;32m   1502\u001b[0m \u001b[1;33m\u001b[0m\u001b[0m\n",
      "\u001b[1;31mKeyError\u001b[0m: 'the label [1989] is not in the [index]'",
      "\nDuring handling of the above exception, another exception occurred:\n",
      "\u001b[1;31mKeyError\u001b[0m                                  Traceback (most recent call last)",
      "\u001b[1;32m<ipython-input-363-cadc8ce21147>\u001b[0m in \u001b[0;36m<module>\u001b[1;34m()\u001b[0m\n\u001b[0;32m      1\u001b[0m \u001b[0mtest\u001b[0m \u001b[1;33m=\u001b[0m \u001b[0mpowCluster\u001b[0m\u001b[1;33m.\u001b[0m\u001b[0mset_index\u001b[0m\u001b[1;33m(\u001b[0m\u001b[1;33m[\u001b[0m\u001b[1;34m'date'\u001b[0m\u001b[1;33m]\u001b[0m\u001b[1;33m)\u001b[0m\u001b[1;33m\u001b[0m\u001b[0m\n\u001b[1;32m----> 2\u001b[1;33m \u001b[0mprint\u001b[0m\u001b[1;33m(\u001b[0m\u001b[0mtest\u001b[0m\u001b[1;33m.\u001b[0m\u001b[0mloc\u001b[0m\u001b[1;33m[\u001b[0m\u001b[1;34m'1989'\u001b[0m\u001b[1;33m]\u001b[0m\u001b[1;33m)\u001b[0m\u001b[1;33m\u001b[0m\u001b[0m\n\u001b[0m",
      "\u001b[1;32mD:\\computation\\Anaconda3\\lib\\site-packages\\pandas\\core\\indexing.py\u001b[0m in \u001b[0;36m__getitem__\u001b[1;34m(self, key)\u001b[0m\n\u001b[0;32m   1371\u001b[0m \u001b[1;33m\u001b[0m\u001b[0m\n\u001b[0;32m   1372\u001b[0m             \u001b[0mmaybe_callable\u001b[0m \u001b[1;33m=\u001b[0m \u001b[0mcom\u001b[0m\u001b[1;33m.\u001b[0m\u001b[0m_apply_if_callable\u001b[0m\u001b[1;33m(\u001b[0m\u001b[0mkey\u001b[0m\u001b[1;33m,\u001b[0m \u001b[0mself\u001b[0m\u001b[1;33m.\u001b[0m\u001b[0mobj\u001b[0m\u001b[1;33m)\u001b[0m\u001b[1;33m\u001b[0m\u001b[0m\n\u001b[1;32m-> 1373\u001b[1;33m             \u001b[1;32mreturn\u001b[0m \u001b[0mself\u001b[0m\u001b[1;33m.\u001b[0m\u001b[0m_getitem_axis\u001b[0m\u001b[1;33m(\u001b[0m\u001b[0mmaybe_callable\u001b[0m\u001b[1;33m,\u001b[0m \u001b[0maxis\u001b[0m\u001b[1;33m=\u001b[0m\u001b[0maxis\u001b[0m\u001b[1;33m)\u001b[0m\u001b[1;33m\u001b[0m\u001b[0m\n\u001b[0m\u001b[0;32m   1374\u001b[0m \u001b[1;33m\u001b[0m\u001b[0m\n\u001b[0;32m   1375\u001b[0m     \u001b[1;32mdef\u001b[0m \u001b[0m_is_scalar_access\u001b[0m\u001b[1;33m(\u001b[0m\u001b[0mself\u001b[0m\u001b[1;33m,\u001b[0m \u001b[0mkey\u001b[0m\u001b[1;33m)\u001b[0m\u001b[1;33m:\u001b[0m\u001b[1;33m\u001b[0m\u001b[0m\n",
      "\u001b[1;32mD:\\computation\\Anaconda3\\lib\\site-packages\\pandas\\core\\indexing.py\u001b[0m in \u001b[0;36m_getitem_axis\u001b[1;34m(self, key, axis)\u001b[0m\n\u001b[0;32m   1624\u001b[0m \u001b[1;33m\u001b[0m\u001b[0m\n\u001b[0;32m   1625\u001b[0m         \u001b[1;31m# fall thru to straight lookup\u001b[0m\u001b[1;33m\u001b[0m\u001b[1;33m\u001b[0m\u001b[0m\n\u001b[1;32m-> 1626\u001b[1;33m         \u001b[0mself\u001b[0m\u001b[1;33m.\u001b[0m\u001b[0m_has_valid_type\u001b[0m\u001b[1;33m(\u001b[0m\u001b[0mkey\u001b[0m\u001b[1;33m,\u001b[0m \u001b[0maxis\u001b[0m\u001b[1;33m)\u001b[0m\u001b[1;33m\u001b[0m\u001b[0m\n\u001b[0m\u001b[0;32m   1627\u001b[0m         \u001b[1;32mreturn\u001b[0m \u001b[0mself\u001b[0m\u001b[1;33m.\u001b[0m\u001b[0m_get_label\u001b[0m\u001b[1;33m(\u001b[0m\u001b[0mkey\u001b[0m\u001b[1;33m,\u001b[0m \u001b[0maxis\u001b[0m\u001b[1;33m=\u001b[0m\u001b[0maxis\u001b[0m\u001b[1;33m)\u001b[0m\u001b[1;33m\u001b[0m\u001b[0m\n\u001b[0;32m   1628\u001b[0m \u001b[1;33m\u001b[0m\u001b[0m\n",
      "\u001b[1;32mD:\\computation\\Anaconda3\\lib\\site-packages\\pandas\\core\\indexing.py\u001b[0m in \u001b[0;36m_has_valid_type\u001b[1;34m(self, key, axis)\u001b[0m\n\u001b[0;32m   1512\u001b[0m                 \u001b[1;32mraise\u001b[0m\u001b[1;33m\u001b[0m\u001b[0m\n\u001b[0;32m   1513\u001b[0m             \u001b[1;32mexcept\u001b[0m\u001b[1;33m:\u001b[0m\u001b[1;33m\u001b[0m\u001b[0m\n\u001b[1;32m-> 1514\u001b[1;33m                 \u001b[0merror\u001b[0m\u001b[1;33m(\u001b[0m\u001b[1;33m)\u001b[0m\u001b[1;33m\u001b[0m\u001b[0m\n\u001b[0m\u001b[0;32m   1515\u001b[0m \u001b[1;33m\u001b[0m\u001b[0m\n\u001b[0;32m   1516\u001b[0m         \u001b[1;32mreturn\u001b[0m \u001b[1;32mTrue\u001b[0m\u001b[1;33m\u001b[0m\u001b[0m\n",
      "\u001b[1;32mD:\\computation\\Anaconda3\\lib\\site-packages\\pandas\\core\\indexing.py\u001b[0m in \u001b[0;36merror\u001b[1;34m()\u001b[0m\n\u001b[0;32m   1499\u001b[0m                 raise KeyError(u\"the label [{key}] is not in the [{axis}]\"\n\u001b[0;32m   1500\u001b[0m                                .format(key=key,\n\u001b[1;32m-> 1501\u001b[1;33m                                        axis=self.obj._get_axis_name(axis)))\n\u001b[0m\u001b[0;32m   1502\u001b[0m \u001b[1;33m\u001b[0m\u001b[0m\n\u001b[0;32m   1503\u001b[0m             \u001b[1;32mtry\u001b[0m\u001b[1;33m:\u001b[0m\u001b[1;33m\u001b[0m\u001b[0m\n",
      "\u001b[1;31mKeyError\u001b[0m: 'the label [1989] is not in the [index]'"
     ]
    }
   ],
   "source": [
    "test = powCluster.set_index(['date'])\n",
    "print(test.loc['1989'])"
   ]
  },
  {
   "cell_type": "code",
   "execution_count": 356,
   "metadata": {},
   "outputs": [
    {
     "data": {
      "text/html": [
       "<div>\n",
       "<style scoped>\n",
       "    .dataframe tbody tr th:only-of-type {\n",
       "        vertical-align: middle;\n",
       "    }\n",
       "\n",
       "    .dataframe tbody tr th {\n",
       "        vertical-align: top;\n",
       "    }\n",
       "\n",
       "    .dataframe thead th {\n",
       "        text-align: right;\n",
       "    }\n",
       "</style>\n",
       "<table border=\"1\" class=\"dataframe\">\n",
       "  <thead>\n",
       "    <tr style=\"text-align: right;\">\n",
       "      <th></th>\n",
       "      <th>article</th>\n",
       "      <th>cluster</th>\n",
       "      <th>docID</th>\n",
       "      <th>tokenized_sents</th>\n",
       "      <th>normalized_sents</th>\n",
       "    </tr>\n",
       "    <tr>\n",
       "      <th>date</th>\n",
       "      <th></th>\n",
       "      <th></th>\n",
       "      <th></th>\n",
       "      <th></th>\n",
       "      <th></th>\n",
       "    </tr>\n",
       "  </thead>\n",
       "  <tbody>\n",
       "    <tr>\n",
       "      <th>1980</th>\n",
       "      <td>Neil Sheehan interview with Tran Ngoc Chau,...</td>\n",
       "      <td>5</td>\n",
       "      <td>14</td>\n",
       "      <td>[[Neil, Sheehan, interview, with, Tran, Ngoc, ...</td>\n",
       "      <td>[[neil, sheehan, interview, tran, ngoc, chau, ...</td>\n",
       "    </tr>\n",
       "    <tr>\n",
       "      <th>1980</th>\n",
       "      <td>Vietnam rejects UN Human Rights Commission ...</td>\n",
       "      <td>5</td>\n",
       "      <td>67</td>\n",
       "      <td>[[Vietnam, rejects, UN, Human, Rights, Commiss...</td>\n",
       "      <td>[[vietnam, rejects, un, human, rights, commiss...</td>\n",
       "    </tr>\n",
       "    <tr>\n",
       "      <th>1980</th>\n",
       "      <td>Pakistan plans to close its embassy in Hano...</td>\n",
       "      <td>5</td>\n",
       "      <td>93</td>\n",
       "      <td>[[Pakistan, plans, to, close, its, embassy, in...</td>\n",
       "      <td>[[pakistan, plans, close, embassy, hanoi, citi...</td>\n",
       "    </tr>\n",
       "    <tr>\n",
       "      <th>1980</th>\n",
       "      <td>Pakistan plans to close its embassy in Hano...</td>\n",
       "      <td>5</td>\n",
       "      <td>94</td>\n",
       "      <td>[[Pakistan, plans, to, close, its, embassy, in...</td>\n",
       "      <td>[[pakistan, plans, close, embassy, hanoi, citi...</td>\n",
       "    </tr>\n",
       "    <tr>\n",
       "      <th>1980</th>\n",
       "      <td>South Korean Information Minister Lee Kyoo ...</td>\n",
       "      <td>5</td>\n",
       "      <td>103</td>\n",
       "      <td>[[South, Korean, Information, Minister, Lee, K...</td>\n",
       "      <td>[[south, korean, information, minister, lee, k...</td>\n",
       "    </tr>\n",
       "    <tr>\n",
       "      <th>1980</th>\n",
       "      <td>To the Editor:  Since the fall of South Vi...</td>\n",
       "      <td>5</td>\n",
       "      <td>219</td>\n",
       "      <td>[[To, the, Editor, :, Since, the, fall, of, So...</td>\n",
       "      <td>[[editor, since, fall, south, vietnam, five, y...</td>\n",
       "    </tr>\n",
       "    <tr>\n",
       "      <th>1980</th>\n",
       "      <td>WORLD NEWS BRIEFS; Racial Unrest to Be Cru...</td>\n",
       "      <td>5</td>\n",
       "      <td>225</td>\n",
       "      <td>[[WORLD, NEWS, BRIEFS, ;, Racial, Unrest, to, ...</td>\n",
       "      <td>[[world, news, briefs, racial, unrest, crushed...</td>\n",
       "    </tr>\n",
       "    <tr>\n",
       "      <th>1980</th>\n",
       "      <td>WORLD NEWS BRIEFS; Kenya Agrees to Expand ...</td>\n",
       "      <td>5</td>\n",
       "      <td>252</td>\n",
       "      <td>[[WORLD, NEWS, BRIEFS, ;, Kenya, Agrees, to, E...</td>\n",
       "      <td>[[world, news, briefs, kenya, agrees, expand, ...</td>\n",
       "    </tr>\n",
       "    <tr>\n",
       "      <th>1980</th>\n",
       "      <td>, Thailand, Oct. 6   Two United States offi...</td>\n",
       "      <td>5</td>\n",
       "      <td>293</td>\n",
       "      <td>[[,, Thailand, ,, Oct., 6, Two, United, States...</td>\n",
       "      <td>[[thailand, two, united, states, officials, vi...</td>\n",
       "    </tr>\n",
       "    <tr>\n",
       "      <th>1980</th>\n",
       "      <td>ALIENATION AND CHARISMA A Study of Contemp...</td>\n",
       "      <td>5</td>\n",
       "      <td>431</td>\n",
       "      <td>[[ALIENATION, AND, CHARISMA, A, Study, of, Con...</td>\n",
       "      <td>[[alienation, charisma, study, contemporary, a...</td>\n",
       "    </tr>\n",
       "    <tr>\n",
       "      <th>1980</th>\n",
       "      <td>LEJEUNE, N.C., Nov. 18   A former prisoner...</td>\n",
       "      <td>5</td>\n",
       "      <td>463</td>\n",
       "      <td>[[LEJEUNE, ,, N.C., ,, Nov., 18, A, former, pr...</td>\n",
       "      <td>[[lejeune, former, prisoner, war, vietnam, tes...</td>\n",
       "    </tr>\n",
       "    <tr>\n",
       "      <th>1980</th>\n",
       "      <td>LEJEUNE, N.C., Nov. 21   A former prisoner...</td>\n",
       "      <td>5</td>\n",
       "      <td>472</td>\n",
       "      <td>[[LEJEUNE, ,, N.C., ,, Nov., 21, A, former, pr...</td>\n",
       "      <td>[[lejeune, former, prisoner, war, breaking, de...</td>\n",
       "    </tr>\n",
       "    <tr>\n",
       "      <th>1980</th>\n",
       "      <td>LEJEUNE, N.C., Nov. 22   The first full we...</td>\n",
       "      <td>5</td>\n",
       "      <td>477</td>\n",
       "      <td>[[LEJEUNE, ,, N.C., ,, Nov., 22, The, first, f...</td>\n",
       "      <td>[[lejeune, first, full, week, testimony, trial...</td>\n",
       "    </tr>\n",
       "    <tr>\n",
       "      <th>1980</th>\n",
       "      <td>The United States and Vietnam have reach...</td>\n",
       "      <td>5</td>\n",
       "      <td>558</td>\n",
       "      <td>[[The, United, States, and, Vietnam, have, rea...</td>\n",
       "      <td>[[united, states, vietnam, reached, agreement,...</td>\n",
       "    </tr>\n",
       "    <tr>\n",
       "      <th>1980</th>\n",
       "      <td>Eight years ago at this season the Unite...</td>\n",
       "      <td>5</td>\n",
       "      <td>620</td>\n",
       "      <td>[[Eight, years, ago, at, this, season, the, Un...</td>\n",
       "      <td>[[eight, years, ago, season, united, states, c...</td>\n",
       "    </tr>\n",
       "    <tr>\n",
       "      <th>1980</th>\n",
       "      <td>To the Editor:  A Nov. 13 Op-Ed article by...</td>\n",
       "      <td>5</td>\n",
       "      <td>644</td>\n",
       "      <td>[[To, the, Editor, :, A, Nov., 13, Op-Ed, arti...</td>\n",
       "      <td>[[editor, article, anthony, barnett, quoted, t...</td>\n",
       "    </tr>\n",
       "    <tr>\n",
       "      <th>1980</th>\n",
       "      <td>, Thailand, Aug. 23   A program designed to...</td>\n",
       "      <td>5</td>\n",
       "      <td>854</td>\n",
       "      <td>[[,, Thailand, ,, Aug., 23, A, program, design...</td>\n",
       "      <td>[[thailand, program, designed, allow, vietname...</td>\n",
       "    </tr>\n",
       "    <tr>\n",
       "      <th>1980</th>\n",
       "      <td>China said today that growing tension al...</td>\n",
       "      <td>5</td>\n",
       "      <td>993</td>\n",
       "      <td>[[China, said, today, that, growing, tension, ...</td>\n",
       "      <td>[[china, said, today, growing, tension, along,...</td>\n",
       "    </tr>\n",
       "    <tr>\n",
       "      <th>1980</th>\n",
       "      <td>China said today that growing tension al...</td>\n",
       "      <td>5</td>\n",
       "      <td>1000</td>\n",
       "      <td>[[China, said, today, that, growing, tension, ...</td>\n",
       "      <td>[[china, said, today, growing, tension, along,...</td>\n",
       "    </tr>\n",
       "    <tr>\n",
       "      <th>1980</th>\n",
       "      <td>Two United States officials will visit V...</td>\n",
       "      <td>5</td>\n",
       "      <td>1032</td>\n",
       "      <td>[[Two, United, States, officials, will, visit,...</td>\n",
       "      <td>[[two, united, states, officials, visit, vietn...</td>\n",
       "    </tr>\n",
       "    <tr>\n",
       "      <th>1981</th>\n",
       "      <td>To the Editor:  There is a bold, significa...</td>\n",
       "      <td>5</td>\n",
       "      <td>1048</td>\n",
       "      <td>[[To, the, Editor, :, There, is, a, bold, ,, s...</td>\n",
       "      <td>[[editor, bold, significant, international, mo...</td>\n",
       "    </tr>\n",
       "    <tr>\n",
       "      <th>1981</th>\n",
       "      <td>When the Communists took over North Vietna...</td>\n",
       "      <td>5</td>\n",
       "      <td>1399</td>\n",
       "      <td>[[When, the, Communists, took, over, North, Vi...</td>\n",
       "      <td>[[communists, took, north, vietnam, million, r...</td>\n",
       "    </tr>\n",
       "    <tr>\n",
       "      <th>1981</th>\n",
       "      <td>To the Editor:  Gareth Porter's advocacy o...</td>\n",
       "      <td>5</td>\n",
       "      <td>1605</td>\n",
       "      <td>[[To, the, Editor, :, Gareth, Porter, 's, advo...</td>\n",
       "      <td>[[editor, gareth, porter, advocacy, accommodat...</td>\n",
       "    </tr>\n",
       "    <tr>\n",
       "      <th>1981</th>\n",
       "      <td>, Vietnam, Dec. 18   Four American veterans...</td>\n",
       "      <td>5</td>\n",
       "      <td>1681</td>\n",
       "      <td>[[,, Vietnam, ,, Dec., 18, Four, American, vet...</td>\n",
       "      <td>[[vietnam, four, american, veterans, indochina...</td>\n",
       "    </tr>\n",
       "    <tr>\n",
       "      <th>1981</th>\n",
       "      <td>After six hours of talks with Hanoi offi...</td>\n",
       "      <td>5</td>\n",
       "      <td>1699</td>\n",
       "      <td>[[After, six, hours, of, talks, with, Hanoi, o...</td>\n",
       "      <td>[[six, hours, talks, hanoi, officials, four, a...</td>\n",
       "    </tr>\n",
       "    <tr>\n",
       "      <th>1981</th>\n",
       "      <td>, Vietnam, Dec. 21   Darkness falls quickly...</td>\n",
       "      <td>5</td>\n",
       "      <td>1702</td>\n",
       "      <td>[[,, Vietnam, ,, Dec., 21, Darkness, falls, qu...</td>\n",
       "      <td>[[vietnam, darkness, falls, quickly, hanoi, st...</td>\n",
       "    </tr>\n",
       "    <tr>\n",
       "      <th>1981</th>\n",
       "      <td>, Vietnam, Dec. 22   Foreign Minister Nguye...</td>\n",
       "      <td>5</td>\n",
       "      <td>1707</td>\n",
       "      <td>[[,, Vietnam, ,, Dec., 22, Foreign, Minister, ...</td>\n",
       "      <td>[[vietnam, foreign, minister, nguyen, co, thac...</td>\n",
       "    </tr>\n",
       "    <tr>\n",
       "      <th>1981</th>\n",
       "      <td>To the Editor:  For many Americans, Christ...</td>\n",
       "      <td>5</td>\n",
       "      <td>1711</td>\n",
       "      <td>[[To, the, Editor, :, For, many, Americans, ,,...</td>\n",
       "      <td>[[editor, many, americans, christmas, week, ti...</td>\n",
       "    </tr>\n",
       "    <tr>\n",
       "      <th>1981</th>\n",
       "      <td>This is the season in which, nine years ...</td>\n",
       "      <td>5</td>\n",
       "      <td>1712</td>\n",
       "      <td>[[This, is, the, season, in, which, ,, nine, y...</td>\n",
       "      <td>[[season, nine, years, ago, united, states, en...</td>\n",
       "    </tr>\n",
       "    <tr>\n",
       "      <th>1981</th>\n",
       "      <td>Four American Vietnam veterans walked thro...</td>\n",
       "      <td>5</td>\n",
       "      <td>1725</td>\n",
       "      <td>[[Four, American, Vietnam, veterans, walked, t...</td>\n",
       "      <td>[[four, american, vietnam, veterans, walked, l...</td>\n",
       "    </tr>\n",
       "    <tr>\n",
       "      <th>...</th>\n",
       "      <td>...</td>\n",
       "      <td>...</td>\n",
       "      <td>...</td>\n",
       "      <td>...</td>\n",
       "      <td>...</td>\n",
       "    </tr>\n",
       "    <tr>\n",
       "      <th>1998</th>\n",
       "      <td>The remains of two Air Force fliers miss...</td>\n",
       "      <td>5</td>\n",
       "      <td>22032</td>\n",
       "      <td>[[The, remains, of, two, Air, Force, fliers, m...</td>\n",
       "      <td>[[remains, two, air, force, fliers, missing, s...</td>\n",
       "    </tr>\n",
       "    <tr>\n",
       "      <th>1998</th>\n",
       "      <td>To the Editor:  Re \"The Unknown Soldier M...</td>\n",
       "      <td>5</td>\n",
       "      <td>22093</td>\n",
       "      <td>[[To, the, Editor, :, Re, ``, The, Unknown, So...</td>\n",
       "      <td>[[editor, unknown, soldier, may, known, editor...</td>\n",
       "    </tr>\n",
       "    <tr>\n",
       "      <th>1998</th>\n",
       "      <td>, Vietnam, Nov. 15   The Orpheus Chamber Or...</td>\n",
       "      <td>5</td>\n",
       "      <td>22306</td>\n",
       "      <td>[[,, Vietnam, ,, Nov., 15, The, Orpheus, Chamb...</td>\n",
       "      <td>[[vietnam, orpheus, chamber, orchestra, conduc...</td>\n",
       "    </tr>\n",
       "    <tr>\n",
       "      <th>1998</th>\n",
       "      <td>An article on Tuesday about performances b...</td>\n",
       "      <td>5</td>\n",
       "      <td>22314</td>\n",
       "      <td>[[An, article, on, Tuesday, about, performance...</td>\n",
       "      <td>[[article, tuesday, performances, conductorles...</td>\n",
       "    </tr>\n",
       "    <tr>\n",
       "      <th>1998</th>\n",
       "      <td>, Vietnam   THE twain met here last month, ...</td>\n",
       "      <td>5</td>\n",
       "      <td>22342</td>\n",
       "      <td>[[,, Vietnam, THE, twain, met, here, last, mon...</td>\n",
       "      <td>[[vietnam, twain, met, last, month, orpheus, c...</td>\n",
       "    </tr>\n",
       "    <tr>\n",
       "      <th>1998</th>\n",
       "      <td>PENH, Cambodia, April 11   Former Foreign ...</td>\n",
       "      <td>5</td>\n",
       "      <td>22465</td>\n",
       "      <td>[[PENH, ,, Cambodia, ,, April, 11, Former, For...</td>\n",
       "      <td>[[penh, cambodia, april, former, foreign, mini...</td>\n",
       "    </tr>\n",
       "    <tr>\n",
       "      <th>1998</th>\n",
       "      <td>Nguyen Van Linh, the former Vietcong guerr...</td>\n",
       "      <td>5</td>\n",
       "      <td>22504</td>\n",
       "      <td>[[Nguyen, Van, Linh, ,, the, former, Vietcong,...</td>\n",
       "      <td>[[nguyen, van, linh, former, vietcong, guerril...</td>\n",
       "    </tr>\n",
       "    <tr>\n",
       "      <th>1998</th>\n",
       "      <td>On a rainy Memorial Day 14 years ago, si...</td>\n",
       "      <td>5</td>\n",
       "      <td>22505</td>\n",
       "      <td>[[On, a, rainy, Memorial, Day, 14, years, ago,...</td>\n",
       "      <td>[[rainy, memorial, day, years, ago, six, gray,...</td>\n",
       "    </tr>\n",
       "    <tr>\n",
       "      <th>1998</th>\n",
       "      <td>In Hanoi, before the cyclos creak or the m...</td>\n",
       "      <td>5</td>\n",
       "      <td>22532</td>\n",
       "      <td>[[In, Hanoi, ,, before, the, cyclos, creak, or...</td>\n",
       "      <td>[[hanoi, cyclos, creak, motorbikes, begin, mor...</td>\n",
       "    </tr>\n",
       "    <tr>\n",
       "      <th>1998</th>\n",
       "      <td>The remains of an unidentified American ...</td>\n",
       "      <td>5</td>\n",
       "      <td>22696</td>\n",
       "      <td>[[The, remains, of, an, unidentified, American...</td>\n",
       "      <td>[[remains, unidentified, american, serviceman,...</td>\n",
       "    </tr>\n",
       "    <tr>\n",
       "      <th>1998</th>\n",
       "      <td>CHI MINH CITY, Vietnam   THE great Vietnam...</td>\n",
       "      <td>5</td>\n",
       "      <td>22711</td>\n",
       "      <td>[[CHI, MINH, CITY, ,, Vietnam, THE, great, Vie...</td>\n",
       "      <td>[[chi, minh, city, vietnam, great, vietnamese,...</td>\n",
       "    </tr>\n",
       "    <tr>\n",
       "      <th>1998</th>\n",
       "      <td>CHI MINH CITY, Vietnam, Aug. 8   The most ...</td>\n",
       "      <td>5</td>\n",
       "      <td>22846</td>\n",
       "      <td>[[CHI, MINH, CITY, ,, Vietnam, ,, Aug., 8, The...</td>\n",
       "      <td>[[chi, minh, city, vietnam, construction, proj...</td>\n",
       "    </tr>\n",
       "    <tr>\n",
       "      <th>1998</th>\n",
       "      <td>, Vietnam, Aug. 28   Vietnam said today tha...</td>\n",
       "      <td>5</td>\n",
       "      <td>22880</td>\n",
       "      <td>[[,, Vietnam, ,, Aug., 28, Vietnam, said, toda...</td>\n",
       "      <td>[[vietnam, vietnam, said, today, releasing, pr...</td>\n",
       "    </tr>\n",
       "    <tr>\n",
       "      <th>1998</th>\n",
       "      <td>Vu Van Mau, who was briefly South Vietnam'...</td>\n",
       "      <td>5</td>\n",
       "      <td>22931</td>\n",
       "      <td>[[Vu, Van, Mau, ,, who, was, briefly, South, V...</td>\n",
       "      <td>[[vu, van, mau, briefly, south, vietnam, prime...</td>\n",
       "    </tr>\n",
       "    <tr>\n",
       "      <th>1999</th>\n",
       "      <td>It seemed as if it was always dark when we...</td>\n",
       "      <td>5</td>\n",
       "      <td>23017</td>\n",
       "      <td>[[It, seemed, as, if, it, was, always, dark, w...</td>\n",
       "      <td>[[seemed, always, dark, awoke, vietnam], [trip...</td>\n",
       "    </tr>\n",
       "    <tr>\n",
       "      <th>1999</th>\n",
       "      <td>With science outpacing military traditio...</td>\n",
       "      <td>5</td>\n",
       "      <td>23123</td>\n",
       "      <td>[[With, science, outpacing, military, traditio...</td>\n",
       "      <td>[[science, outpacing, military, tradition, pen...</td>\n",
       "    </tr>\n",
       "    <tr>\n",
       "      <th>1999</th>\n",
       "      <td>A secret American program was created du...</td>\n",
       "      <td>5</td>\n",
       "      <td>23332</td>\n",
       "      <td>[[A, secret, American, program, was, created, ...</td>\n",
       "      <td>[[secret, american, program, created, vietnam,...</td>\n",
       "    </tr>\n",
       "    <tr>\n",
       "      <th>1999</th>\n",
       "      <td>The remains believed to be those of 11 U...</td>\n",
       "      <td>5</td>\n",
       "      <td>23398</td>\n",
       "      <td>[[The, remains, believed, to, be, those, of, 1...</td>\n",
       "      <td>[[remains, believed, united, states, serviceme...</td>\n",
       "    </tr>\n",
       "    <tr>\n",
       "      <th>1999</th>\n",
       "      <td>The remains of an Air Force pilot shot d...</td>\n",
       "      <td>5</td>\n",
       "      <td>23508</td>\n",
       "      <td>[[The, remains, of, an, Air, Force, pilot, sho...</td>\n",
       "      <td>[[remains, air, force, pilot, shot, hanoi, nea...</td>\n",
       "    </tr>\n",
       "    <tr>\n",
       "      <th>1999</th>\n",
       "      <td>, Vietnam, April 7   It is now an official ...</td>\n",
       "      <td>5</td>\n",
       "      <td>23570</td>\n",
       "      <td>[[,, Vietnam, ,, April, 7, It, is, now, an, of...</td>\n",
       "      <td>[[vietnam, april, official, relic, vietnam, wa...</td>\n",
       "    </tr>\n",
       "    <tr>\n",
       "      <th>1999</th>\n",
       "      <td>, Vietnam   At the end of April, on the 27t...</td>\n",
       "      <td>5</td>\n",
       "      <td>23611</td>\n",
       "      <td>[[,, Vietnam, At, the, end, of, April, ,, on, ...</td>\n",
       "      <td>[[vietnam, end, april, anniversary, son, death...</td>\n",
       "    </tr>\n",
       "    <tr>\n",
       "      <th>1999</th>\n",
       "      <td>Will the war in Kosovo become another Vi...</td>\n",
       "      <td>5</td>\n",
       "      <td>23617</td>\n",
       "      <td>[[Will, the, war, in, Kosovo, become, another,...</td>\n",
       "      <td>[[war, kosovo, become, another, vietnam], [bar...</td>\n",
       "    </tr>\n",
       "    <tr>\n",
       "      <th>1999</th>\n",
       "      <td>To the Editor:  Lawrence D. Garrison (let...</td>\n",
       "      <td>5</td>\n",
       "      <td>23670</td>\n",
       "      <td>[[To, the, Editor, :, Lawrence, D., Garrison, ...</td>\n",
       "      <td>[[editor, lawrence, garrison, letter, april, c...</td>\n",
       "    </tr>\n",
       "    <tr>\n",
       "      <th>1999</th>\n",
       "      <td>The Hilton Hanoi Opera hotel has opened, a...</td>\n",
       "      <td>5</td>\n",
       "      <td>23760</td>\n",
       "      <td>[[The, Hilton, Hanoi, Opera, hotel, has, opene...</td>\n",
       "      <td>[[hilton, hanoi, opera, hotel, opened, blocks,...</td>\n",
       "    </tr>\n",
       "    <tr>\n",
       "      <th>1999</th>\n",
       "      <td>Americans missing in action from the Vie...</td>\n",
       "      <td>5</td>\n",
       "      <td>23817</td>\n",
       "      <td>[[Americans, missing, in, action, from, the, V...</td>\n",
       "      <td>[[americans, missing, action, vietnam, war, ho...</td>\n",
       "    </tr>\n",
       "    <tr>\n",
       "      <th>1999</th>\n",
       "      <td>The first dance presentation of Lincoln Ce...</td>\n",
       "      <td>5</td>\n",
       "      <td>23878</td>\n",
       "      <td>[[The, first, dance, presentation, of, Lincoln...</td>\n",
       "      <td>[[first, dance, presentation, lincoln, center,...</td>\n",
       "    </tr>\n",
       "    <tr>\n",
       "      <th>1999</th>\n",
       "      <td>The House today renewed limited economic...</td>\n",
       "      <td>5</td>\n",
       "      <td>23959</td>\n",
       "      <td>[[The, House, today, renewed, limited, economi...</td>\n",
       "      <td>[[house, today, renewed, limited, economic, ti...</td>\n",
       "    </tr>\n",
       "    <tr>\n",
       "      <th>1999</th>\n",
       "      <td>ARGUMENT WITHOUT END In Search of Answers...</td>\n",
       "      <td>5</td>\n",
       "      <td>23969</td>\n",
       "      <td>[[ARGUMENT, WITHOUT, END, In, Search, of, Answ...</td>\n",
       "      <td>[[argument, without, end, search, answers, vie...</td>\n",
       "    </tr>\n",
       "    <tr>\n",
       "      <th>1999</th>\n",
       "      <td>An ambassador's life can be a busy one, ev...</td>\n",
       "      <td>5</td>\n",
       "      <td>24044</td>\n",
       "      <td>[[An, ambassador, 's, life, can, be, a, busy, ...</td>\n",
       "      <td>[[ambassador, life, busy, one, even, makes, te...</td>\n",
       "    </tr>\n",
       "    <tr>\n",
       "      <th>1999</th>\n",
       "      <td>CHI MINH CITY, Vietnam, Sept. 7   In the h...</td>\n",
       "      <td>5</td>\n",
       "      <td>24048</td>\n",
       "      <td>[[CHI, MINH, CITY, ,, Vietnam, ,, Sept., 7, In...</td>\n",
       "      <td>[[chi, minh, city, vietnam, heart, old, saigon...</td>\n",
       "    </tr>\n",
       "  </tbody>\n",
       "</table>\n",
       "<p>753 rows × 5 columns</p>\n",
       "</div>"
      ],
      "text/plain": [
       "                                                 article cluster  docID  \\\n",
       "date                                                                      \n",
       "1980      Neil Sheehan interview with Tran Ngoc Chau,...       5     14   \n",
       "1980      Vietnam rejects UN Human Rights Commission ...       5     67   \n",
       "1980      Pakistan plans to close its embassy in Hano...       5     93   \n",
       "1980      Pakistan plans to close its embassy in Hano...       5     94   \n",
       "1980      South Korean Information Minister Lee Kyoo ...       5    103   \n",
       "1980       To the Editor:  Since the fall of South Vi...       5    219   \n",
       "1980       WORLD NEWS BRIEFS; Racial Unrest to Be Cru...       5    225   \n",
       "1980       WORLD NEWS BRIEFS; Kenya Agrees to Expand ...       5    252   \n",
       "1980      , Thailand, Oct. 6   Two United States offi...       5    293   \n",
       "1980       ALIENATION AND CHARISMA A Study of Contemp...       5    431   \n",
       "1980       LEJEUNE, N.C., Nov. 18   A former prisoner...       5    463   \n",
       "1980       LEJEUNE, N.C., Nov. 21   A former prisoner...       5    472   \n",
       "1980       LEJEUNE, N.C., Nov. 22   The first full we...       5    477   \n",
       "1980         The United States and Vietnam have reach...       5    558   \n",
       "1980         Eight years ago at this season the Unite...       5    620   \n",
       "1980       To the Editor:  A Nov. 13 Op-Ed article by...       5    644   \n",
       "1980      , Thailand, Aug. 23   A program designed to...       5    854   \n",
       "1980         China said today that growing tension al...       5    993   \n",
       "1980         China said today that growing tension al...       5   1000   \n",
       "1980         Two United States officials will visit V...       5   1032   \n",
       "1981       To the Editor:  There is a bold, significa...       5   1048   \n",
       "1981       When the Communists took over North Vietna...       5   1399   \n",
       "1981       To the Editor:  Gareth Porter's advocacy o...       5   1605   \n",
       "1981      , Vietnam, Dec. 18   Four American veterans...       5   1681   \n",
       "1981         After six hours of talks with Hanoi offi...       5   1699   \n",
       "1981      , Vietnam, Dec. 21   Darkness falls quickly...       5   1702   \n",
       "1981      , Vietnam, Dec. 22   Foreign Minister Nguye...       5   1707   \n",
       "1981       To the Editor:  For many Americans, Christ...       5   1711   \n",
       "1981         This is the season in which, nine years ...       5   1712   \n",
       "1981       Four American Vietnam veterans walked thro...       5   1725   \n",
       "...                                                  ...     ...    ...   \n",
       "1998         The remains of two Air Force fliers miss...       5  22032   \n",
       "1998        To the Editor:  Re \"The Unknown Soldier M...       5  22093   \n",
       "1998      , Vietnam, Nov. 15   The Orpheus Chamber Or...       5  22306   \n",
       "1998       An article on Tuesday about performances b...       5  22314   \n",
       "1998      , Vietnam   THE twain met here last month, ...       5  22342   \n",
       "1998       PENH, Cambodia, April 11   Former Foreign ...       5  22465   \n",
       "1998       Nguyen Van Linh, the former Vietcong guerr...       5  22504   \n",
       "1998         On a rainy Memorial Day 14 years ago, si...       5  22505   \n",
       "1998       In Hanoi, before the cyclos creak or the m...       5  22532   \n",
       "1998         The remains of an unidentified American ...       5  22696   \n",
       "1998       CHI MINH CITY, Vietnam   THE great Vietnam...       5  22711   \n",
       "1998       CHI MINH CITY, Vietnam, Aug. 8   The most ...       5  22846   \n",
       "1998      , Vietnam, Aug. 28   Vietnam said today tha...       5  22880   \n",
       "1998       Vu Van Mau, who was briefly South Vietnam'...       5  22931   \n",
       "1999       It seemed as if it was always dark when we...       5  23017   \n",
       "1999         With science outpacing military traditio...       5  23123   \n",
       "1999         A secret American program was created du...       5  23332   \n",
       "1999         The remains believed to be those of 11 U...       5  23398   \n",
       "1999         The remains of an Air Force pilot shot d...       5  23508   \n",
       "1999      , Vietnam, April 7   It is now an official ...       5  23570   \n",
       "1999      , Vietnam   At the end of April, on the 27t...       5  23611   \n",
       "1999         Will the war in Kosovo become another Vi...       5  23617   \n",
       "1999        To the Editor:  Lawrence D. Garrison (let...       5  23670   \n",
       "1999       The Hilton Hanoi Opera hotel has opened, a...       5  23760   \n",
       "1999         Americans missing in action from the Vie...       5  23817   \n",
       "1999       The first dance presentation of Lincoln Ce...       5  23878   \n",
       "1999         The House today renewed limited economic...       5  23959   \n",
       "1999        ARGUMENT WITHOUT END In Search of Answers...       5  23969   \n",
       "1999       An ambassador's life can be a busy one, ev...       5  24044   \n",
       "1999       CHI MINH CITY, Vietnam, Sept. 7   In the h...       5  24048   \n",
       "\n",
       "                                         tokenized_sents  \\\n",
       "date                                                       \n",
       "1980   [[Neil, Sheehan, interview, with, Tran, Ngoc, ...   \n",
       "1980   [[Vietnam, rejects, UN, Human, Rights, Commiss...   \n",
       "1980   [[Pakistan, plans, to, close, its, embassy, in...   \n",
       "1980   [[Pakistan, plans, to, close, its, embassy, in...   \n",
       "1980   [[South, Korean, Information, Minister, Lee, K...   \n",
       "1980   [[To, the, Editor, :, Since, the, fall, of, So...   \n",
       "1980   [[WORLD, NEWS, BRIEFS, ;, Racial, Unrest, to, ...   \n",
       "1980   [[WORLD, NEWS, BRIEFS, ;, Kenya, Agrees, to, E...   \n",
       "1980   [[,, Thailand, ,, Oct., 6, Two, United, States...   \n",
       "1980   [[ALIENATION, AND, CHARISMA, A, Study, of, Con...   \n",
       "1980   [[LEJEUNE, ,, N.C., ,, Nov., 18, A, former, pr...   \n",
       "1980   [[LEJEUNE, ,, N.C., ,, Nov., 21, A, former, pr...   \n",
       "1980   [[LEJEUNE, ,, N.C., ,, Nov., 22, The, first, f...   \n",
       "1980   [[The, United, States, and, Vietnam, have, rea...   \n",
       "1980   [[Eight, years, ago, at, this, season, the, Un...   \n",
       "1980   [[To, the, Editor, :, A, Nov., 13, Op-Ed, arti...   \n",
       "1980   [[,, Thailand, ,, Aug., 23, A, program, design...   \n",
       "1980   [[China, said, today, that, growing, tension, ...   \n",
       "1980   [[China, said, today, that, growing, tension, ...   \n",
       "1980   [[Two, United, States, officials, will, visit,...   \n",
       "1981   [[To, the, Editor, :, There, is, a, bold, ,, s...   \n",
       "1981   [[When, the, Communists, took, over, North, Vi...   \n",
       "1981   [[To, the, Editor, :, Gareth, Porter, 's, advo...   \n",
       "1981   [[,, Vietnam, ,, Dec., 18, Four, American, vet...   \n",
       "1981   [[After, six, hours, of, talks, with, Hanoi, o...   \n",
       "1981   [[,, Vietnam, ,, Dec., 21, Darkness, falls, qu...   \n",
       "1981   [[,, Vietnam, ,, Dec., 22, Foreign, Minister, ...   \n",
       "1981   [[To, the, Editor, :, For, many, Americans, ,,...   \n",
       "1981   [[This, is, the, season, in, which, ,, nine, y...   \n",
       "1981   [[Four, American, Vietnam, veterans, walked, t...   \n",
       "...                                                  ...   \n",
       "1998   [[The, remains, of, two, Air, Force, fliers, m...   \n",
       "1998   [[To, the, Editor, :, Re, ``, The, Unknown, So...   \n",
       "1998   [[,, Vietnam, ,, Nov., 15, The, Orpheus, Chamb...   \n",
       "1998   [[An, article, on, Tuesday, about, performance...   \n",
       "1998   [[,, Vietnam, THE, twain, met, here, last, mon...   \n",
       "1998   [[PENH, ,, Cambodia, ,, April, 11, Former, For...   \n",
       "1998   [[Nguyen, Van, Linh, ,, the, former, Vietcong,...   \n",
       "1998   [[On, a, rainy, Memorial, Day, 14, years, ago,...   \n",
       "1998   [[In, Hanoi, ,, before, the, cyclos, creak, or...   \n",
       "1998   [[The, remains, of, an, unidentified, American...   \n",
       "1998   [[CHI, MINH, CITY, ,, Vietnam, THE, great, Vie...   \n",
       "1998   [[CHI, MINH, CITY, ,, Vietnam, ,, Aug., 8, The...   \n",
       "1998   [[,, Vietnam, ,, Aug., 28, Vietnam, said, toda...   \n",
       "1998   [[Vu, Van, Mau, ,, who, was, briefly, South, V...   \n",
       "1999   [[It, seemed, as, if, it, was, always, dark, w...   \n",
       "1999   [[With, science, outpacing, military, traditio...   \n",
       "1999   [[A, secret, American, program, was, created, ...   \n",
       "1999   [[The, remains, believed, to, be, those, of, 1...   \n",
       "1999   [[The, remains, of, an, Air, Force, pilot, sho...   \n",
       "1999   [[,, Vietnam, ,, April, 7, It, is, now, an, of...   \n",
       "1999   [[,, Vietnam, At, the, end, of, April, ,, on, ...   \n",
       "1999   [[Will, the, war, in, Kosovo, become, another,...   \n",
       "1999   [[To, the, Editor, :, Lawrence, D., Garrison, ...   \n",
       "1999   [[The, Hilton, Hanoi, Opera, hotel, has, opene...   \n",
       "1999   [[Americans, missing, in, action, from, the, V...   \n",
       "1999   [[The, first, dance, presentation, of, Lincoln...   \n",
       "1999   [[The, House, today, renewed, limited, economi...   \n",
       "1999   [[ARGUMENT, WITHOUT, END, In, Search, of, Answ...   \n",
       "1999   [[An, ambassador, 's, life, can, be, a, busy, ...   \n",
       "1999   [[CHI, MINH, CITY, ,, Vietnam, ,, Sept., 7, In...   \n",
       "\n",
       "                                        normalized_sents  \n",
       "date                                                      \n",
       "1980   [[neil, sheehan, interview, tran, ngoc, chau, ...  \n",
       "1980   [[vietnam, rejects, un, human, rights, commiss...  \n",
       "1980   [[pakistan, plans, close, embassy, hanoi, citi...  \n",
       "1980   [[pakistan, plans, close, embassy, hanoi, citi...  \n",
       "1980   [[south, korean, information, minister, lee, k...  \n",
       "1980   [[editor, since, fall, south, vietnam, five, y...  \n",
       "1980   [[world, news, briefs, racial, unrest, crushed...  \n",
       "1980   [[world, news, briefs, kenya, agrees, expand, ...  \n",
       "1980   [[thailand, two, united, states, officials, vi...  \n",
       "1980   [[alienation, charisma, study, contemporary, a...  \n",
       "1980   [[lejeune, former, prisoner, war, vietnam, tes...  \n",
       "1980   [[lejeune, former, prisoner, war, breaking, de...  \n",
       "1980   [[lejeune, first, full, week, testimony, trial...  \n",
       "1980   [[united, states, vietnam, reached, agreement,...  \n",
       "1980   [[eight, years, ago, season, united, states, c...  \n",
       "1980   [[editor, article, anthony, barnett, quoted, t...  \n",
       "1980   [[thailand, program, designed, allow, vietname...  \n",
       "1980   [[china, said, today, growing, tension, along,...  \n",
       "1980   [[china, said, today, growing, tension, along,...  \n",
       "1980   [[two, united, states, officials, visit, vietn...  \n",
       "1981   [[editor, bold, significant, international, mo...  \n",
       "1981   [[communists, took, north, vietnam, million, r...  \n",
       "1981   [[editor, gareth, porter, advocacy, accommodat...  \n",
       "1981   [[vietnam, four, american, veterans, indochina...  \n",
       "1981   [[six, hours, talks, hanoi, officials, four, a...  \n",
       "1981   [[vietnam, darkness, falls, quickly, hanoi, st...  \n",
       "1981   [[vietnam, foreign, minister, nguyen, co, thac...  \n",
       "1981   [[editor, many, americans, christmas, week, ti...  \n",
       "1981   [[season, nine, years, ago, united, states, en...  \n",
       "1981   [[four, american, vietnam, veterans, walked, l...  \n",
       "...                                                  ...  \n",
       "1998   [[remains, two, air, force, fliers, missing, s...  \n",
       "1998   [[editor, unknown, soldier, may, known, editor...  \n",
       "1998   [[vietnam, orpheus, chamber, orchestra, conduc...  \n",
       "1998   [[article, tuesday, performances, conductorles...  \n",
       "1998   [[vietnam, twain, met, last, month, orpheus, c...  \n",
       "1998   [[penh, cambodia, april, former, foreign, mini...  \n",
       "1998   [[nguyen, van, linh, former, vietcong, guerril...  \n",
       "1998   [[rainy, memorial, day, years, ago, six, gray,...  \n",
       "1998   [[hanoi, cyclos, creak, motorbikes, begin, mor...  \n",
       "1998   [[remains, unidentified, american, serviceman,...  \n",
       "1998   [[chi, minh, city, vietnam, great, vietnamese,...  \n",
       "1998   [[chi, minh, city, vietnam, construction, proj...  \n",
       "1998   [[vietnam, vietnam, said, today, releasing, pr...  \n",
       "1998   [[vu, van, mau, briefly, south, vietnam, prime...  \n",
       "1999   [[seemed, always, dark, awoke, vietnam], [trip...  \n",
       "1999   [[science, outpacing, military, tradition, pen...  \n",
       "1999   [[secret, american, program, created, vietnam,...  \n",
       "1999   [[remains, believed, united, states, serviceme...  \n",
       "1999   [[remains, air, force, pilot, shot, hanoi, nea...  \n",
       "1999   [[vietnam, april, official, relic, vietnam, wa...  \n",
       "1999   [[vietnam, end, april, anniversary, son, death...  \n",
       "1999   [[war, kosovo, become, another, vietnam], [bar...  \n",
       "1999   [[editor, lawrence, garrison, letter, april, c...  \n",
       "1999   [[hilton, hanoi, opera, hotel, opened, blocks,...  \n",
       "1999   [[americans, missing, action, vietnam, war, ho...  \n",
       "1999   [[first, dance, presentation, lincoln, center,...  \n",
       "1999   [[house, today, renewed, limited, economic, ti...  \n",
       "1999   [[argument, without, end, search, answers, vie...  \n",
       "1999   [[ambassador, life, busy, one, even, makes, te...  \n",
       "1999   [[chi, minh, city, vietnam, heart, old, saigon...  \n",
       "\n",
       "[753 rows x 5 columns]"
      ]
     },
     "execution_count": 356,
     "metadata": {},
     "output_type": "execute_result"
    }
   ],
   "source": [
    "test"
   ]
  },
  {
   "cell_type": "code",
   "execution_count": 351,
   "metadata": {},
   "outputs": [
    {
     "data": {
      "text/html": [
       "<div>\n",
       "<style scoped>\n",
       "    .dataframe tbody tr th:only-of-type {\n",
       "        vertical-align: middle;\n",
       "    }\n",
       "\n",
       "    .dataframe tbody tr th {\n",
       "        vertical-align: top;\n",
       "    }\n",
       "\n",
       "    .dataframe thead th {\n",
       "        text-align: right;\n",
       "    }\n",
       "</style>\n",
       "<table border=\"1\" class=\"dataframe\">\n",
       "  <thead>\n",
       "    <tr style=\"text-align: right;\">\n",
       "      <th></th>\n",
       "      <th>article</th>\n",
       "      <th>date</th>\n",
       "      <th>cluster</th>\n",
       "      <th>docID</th>\n",
       "      <th>tokenized_sents</th>\n",
       "      <th>normalized_sents</th>\n",
       "    </tr>\n",
       "  </thead>\n",
       "  <tbody>\n",
       "  </tbody>\n",
       "</table>\n",
       "</div>"
      ],
      "text/plain": [
       "Empty DataFrame\n",
       "Columns: [article, date, cluster, docID, tokenized_sents, normalized_sents]\n",
       "Index: []"
      ]
     },
     "execution_count": 351,
     "metadata": {},
     "output_type": "execute_result"
    }
   ],
   "source": [
    "powCluster.loc[powCluster['date'] == '1989']\n"
   ]
  },
  {
   "cell_type": "code",
   "execution_count": 337,
   "metadata": {},
   "outputs": [
    {
     "data": {
      "text/plain": [
       "753"
      ]
     },
     "execution_count": 337,
     "metadata": {},
     "output_type": "execute_result"
    }
   ],
   "source": [
    "len(powCluster)"
   ]
  },
  {
   "cell_type": "code",
   "execution_count": 328,
   "metadata": {},
   "outputs": [
    {
     "data": {
      "text/plain": [
       "0"
      ]
     },
     "execution_count": 328,
     "metadata": {},
     "output_type": "execute_result"
    }
   ],
   "source": [
    "powCluster.query('date == \"1991\"').date.count()"
   ]
  },
  {
   "cell_type": "code",
   "execution_count": 325,
   "metadata": {},
   "outputs": [
    {
     "data": {
      "text/plain": [
       "0"
      ]
     },
     "execution_count": 325,
     "metadata": {},
     "output_type": "execute_result"
    }
   ],
   "source": [
    "powCluster[powCluster.date == '1989'].shape[0]"
   ]
  },
  {
   "cell_type": "code",
   "execution_count": 326,
   "metadata": {},
   "outputs": [
    {
     "data": {
      "text/plain": [
       "0"
      ]
     },
     "execution_count": 326,
     "metadata": {},
     "output_type": "execute_result"
    }
   ],
   "source": [
    "powCluster[powCluster.date == '1990'].shape[0]"
   ]
  },
  {
   "cell_type": "code",
   "execution_count": 321,
   "metadata": {},
   "outputs": [
    {
     "data": {
      "text/plain": [
       "753"
      ]
     },
     "execution_count": 321,
     "metadata": {},
     "output_type": "execute_result"
    }
   ],
   "source": [
    "len(powCluster['date'] == 1988)"
   ]
  },
  {
   "cell_type": "code",
   "execution_count": null,
   "metadata": {
    "collapsed": true
   },
   "outputs": [],
   "source": [
    "len(powCluster['date'] == 1990)"
   ]
  },
  {
   "cell_type": "code",
   "execution_count": 238,
   "metadata": {
    "collapsed": true
   },
   "outputs": [],
   "source": [
    "pow84 = powCluster[powCluster['date'].str.contains('1980|1981|1982|1983|1984', na = False)]\n",
    "pow89 = powCluster[powCluster['date'].str.contains('1980|1981|1982|1983|1984', na = False)]\n",
    "pow94 = powCluster[powCluster['date'].str.contains('1980|1981|1982|1983|1984', na = False)]\n",
    "pow99 = powCluster[powCluster['date'].str.contains('1980|1981|1982|1983|1984', na = False)]\n",
    "\n",
    "pow84W2V = gensim.models.word2vec.Word2Vec(pow84['normalized_sents'].sum())\n",
    "pow89W2V = gensim.models.word2vec.Word2Vec(pow89['normalized_sents'].sum())\n",
    "pow94W2V = gensim.models.word2vec.Word2Vec(pow94['normalized_sents'].sum())\n",
    "pow99W2V = gensim.models.word2vec.Word2Vec(pow99['normalized_sents'].sum())"
   ]
  },
  {
   "cell_type": "code",
   "execution_count": 292,
   "metadata": {},
   "outputs": [
    {
     "data": {
      "text/plain": [
       "[('vietcong', 0.999820351600647),\n",
       " ('hanoi', 0.9998172521591187),\n",
       " ('washington', 0.9998152256011963),\n",
       " ('american', 0.9998147487640381),\n",
       " ('may', 0.9998136758804321),\n",
       " ('saigon', 0.9998122453689575),\n",
       " ('former', 0.9998087286949158),\n",
       " ('government', 0.9998084902763367),\n",
       " ('political', 0.9998082518577576),\n",
       " ('military', 0.9998064637184143)]"
      ]
     },
     "execution_count": 292,
     "metadata": {},
     "output_type": "execute_result"
    }
   ],
   "source": [
    "pow84W2V.most_similar(positive=['president'])"
   ]
  },
  {
   "cell_type": "code",
   "execution_count": 293,
   "metadata": {},
   "outputs": [
    {
     "data": {
      "text/plain": [
       "[('vietcong', 0.9997908473014832),\n",
       " ('hanoi', 0.9997867345809937),\n",
       " ('saigon', 0.999785840511322),\n",
       " ('may', 0.9997857213020325),\n",
       " ('american', 0.9997854232788086),\n",
       " ('washington', 0.9997825622558594),\n",
       " ('political', 0.9997801780700684),\n",
       " ('government', 0.9997794032096863),\n",
       " ('vietnamese', 0.9997783899307251),\n",
       " ('could', 0.9997783899307251)]"
      ]
     },
     "execution_count": 293,
     "metadata": {},
     "output_type": "execute_result"
    }
   ],
   "source": [
    "pow89W2V.most_similar(positive=['president'])"
   ]
  },
  {
   "cell_type": "code",
   "execution_count": 290,
   "metadata": {},
   "outputs": [
    {
     "data": {
      "text/plain": [
       "[('communist', 0.9999431371688843),\n",
       " ('said', 0.9999411106109619),\n",
       " ('political', 0.9999375343322754),\n",
       " ('like', 0.9999368786811829),\n",
       " ('war', 0.999936580657959),\n",
       " ('would', 0.9999362230300903),\n",
       " ('one', 0.9999358057975769),\n",
       " ('american', 0.9999357461929321),\n",
       " ('military', 0.9999357461929321),\n",
       " ('americans', 0.999935507774353)]"
      ]
     },
     "execution_count": 290,
     "metadata": {},
     "output_type": "execute_result"
    }
   ],
   "source": [
    "pow94W2V.most_similar(positive=['president'])"
   ]
  },
  {
   "cell_type": "code",
   "execution_count": 291,
   "metadata": {},
   "outputs": [
    {
     "data": {
      "text/plain": [
       "[('communist', 0.9999461770057678),\n",
       " ('said', 0.9999415278434753),\n",
       " ('political', 0.9999411106109619),\n",
       " ('would', 0.9999392032623291),\n",
       " ('american', 0.9999386668205261),\n",
       " ('one', 0.9999384880065918),\n",
       " ('vietnam', 0.9999381303787231),\n",
       " ('country', 0.9999375343322754),\n",
       " ('military', 0.9999369978904724),\n",
       " ('vietnamese', 0.9999368190765381)]"
      ]
     },
     "execution_count": 291,
     "metadata": {},
     "output_type": "execute_result"
    }
   ],
   "source": [
    "pow99W2V.most_similar(positive=['president'])"
   ]
  },
  {
   "cell_type": "markdown",
   "metadata": {},
   "source": [
    "### POS-Tagging"
   ]
  },
  {
   "cell_type": "code",
   "execution_count": 157,
   "metadata": {
    "collapsed": true
   },
   "outputs": [],
   "source": [
    "powInfo = powCluster"
   ]
  },
  {
   "cell_type": "code",
   "execution_count": 158,
   "metadata": {
    "collapsed": true
   },
   "outputs": [],
   "source": [
    "powInfo['sentences'] = powInfo['article'].apply(lambda x: [nltk.word_tokenize(s) for s in nltk.sent_tokenize(x)])\n",
    "powInfo['POS_sents'] = powInfo['sentences'].apply(lambda x: stanford.postTagger.tag_sents(x))"
   ]
  },
  {
   "cell_type": "code",
   "execution_count": 159,
   "metadata": {},
   "outputs": [
    {
     "data": {
      "text/plain": [
       "[('be', 2165),\n",
       " ('have', 913),\n",
       " ('make', 255),\n",
       " ('take', 232),\n",
       " ('go', 197),\n",
       " ('do', 196),\n",
       " ('help', 191),\n",
       " ('get', 180),\n",
       " ('know', 148),\n",
       " ('see', 146),\n",
       " ('find', 136),\n",
       " ('say', 117),\n",
       " ('come', 115),\n",
       " ('leave', 112),\n",
       " ('allow', 108),\n",
       " ('give', 108),\n",
       " ('resolve', 106),\n",
       " ('begin', 103),\n",
       " ('provide', 99),\n",
       " ('open', 98)]"
      ]
     },
     "execution_count": 159,
     "metadata": {},
     "output_type": "execute_result"
    }
   ],
   "source": [
    "countTarget = 'VB'\n",
    "targetCounts = {}\n",
    "for entry in powInfo['POS_sents']:\n",
    "    for sentence in entry:\n",
    "        for ent, kind in sentence:\n",
    "            if kind != countTarget:\n",
    "                continue\n",
    "            elif ent in targetCounts:\n",
    "                targetCounts[ent] += 1\n",
    "            else:\n",
    "                targetCounts[ent] = 1\n",
    "sortedTargets = sorted(targetCounts.items(), key = lambda x: x[1], reverse = True)\n",
    "sortedTargets[:20]"
   ]
  },
  {
   "cell_type": "code",
   "execution_count": 160,
   "metadata": {},
   "outputs": [
    {
     "name": "stdout",
     "output_type": "stream",
     "text": [
      "{'postwar', 'final', 'poltiical', 'former', 'war-time', 'large-scale', 'special', 'specific', 'Vietnamese', 'fellow', 'held', 'American', 'left'}\n"
     ]
    }
   ],
   "source": [
    "NTarget = 'JJ'\n",
    "Word = 'prisoner'\n",
    "NResults = set()\n",
    "for entry in powInfo['POS_sents']:\n",
    "    for sentence in entry:\n",
    "        for (ent1, kind1),(ent2,kind2) in zip(sentence[:-1], sentence[1:]):\n",
    "            if (kind1,ent2.lower())==(NTarget,Word):\n",
    "                NResults.add(ent1)\n",
    "            else:\n",
    "                continue\n",
    "\n",
    "print(NResults) "
   ]
  },
  {
   "cell_type": "code",
   "execution_count": 161,
   "metadata": {},
   "outputs": [
    {
     "name": "stdout",
     "output_type": "stream",
     "text": [
      "{'possible', 'several', 'American', 'many', 'unaccounted-for', 'missing', 'Chinese', 'dead', 'likely', 'last', 'military', 'additional', 'poltical', 'live', 'Other', 'well-known', 'former', 'known', 'Vietnamese-held', 'Vietnam-era', 'other', 'fellow', 'political', 'individual', 'new', 'tortured', 'such'}\n"
     ]
    }
   ],
   "source": [
    "NTarget = 'JJ'\n",
    "Word = 'prisoners'\n",
    "NResults = set()\n",
    "for entry in powInfo['POS_sents']:\n",
    "    for sentence in entry:\n",
    "        for (ent1, kind1),(ent2,kind2) in zip(sentence[:-1], sentence[1:]):\n",
    "            if (kind1,ent2.lower())==(NTarget,Word):\n",
    "                NResults.add(ent1)\n",
    "            else:\n",
    "                continue\n",
    "\n",
    "print(NResults) "
   ]
  },
  {
   "cell_type": "code",
   "execution_count": 365,
   "metadata": {},
   "outputs": [
    {
     "name": "stdout",
     "output_type": "stream",
     "text": [
      "{'possible', 'American', 'many', 'various', 'animal', 'supposed', 'partial', 'earthly', 'alleged', 'human', 'unidentifiable', 'unknown', 'further', 'recovered', 'unidentified', 'Few', 'fragmentary', 'specific', 'other', 'new', 'such'}\n"
     ]
    }
   ],
   "source": [
    "NTarget = 'JJ'\n",
    "Word = 'remains'\n",
    "NResults = set()\n",
    "for entry in powInfo['POS_sents']:\n",
    "    for sentence in entry:\n",
    "        for (ent1, kind1),(ent2,kind2) in zip(sentence[:-1], sentence[1:]):\n",
    "            if (kind1,ent2.lower())==(NTarget,Word):\n",
    "                NResults.add(ent1)\n",
    "            else:\n",
    "                continue\n",
    "\n",
    "print(NResults) "
   ]
  },
  {
   "cell_type": "code",
   "execution_count": 175,
   "metadata": {},
   "outputs": [
    {
     "name": "stdout",
     "output_type": "stream",
     "text": [
      "{'brief', 'meet', 'force', 'endorse', 'give', 'acquit', 'urge', 'carry'}\n"
     ]
    }
   ],
   "source": [
    "NTarget = 'VB'\n",
    "Word = 'president'\n",
    "NResults = set()\n",
    "for entry in powInfo['POS_sents']:\n",
    "    for sentence in entry:\n",
    "        for (ent1, kind1),(ent2,kind2) in zip(sentence[:-1], sentence[1:]):\n",
    "            if (kind1,ent2.lower())==(NTarget,Word):\n",
    "                NResults.add(ent1)\n",
    "            else:\n",
    "                continue\n",
    "\n",
    "print(NResults) "
   ]
  },
  {
   "cell_type": "code",
   "execution_count": 176,
   "metadata": {},
   "outputs": [
    {
     "name": "stdout",
     "output_type": "stream",
     "text": [
      "{'consult', 'lead', 'lobby', 'give'}\n"
     ]
    }
   ],
   "source": [
    "NTarget = 'VB'\n",
    "Word = 'congress'\n",
    "NResults = set()\n",
    "for entry in powInfo['POS_sents']:\n",
    "    for sentence in entry:\n",
    "        for (ent1, kind1),(ent2,kind2) in zip(sentence[:-1], sentence[1:]):\n",
    "            if (kind1,ent2.lower())==(NTarget,Word):\n",
    "                NResults.add(ent1)\n",
    "            else:\n",
    "                continue\n",
    "\n",
    "print(NResults) "
   ]
  },
  {
   "cell_type": "code",
   "execution_count": 177,
   "metadata": {},
   "outputs": [
    {
     "name": "stdout",
     "output_type": "stream",
     "text": [
      "{'first', 'last', 'sixth', 'dubious', 'next', 'full', 'only', 'four-day', 'new', 'current', 'Republican-controlled', 'national', 'seventh', 'annual'}\n"
     ]
    }
   ],
   "source": [
    "NTarget = 'JJ'\n",
    "Word = 'congress'\n",
    "NResults = set()\n",
    "for entry in powInfo['POS_sents']:\n",
    "    for sentence in entry:\n",
    "        for (ent1, kind1),(ent2,kind2) in zip(sentence[:-1], sentence[1:]):\n",
    "            if (kind1,ent2.lower())==(NTarget,Word):\n",
    "                NResults.add(ent1)\n",
    "            else:\n",
    "                continue\n",
    "\n",
    "print(NResults) "
   ]
  },
  {
   "cell_type": "code",
   "execution_count": 197,
   "metadata": {
    "collapsed": true
   },
   "outputs": [],
   "source": [
    "powInfo84 = powInfo[powInfo['date'].str.contains('1980|1981|1982|1983|1984', na = False)]\n",
    "powInfo89 = powInfo[powInfo['date'].str.contains('1985|1986|1987|1988|1989', na = False)]\n",
    "powInfo94 = powInfo[powInfo['date'].str.contains('1990|1991|1992|1993|1994', na = False)]\n",
    "powInfo99 = powInfo[powInfo['date'].str.contains('1995|1996|1997|1998|1999', na = False)]"
   ]
  },
  {
   "cell_type": "code",
   "execution_count": 198,
   "metadata": {},
   "outputs": [
    {
     "name": "stdout",
     "output_type": "stream",
     "text": [
      "{'former', 'Chinese', 'dead', 'fellow', 'political', 'American', 'many', 'well-known'}\n"
     ]
    }
   ],
   "source": [
    "NTarget = 'JJ'\n",
    "Word = 'prisoners'\n",
    "NResults = set()\n",
    "for entry in powInfo84['POS_sents']:\n",
    "    for sentence in entry:\n",
    "        for (ent1, kind1),(ent2,kind2) in zip(sentence[:-1], sentence[1:]):\n",
    "            if (kind1,ent2.lower())==(NTarget,Word):\n",
    "                NResults.add(ent1)\n",
    "            else:\n",
    "                continue\n",
    "\n",
    "print(NResults) "
   ]
  },
  {
   "cell_type": "code",
   "execution_count": 199,
   "metadata": {},
   "outputs": [
    {
     "name": "stdout",
     "output_type": "stream",
     "text": [
      "{'possible', 'former', 'poltical', 'other', 'new', 'political', 'individual', 'fellow', 'American', 'live', 'such', 'Other', 'unaccounted-for'}\n"
     ]
    }
   ],
   "source": [
    "NTarget = 'JJ'\n",
    "Word = 'prisoners'\n",
    "NResults = set()\n",
    "for entry in powInfo89['POS_sents']:\n",
    "    for sentence in entry:\n",
    "        for (ent1, kind1),(ent2,kind2) in zip(sentence[:-1], sentence[1:]):\n",
    "            if (kind1,ent2.lower())==(NTarget,Word):\n",
    "                NResults.add(ent1)\n",
    "            else:\n",
    "                continue\n",
    "\n",
    "print(NResults) "
   ]
  },
  {
   "cell_type": "code",
   "execution_count": 200,
   "metadata": {},
   "outputs": [
    {
     "name": "stdout",
     "output_type": "stream",
     "text": [
      "{'missing', 'possible', 'last', 'military', 'former', 'known', 'additional', 'Vietnamese-held', 'other', 'political', 'several', 'American', 'live', 'likely'}\n"
     ]
    }
   ],
   "source": [
    "NTarget = 'JJ'\n",
    "Word = 'prisoners'\n",
    "NResults = set()\n",
    "for entry in powInfo94['POS_sents']:\n",
    "    for sentence in entry:\n",
    "        for (ent1, kind1),(ent2,kind2) in zip(sentence[:-1], sentence[1:]):\n",
    "            if (kind1,ent2.lower())==(NTarget,Word):\n",
    "                NResults.add(ent1)\n",
    "            else:\n",
    "                continue\n",
    "\n",
    "print(NResults) "
   ]
  },
  {
   "cell_type": "code",
   "execution_count": 201,
   "metadata": {},
   "outputs": [
    {
     "name": "stdout",
     "output_type": "stream",
     "text": [
      "{'former', 'Vietnam-era', 'other', 'political', 'American', 'tortured'}\n"
     ]
    }
   ],
   "source": [
    "NTarget = 'JJ'\n",
    "Word = 'prisoners'\n",
    "NResults = set()\n",
    "for entry in powInfo99['POS_sents']:\n",
    "    for sentence in entry:\n",
    "        for (ent1, kind1),(ent2,kind2) in zip(sentence[:-1], sentence[1:]):\n",
    "            if (kind1,ent2.lower())==(NTarget,Word):\n",
    "                NResults.add(ent1)\n",
    "            else:\n",
    "                continue\n",
    "\n",
    "print(NResults) "
   ]
  },
  {
   "cell_type": "markdown",
   "metadata": {},
   "source": [
    "### Information Retrieval"
   ]
  },
  {
   "cell_type": "code",
   "execution_count": 6,
   "metadata": {
    "collapsed": true
   },
   "outputs": [],
   "source": [
    "df80 = pandas.read_csv('D:/contentAnalysis/content-analysis-2018/finalProject/df80.csv')\n",
    "df81 = pandas.read_csv('D:/contentAnalysis/content-analysis-2018/finalProject/df81.csv')\n",
    "df82 = pandas.read_csv('D:/contentAnalysis/content-analysis-2018/finalProject/df82.csv')\n",
    "df83 = pandas.read_csv('D:/contentAnalysis/content-analysis-2018/finalProject/df83.csv')\n",
    "df84 = pandas.read_csv('D:/contentAnalysis/content-analysis-2018/finalProject/df84.csv')\n",
    "df85 = pandas.read_csv('D:/contentAnalysis/content-analysis-2018/finalProject/df85.csv')\n",
    "df86 = pandas.read_csv('D:/contentAnalysis/content-analysis-2018/finalProject/df86.csv')\n",
    "df87 = pandas.read_csv('D:/contentAnalysis/content-analysis-2018/finalProject/df87.csv')\n",
    "df88 = pandas.read_csv('D:/contentAnalysis/content-analysis-2018/finalProject/df88.csv')\n",
    "df90 = pandas.read_csv('D:/contentAnalysis/content-analysis-2018/finalProject/df90.csv')\n",
    "df91 = pandas.read_csv('D:/contentAnalysis/content-analysis-2018/finalProject/df91.csv')\n",
    "df92 = pandas.read_csv('D:/contentAnalysis/content-analysis-2018/finalProject/df92.csv')\n",
    "df93 = pandas.read_csv('D:/contentAnalysis/content-analysis-2018/finalProject/df93.csv')\n",
    "df94 = pandas.read_csv('D:/contentAnalysis/content-analysis-2018/finalProject/df94.csv')\n",
    "df95 = pandas.read_csv('D:/contentAnalysis/content-analysis-2018/finalProject/df95.csv')\n",
    "df96 = pandas.read_csv('D:/contentAnalysis/content-analysis-2018/finalProject/df96.csv')\n",
    "df97 = pandas.read_csv('D:/contentAnalysis/content-analysis-2018/finalProject/df97.csv')\n",
    "df98 = pandas.read_csv('D:/contentAnalysis/content-analysis-2018/finalProject/df98.csv')\n",
    "df99 = pandas.read_csv('D:/contentAnalysis/content-analysis-2018/finalProject/df99.csv')\n"
   ]
  },
  {
   "cell_type": "code",
   "execution_count": 7,
   "metadata": {
    "collapsed": true
   },
   "outputs": [],
   "source": [
    "frames = [df80, df81, df82, df83, df84, df85, df86, df87, df88, df90, df91, df92, df93, df94, df95, df96, df97, df98, df99]"
   ]
  },
  {
   "cell_type": "code",
   "execution_count": 8,
   "metadata": {
    "collapsed": true
   },
   "outputs": [],
   "source": [
    "ieDF = pandas.concat(frames)\n"
   ]
  },
  {
   "cell_type": "code",
   "execution_count": 11,
   "metadata": {},
   "outputs": [
    {
     "data": {
      "text/plain": [
       "they                                      219\n",
       "Vietnam                                   122\n",
       "remains                                   100\n",
       "meeting                                    86\n",
       "United States                              75\n",
       "it                                         72\n",
       "Human remains                              63\n",
       "Reagan Administration                      48\n",
       "he                                         43\n",
       "Hanoi                                      36\n",
       "officials                                  35\n",
       "American officials                         31\n",
       "prisoners                                  28\n",
       "It                                         28\n",
       "envoy                                      27\n",
       "Foreign Minister Nguyen Co Thach           26\n",
       "delegation                                 24\n",
       "team                                       24\n",
       "Presidential envoy                         23\n",
       "action                                     22\n",
       "Vietnamese Foreign Minister                21\n",
       "Foreign Minister                           21\n",
       "fate                                       20\n",
       "high-level delegation                      20\n",
       "American delegation                        20\n",
       "high-level American delegation             20\n",
       "establishment                              20\n",
       "Americans                                  19\n",
       "former United States Congressman           18\n",
       "Republicans                                18\n",
       "                                         ... \n",
       "Phyllis E. Oakley                           1\n",
       "next step                                   1\n",
       "Bush Administration                         1\n",
       "broad improvement                           1\n",
       "Americans officials                         1\n",
       "North Vietnam                               1\n",
       "press briefing                              1\n",
       "Laotian press agency                        1\n",
       "trade                                       1\n",
       "American military forces                    1\n",
       "2,500 missing Americans                     1\n",
       "friendly two-hour meeting                   1\n",
       "crash site                                  1\n",
       "He                                          1\n",
       "United States military                      1\n",
       "North Vietnamese prisons                    1\n",
       "Washington Post                             1\n",
       "ceremony                                    1\n",
       "press agency                                1\n",
       "people                                      1\n",
       "cooperation                                 1\n",
       "Nguyen Xuan Oanh                            1\n",
       "Soviet Communist Party                      1\n",
       "turnover                                    1\n",
       "U.S. servicemen                             1\n",
       "reliable sources                            1\n",
       "United States Congressional delegation      1\n",
       "further progress                            1\n",
       "full military honors                        1\n",
       "Vietnam 's radio                            1\n",
       "Name: subject, Length: 304, dtype: int64"
      ]
     },
     "execution_count": 11,
     "metadata": {},
     "output_type": "execute_result"
    }
   ],
   "source": [
    "ieDF['subject'].value_counts()"
   ]
  },
  {
   "cell_type": "code",
   "execution_count": 13,
   "metadata": {},
   "outputs": [
    {
     "data": {
      "text/plain": [
       "were left              16\n",
       "were                    7\n",
       "were released under     2\n",
       "were released by        1\n",
       "is in                   1\n",
       "were held during        1\n",
       "Name: verb, dtype: int64"
      ]
     },
     "execution_count": 13,
     "metadata": {},
     "output_type": "execute_result"
    }
   ],
   "source": [
    "ieDF[ieDF['subject'] == 'prisoners']['verb'].value_counts()"
   ]
  },
  {
   "cell_type": "code",
   "execution_count": 14,
   "metadata": {},
   "outputs": [
    {
     "data": {
      "text/plain": [
       "indeed still hold    1\n",
       "hold                 1\n",
       "still hold           1\n",
       "indeed hold          1\n",
       "Name: verb, dtype: int64"
      ]
     },
     "execution_count": 14,
     "metadata": {},
     "output_type": "execute_result"
    }
   ],
   "source": [
    "ieDF[ieDF['object'] == 'prisoners']['verb'].value_counts()"
   ]
  },
  {
   "cell_type": "code",
   "execution_count": 17,
   "metadata": {},
   "outputs": [
    {
     "data": {
      "text/html": [
       "<div>\n",
       "<style scoped>\n",
       "    .dataframe tbody tr th:only-of-type {\n",
       "        vertical-align: middle;\n",
       "    }\n",
       "\n",
       "    .dataframe tbody tr th {\n",
       "        vertical-align: top;\n",
       "    }\n",
       "\n",
       "    .dataframe thead th {\n",
       "        text-align: right;\n",
       "    }\n",
       "</style>\n",
       "<table border=\"1\" class=\"dataframe\">\n",
       "  <thead>\n",
       "    <tr style=\"text-align: right;\">\n",
       "      <th></th>\n",
       "      <th>certainty</th>\n",
       "      <th>subject</th>\n",
       "      <th>verb</th>\n",
       "      <th>object</th>\n",
       "    </tr>\n",
       "  </thead>\n",
       "  <tbody>\n",
       "    <tr>\n",
       "      <th>4</th>\n",
       "      <td>1.0</td>\n",
       "      <td>prisoners</td>\n",
       "      <td>is in</td>\n",
       "      <td>Vietnam</td>\n",
       "    </tr>\n",
       "    <tr>\n",
       "      <th>9</th>\n",
       "      <td>1.0</td>\n",
       "      <td>prisoners</td>\n",
       "      <td>were left</td>\n",
       "      <td>forces withdrew in 1973</td>\n",
       "    </tr>\n",
       "    <tr>\n",
       "      <th>10</th>\n",
       "      <td>1.0</td>\n",
       "      <td>prisoners</td>\n",
       "      <td>were left</td>\n",
       "      <td>when American forces withdrew from South Vietnam</td>\n",
       "    </tr>\n",
       "    <tr>\n",
       "      <th>11</th>\n",
       "      <td>1.0</td>\n",
       "      <td>prisoners</td>\n",
       "      <td>were left</td>\n",
       "      <td>when American forces withdrew from South Vietn...</td>\n",
       "    </tr>\n",
       "    <tr>\n",
       "      <th>12</th>\n",
       "      <td>1.0</td>\n",
       "      <td>prisoners</td>\n",
       "      <td>were left</td>\n",
       "      <td>American forces withdrew in 1973</td>\n",
       "    </tr>\n",
       "    <tr>\n",
       "      <th>13</th>\n",
       "      <td>1.0</td>\n",
       "      <td>prisoners</td>\n",
       "      <td>were left</td>\n",
       "      <td>American forces withdrew</td>\n",
       "    </tr>\n",
       "    <tr>\n",
       "      <th>14</th>\n",
       "      <td>1.0</td>\n",
       "      <td>prisoners</td>\n",
       "      <td>were left</td>\n",
       "      <td>when American forces withdrew in 1973</td>\n",
       "    </tr>\n",
       "    <tr>\n",
       "      <th>15</th>\n",
       "      <td>1.0</td>\n",
       "      <td>prisoners</td>\n",
       "      <td>were left</td>\n",
       "      <td>forces withdrew from South Vietnam in 1973</td>\n",
       "    </tr>\n",
       "    <tr>\n",
       "      <th>16</th>\n",
       "      <td>1.0</td>\n",
       "      <td>prisoners</td>\n",
       "      <td>were left</td>\n",
       "      <td>when American forces withdrew</td>\n",
       "    </tr>\n",
       "    <tr>\n",
       "      <th>17</th>\n",
       "      <td>1.0</td>\n",
       "      <td>prisoners</td>\n",
       "      <td>were left</td>\n",
       "      <td>when forces withdrew from South Vietnam in 1973</td>\n",
       "    </tr>\n",
       "    <tr>\n",
       "      <th>18</th>\n",
       "      <td>1.0</td>\n",
       "      <td>prisoners</td>\n",
       "      <td>were left</td>\n",
       "      <td>American forces withdrew from South Vietnam</td>\n",
       "    </tr>\n",
       "    <tr>\n",
       "      <th>20</th>\n",
       "      <td>1.0</td>\n",
       "      <td>prisoners</td>\n",
       "      <td>were</td>\n",
       "      <td>left</td>\n",
       "    </tr>\n",
       "    <tr>\n",
       "      <th>21</th>\n",
       "      <td>1.0</td>\n",
       "      <td>prisoners</td>\n",
       "      <td>were left</td>\n",
       "      <td>forces withdrew</td>\n",
       "    </tr>\n",
       "    <tr>\n",
       "      <th>22</th>\n",
       "      <td>1.0</td>\n",
       "      <td>prisoners</td>\n",
       "      <td>were left</td>\n",
       "      <td>forces withdrew from South Vietnam</td>\n",
       "    </tr>\n",
       "    <tr>\n",
       "      <th>24</th>\n",
       "      <td>1.0</td>\n",
       "      <td>prisoners</td>\n",
       "      <td>were left</td>\n",
       "      <td>when forces withdrew in 1973</td>\n",
       "    </tr>\n",
       "    <tr>\n",
       "      <th>26</th>\n",
       "      <td>1.0</td>\n",
       "      <td>prisoners</td>\n",
       "      <td>were left</td>\n",
       "      <td>American forces withdrew from South Vietnam in...</td>\n",
       "    </tr>\n",
       "    <tr>\n",
       "      <th>28</th>\n",
       "      <td>1.0</td>\n",
       "      <td>prisoners</td>\n",
       "      <td>were left</td>\n",
       "      <td>when forces withdrew</td>\n",
       "    </tr>\n",
       "    <tr>\n",
       "      <th>29</th>\n",
       "      <td>1.0</td>\n",
       "      <td>prisoners</td>\n",
       "      <td>were left</td>\n",
       "      <td>when forces withdrew from South Vietnam</td>\n",
       "    </tr>\n",
       "    <tr>\n",
       "      <th>109</th>\n",
       "      <td>1.0</td>\n",
       "      <td>prisoners</td>\n",
       "      <td>were released by</td>\n",
       "      <td>Hanoi</td>\n",
       "    </tr>\n",
       "    <tr>\n",
       "      <th>110</th>\n",
       "      <td>1.0</td>\n",
       "      <td>prisoners</td>\n",
       "      <td>were released under</td>\n",
       "      <td>peace agreement</td>\n",
       "    </tr>\n",
       "    <tr>\n",
       "      <th>111</th>\n",
       "      <td>1.0</td>\n",
       "      <td>prisoners</td>\n",
       "      <td>were released under</td>\n",
       "      <td>peace agreement with United States</td>\n",
       "    </tr>\n",
       "    <tr>\n",
       "      <th>112</th>\n",
       "      <td>1.0</td>\n",
       "      <td>prisoners</td>\n",
       "      <td>were</td>\n",
       "      <td>released by Hanoi under peace agreement with U...</td>\n",
       "    </tr>\n",
       "    <tr>\n",
       "      <th>113</th>\n",
       "      <td>1.0</td>\n",
       "      <td>prisoners</td>\n",
       "      <td>were</td>\n",
       "      <td>released by Hanoi under peace agreement</td>\n",
       "    </tr>\n",
       "    <tr>\n",
       "      <th>114</th>\n",
       "      <td>1.0</td>\n",
       "      <td>prisoners</td>\n",
       "      <td>were</td>\n",
       "      <td>released</td>\n",
       "    </tr>\n",
       "    <tr>\n",
       "      <th>5</th>\n",
       "      <td>1.0</td>\n",
       "      <td>prisoners</td>\n",
       "      <td>were</td>\n",
       "      <td>held</td>\n",
       "    </tr>\n",
       "    <tr>\n",
       "      <th>6</th>\n",
       "      <td>1.0</td>\n",
       "      <td>prisoners</td>\n",
       "      <td>were</td>\n",
       "      <td>where held during Vietnam War</td>\n",
       "    </tr>\n",
       "    <tr>\n",
       "      <th>9</th>\n",
       "      <td>1.0</td>\n",
       "      <td>prisoners</td>\n",
       "      <td>were</td>\n",
       "      <td>where held</td>\n",
       "    </tr>\n",
       "    <tr>\n",
       "      <th>11</th>\n",
       "      <td>1.0</td>\n",
       "      <td>prisoners</td>\n",
       "      <td>were held during</td>\n",
       "      <td>Vietnam War</td>\n",
       "    </tr>\n",
       "  </tbody>\n",
       "</table>\n",
       "</div>"
      ],
      "text/plain": [
       "     certainty    subject                 verb  \\\n",
       "4          1.0  prisoners                is in   \n",
       "9          1.0  prisoners            were left   \n",
       "10         1.0  prisoners            were left   \n",
       "11         1.0  prisoners            were left   \n",
       "12         1.0  prisoners            were left   \n",
       "13         1.0  prisoners            were left   \n",
       "14         1.0  prisoners            were left   \n",
       "15         1.0  prisoners            were left   \n",
       "16         1.0  prisoners            were left   \n",
       "17         1.0  prisoners            were left   \n",
       "18         1.0  prisoners            were left   \n",
       "20         1.0  prisoners                 were   \n",
       "21         1.0  prisoners            were left   \n",
       "22         1.0  prisoners            were left   \n",
       "24         1.0  prisoners            were left   \n",
       "26         1.0  prisoners            were left   \n",
       "28         1.0  prisoners            were left   \n",
       "29         1.0  prisoners            were left   \n",
       "109        1.0  prisoners     were released by   \n",
       "110        1.0  prisoners  were released under   \n",
       "111        1.0  prisoners  were released under   \n",
       "112        1.0  prisoners                 were   \n",
       "113        1.0  prisoners                 were   \n",
       "114        1.0  prisoners                 were   \n",
       "5          1.0  prisoners                 were   \n",
       "6          1.0  prisoners                 were   \n",
       "9          1.0  prisoners                 were   \n",
       "11         1.0  prisoners     were held during   \n",
       "\n",
       "                                                object  \n",
       "4                                              Vietnam  \n",
       "9                              forces withdrew in 1973  \n",
       "10    when American forces withdrew from South Vietnam  \n",
       "11   when American forces withdrew from South Vietn...  \n",
       "12                    American forces withdrew in 1973  \n",
       "13                            American forces withdrew  \n",
       "14               when American forces withdrew in 1973  \n",
       "15          forces withdrew from South Vietnam in 1973  \n",
       "16                       when American forces withdrew  \n",
       "17     when forces withdrew from South Vietnam in 1973  \n",
       "18         American forces withdrew from South Vietnam  \n",
       "20                                                left  \n",
       "21                                     forces withdrew  \n",
       "22                  forces withdrew from South Vietnam  \n",
       "24                        when forces withdrew in 1973  \n",
       "26   American forces withdrew from South Vietnam in...  \n",
       "28                                when forces withdrew  \n",
       "29             when forces withdrew from South Vietnam  \n",
       "109                                              Hanoi  \n",
       "110                                    peace agreement  \n",
       "111                 peace agreement with United States  \n",
       "112  released by Hanoi under peace agreement with U...  \n",
       "113            released by Hanoi under peace agreement  \n",
       "114                                           released  \n",
       "5                                                 held  \n",
       "6                        where held during Vietnam War  \n",
       "9                                           where held  \n",
       "11                                         Vietnam War  "
      ]
     },
     "execution_count": 17,
     "metadata": {},
     "output_type": "execute_result"
    }
   ],
   "source": [
    "ieDF[ieDF['subject'] == 'prisoners']"
   ]
  },
  {
   "cell_type": "code",
   "execution_count": 22,
   "metadata": {},
   "outputs": [
    {
     "data": {
      "text/html": [
       "<div>\n",
       "<style scoped>\n",
       "    .dataframe tbody tr th:only-of-type {\n",
       "        vertical-align: middle;\n",
       "    }\n",
       "\n",
       "    .dataframe tbody tr th {\n",
       "        vertical-align: top;\n",
       "    }\n",
       "\n",
       "    .dataframe thead th {\n",
       "        text-align: right;\n",
       "    }\n",
       "</style>\n",
       "<table border=\"1\" class=\"dataframe\">\n",
       "  <thead>\n",
       "    <tr style=\"text-align: right;\">\n",
       "      <th></th>\n",
       "      <th>certainty</th>\n",
       "      <th>subject</th>\n",
       "      <th>verb</th>\n",
       "      <th>object</th>\n",
       "    </tr>\n",
       "  </thead>\n",
       "  <tbody>\n",
       "    <tr>\n",
       "      <th>145</th>\n",
       "      <td>1.0</td>\n",
       "      <td>Vietnam</td>\n",
       "      <td>hold</td>\n",
       "      <td>prisoners</td>\n",
       "    </tr>\n",
       "    <tr>\n",
       "      <th>146</th>\n",
       "      <td>1.0</td>\n",
       "      <td>Vietnam</td>\n",
       "      <td>still hold</td>\n",
       "      <td>prisoners</td>\n",
       "    </tr>\n",
       "    <tr>\n",
       "      <th>148</th>\n",
       "      <td>1.0</td>\n",
       "      <td>Vietnam</td>\n",
       "      <td>indeed still hold</td>\n",
       "      <td>prisoners</td>\n",
       "    </tr>\n",
       "    <tr>\n",
       "      <th>150</th>\n",
       "      <td>1.0</td>\n",
       "      <td>Vietnam</td>\n",
       "      <td>indeed hold</td>\n",
       "      <td>prisoners</td>\n",
       "    </tr>\n",
       "  </tbody>\n",
       "</table>\n",
       "</div>"
      ],
      "text/plain": [
       "     certainty  subject               verb     object\n",
       "145        1.0  Vietnam               hold  prisoners\n",
       "146        1.0  Vietnam         still hold  prisoners\n",
       "148        1.0  Vietnam  indeed still hold  prisoners\n",
       "150        1.0  Vietnam        indeed hold  prisoners"
      ]
     },
     "execution_count": 22,
     "metadata": {},
     "output_type": "execute_result"
    }
   ],
   "source": [
    "ieDF[ieDF['object'] == 'prisoners']"
   ]
  },
  {
   "cell_type": "code",
   "execution_count": 192,
   "metadata": {},
   "outputs": [
    {
     "data": {
      "text/html": [
       "<div>\n",
       "<style scoped>\n",
       "    .dataframe tbody tr th:only-of-type {\n",
       "        vertical-align: middle;\n",
       "    }\n",
       "\n",
       "    .dataframe tbody tr th {\n",
       "        vertical-align: top;\n",
       "    }\n",
       "\n",
       "    .dataframe thead th {\n",
       "        text-align: right;\n",
       "    }\n",
       "</style>\n",
       "<table border=\"1\" class=\"dataframe\">\n",
       "  <thead>\n",
       "    <tr style=\"text-align: right;\">\n",
       "      <th></th>\n",
       "      <th>certainty</th>\n",
       "      <th>subject</th>\n",
       "      <th>verb</th>\n",
       "      <th>object</th>\n",
       "    </tr>\n",
       "  </thead>\n",
       "  <tbody>\n",
       "    <tr>\n",
       "      <th>358</th>\n",
       "      <td>1.0</td>\n",
       "      <td>1,369 Americans</td>\n",
       "      <td>listed</td>\n",
       "      <td>missing</td>\n",
       "    </tr>\n",
       "    <tr>\n",
       "      <th>361</th>\n",
       "      <td>1.0</td>\n",
       "      <td>Americans</td>\n",
       "      <td>listed</td>\n",
       "      <td>missing</td>\n",
       "    </tr>\n",
       "    <tr>\n",
       "      <th>115</th>\n",
       "      <td>1.0</td>\n",
       "      <td>Americans</td>\n",
       "      <td>still listed</td>\n",
       "      <td>missing</td>\n",
       "    </tr>\n",
       "    <tr>\n",
       "      <th>118</th>\n",
       "      <td>1.0</td>\n",
       "      <td>Americans</td>\n",
       "      <td>listed</td>\n",
       "      <td>missing</td>\n",
       "    </tr>\n",
       "    <tr>\n",
       "      <th>27</th>\n",
       "      <td>1.0</td>\n",
       "      <td>Americans</td>\n",
       "      <td>reported</td>\n",
       "      <td>missing</td>\n",
       "    </tr>\n",
       "  </tbody>\n",
       "</table>\n",
       "</div>"
      ],
      "text/plain": [
       "     certainty          subject          verb   object\n",
       "358        1.0  1,369 Americans        listed  missing\n",
       "361        1.0        Americans        listed  missing\n",
       "115        1.0        Americans  still listed  missing\n",
       "118        1.0        Americans        listed  missing\n",
       "27         1.0        Americans      reported  missing"
      ]
     },
     "execution_count": 192,
     "metadata": {},
     "output_type": "execute_result"
    }
   ],
   "source": [
    "ieDF[ieDF['object'] == 'missing']"
   ]
  },
  {
   "cell_type": "code",
   "execution_count": null,
   "metadata": {
    "collapsed": true
   },
   "outputs": [],
   "source": []
  }
 ],
 "metadata": {
  "kernelspec": {
   "display_name": "Python 3",
   "language": "python",
   "name": "python3"
  },
  "language_info": {
   "codemirror_mode": {
    "name": "ipython",
    "version": 3
   },
   "file_extension": ".py",
   "mimetype": "text/x-python",
   "name": "python",
   "nbconvert_exporter": "python",
   "pygments_lexer": "ipython3",
   "version": "3.6.3"
  }
 },
 "nbformat": 4,
 "nbformat_minor": 2
}
