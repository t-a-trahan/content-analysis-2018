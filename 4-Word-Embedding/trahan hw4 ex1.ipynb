{
 "cells": [
  {
   "cell_type": "code",
   "execution_count": 1,
   "metadata": {},
   "outputs": [
    {
     "name": "stderr",
     "output_type": "stream",
     "text": [
      "D:\\computation\\Anaconda3\\lib\\site-packages\\gensim\\utils.py:860: UserWarning: detected Windows; aliasing chunkize to chunkize_serial\n",
      "  warnings.warn(\"detected Windows; aliasing chunkize to chunkize_serial\")\n"
     ]
    }
   ],
   "source": [
    "#copy/paste the packages for this week\n",
    "\n",
    "#Special module written for this class\n",
    "#This provides access to data and to helper functions from previous weeks\n",
    "#Make sure you update it before starting this notebook\n",
    "import lucem_illud #pip install -U git+git://github.com/Computational-Content-Analysis-2018/lucem_illud.git\n",
    "\n",
    "#All these packages need to be installed from pip\n",
    "import gensim#For word2vec, etc\n",
    "import requests #For downloading our datasets\n",
    "import nltk #For stop words and stemmers\n",
    "import numpy as np #For arrays\n",
    "import pandas #Gives us DataFrames\n",
    "import matplotlib.pyplot as plt #For graphics\n",
    "import seaborn #Makes the graphics look nicer\n",
    "import sklearn.metrics.pairwise #For cosine similarity\n",
    "import sklearn.manifold #For T-SNE\n",
    "import sklearn.decomposition #For PCA\n",
    "\n",
    "#gensim uses a couple of deprecated features\n",
    "#we can't do anything about them so lets ignore them \n",
    "import warnings\n",
    "warnings.filterwarnings(\"ignore\", category=DeprecationWarning) \n",
    "\n",
    "#This 'magic' command makes the plots work better\n",
    "#in the notebook, don't use it outside of a notebook.\n",
    "#Also you can ignore the warning\n",
    "%matplotlib inline\n",
    "\n",
    "import os #For looking through files\n",
    "import os.path #For managing file paths"
   ]
  },
  {
   "cell_type": "code",
   "execution_count": 2,
   "metadata": {
    "collapsed": true
   },
   "outputs": [],
   "source": [
    "# load my corpus of interest - All New York Times articles published '80-'89 that mention Vietnam\n",
    "nyt80s = pandas.read_csv('../data/nyt80s.csv')"
   ]
  },
  {
   "cell_type": "code",
   "execution_count": 3,
   "metadata": {},
   "outputs": [
    {
     "name": "stdout",
     "output_type": "stream",
     "text": [
      "                                                 article                date\n",
      "0         '79 food production in Vietnam was only 13....     January 2 1980 \n",
      "1         Karleton Armstrong, convicted of '70 bombin...     January 2 1980 \n",
      "2         Militants holding US diplomatic personnel h...     January 5 1980 \n",
      "3         Militants holding US diplomatic personnel h...     January 5 1980 \n",
      "4         China apparently concludes that best strate...     January 5 1980 \n",
      "5         5 US chemical companies that produced milit...     January 7 1980 \n",
      "6         Phnom Penh, Cambodia, celebrates 1st annive...     January 8 1980 \n",
      "7         Australian Government agrees to form indepe...     January 8 1980 \n",
      "8         Warrant Officer Francis Anton, former Army ...     January 9 1980 \n",
      "9         Author Richard J Walton article on Soviet i...    January 10 1980 \n",
      "10        Former Vietnam war prisoner Luis Antonio Or...    January 10 1980 \n",
      "11        Vietnam accuses China of conducting large-s...    January 10 1980 \n",
      "12        Military prosecutors, in surprise move, fin...    January 12 1980 \n",
      "13        Vietnam accuses US and China of military al...    January 14 1980 \n",
      "14        Neil Sheehan interview with Tran Ngoc Chau,...    January 14 1980 \n",
      "15        Talat Sait Halman article on prevalent myth...    January 15 1980 \n",
      "16        Yuri Tavrovsky letter disputes December 19 ...    January 15 1980 \n",
      "17        Pakistan Pres Mohammed Zia ul-Haq, commenti...    January 18 1980 \n",
      "18        China accuses Vietnam of killing at least 4...    January 18 1980 \n",
      "19        Pakistani Pres Mohammed Zia ul-Haq, intervi...    January 18 1980 \n",
      "20        Prof John Somerville letter likens US 'hyst...    January 24 1980 \n",
      "21        Article on history of Selective Service Sys...    January 24 1980 \n",
      "22        Senate approves 15% increase in educational...    January 25 1980 \n",
      "23        ILO announces membership of Vietnam in orga...    January 26 1980 \n",
      "24        Letter by Kay Camp (Women's International L...    January 27 1980 \n",
      "25        Chinese Foreign Ministry says its chief neg...    January 29 1980 \n",
      "26        China issues document reasserting claim to ...    January 31 1980 \n",
      "27        Defense witness Staff Sgt John E Peterson, ...    February 1 1980 \n",
      "28        Karleton Armstrong is released on Federal p...    February 1 1980 \n",
      "29        Military judge Major Thomas B Hamilton Jr r...    February 2 1980 \n",
      "...                                                  ...                 ...\n",
      "11170      Wanted: a new public enemy. Height, weight...  September 24 1989 \n",
      "11171       Out Cold 1988. HBO. $89.99. Laser disk, $...  September 24 1989 \n",
      "11172      It is Shanghai in 1927. Chiang Kaishek is ...  September 24 1989 \n",
      "11173      Musical eccentricity is an attitude that t...  September 24 1989 \n",
      "11174      Twenty-five years ago, a young unknown Jap...  September 24 1989 \n",
      "11175      On April 12, 1975, soon after Lon Nol, Cam...  September 24 1989 \n",
      "11176       APPLAUSE By Carol Muske. 53 pp. Pittsburg...  September 24 1989 \n",
      "11177       WHERE THE RIVERS RAN BACKWARD. By William...  September 24 1989 \n",
      "11178       A plan to cut chemical weapons in their a...  September 24 1989 \n",
      "11179      A headline Saturday on an article about mo...  September 25 1989 \n",
      "11180      PENH, Cambodia, Sept. 24   Prime Minister ...  September 25 1989 \n",
      "11181     , N.J., Sept. 21   Filled with the confiden...  September 25 1989 \n",
      "11182      The Reader's Digest Association Inc. has h...  September 25 1989 \n",
      "11183      CHI MINH CITY, Vietnam, Sept. 25   For a c...  September 25 1989 \n",
      "11184       INTERNATIONAL    A3-1  President Bush tol...  September 26 1989 \n",
      "11185        The economy will continue to grow throug...  September 26 1989 \n",
      "11186      BAI, Vietnam, Sept. 26   What Vietnam says...  September 26 1989 \n",
      "11187      CHI MINH CITY, Vietnam, Sept. 26   The fam...  September 27 1989 \n",
      "11188        Vice President Dan Quayle arrived in the...  September 27 1989 \n",
      "11189      Vietnamese troops have finally left Cambod...  September 27 1989 \n",
      "11190        Sometimes, nations are compelled to opt ...  September 27 1989 \n",
      "11191      NATIONS, Sept. 27   The British Foreign Se...  September 27 1989 \n",
      "11192       INTERNATIONAL    A3-12  Canada is becomin...  September 28 1989 \n",
      "11193      PENH, Cambodia, Sept. 25   The invasion of...  September 28 1989 \n",
      "11194      NATIONS, Sept. 27   A new diplomatic strug...  September 28 1989 \n",
      "11195      Arnold Johnson, a member of the national l...  September 28 1989 \n",
      "11196      The Bush Administration has told Israel th...  September 28 1989 \n",
      "11197      NATIONS, Sept. 28   Afghanistan's Foreign ...  September 29 1989 \n",
      "11198      Ferdinand E. Marcos was as tough as he was...  September 29 1989 \n",
      "11199      In many ways the war in Vietnam was the mo...  September 29 1989 \n",
      "\n",
      "[11200 rows x 2 columns]\n"
     ]
    }
   ],
   "source": [
    "print(nyt80s)"
   ]
  },
  {
   "cell_type": "code",
   "execution_count": 4,
   "metadata": {},
   "outputs": [
    {
     "data": {
      "text/html": [
       "<div>\n",
       "<style scoped>\n",
       "    .dataframe tbody tr th:only-of-type {\n",
       "        vertical-align: middle;\n",
       "    }\n",
       "\n",
       "    .dataframe tbody tr th {\n",
       "        vertical-align: top;\n",
       "    }\n",
       "\n",
       "    .dataframe thead th {\n",
       "        text-align: right;\n",
       "    }\n",
       "</style>\n",
       "<table border=\"1\" class=\"dataframe\">\n",
       "  <thead>\n",
       "    <tr style=\"text-align: right;\">\n",
       "      <th></th>\n",
       "      <th>article</th>\n",
       "      <th>date</th>\n",
       "      <th>tokenized_sents</th>\n",
       "      <th>normalized_sents</th>\n",
       "    </tr>\n",
       "  </thead>\n",
       "  <tbody>\n",
       "    <tr>\n",
       "      <th>0</th>\n",
       "      <td>'79 food production in Vietnam was only 13....</td>\n",
       "      <td>January 2 1980</td>\n",
       "      <td>[['79, food, production, in, Vietnam, was, onl...</td>\n",
       "      <td>[[food, production, vietnam, million, tons, mi...</td>\n",
       "    </tr>\n",
       "    <tr>\n",
       "      <th>1</th>\n",
       "      <td>Karleton Armstrong, convicted of '70 bombin...</td>\n",
       "      <td>January 2 1980</td>\n",
       "      <td>[[Karleton, Armstrong, ,, convicted, of, '70, ...</td>\n",
       "      <td>[[karleton, armstrong, convicted, bombing, pro...</td>\n",
       "    </tr>\n",
       "    <tr>\n",
       "      <th>2</th>\n",
       "      <td>Militants holding US diplomatic personnel h...</td>\n",
       "      <td>January 5 1980</td>\n",
       "      <td>[[Militants, holding, US, diplomatic, personne...</td>\n",
       "      <td>[[militants, holding, us, diplomatic, personne...</td>\n",
       "    </tr>\n",
       "    <tr>\n",
       "      <th>3</th>\n",
       "      <td>Militants holding US diplomatic personnel h...</td>\n",
       "      <td>January 5 1980</td>\n",
       "      <td>[[Militants, holding, US, diplomatic, personne...</td>\n",
       "      <td>[[militants, holding, us, diplomatic, personne...</td>\n",
       "    </tr>\n",
       "    <tr>\n",
       "      <th>4</th>\n",
       "      <td>China apparently concludes that best strate...</td>\n",
       "      <td>January 5 1980</td>\n",
       "      <td>[[China, apparently, concludes, that, best, st...</td>\n",
       "      <td>[[china, apparently, concludes, best, strategy...</td>\n",
       "    </tr>\n",
       "  </tbody>\n",
       "</table>\n",
       "</div>"
      ],
      "text/plain": [
       "                                             article             date  \\\n",
       "0     '79 food production in Vietnam was only 13....  January 2 1980    \n",
       "1     Karleton Armstrong, convicted of '70 bombin...  January 2 1980    \n",
       "2     Militants holding US diplomatic personnel h...  January 5 1980    \n",
       "3     Militants holding US diplomatic personnel h...  January 5 1980    \n",
       "4     China apparently concludes that best strate...  January 5 1980    \n",
       "\n",
       "                                     tokenized_sents  \\\n",
       "0  [['79, food, production, in, Vietnam, was, onl...   \n",
       "1  [[Karleton, Armstrong, ,, convicted, of, '70, ...   \n",
       "2  [[Militants, holding, US, diplomatic, personne...   \n",
       "3  [[Militants, holding, US, diplomatic, personne...   \n",
       "4  [[China, apparently, concludes, that, best, st...   \n",
       "\n",
       "                                    normalized_sents  \n",
       "0  [[food, production, vietnam, million, tons, mi...  \n",
       "1  [[karleton, armstrong, convicted, bombing, pro...  \n",
       "2  [[militants, holding, us, diplomatic, personne...  \n",
       "3  [[militants, holding, us, diplomatic, personne...  \n",
       "4  [[china, apparently, concludes, best, strategy...  "
      ]
     },
     "execution_count": 4,
     "metadata": {},
     "output_type": "execute_result"
    }
   ],
   "source": [
    "nyt80s['tokenized_sents'] = nyt80s['article'].apply(lambda x: \n",
    "                                                               [nltk.word_tokenize(s) for s in nltk.sent_tokenize(x)])\n",
    "nyt80s['normalized_sents'] = nyt80s['tokenized_sents'].apply(lambda x: \n",
    "                                                                           [lucem_illud.normalizeTokens(s, \n",
    "                                                                                           stopwordLst = lucem_illud.stop_words_basic, \n",
    "                                                                                           stemmer = None) \n",
    "                                                                            for s in x])\n",
    "\n",
    "nyt80s[:5]"
   ]
  },
  {
   "cell_type": "code",
   "execution_count": 5,
   "metadata": {
    "collapsed": true
   },
   "outputs": [],
   "source": [
    "nyt80sW2V = gensim.models.word2vec.Word2Vec(nyt80s['normalized_sents'].sum())"
   ]
  },
  {
   "cell_type": "code",
   "execution_count": 6,
   "metadata": {},
   "outputs": [
    {
     "data": {
      "text/plain": [
       "array([[-3.1589835 , -0.53163284,  1.4306244 , ..., -1.0956872 ,\n",
       "         0.78135407, -0.6736695 ],\n",
       "       [ 0.30249816, -0.6219216 , -0.47457862, ..., -0.42725632,\n",
       "        -0.1158446 ,  0.24595822],\n",
       "       [ 1.4580545 , -0.2681672 ,  1.0958669 , ...,  0.27590996,\n",
       "        -1.1243126 ,  0.6565249 ],\n",
       "       ...,\n",
       "       [-0.03697741,  0.02042863, -0.05615607, ..., -0.05170552,\n",
       "        -0.06618723, -0.11155523],\n",
       "       [-0.0493137 , -0.05850989, -0.04901199, ..., -0.04150064,\n",
       "        -0.05983985, -0.16138934],\n",
       "       [-0.03722346, -0.03205043, -0.05221342, ..., -0.07411369,\n",
       "        -0.09210993, -0.21265525]], dtype=float32)"
      ]
     },
     "execution_count": 6,
     "metadata": {},
     "output_type": "execute_result"
    }
   ],
   "source": [
    "nyt80sW2V.wv.syn0"
   ]
  },
  {
   "cell_type": "code",
   "execution_count": 7,
   "metadata": {},
   "outputs": [
    {
     "data": {
      "text/plain": [
       "'people'"
      ]
     },
     "execution_count": 7,
     "metadata": {},
     "output_type": "execute_result"
    }
   ],
   "source": [
    "# let's see what's in here:\n",
    "\n",
    "nyt80sW2V.wv.index2word[11]"
   ]
  },
  {
   "cell_type": "code",
   "execution_count": 8,
   "metadata": {
    "collapsed": true
   },
   "outputs": [],
   "source": [
    "# Below, I find some interesting associations. \n",
    "# For one, 'missing' is highly related to 'captivity' - which supports some\n",
    "# of my intuitions about the larger conversation regarding MIAs from the war\n",
    "# in Vietnam.\n",
    "\n",
    "# For two, 'insane' is highly related to 'prisoner'! This could related to either\n",
    "# 1) mental health issues in the former POW population, or 2) general skepticism\n",
    "# of the narrative that some captives were still left alive in Southeast Asia.\n",
    "\n",
    "# For three, the word that \"doesn't belong\" among 'missing, prisoner, vietnam, regan, and carter'\n",
    "# is 'missing.' I was surprised by this, because I believe 'missing' to probably\n",
    "# appear more commonly than 'prisoner'. Perhaps this means that dicussion of \n",
    "# the Iran hostrage crisis is a center of gravity in this corpus. "
   ]
  },
  {
   "cell_type": "code",
   "execution_count": 9,
   "metadata": {},
   "outputs": [
    {
     "data": {
      "text/plain": [
       "[('unaccounted', 0.7228224277496338),\n",
       " ('servicemen', 0.6714282631874084),\n",
       " ('dead', 0.6123371124267578),\n",
       " ('listed', 0.6082803010940552),\n",
       " ('captivity', 0.5820255279541016),\n",
       " ('alive', 0.5591003894805908),\n",
       " ('amerasian', 0.5541995167732239),\n",
       " ('remains', 0.5480892658233643),\n",
       " ('captive', 0.5349116921424866),\n",
       " ('amerasians', 0.5303720235824585)]"
      ]
     },
     "execution_count": 9,
     "metadata": {},
     "output_type": "execute_result"
    }
   ],
   "source": [
    "nyt80sW2V.most_similar('missing')"
   ]
  },
  {
   "cell_type": "code",
   "execution_count": 10,
   "metadata": {},
   "outputs": [
    {
     "data": {
      "text/plain": [
       "[('carter', 0.7838046550750732),\n",
       " ('dellums', 0.6628786325454712),\n",
       " ('cristiani', 0.65256667137146),\n",
       " ('bush', 0.6477524042129517),\n",
       " ('mondale', 0.6081035733222961),\n",
       " ('nixon', 0.5597339868545532),\n",
       " ('eisenhower', 0.5548985004425049),\n",
       " ('quirino', 0.548701286315918),\n",
       " ('glasser', 0.5401358604431152),\n",
       " ('botha', 0.5257538557052612)]"
      ]
     },
     "execution_count": 10,
     "metadata": {},
     "output_type": "execute_result"
    }
   ],
   "source": [
    "nyt80sW2V.most_similar('reagan')"
   ]
  },
  {
   "cell_type": "code",
   "execution_count": 11,
   "metadata": {},
   "outputs": [
    {
     "data": {
      "text/plain": [
       "[('prisoners', 0.7386739253997803),\n",
       " ('comrades', 0.7027726173400879),\n",
       " ('captive', 0.6728923320770264),\n",
       " ('serviceman', 0.6690366864204407),\n",
       " ('captors', 0.6660491228103638),\n",
       " ('lai', 0.6339216232299805),\n",
       " ('crimean', 0.630526602268219),\n",
       " ('collaborating', 0.6273119449615479),\n",
       " ('garwood', 0.6210662126541138),\n",
       " ('insane', 0.6113227605819702)]"
      ]
     },
     "execution_count": 11,
     "metadata": {},
     "output_type": "execute_result"
    }
   ],
   "source": [
    "nyt80sW2V.most_similar('prisoner')"
   ]
  },
  {
   "cell_type": "code",
   "execution_count": 12,
   "metadata": {},
   "outputs": [
    {
     "data": {
      "text/plain": [
       "[('korean', 0.6219003200531006),\n",
       " ('indochina', 0.5934177041053772),\n",
       " ('korea', 0.5798124074935913),\n",
       " ('vietnamese', 0.5768474340438843),\n",
       " ('vietman', 0.5506376028060913),\n",
       " ('hanoi', 0.47115659713745117),\n",
       " ('unpopular', 0.46369051933288574),\n",
       " ('koreans', 0.4607482850551605),\n",
       " ('prisoner', 0.4490695893764496),\n",
       " ('scandals', 0.446930468082428)]"
      ]
     },
     "execution_count": 12,
     "metadata": {},
     "output_type": "execute_result"
    }
   ],
   "source": [
    "nyt80sW2V.most_similar('vietnam')"
   ]
  },
  {
   "cell_type": "code",
   "execution_count": 13,
   "metadata": {},
   "outputs": [
    {
     "data": {
      "text/plain": [
       "'missing'"
      ]
     },
     "execution_count": 13,
     "metadata": {},
     "output_type": "execute_result"
    }
   ],
   "source": [
    "nyt80sW2V.doesnt_match(['missing', 'prisoner', 'vietnam', 'reagan', 'carter'])"
   ]
  },
  {
   "cell_type": "code",
   "execution_count": 14,
   "metadata": {},
   "outputs": [
    {
     "data": {
      "text/plain": [
       "[('wars', 0.5431727170944214),\n",
       " ('battles', 0.47961169481277466),\n",
       " ('conflict', 0.4717048704624176),\n",
       " ('battle', 0.4485143721103668),\n",
       " ('korea', 0.44090402126312256),\n",
       " ('protracted', 0.4230174720287323),\n",
       " ('combat', 0.4164043664932251),\n",
       " ('peacetime', 0.3979357182979584),\n",
       " ('involvement', 0.3926404118537903),\n",
       " ('warfare', 0.3898194432258606)]"
      ]
     },
     "execution_count": 14,
     "metadata": {},
     "output_type": "execute_result"
    }
   ],
   "source": [
    "nyt80sW2V.most_similar(positive=['vietnam', 'war'], negative = ['captivity'])"
   ]
  },
  {
   "cell_type": "code",
   "execution_count": 15,
   "metadata": {},
   "outputs": [
    {
     "data": {
      "text/plain": [
       "[0.39981657,\n",
       " 0.40397495,\n",
       " 0.41694286,\n",
       " 0.43799084,\n",
       " 0.45825022,\n",
       " 0.4638214,\n",
       " 0.46383402,\n",
       " 0.4919601,\n",
       " 0.49328873,\n",
       " 0.49751595,\n",
       " 0.498798,\n",
       " 0.49906626,\n",
       " 0.5023784,\n",
       " 0.5084037,\n",
       " 0.5108934,\n",
       " 0.52241623,\n",
       " 0.5362417,\n",
       " 0.55117756,\n",
       " 0.5623039,\n",
       " 0.5882986]"
      ]
     },
     "execution_count": 15,
     "metadata": {},
     "output_type": "execute_result"
    }
   ],
   "source": [
    "def cos_difference(embedding,word1,word2):\n",
    "    return sklearn.metrics.pairwise.cosine_similarity(embedding[word1].reshape(1,-1),embedding[word2].reshape(1,-1))\n",
    "\n",
    "estimatesB=[]\n",
    "for x in range(20):\n",
    "    nyt80sW2V = gensim.models.word2vec.Word2Vec(nyt80s['normalized_sents'].sample(frac=1.0, replace=True).sum())\n",
    "    try:\n",
    "        estimatesB.append(cos_difference(nyt80sW2V, 'missing', 'captivity')[0,0])\n",
    "    except KeyError:\n",
    "        #Missing one of the words from the vocab\n",
    "        pass\n",
    "                                                      \n",
    "estimatesB.sort()         \n",
    "estimatesB"
   ]
  },
  {
   "cell_type": "code",
   "execution_count": 16,
   "metadata": {},
   "outputs": [
    {
     "name": "stdout",
     "output_type": "stream",
     "text": [
      "The 90% confidence interval for the cosine distance between missing and captivity is:\n",
      " 0.40397495 0.5623039\n"
     ]
    }
   ],
   "source": [
    "print(\"The 90% confidence interval for the cosine distance between missing and captivity is:\\n\",estimatesB[1], estimatesB[-2])"
   ]
  },
  {
   "cell_type": "code",
   "execution_count": 17,
   "metadata": {},
   "outputs": [
    {
     "name": "stdout",
     "output_type": "stream",
     "text": [
      "[0.88751757 0.85879606 0.91805565 0.9141649  0.86145151 0.95805216\n",
      " 0.8538636  0.77621853 0.79948354]\n",
      "[1093. 1139. 1054. 1170. 1119. 1098. 1103. 1147. 1150.]\n"
     ]
    }
   ],
   "source": [
    "# subsetting\n",
    "\n",
    "n_samples = 10\n",
    "sample_indices = np.random.randint(0,n_samples,(len(nyt80s),))\n",
    "\n",
    "s_k =np.array([])\n",
    "tau_k=np.array([])\n",
    "\n",
    "for i in range(n_samples):\n",
    "    sample_w2v = gensim.models.word2vec.Word2Vec(nyt80s[sample_indices == i]['normalized_sents'].sum())\n",
    "    try:\n",
    "        #Need to use words present in most samples\n",
    "        s_k = np.append(s_k, cos_difference(sample_w2v, 'missing', 'captivity')[0,0])\n",
    "    except KeyError:\n",
    "        pass\n",
    "    else:\n",
    "        tau_k = np.append(tau_k, len(nyt80s[sample_indices == i]))\n",
    "\n",
    "print(s_k)\n",
    "print(tau_k)\n",
    "\n",
    "tau = tau_k.sum()\n",
    "s = s_k.mean()\n",
    "B_k = np.sqrt(tau_k) * s_k-s_k.mean()"
   ]
  },
  {
   "cell_type": "code",
   "execution_count": 18,
   "metadata": {},
   "outputs": [
    {
     "name": "stdout",
     "output_type": "stream",
     "text": [
      "The 90% confidence interval for the cosine distance between missing and captivity is:\n",
      " 0.6164688515092399 0.5896159140705902\n"
     ]
    }
   ],
   "source": [
    "print(\"The 90% confidence interval for the cosine distance between missing and captivity is:\\n\",s-B_k[-2]/np.sqrt(tau), s-B_k[1]/np.sqrt(tau))"
   ]
  },
  {
   "cell_type": "code",
   "execution_count": 19,
   "metadata": {
    "collapsed": true
   },
   "outputs": [],
   "source": [
    "# let's visualize!\n",
    "\n",
    "numWords = 150\n",
    "targetWords = nyt80sW2V.wv.index2word[:numWords]"
   ]
  },
  {
   "cell_type": "code",
   "execution_count": 20,
   "metadata": {},
   "outputs": [
    {
     "data": {
      "text/plain": [
       "array([[-1.4037611 ,  0.36782336,  0.03981459, ...,  0.4764437 ,\n",
       "        -0.9252937 , -0.08730292],\n",
       "       [ 1.4148921 , -1.3820692 , -0.3098317 , ...,  0.06569379,\n",
       "         0.88716364,  0.3591785 ],\n",
       "       [ 1.4843091 , -1.3190894 ,  1.7932211 , ...,  1.2458665 ,\n",
       "         2.4254544 ,  2.2316234 ],\n",
       "       ...,\n",
       "       [ 0.25024217,  1.0049461 ,  2.5287013 , ...,  3.3610148 ,\n",
       "        -0.8874486 ,  3.2808614 ],\n",
       "       [-0.25070062, -0.39801088, -0.25949463, ..., -0.18523309,\n",
       "        -0.88787204,  2.9020581 ],\n",
       "       [ 0.55617154,  0.66619045,  2.6023169 , ...,  0.35793158,\n",
       "        -1.5628735 ,  0.3756632 ]], dtype=float32)"
      ]
     },
     "execution_count": 20,
     "metadata": {},
     "output_type": "execute_result"
    }
   ],
   "source": [
    "wordsSubMatrix = []\n",
    "for word in targetWords:\n",
    "    wordsSubMatrix.append(nyt80sW2V[word])\n",
    "wordsSubMatrix = np.array(wordsSubMatrix)\n",
    "wordsSubMatrix"
   ]
  },
  {
   "cell_type": "code",
   "execution_count": 21,
   "metadata": {
    "collapsed": true
   },
   "outputs": [],
   "source": [
    "pcaWords = sklearn.decomposition.PCA(n_components = 50).fit(wordsSubMatrix)\n",
    "reducedPCA_data = pcaWords.transform(wordsSubMatrix)\n",
    "#T-SNE is theoretically better, but you should experiment\n",
    "tsneWords = sklearn.manifold.TSNE(n_components = 2, early_exaggeration = 25).fit_transform(reducedPCA_data)"
   ]
  },
  {
   "cell_type": "code",
   "execution_count": 22,
   "metadata": {},
   "outputs": [
    {
     "data": {
      "image/png": "[encoded data removed]",
      "text/plain": [
       "<matplotlib.figure.Figure at 0x1fb637fd780>"
      ]
     },
     "metadata": {},
     "output_type": "display_data"
    }
   ],
   "source": [
    "fig = plt.figure(figsize = (15,10))\n",
    "ax = fig.add_subplot(111)\n",
    "ax.set_frame_on(False)\n",
    "plt.scatter(tsneWords[:, 0], tsneWords[:, 1], alpha = 0)#Making the points invisible \n",
    "for i, word in enumerate(targetWords):\n",
    "    ax.annotate(word, \n",
    "                (tsneWords[:, 0][i],tsneWords[:, 1][i]), \n",
    "                size =  20 * (numWords - i) / numWords, \n",
    "                alpha = .8 * (numWords - i) / numWords + .2)\n",
    "plt.xticks(())\n",
    "plt.yticks(())\n",
    "plt.show()"
   ]
  }
 ],
 "metadata": {
  "kernelspec": {
   "display_name": "Python 3",
   "language": "python",
   "name": "python3"
  },
  "language_info": {
   "codemirror_mode": {
    "name": "ipython",
    "version": 3
   },
   "file_extension": ".py",
   "mimetype": "text/x-python",
   "name": "python",
   "nbconvert_exporter": "python",
   "pygments_lexer": "ipython3",
   "version": "3.6.3"
  }
 },
 "nbformat": 4,
 "nbformat_minor": 2
}
