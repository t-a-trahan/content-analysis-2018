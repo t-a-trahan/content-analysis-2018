{
 "cells": [
  {
   "cell_type": "code",
   "execution_count": 1,
   "metadata": {},
   "outputs": [
    {
     "name": "stderr",
     "output_type": "stream",
     "text": [
      "D:\\computation\\Anaconda3\\lib\\site-packages\\gensim\\utils.py:860: UserWarning: detected Windows; aliasing chunkize to chunkize_serial\n",
      "  warnings.warn(\"detected Windows; aliasing chunkize to chunkize_serial\")\n"
     ]
    }
   ],
   "source": [
    "#copy/paste the packages for this week\n",
    "\n",
    "#Special module written for this class\n",
    "#This provides access to data and to helper functions from previous weeks\n",
    "#Make sure you update it before starting this notebook\n",
    "import lucem_illud #pip install -U git+git://github.com/Computational-Content-Analysis-2018/lucem_illud.git\n",
    "\n",
    "#All these packages need to be installed from pip\n",
    "import gensim#For word2vec, etc\n",
    "import requests #For downloading our datasets\n",
    "import nltk #For stop words and stemmers\n",
    "import numpy as np #For arrays\n",
    "import pandas #Gives us DataFrames\n",
    "import matplotlib.pyplot as plt #For graphics\n",
    "import seaborn #Makes the graphics look nicer\n",
    "import sklearn.metrics.pairwise #For cosine similarity\n",
    "import sklearn.manifold #For T-SNE\n",
    "import sklearn.decomposition #For PCA\n",
    "\n",
    "#gensim uses a couple of deprecated features\n",
    "#we can't do anything about them so lets ignore them \n",
    "import warnings\n",
    "warnings.filterwarnings(\"ignore\", category=DeprecationWarning) \n",
    "\n",
    "#This 'magic' command makes the plots work better\n",
    "#in the notebook, don't use it outside of a notebook.\n",
    "#Also you can ignore the warning\n",
    "%matplotlib inline\n",
    "\n",
    "import os #For looking through files\n",
    "import os.path #For managing file paths"
   ]
  },
  {
   "cell_type": "code",
   "execution_count": 2,
   "metadata": {
    "collapsed": true
   },
   "outputs": [],
   "source": [
    "# load my corpus of interest - All New York Times articles published '80-'89 that mention Vietnam\n",
    "nyt80s = pandas.read_csv('../data/nyt80s.csv')\n",
    "\n",
    "# prepare\n",
    "\n",
    "nyt80s['tokenized_words'] = nyt80s['article'].apply(lambda x: nltk.word_tokenize(x))\n",
    "nyt80s['normalized_words'] = nyt80s['tokenized_words'].apply(lambda x: lucem_illud.normalizeTokens(x, stopwordLst = lucem_illud.stop_words_basic, stemmer = None))"
   ]
  },
  {
   "cell_type": "code",
   "execution_count": 3,
   "metadata": {
    "collapsed": true
   },
   "outputs": [],
   "source": [
    "#create a docID column for easy tagging and retrieval\n",
    "nyt80s[\"docID\"] = nyt80s.index"
   ]
  },
  {
   "cell_type": "code",
   "execution_count": 4,
   "metadata": {
    "collapsed": true
   },
   "outputs": [],
   "source": [
    "keywords = ['missing', 'war', 'prisoner', 'captivity', 'nixon', 'reagan']"
   ]
  },
  {
   "cell_type": "code",
   "execution_count": 5,
   "metadata": {
    "collapsed": true
   },
   "outputs": [],
   "source": [
    "taggedArticles = []\n",
    "for index, row in nyt80s.iterrows():\n",
    "    #Just doing a simple keyword assignment\n",
    "    docKeywords = [s for s in keywords if s in row['normalized_words']]\n",
    "    docKeywords.append(row['date'])\n",
    "    docKeywords.append(row['docID']) #This lets us extract individual documents\n",
    "    taggedArticles.append(gensim.models.doc2vec.LabeledSentence(words = row['normalized_words'], tags = docKeywords))\n",
    "nyt80s['TaggedArticles'] = taggedArticles"
   ]
  },
  {
   "cell_type": "code",
   "execution_count": 6,
   "metadata": {
    "collapsed": true
   },
   "outputs": [],
   "source": [
    "nytD2V = gensim.models.doc2vec.Doc2Vec(nyt80s['TaggedArticles'], size = 100) #Limiting to 100 dimensions"
   ]
  },
  {
   "cell_type": "code",
   "execution_count": 7,
   "metadata": {},
   "outputs": [
    {
     "data": {
      "text/plain": [
       "[('unaccounted', 0.6080336570739746)]"
      ]
     },
     "execution_count": 7,
     "metadata": {},
     "output_type": "execute_result"
    }
   ],
   "source": [
    "nytD2V.most_similar(positive = ['missing','servicemen'], negative = ['nixon'], topn = 1)"
   ]
  },
  {
   "cell_type": "code",
   "execution_count": 8,
   "metadata": {},
   "outputs": [
    {
     "data": {
      "text/plain": [
       "[('unaccounted', 0.6565977931022644)]"
      ]
     },
     "execution_count": 8,
     "metadata": {},
     "output_type": "execute_result"
    }
   ],
   "source": [
    "nytD2V.most_similar(positive = ['missing','servicemen'], negative = ['carter'], topn = 1)"
   ]
  },
  {
   "cell_type": "code",
   "execution_count": 9,
   "metadata": {},
   "outputs": [
    {
     "data": {
      "text/plain": [
       "[('unaccounted', 0.6788337230682373)]"
      ]
     },
     "execution_count": 9,
     "metadata": {},
     "output_type": "execute_result"
    }
   ],
   "source": [
    "nytD2V.most_similar(positive = ['missing','servicemen'], negative = ['reagan'], topn = 1)"
   ]
  },
  {
   "cell_type": "code",
   "execution_count": 10,
   "metadata": {},
   "outputs": [
    {
     "data": {
      "text/plain": [
       "[('unaccounted', 0.7960089445114136),\n",
       " ('captives', 0.6968147158622742),\n",
       " ('hostages', 0.6881918907165527),\n",
       " ('captivity', 0.6724515557289124),\n",
       " ('rescues', 0.6660469770431519),\n",
       " ('captive', 0.6635831594467163),\n",
       " ('prisoners', 0.649223804473877),\n",
       " ('dead', 0.6269862651824951),\n",
       " ('amerasians', 0.61726975440979),\n",
       " ('hostage', 0.6162548065185547)]"
      ]
     },
     "execution_count": 10,
     "metadata": {},
     "output_type": "execute_result"
    }
   ],
   "source": [
    "nytD2V.most_similar(positive = ['missing','servicemen', 'nixon'])"
   ]
  },
  {
   "cell_type": "code",
   "execution_count": 11,
   "metadata": {},
   "outputs": [
    {
     "data": {
      "text/plain": [
       "[('unaccounted', 0.7356752157211304),\n",
       " ('captives', 0.6801637411117554),\n",
       " ('hostages', 0.6637107133865356),\n",
       " ('rescues', 0.6444711089134216),\n",
       " ('captive', 0.6258302927017212),\n",
       " ('dead', 0.6165148019790649),\n",
       " ('captivity', 0.6071785092353821),\n",
       " ('prisoners', 0.5909515619277954),\n",
       " ('hostage', 0.5881564617156982),\n",
       " ('amerasians', 0.5774591565132141)]"
      ]
     },
     "execution_count": 11,
     "metadata": {},
     "output_type": "execute_result"
    }
   ],
   "source": [
    "nytD2V.most_similar(positive = ['missing','servicemen', 'reagan'])"
   ]
  },
  {
   "cell_type": "code",
   "execution_count": 12,
   "metadata": {},
   "outputs": [
    {
     "data": {
      "text/plain": [
       "[(4725, 0.6938217878341675),\n",
       " (1128, 0.6776479482650757),\n",
       " (963, 0.6662752628326416),\n",
       " (2239, 0.6632021069526672),\n",
       " ('October 6 1983 ', 0.6539720892906189)]"
      ]
     },
     "execution_count": 12,
     "metadata": {},
     "output_type": "execute_result"
    }
   ],
   "source": [
    "nytD2V.docvecs.most_similar([ nytD2V['captivity'] ], topn=5 )"
   ]
  },
  {
   "cell_type": "code",
   "execution_count": 13,
   "metadata": {},
   "outputs": [
    {
     "data": {
      "text/plain": [
       "\"    The 52 Americans held 444 days in Iran were not the only hostages involved in that crisis.  Their wives, children, parents and other relatives also found themselves held captive by the incident, trapped on what one called ''an emotional roller coaster of hope and despair,'' never knowing when or how the terrifying ride might end.  Today, finally, their ordeal will end, and all those yellow ribbons tied around trees from coast to coast will come down in a burst of euphoria. But scars and bitter memories will surely remain after the families and their loved ones are reunited around midday in an airport hangar near Newburgh, N.Y. For most relatives of the former hostages, the past 15 months add up to the worst experience of their lives.  ''I think the families will have as long a healing and recovery process as the hostages themselves in some cases,'' said Helen McLellan, the sister of Joseph M. Hall, a military attache, as relatives began packing for the trip to West Point.  The hostage crisis, with its seemingly endless rise and fall of rumors about trials, executions and resolution, so disturbed some families that they sought psychiatric care. Others began taking tranquilizers, drinking or smoking too much.  Effects of Ordeal  At least one suffered a heart attack. A number reported serious weight loss, up to 30 pounds, from lack of appetite, loss of sleep and worry over children who sobbed at night.  ''It aged me l0 years,'' Eugene Lauterbach, father of Steven Lauterbach, an embassy administrative officer, said of his own ordeal. ''It took the joy out of life. I kept on going to work and paying the bills, but there was no joy.''  As might be expected, the crisis has also left many of the relatives deeply bitter toward Iran and Iranians.  Dorothea Morefield, the wife of Richard H. Morefield, the Consul General, recently called her husband's captors ''trash'' and ''a screaming mob of terrorists,'' adding: ''They've lowered themselves. They've shamed themselves by their behavior. I think it will be a long time before the world has any respect for them.''  The crisis has also left some relatives bitter toward the United States Government and former President Jimmy Carter, and, in some cases, bitter at other relatives who have unstintingly supported Mr.  Carter and the State and Defense Departments.  Intense Media Coverage  Ernest Cooke, the father of Donald Cooke, the vice consul, abruptly hung up the phone last week when President Carter attempted to talk to the family about the hostage situation. ''My wife, Susan, got mad when she got stuck making small talk with the President,'' Mr. Cooke said later, explaining that the call took place last week while Mr.  Carter was visiting the freed Americans in West Germany.  Since the very first hours of the seizure of the embassy in Teheran, the hostages' relatives have been subjected to intense, sometimes almost unbearable, coverage by the news media. Most relatives have tolerated the coverage good-naturedly, apparently concluding that it involved not only a good story but also a story that needed to be told, again and again, if pressure was to be kept on the Iranian captors.  In a few instances, however, relatives totally avoided reporters, retreating behind closed doors and telephone answering machines. And, at the other extreme, a few relatives have seemed to revel in the media limelight, as though finding relief there from their worries.  While there are exceptions, hostage relatives have been tightly and personally bound to one another by their common misery, probably for life.  ''We've all been thrown into this thing together, for better or for worse,'' Mary Lopez, the mother of Sgt. James M. Lopez of the Marines, said recently after returning from a meeting of hostage families. ''I'm now on the absolutely closest terms with a lot of people I wouldn't otherwise ever have had anything in common with.  But because of our common problem, I've gotten so I feel I can share my innermost secrets with them.''  A Painful Secret  In the aftermath of the hostages' release, it has been learned that some of those secrets made life all but unbearable for some hostage relatives.  In the first letter that Louisa Kennedy received from her husband, Moorhead C. Kennedy Jr., an economist at the embassy, he wrote of a willingness to die for his country, then added what Mrs. Kennedy took to be ''fond last remarks.'' She lived with the implications of that letter for most of the crisis, bottling up her own surging fears to keep the fears of others from growing.  Similarly, one of the first letters sent out by Michael J. Metrinko stated that he and his fellow hostages were being treated ''like dogs.'' The Metrinko family turned the letter over to the State Department and remained silent about its contents until the hostages were released.  Some families have nevertheless been able to find a few bright rays of hope among all the clouds. ''The country had been divided by Vietnam,'' said Lawrence Persinger, father of Sgt. Gregory Persinger of the Marines, as he headed for West Point. ''I really believe the Iran seizure united the country. The whole country really stood behind us.''  Mitchell Foreman, the brother-in-law of Sgt. Steven W. Kirtley of the Marines, also took some hope from the ordeal. ''We needed some heroes at this time the way things are going,'' he said.  LANGUAGE: ENGLISH  GRAPHIC: Illustrations: Photo of Toni and Virgil Sickmann                      \""
      ]
     },
     "execution_count": 13,
     "metadata": {},
     "output_type": "execute_result"
    }
   ],
   "source": [
    "# let's see what the most similar article looks like\n",
    "\n",
    "#print(nyt80s['date']['October 6 1983'])\n",
    "\n",
    "nyt80s.loc[1128]['article']"
   ]
  },
  {
   "cell_type": "code",
   "execution_count": 14,
   "metadata": {},
   "outputs": [
    {
     "data": {
      "text/plain": [
       "[('thiep', 0.750247061252594),\n",
       " ('distraught', 0.7476983070373535),\n",
       " ('honorably', 0.7334441542625427),\n",
       " ('partitioned', 0.7279917001724243),\n",
       " ('freed', 0.7198662757873535)]"
      ]
     },
     "execution_count": 14,
     "metadata": {},
     "output_type": "execute_result"
    }
   ],
   "source": [
    "# let's see what words are most similar to this document\n",
    "\n",
    "nytD2V.most_similar( [ nytD2V.docvecs[1128] ], topn=5) "
   ]
  },
  {
   "cell_type": "code",
   "execution_count": 15,
   "metadata": {},
   "outputs": [
    {
     "data": {
      "text/plain": [
       "[(7158, 0.7036421298980713),\n",
       " (8142, 0.6893575191497803),\n",
       " ('January 22 1986 ', 0.6883097887039185),\n",
       " (10467, 0.666242778301239),\n",
       " (4725, 0.66390061378479)]"
      ]
     },
     "execution_count": 15,
     "metadata": {},
     "output_type": "execute_result"
    }
   ],
   "source": [
    "# let's find documens most similar to a combination \n",
    "\n",
    "nytD2V.docvecs.most_similar([ nytD2V['missing']+nytD2V['servicemen']+nytD2V['captivity']], topn=5 )"
   ]
  },
  {
   "cell_type": "code",
   "execution_count": 16,
   "metadata": {},
   "outputs": [
    {
     "data": {
      "text/plain": [
       "\"      Three members of Congress criticized Vietnam and Laos today for rejecting a suggestion that an international team be sent to investigate reports that American servicemen have been seen alive in the two countries since the release of prisoners in 1973.  The Congressmen - Senator Frank H. Murkowski, Republican of Alaska who is chairman of the Senate Veterans Affairs Committee, Senator Dennis DeConcini, Democrat of Arizona, and Representative Bob McEwen, Republican of Ohio - recently returned from a trip to Indochina and appeared today at a news conference. ''We made the point that if you have nothing to hide, open the books,'' Mr. McEwen said.  Senator Murkowski said the delegation returned without any indication that American prisoners remained there, but he endorsed the Reagan Administration's refusal to rule out the possibility.  Vietnam denies it holds Americans.  LANGUAGE: ENGLISH                      \""
      ]
     },
     "execution_count": 16,
     "metadata": {},
     "output_type": "execute_result"
    }
   ],
   "source": [
    "# let's print out the top one and see what the article has to say\n",
    "\n",
    "nyt80s.loc[8142]['article']"
   ]
  },
  {
   "cell_type": "code",
   "execution_count": 17,
   "metadata": {},
   "outputs": [
    {
     "data": {
      "text/plain": [
       "\"      Defense Secretary Caspar W. Weinberger today ordered that a special plaque honoring the country's Vietnam War dead be placed at the Tomb of the Unknown Soldier, where there is still an empty crypt. The plaque will be dedicated on Memorial Day, the Pentagon said.  Mr. Weinberger also ordered a second plaque placed at the Arlington National Cemetery Memorial Amphitheater to explain that ''interment of a Vietnam war unknown is impossible now because the remains of Americans who died in Southeast Asia are still being identified,'' the Pentagon said.  More than 10 years after American forces were pulled out of the Southeast Asia war, Army technicians at a special laboratory in Hawaii are still trying to identify three sets of remains.  LANGUAGE: ENGLISH                      \""
      ]
     },
     "execution_count": 17,
     "metadata": {},
     "output_type": "execute_result"
    }
   ],
   "source": [
    "nyt80s.loc[4434]['article']"
   ]
  },
  {
   "cell_type": "code",
   "execution_count": 18,
   "metadata": {
    "collapsed": true
   },
   "outputs": [],
   "source": [
    "# What does a heatmap tell us?\n",
    "\n",
    "heatmapMatrix = []\n",
    "for tagOuter in keywords:\n",
    "    column = []\n",
    "    tagVec = nytD2V.docvecs[tagOuter].reshape(1, -1)\n",
    "    for tagInner in keywords:\n",
    "        column.append(sklearn.metrics.pairwise.cosine_similarity(tagVec, nytD2V.docvecs[tagInner].reshape(1, -1))[0][0])\n",
    "    heatmapMatrix.append(column)\n",
    "heatmapMatrix = np.array(heatmapMatrix)"
   ]
  },
  {
   "cell_type": "code",
   "execution_count": 19,
   "metadata": {},
   "outputs": [
    {
     "data": {
      "image/png": "[encoded data removed]",
      "text/plain": [
       "<matplotlib.figure.Figure at 0x24945c48080>"
      ]
     },
     "metadata": {},
     "output_type": "display_data"
    }
   ],
   "source": [
    "fig, ax = plt.subplots()\n",
    "hmap = ax.pcolor(heatmapMatrix, cmap='terrain')\n",
    "cbar = plt.colorbar(hmap)\n",
    "\n",
    "cbar.set_label('cosine similarity', rotation=270)\n",
    "a = ax.set_xticks(np.arange(heatmapMatrix.shape[1]) + 0.5, minor=False)\n",
    "a = ax.set_yticks(np.arange(heatmapMatrix.shape[0]) + 0.5, minor=False)\n",
    "\n",
    "a = ax.set_xticklabels(keywords, minor=False, rotation=270)\n",
    "a = ax.set_yticklabels(keywords, minor=False)"
   ]
  },
  {
   "cell_type": "code",
   "execution_count": 20,
   "metadata": {
    "collapsed": true
   },
   "outputs": [],
   "source": [
    "targetDocs = nyt80s['docID'][:25]\n",
    "\n",
    "heatmapMatrixD = []\n",
    "\n",
    "for tagOuter in targetDocs:\n",
    "    column = []\n",
    "    tagVec = nytD2V.docvecs[tagOuter].reshape(1, -1)\n",
    "    for tagInner in targetDocs:\n",
    "        column.append(sklearn.metrics.pairwise.cosine_similarity(tagVec, nytD2V.docvecs[tagInner].reshape(1, -1))[0][0])\n",
    "    heatmapMatrixD.append(column)\n",
    "heatmapMatrixD = np.array(heatmapMatrixD)"
   ]
  },
  {
   "cell_type": "code",
   "execution_count": 21,
   "metadata": {},
   "outputs": [
    {
     "data": {
      "image/png": "[encoded data removed]",
      "text/plain": [
       "<matplotlib.figure.Figure at 0x24945c45d68>"
      ]
     },
     "metadata": {},
     "output_type": "display_data"
    }
   ],
   "source": [
    "fig, ax = plt.subplots()\n",
    "hmap = ax.pcolor(heatmapMatrixD, cmap='terrain')\n",
    "cbar = plt.colorbar(hmap)\n",
    "\n",
    "cbar.set_label('cosine similarity', rotation=270)\n",
    "a = ax.set_xticks(np.arange(heatmapMatrixD.shape[1]) + 0.5, minor=False)\n",
    "a = ax.set_yticks(np.arange(heatmapMatrixD.shape[0]) + 0.5, minor=False)\n",
    "\n",
    "a = ax.set_xticklabels(targetDocs, minor=False, rotation=270)\n",
    "a = ax.set_yticklabels(targetDocs, minor=False)"
   ]
  },
  {
   "cell_type": "code",
   "execution_count": 22,
   "metadata": {
    "collapsed": true
   },
   "outputs": [],
   "source": [
    "heatmapMatrixC = []\n",
    "\n",
    "for tagOuter in targetDocs:\n",
    "    column = []\n",
    "    tagVec = nytD2V.docvecs[tagOuter].reshape(1, -1)\n",
    "    for tagInner in keywords:\n",
    "        column.append(sklearn.metrics.pairwise.cosine_similarity(tagVec, nytD2V.docvecs[tagInner].reshape(1, -1))[0][0])\n",
    "    heatmapMatrixC.append(column)\n",
    "heatmapMatrixC = np.array(heatmapMatrixC)"
   ]
  },
  {
   "cell_type": "code",
   "execution_count": 23,
   "metadata": {},
   "outputs": [
    {
     "data": {
      "image/png": "[encoded data removed]",
      "text/plain": [
       "<matplotlib.figure.Figure at 0x24945d04ef0>"
      ]
     },
     "metadata": {},
     "output_type": "display_data"
    }
   ],
   "source": [
    "fig, ax = plt.subplots()\n",
    "hmap = ax.pcolor(heatmapMatrixC, cmap='terrain')\n",
    "cbar = plt.colorbar(hmap)\n",
    "\n",
    "cbar.set_label('cosine similarity', rotation=270)\n",
    "a = ax.set_xticks(np.arange(heatmapMatrixC.shape[1]) + 0.5, minor=False)\n",
    "a = ax.set_yticks(np.arange(heatmapMatrixC.shape[0]) + 0.5, minor=False)\n",
    "\n",
    "a = ax.set_xticklabels(keywords, minor=False, rotation=270)\n",
    "a = ax.set_yticklabels(targetDocs, minor=False)"
   ]
  }
 ],
 "metadata": {
  "kernelspec": {
   "display_name": "Python 3",
   "language": "python",
   "name": "python3"
  },
  "language_info": {
   "codemirror_mode": {
    "name": "ipython",
    "version": 3
   },
   "file_extension": ".py",
   "mimetype": "text/x-python",
   "name": "python",
   "nbconvert_exporter": "python",
   "pygments_lexer": "ipython3",
   "version": "3.6.3"
  }
 },
 "nbformat": 4,
 "nbformat_minor": 2
}
