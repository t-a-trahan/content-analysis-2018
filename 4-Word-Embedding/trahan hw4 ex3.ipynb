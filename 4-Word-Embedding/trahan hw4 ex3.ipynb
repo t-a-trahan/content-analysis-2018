{
 "cells": [
  {
   "cell_type": "code",
   "execution_count": 52,
   "metadata": {},
   "outputs": [],
   "source": [
    "#Special module written for this class\n",
    "#This provides access to data and to helper functions from previous weeks\n",
    "#Make sure you update it before starting this notebook\n",
    "import lucem_illud #pip install -U git+git://github.com/Computational-Content-Analysis-2018/lucem_illud.git\n",
    "\n",
    "#All these packages need to be installed from pip\n",
    "import gensim#For word2vec, etc\n",
    "import requests #For downloading our datasets\n",
    "import nltk #For stop words and stemmers\n",
    "import numpy as np #For arrays\n",
    "import pandas #Gives us DataFrames\n",
    "import matplotlib.pyplot as plt #For graphics\n",
    "import seaborn #Makes the graphics look nicer\n",
    "import sklearn.metrics.pairwise #For cosine similarity\n",
    "import sklearn.manifold #For T-SNE\n",
    "import sklearn.decomposition #For PCA\n",
    "\n",
    "#gensim uses a couple of deprecated features\n",
    "#we can't do anything about them so lets ignore them \n",
    "import warnings\n",
    "warnings.filterwarnings(\"ignore\", category=DeprecationWarning) \n",
    "\n",
    "#This 'magic' command makes the plots work better\n",
    "#in the notebook, don't use it outside of a notebook.\n",
    "#Also you can ignore the warning\n",
    "%matplotlib inline\n",
    "\n",
    "import os #For looking through files\n",
    "import os.path #For managing file paths"
   ]
  },
  {
   "cell_type": "code",
   "execution_count": 53,
   "metadata": {},
   "outputs": [
    {
     "data": {
      "text/plain": [
       "array([[ 1.6825147e+00,  6.9323617e-01,  1.4560804e+00, ...,\n",
       "         2.0453668e+00, -4.4930902e-01,  1.5013618e+00],\n",
       "       [ 6.7060471e-02, -3.7718777e-02,  9.9084342e-01, ...,\n",
       "         1.9959071e+00,  1.1143116e+00,  8.5802674e-02],\n",
       "       [ 6.4755791e-01,  1.2168905e-02,  2.2829731e-01, ...,\n",
       "         2.4460402e+00,  1.8995866e+00,  1.0483687e+00],\n",
       "       ...,\n",
       "       [ 1.7472990e-02,  4.7673468e-02,  1.2499005e-02, ...,\n",
       "         5.6495187e-03,  8.0783041e-03, -9.1362401e-04],\n",
       "       [-3.6470886e-02, -1.9066673e-02, -6.2952474e-02, ...,\n",
       "         2.4548832e-02, -4.7455076e-02, -2.0168340e-02],\n",
       "       [-3.7056446e-02,  4.3880079e-02, -4.5044586e-02, ...,\n",
       "         3.8825229e-02, -6.8485968e-02, -1.6156930e-02]], dtype=float32)"
      ]
     },
     "execution_count": 53,
     "metadata": {},
     "output_type": "execute_result"
    }
   ],
   "source": [
    "# load up and prepare corpus\n",
    "\n",
    "# load my corpus of interest - All New York Times articles published '80-'89 that mention Vietnam\n",
    "nyt80s = pandas.read_csv('../data/nyt80s.csv')\n",
    "\n",
    "# prepare\n",
    "\n",
    "nyt80s['tokenized_sents'] = nyt80s['article'].apply(lambda x: \n",
    "                                                               [nltk.word_tokenize(s) for s in nltk.sent_tokenize(x)])\n",
    "nyt80s['normalized_sents'] = nyt80s['tokenized_sents'].apply(lambda x: \n",
    "                                                                           [lucem_illud.normalizeTokens(s, \n",
    "                                                                                           stopwordLst = lucem_illud.stop_words_basic, \n",
    "                                                                                           stemmer = None) \n",
    "                                                                            for s in x])\n",
    "\n",
    "nyt80sW2V = gensim.models.word2vec.Word2Vec(nyt80s['normalized_sents'].sum())\n",
    "\n",
    "nyt80sW2V.wv.syn0"
   ]
  },
  {
   "cell_type": "code",
   "execution_count": 54,
   "metadata": {},
   "outputs": [
    {
     "data": {
      "text/plain": [
       "array([[ 1.1184732 , -1.0071257 , -0.8926199 , ..., -1.980782  ,\n",
       "         3.6218836 ,  1.1174778 ],\n",
       "       [ 0.70074123,  0.14369375,  1.0333239 , ..., -2.9811773 ,\n",
       "         1.7560173 ,  1.3681792 ],\n",
       "       [ 0.65099114, -1.1729565 ,  2.3527672 , ..., -1.1629657 ,\n",
       "         0.8826279 ,  1.3710153 ],\n",
       "       ...,\n",
       "       [-0.81716925, -0.5864443 ,  0.17102568, ...,  0.9606561 ,\n",
       "        -1.6194324 ,  0.6483456 ],\n",
       "       [ 0.32768223,  1.327721  ,  0.54920834, ...,  0.9494521 ,\n",
       "         1.6400104 , -0.22581528],\n",
       "       [ 0.9628595 ,  0.598207  ,  0.4780752 , ...,  1.7455019 ,\n",
       "         0.4634932 ,  0.39081153]], dtype=float32)"
      ]
     },
     "execution_count": 54,
     "metadata": {},
     "output_type": "execute_result"
    }
   ],
   "source": [
    "#words to create dimensions\n",
    "tnytTargetWords = ['reagan','carter','nixon', 'ford', 'republican', 'democrat', 'liberal', 'conservative', 'man', 'woman']\n",
    "#words we will be mapping\n",
    "tnytTargetWords += [\"soldier\",\"servicemen\",\"captivity\",\"missing\", 'veteran', 'iran', 'soviet', 'ussr', 'cold', 'contras', 'nicaragua']\n",
    "\n",
    "\n",
    "wordsSubMatrix = []\n",
    "for word in tnytTargetWords:\n",
    "    wordsSubMatrix.append(nyt80sW2V[word])\n",
    "wordsSubMatrix = np.array(wordsSubMatrix)\n",
    "wordsSubMatrix"
   ]
  },
  {
   "cell_type": "code",
   "execution_count": 55,
   "metadata": {
    "collapsed": true
   },
   "outputs": [],
   "source": [
    "pcaWordsNYT = sklearn.decomposition.PCA(n_components = 50).fit(wordsSubMatrix)\n",
    "reducedPCA_dataNYT = pcaWordsNYT.transform(wordsSubMatrix)\n",
    "#T-SNE is theoretically better, but you should experiment\n",
    "tsneWordsNYT = sklearn.manifold.TSNE(n_components = 2).fit_transform(reducedPCA_dataNYT)"
   ]
  },
  {
   "cell_type": "code",
   "execution_count": 56,
   "metadata": {},
   "outputs": [
    {
     "data": {
      "image/png": "[encoded data removed]",
      "text/plain": [
       "<matplotlib.figure.Figure at 0x2539eded128>"
      ]
     },
     "metadata": {},
     "output_type": "display_data"
    }
   ],
   "source": [
    "fig = plt.figure(figsize = (10,6))\n",
    "ax = fig.add_subplot(111)\n",
    "ax.set_frame_on(False)\n",
    "plt.scatter(tsneWordsNYT[:, 0], tsneWordsNYT[:, 1], alpha = 0) #Making the points invisible\n",
    "for i, word in enumerate(tnytTargetWords):\n",
    "    ax.annotate(word, (tsneWordsNYT[:, 0][i],tsneWordsNYT[:, 1][i]), size =  20 * (len(tnytTargetWords) - i) / len(tnytTargetWords))\n",
    "plt.xticks(())\n",
    "plt.yticks(())\n",
    "plt.show()"
   ]
  },
  {
   "cell_type": "code",
   "execution_count": 57,
   "metadata": {
    "collapsed": true
   },
   "outputs": [],
   "source": [
    "def normalize(vector):\n",
    "    normalized_vector = vector / np.linalg.norm(vector)\n",
    "    return normalized_vector\n",
    "\n",
    "def dimension(model, positives, negatives):\n",
    "    diff = sum([normalize(model[x]) for x in positives]) - sum([normalize(model[y]) for y in negatives])\n",
    "    return diff"
   ]
  },
  {
   "cell_type": "code",
   "execution_count": 58,
   "metadata": {
    "collapsed": true
   },
   "outputs": [],
   "source": [
    "# for this exercise, I'm going to explore two (somewhat) different discursive formations \n",
    "# that ought to appear in my corpus: a discussion about soldiers, veterans, POWs, and MIAs,\n",
    "# and larger foreign policy issues. Although the nature of my corpus means the first\n",
    "# formation will be better  represented, it might be interesting to see the general portrayl\n",
    "# of Vietnam in NYT articles in the 1980s related to foreign policy.\n",
    "\n",
    "# I'll explore along three dimensions: administrationa, party, and,\n",
    "# out of curiosity: gender. "
   ]
  },
  {
   "cell_type": "code",
   "execution_count": 59,
   "metadata": {},
   "outputs": [],
   "source": [
    "Administration = dimension(nyt80sW2V, ['reagan'], ['carter'])\n",
    "\n",
    "Party = dimension(nyt80sW2V, ['republican', 'conservative'], ['democrat', 'liberal'])\n",
    "\n",
    "Gender = dimension(nyt80sW2V, ['man'], ['woman'])"
   ]
  },
  {
   "cell_type": "code",
   "execution_count": 60,
   "metadata": {
    "collapsed": true
   },
   "outputs": [],
   "source": [
    "\n",
    "VietnamWar = ['soldier', 'soldiers', 'servicemen', 'veteran', 'captivity', 'missing']\n",
    "\n",
    "ForeignPolicy = ['iran', 'soviet', 'ussr', 'cold', 'contras', 'nicaragua']\n",
    "\n"
   ]
  },
  {
   "cell_type": "code",
   "execution_count": 61,
   "metadata": {
    "collapsed": true
   },
   "outputs": [],
   "source": [
    "def makeDF(model, word_list):\n",
    "    g = []\n",
    "    r = []\n",
    "    c = []\n",
    "    for word in word_list:\n",
    "        g.append(sklearn.metrics.pairwise.cosine_similarity(nyt80sW2V[word].reshape(1,-1), Administration.reshape(1,-1))[0][0])\n",
    "        r.append(sklearn.metrics.pairwise.cosine_similarity(nyt80sW2V[word].reshape(1,-1), Party.reshape(1,-1))[0][0])\n",
    "        c.append(sklearn.metrics.pairwise.cosine_similarity(nyt80sW2V[word].reshape(1,-1), Gender.reshape(1,-1))[0][0])\n",
    "    df = pandas.DataFrame({'administration': g, 'party': r, 'gender': c}, index = word_list)\n",
    "    return df"
   ]
  },
  {
   "cell_type": "code",
   "execution_count": 62,
   "metadata": {},
   "outputs": [],
   "source": [
    "vietnamWarDF = makeDF(nyt80sW2V, VietnamWar) \n",
    "foreignPolicyDF = makeDF(nyt80sW2V, ForeignPolicy)"
   ]
  },
  {
   "cell_type": "code",
   "execution_count": 63,
   "metadata": {
    "collapsed": true
   },
   "outputs": [],
   "source": [
    "def Coloring(Series):\n",
    "    x = Series.values\n",
    "    y = x-x.min()\n",
    "    z = y/y.max()\n",
    "    c = list(plt.cm.rainbow(z))\n",
    "    return c\n",
    "\n",
    "def PlotDimension(ax,df, dim):\n",
    "    ax.set_frame_on(False)\n",
    "    ax.set_title(dim, fontsize = 20)\n",
    "    colors = Coloring(df[dim])\n",
    "    for i, word in enumerate(df.index):\n",
    "        ax.annotate(word, (0, df[dim][i]), color = colors[i], alpha = 0.6, fontsize = 12)\n",
    "    MaxY = df[dim].max()\n",
    "    MinY = df[dim].min()\n",
    "    plt.ylim(MinY,MaxY)\n",
    "    plt.yticks(())\n",
    "    plt.xticks(())"
   ]
  },
  {
   "cell_type": "code",
   "execution_count": 64,
   "metadata": {
    "collapsed": true
   },
   "outputs": [],
   "source": [
    "# Below, we can see the results of my test. I'll highlight just a few of the \n",
    "# results. We can see that 'soldiers' were more associated with Reagan, while \n",
    "# captivity was more associated with Carter (though this is probably due to \n",
    "# the Iran hostage crisis. Along the party dimension, however, captivity and missing \n",
    "# hold a central-moderate position. Soldiers are still conservative.\n",
    "# Interesting, captivity, servicemen, and missing are more closely related to the\n",
    "# female end of my gender dimension. "
   ]
  },
  {
   "cell_type": "code",
   "execution_count": 65,
   "metadata": {},
   "outputs": [
    {
     "data": {
      "image/png": "[encoded data removed]",
      "text/plain": [
       "<matplotlib.figure.Figure at 0x2539ee0a7f0>"
      ]
     },
     "metadata": {},
     "output_type": "display_data"
    }
   ],
   "source": [
    "fig = plt.figure(figsize = (12,4))\n",
    "ax1 = fig.add_subplot(131)\n",
    "PlotDimension(ax1, vietnamWarDF, 'administration')\n",
    "ax2 = fig.add_subplot(132)\n",
    "PlotDimension(ax2, vietnamWarDF, 'party')\n",
    "ax3 = fig.add_subplot(133)\n",
    "PlotDimension(ax3, vietnamWarDF, 'gender')\n",
    "plt.show()"
   ]
  },
  {
   "cell_type": "code",
   "execution_count": 66,
   "metadata": {
    "collapsed": true
   },
   "outputs": [],
   "source": [
    "# Nicaragua is more related to Reagan, while Iran is more related to Carter.\n",
    "# No surprises there! THough, interestingly, the Contras only slightly favor \n",
    "# the Reagan end of the pole.\n",
    "# Interestingly, the Contras are still centralized, and now Nicaragua tends\n",
    "# towards the democratic end of the pole under the party dimension.\n",
    "# Very interestingly, almost all words cluster toward the male end of the \n",
    "# gender dimension. I interpret this to indicate that the 'foreign policy'\n",
    "# game is often conceived of, and articulated in, male gendered terms. \n",
    "# This finding would compliment Laura Sjoberg (2013) work on the gendered terms\n",
    "# of international politics theorizing. \n"
   ]
  },
  {
   "cell_type": "code",
   "execution_count": 67,
   "metadata": {},
   "outputs": [
    {
     "data": {
      "image/png": "[encoded data removed]",
      "text/plain": [
       "<matplotlib.figure.Figure at 0x2539dea5fd0>"
      ]
     },
     "metadata": {},
     "output_type": "display_data"
    }
   ],
   "source": [
    "fig = plt.figure(figsize = (12,4))\n",
    "ax1 = fig.add_subplot(131)\n",
    "PlotDimension(ax1, foreignPolicyDF, 'administration')\n",
    "ax2 = fig.add_subplot(132)\n",
    "PlotDimension(ax2, foreignPolicyDF, 'party')\n",
    "ax3 = fig.add_subplot(133)\n",
    "PlotDimension(ax3, foreignPolicyDF, 'gender')\n",
    "plt.show()"
   ]
  }
 ],
 "metadata": {
  "kernelspec": {
   "display_name": "Python 3",
   "language": "python",
   "name": "python3"
  },
  "language_info": {
   "codemirror_mode": {
    "name": "ipython",
    "version": 3
   },
   "file_extension": ".py",
   "mimetype": "text/x-python",
   "name": "python",
   "nbconvert_exporter": "python",
   "pygments_lexer": "ipython3",
   "version": "3.6.3"
  }
 },
 "nbformat": 4,
 "nbformat_minor": 2
}
