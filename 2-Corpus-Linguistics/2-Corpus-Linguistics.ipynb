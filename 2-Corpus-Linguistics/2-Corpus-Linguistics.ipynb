{
 "cells": [
  {
   "cell_type": "markdown",
   "metadata": {},
   "source": [
    "# Week 2 - Corpus Linguistics\n",
    "\n",
    "This week, we take text corpora that we have developed, spidered, scraped, and encoded, and we find and count words and simple phrases and properties of those counts (e.g., word frequency distributions). Initially, we model how to search corpora for keywords or phrases. Next, we examine the distributions of terms and phrases across a corpus, and the corelation between different words and phrase counts. In order to do this effectively, we coarsely disambiguate words based of part-of-speech (POS) tagging, and normalize them through stemming and lemmatization. Next we distinguish *important* words and phrase within the corpus, and image them with Wordls! Then we calculate word frequenceis, conditional frequences (the frequency of word *shock* conditional on the presence of word *awe*), and statistically significant collocations of lengths 2 through $n$. Finally, we calculate and visualize Differences (Divergences and Distances) between the word frequency distributions from two corpora. \n",
    "\n",
    "For this notebook we will be using the following packages"
   ]
  },
  {
   "cell_type": "code",
   "execution_count": 88,
   "metadata": {},
   "outputs": [],
   "source": [
    "#Special module written for this class\n",
    "#This provides access to data and to helper functions from previous weeks\n",
    "import lucem_illud #pip install git+git://github.com/Computational-Content-Analysis-2018/lucem_illud.git\n",
    "\n",
    "#All these packages need to be installed from pip\n",
    "import requests #for http requests\n",
    "import nltk #the Natural Language Toolkit\n",
    "import pandas #gives us DataFrames\n",
    "import matplotlib.pyplot as plt #For graphics\n",
    "import wordcloud #Makes word clouds\n",
    "import numpy as np #For divergences/distances\n",
    "import scipy #For divergences/distances\n",
    "import seaborn as sns #makes our plots look nicer\n",
    "import sklearn.manifold #For a manifold plot\n",
    "from nltk.corpus import stopwords #For stopwords\n",
    "import json #For API responses\n",
    "import urllib.parse #For joining urls\n",
    "\n",
    "#This 'magic' command makes the plots work better\n",
    "#in the notebook, don't use it outside of a notebook\n",
    "%matplotlib inline"
   ]
  },
  {
   "cell_type": "markdown",
   "metadata": {},
   "source": [
    "# Retrieving exemplary corpora\n",
    "\n",
    "To get started we will need some examples. Let's start by downloading one of the corpuses from `nltk`, a Natural Language Toolkit developed by computational linguists at the University of Pennsylvania. Let's take a look at how that works.\n",
    "\n",
    "First we can get a list of works available from the Gutenburg corpus, with the [corpus module](http://www.nltk.org/api/nltk.corpus.html). To do this we will need to tell nltk where the data are, and download them if need be."
   ]
  },
  {
   "cell_type": "code",
   "execution_count": 33,
   "metadata": {},
   "outputs": [
    {
     "name": "stdout",
     "output_type": "stream",
     "text": [
      "['austen-emma.txt', 'austen-persuasion.txt', 'austen-sense.txt', 'bible-kjv.txt', 'blake-poems.txt', 'bryant-stories.txt', 'burgess-busterbrown.txt', 'carroll-alice.txt', 'chesterton-ball.txt', 'chesterton-brown.txt', 'chesterton-thursday.txt', 'edgeworth-parents.txt', 'melville-moby_dick.txt', 'milton-paradise.txt', 'shakespeare-caesar.txt', 'shakespeare-hamlet.txt', 'shakespeare-macbeth.txt', 'whitman-leaves.txt']\n",
      "18\n"
     ]
    }
   ],
   "source": [
    "#You should have them already downloaded in the data directory\n",
    "try:\n",
    "    #adding path for both local and server, only one of these will actually be used at a time\n",
    "    nltk.data.path.append('/project2/macs60000/shared_data/nltk')\n",
    "    nltk.data.path.append('../data')\n",
    "    #Check that everything is in place\n",
    "    nltk.corpus.gutenberg.fileids()\n",
    "except LookupError:\n",
    "    print(\"You have to download all the documents\")\n",
    "    print(\"Downloading to ../data this should only take a couple minutes\")\n",
    "    nltk.download('all', download_dir = '../data')\n",
    "    nltk.data.path.append('../data')\n",
    "#If you haven't downloaded the copura then you will have to run `nltk.download()`\n",
    "print(nltk.corpus.gutenberg.fileids())\n",
    "print(len(nltk.corpus.gutenberg.fileids()))"
   ]
  },
  {
   "cell_type": "markdown",
   "metadata": {},
   "source": [
    "We can also look at the individual works"
   ]
  },
  {
   "cell_type": "code",
   "execution_count": 34,
   "metadata": {},
   "outputs": [
    {
     "data": {
      "text/plain": [
       "\"es,\\nBut the Norweyan Lord, surueying vantage,\\nWith furbusht Armes, and new supplyes of men,\\nBegan a fresh assault\\n\\n   King. Dismay'd not this our Captaines, Macbeth and\\nBanquoh?\\n  Cap. Yes, as Sparrowes, Eagles;\\nOr the Hare, the Lyon:\\nIf I say sooth, I must report they were\\nAs Cannons ouer-charg'd with double Cracks,\\nSo they doubly redoubled stroakes vpon the Foe:\\nExcept they meant to bathe in reeking Wounds,\\nOr memorize another Golgotha,\\nI cannot tell: but I am faint,\\nMy Gashes cry for helpe\\n\\n   King. So well thy words become thee, as thy wounds,\\nThey smack of Honor both: Goe get him Surgeons.\\nEnter Rosse and Angus.\\n\\nWho comes here?\\n  Mal. The worthy Thane of Rosse\\n\\n   Lenox. What a haste lookes through his eyes?\\nSo should he looke, that seemes to speake things strange\\n\\n   Rosse. God saue the King\\n\\n   King. Whence cam'st thou, worthy Thane?\\n  Rosse. From Fiffe, great King,\\nWhere the Norweyan Banners flowt the Skie,\\nAnd fanne our people cold.\\nNorway himselfe, with terrible numbers,\\nAssisted by that most disloyall Traytor,\\nThe Thane of Cawdor, began a dismall Conflict,\\nTill that Bellona's Bridegroome, lapt in proofe,\\nConfronted him with selfe-comparisons,\\nPoint against Point, rebellious Arme 'gainst Arme,\\nCurbing his lauish spirit: and to conclude,\\nThe Victorie fell on vs\\n\\n   King. Great happinesse\\n\\n   Rosse. That now Sweno, the Norwayes King,\\nCraues composition:\\nNor would we deigne him buriall of his men,\\nTill he disbursed, at Saint Colmes ynch,\\nTen thousand Dollars, to our generall vse\\n\\n   King. No more that Thane of Cawdor shall deceiue\\nOur Bosome interest: Goe pronounce his present death,\\nAnd with his former Title greet Macbeth\\n\\n   Rosse. Ile see it done\\n\\n   King. What he hath lost, Noble Macbeth hath wonne.\\n\\nExeunt.\\n\\n\\nScena Tertia.\\n\\nThunder. Enter the three Witches.\\n\\n  1. Where hast thou beene, Sister?\\n  2. Killing Swine\\n\\n   3. Sister, where thou?\\n  1. A Saylors Wife had Chestnuts in her Lappe,\\nAnd mouncht, & mouncht, and mouncht:\\nGiue me, quoth I.\\nAroynt thee, \""
      ]
     },
     "execution_count": 34,
     "metadata": {},
     "output_type": "execute_result"
    }
   ],
   "source": [
    "nltk.corpus.gutenberg.raw('shakespeare-macbeth.txt')[2000:4000]"
   ]
  },
  {
   "cell_type": "markdown",
   "metadata": {},
   "source": [
    "All the listed works have been nicely marked up and classified for us so we can do much better than just looking at raw text."
   ]
  },
  {
   "cell_type": "code",
   "execution_count": 35,
   "metadata": {},
   "outputs": [
    {
     "name": "stdout",
     "output_type": "stream",
     "text": [
      "['[', 'The', 'Tragedie', 'of', 'Macbeth', 'by', ...]\n",
      "[['[', 'The', 'Tragedie', 'of', 'Macbeth', 'by', 'William', 'Shakespeare', '1603', ']'], ['Actus', 'Primus', '.'], ...]\n"
     ]
    }
   ],
   "source": [
    "print(nltk.corpus.gutenberg.words('shakespeare-macbeth.txt'))\n",
    "print(nltk.corpus.gutenberg.sents('shakespeare-macbeth.txt'))"
   ]
  },
  {
   "cell_type": "markdown",
   "metadata": {},
   "source": [
    "# Counting words\n",
    "\n",
    "If we want to do some analysis we can start by simply counting the number of times each word occurs within the corpus."
   ]
  },
  {
   "cell_type": "code",
   "execution_count": 36,
   "metadata": {},
   "outputs": [
    {
     "data": {
      "text/html": [
       "<div>\n",
       "<style scoped>\n",
       "    .dataframe tbody tr th:only-of-type {\n",
       "        vertical-align: middle;\n",
       "    }\n",
       "\n",
       "    .dataframe tbody tr th {\n",
       "        vertical-align: top;\n",
       "    }\n",
       "\n",
       "    .dataframe thead th {\n",
       "        text-align: right;\n",
       "    }\n",
       "</style>\n",
       "<table border=\"1\" class=\"dataframe\">\n",
       "  <thead>\n",
       "    <tr style=\"text-align: right;\">\n",
       "      <th></th>\n",
       "      <th>count</th>\n",
       "      <th>word</th>\n",
       "    </tr>\n",
       "  </thead>\n",
       "  <tbody>\n",
       "    <tr>\n",
       "      <th>0</th>\n",
       "      <td>4</td>\n",
       "      <td>[</td>\n",
       "    </tr>\n",
       "    <tr>\n",
       "      <th>1</th>\n",
       "      <td>650</td>\n",
       "      <td>the</td>\n",
       "    </tr>\n",
       "    <tr>\n",
       "      <th>2</th>\n",
       "      <td>2</td>\n",
       "      <td>tragedie</td>\n",
       "    </tr>\n",
       "    <tr>\n",
       "      <th>3</th>\n",
       "      <td>338</td>\n",
       "      <td>of</td>\n",
       "    </tr>\n",
       "    <tr>\n",
       "      <th>4</th>\n",
       "      <td>62</td>\n",
       "      <td>macbeth</td>\n",
       "    </tr>\n",
       "    <tr>\n",
       "      <th>5</th>\n",
       "      <td>49</td>\n",
       "      <td>by</td>\n",
       "    </tr>\n",
       "    <tr>\n",
       "      <th>6</th>\n",
       "      <td>1</td>\n",
       "      <td>william</td>\n",
       "    </tr>\n",
       "    <tr>\n",
       "      <th>7</th>\n",
       "      <td>1</td>\n",
       "      <td>shakespeare</td>\n",
       "    </tr>\n",
       "    <tr>\n",
       "      <th>8</th>\n",
       "      <td>1</td>\n",
       "      <td>1603</td>\n",
       "    </tr>\n",
       "    <tr>\n",
       "      <th>9</th>\n",
       "      <td>4</td>\n",
       "      <td>]</td>\n",
       "    </tr>\n",
       "  </tbody>\n",
       "</table>\n",
       "</div>"
      ],
      "text/plain": [
       "   count         word\n",
       "0      4            [\n",
       "1    650          the\n",
       "2      2     tragedie\n",
       "3    338           of\n",
       "4     62      macbeth\n",
       "5     49           by\n",
       "6      1      william\n",
       "7      1  shakespeare\n",
       "8      1         1603\n",
       "9      4            ]"
      ]
     },
     "execution_count": 36,
     "metadata": {},
     "output_type": "execute_result"
    }
   ],
   "source": [
    "def wordCounter(wordLst):\n",
    "    wordCounts = {}\n",
    "    for word in wordLst:\n",
    "        #We usually need to normalize the case\n",
    "        wLower = word.lower()\n",
    "        if wLower in wordCounts:\n",
    "            wordCounts[wLower] += 1\n",
    "        else:\n",
    "            wordCounts[wLower] = 1\n",
    "    #convert to DataFrame\n",
    "    countsForFrame = {'word' : [], 'count' : []}\n",
    "    for w, c in wordCounts.items():\n",
    "        countsForFrame['word'].append(w)\n",
    "        countsForFrame['count'].append(c)\n",
    "    return pandas.DataFrame(countsForFrame)\n",
    "\n",
    "countedWords = wordCounter(nltk.corpus.gutenberg.words('shakespeare-macbeth.txt'))\n",
    "countedWords[:10]"
   ]
  },
  {
   "cell_type": "markdown",
   "metadata": {},
   "source": [
    "Notice how `wordCounter()` is not a very complicated function. That is because the hard parts have already been done by `nltk`. If we were using unprocessed text we would have to tokenize and determine what to do with the non-word characters.\n",
    "\n",
    "nltk also offers a built-in way for getting a frequency distribution from a list of words:"
   ]
  },
  {
   "cell_type": "code",
   "execution_count": 37,
   "metadata": {},
   "outputs": [
    {
     "name": "stdout",
     "output_type": "stream",
     "text": [
      "62\n"
     ]
    }
   ],
   "source": [
    "words = [word.lower() for word in nltk.corpus.gutenberg.words('shakespeare-macbeth.txt')]\n",
    "freq = nltk.FreqDist(words)\n",
    "print (freq['macbeth'])"
   ]
  },
  {
   "cell_type": "markdown",
   "metadata": {},
   "source": [
    "Lets sort and plot our counts to investigate the shape of our word frequency distribution.\n",
    "\n",
    "First we need to sort the words by count."
   ]
  },
  {
   "cell_type": "code",
   "execution_count": 38,
   "metadata": {},
   "outputs": [
    {
     "data": {
      "text/html": [
       "<div>\n",
       "<style scoped>\n",
       "    .dataframe tbody tr th:only-of-type {\n",
       "        vertical-align: middle;\n",
       "    }\n",
       "\n",
       "    .dataframe tbody tr th {\n",
       "        vertical-align: top;\n",
       "    }\n",
       "\n",
       "    .dataframe thead th {\n",
       "        text-align: right;\n",
       "    }\n",
       "</style>\n",
       "<table border=\"1\" class=\"dataframe\">\n",
       "  <thead>\n",
       "    <tr style=\"text-align: right;\">\n",
       "      <th></th>\n",
       "      <th>count</th>\n",
       "      <th>word</th>\n",
       "    </tr>\n",
       "  </thead>\n",
       "  <tbody>\n",
       "    <tr>\n",
       "      <th>29</th>\n",
       "      <td>1962</td>\n",
       "      <td>,</td>\n",
       "    </tr>\n",
       "    <tr>\n",
       "      <th>12</th>\n",
       "      <td>1235</td>\n",
       "      <td>.</td>\n",
       "    </tr>\n",
       "    <tr>\n",
       "      <th>1</th>\n",
       "      <td>650</td>\n",
       "      <td>the</td>\n",
       "    </tr>\n",
       "    <tr>\n",
       "      <th>36</th>\n",
       "      <td>637</td>\n",
       "      <td>'</td>\n",
       "    </tr>\n",
       "    <tr>\n",
       "      <th>16</th>\n",
       "      <td>546</td>\n",
       "      <td>and</td>\n",
       "    </tr>\n",
       "    <tr>\n",
       "      <th>64</th>\n",
       "      <td>477</td>\n",
       "      <td>:</td>\n",
       "    </tr>\n",
       "    <tr>\n",
       "      <th>54</th>\n",
       "      <td>384</td>\n",
       "      <td>to</td>\n",
       "    </tr>\n",
       "    <tr>\n",
       "      <th>56</th>\n",
       "      <td>348</td>\n",
       "      <td>i</td>\n",
       "    </tr>\n",
       "    <tr>\n",
       "      <th>3</th>\n",
       "      <td>338</td>\n",
       "      <td>of</td>\n",
       "    </tr>\n",
       "    <tr>\n",
       "      <th>27</th>\n",
       "      <td>241</td>\n",
       "      <td>?</td>\n",
       "    </tr>\n",
       "    <tr>\n",
       "      <th>84</th>\n",
       "      <td>241</td>\n",
       "      <td>a</td>\n",
       "    </tr>\n",
       "    <tr>\n",
       "      <th>43</th>\n",
       "      <td>238</td>\n",
       "      <td>that</td>\n",
       "    </tr>\n",
       "    <tr>\n",
       "      <th>153</th>\n",
       "      <td>224</td>\n",
       "      <td>d</td>\n",
       "    </tr>\n",
       "    <tr>\n",
       "      <th>487</th>\n",
       "      <td>206</td>\n",
       "      <td>you</td>\n",
       "    </tr>\n",
       "    <tr>\n",
       "      <th>110</th>\n",
       "      <td>203</td>\n",
       "      <td>my</td>\n",
       "    </tr>\n",
       "    <tr>\n",
       "      <th>28</th>\n",
       "      <td>201</td>\n",
       "      <td>in</td>\n",
       "    </tr>\n",
       "    <tr>\n",
       "      <th>66</th>\n",
       "      <td>188</td>\n",
       "      <td>is</td>\n",
       "    </tr>\n",
       "    <tr>\n",
       "      <th>242</th>\n",
       "      <td>165</td>\n",
       "      <td>not</td>\n",
       "    </tr>\n",
       "    <tr>\n",
       "      <th>122</th>\n",
       "      <td>161</td>\n",
       "      <td>it</td>\n",
       "    </tr>\n",
       "    <tr>\n",
       "      <th>55</th>\n",
       "      <td>153</td>\n",
       "      <td>with</td>\n",
       "    </tr>\n",
       "    <tr>\n",
       "      <th>95</th>\n",
       "      <td>146</td>\n",
       "      <td>his</td>\n",
       "    </tr>\n",
       "    <tr>\n",
       "      <th>45</th>\n",
       "      <td>137</td>\n",
       "      <td>be</td>\n",
       "    </tr>\n",
       "    <tr>\n",
       "      <th>474</th>\n",
       "      <td>137</td>\n",
       "      <td>macb</td>\n",
       "    </tr>\n",
       "    <tr>\n",
       "      <th>37</th>\n",
       "      <td>131</td>\n",
       "      <td>s</td>\n",
       "    </tr>\n",
       "    <tr>\n",
       "      <th>501</th>\n",
       "      <td>126</td>\n",
       "      <td>your</td>\n",
       "    </tr>\n",
       "    <tr>\n",
       "      <th>196</th>\n",
       "      <td>123</td>\n",
       "      <td>our</td>\n",
       "    </tr>\n",
       "    <tr>\n",
       "      <th>413</th>\n",
       "      <td>122</td>\n",
       "      <td>haue</td>\n",
       "    </tr>\n",
       "    <tr>\n",
       "      <th>162</th>\n",
       "      <td>120</td>\n",
       "      <td>but</td>\n",
       "    </tr>\n",
       "    <tr>\n",
       "      <th>87</th>\n",
       "      <td>118</td>\n",
       "      <td>what</td>\n",
       "    </tr>\n",
       "    <tr>\n",
       "      <th>391</th>\n",
       "      <td>113</td>\n",
       "      <td>me</td>\n",
       "    </tr>\n",
       "    <tr>\n",
       "      <th>...</th>\n",
       "      <td>...</td>\n",
       "      <td>...</td>\n",
       "    </tr>\n",
       "    <tr>\n",
       "      <th>105</th>\n",
       "      <td>49</td>\n",
       "      <td>good</td>\n",
       "    </tr>\n",
       "    <tr>\n",
       "      <th>630</th>\n",
       "      <td>49</td>\n",
       "      <td>was</td>\n",
       "    </tr>\n",
       "    <tr>\n",
       "      <th>5</th>\n",
       "      <td>49</td>\n",
       "      <td>by</td>\n",
       "    </tr>\n",
       "    <tr>\n",
       "      <th>289</th>\n",
       "      <td>49</td>\n",
       "      <td>rosse</td>\n",
       "    </tr>\n",
       "    <tr>\n",
       "      <th>880</th>\n",
       "      <td>48</td>\n",
       "      <td>lady</td>\n",
       "    </tr>\n",
       "    <tr>\n",
       "      <th>478</th>\n",
       "      <td>48</td>\n",
       "      <td>t</td>\n",
       "    </tr>\n",
       "    <tr>\n",
       "      <th>567</th>\n",
       "      <td>48</td>\n",
       "      <td>them</td>\n",
       "    </tr>\n",
       "    <tr>\n",
       "      <th>529</th>\n",
       "      <td>46</td>\n",
       "      <td>time</td>\n",
       "    </tr>\n",
       "    <tr>\n",
       "      <th>250</th>\n",
       "      <td>45</td>\n",
       "      <td>if</td>\n",
       "    </tr>\n",
       "    <tr>\n",
       "      <th>104</th>\n",
       "      <td>43</td>\n",
       "      <td>like</td>\n",
       "    </tr>\n",
       "    <tr>\n",
       "      <th>386</th>\n",
       "      <td>43</td>\n",
       "      <td>her</td>\n",
       "    </tr>\n",
       "    <tr>\n",
       "      <th>297</th>\n",
       "      <td>42</td>\n",
       "      <td>should</td>\n",
       "    </tr>\n",
       "    <tr>\n",
       "      <th>306</th>\n",
       "      <td>42</td>\n",
       "      <td>st</td>\n",
       "    </tr>\n",
       "    <tr>\n",
       "      <th>453</th>\n",
       "      <td>42</td>\n",
       "      <td>did</td>\n",
       "    </tr>\n",
       "    <tr>\n",
       "      <th>735</th>\n",
       "      <td>42</td>\n",
       "      <td>let</td>\n",
       "    </tr>\n",
       "    <tr>\n",
       "      <th>116</th>\n",
       "      <td>41</td>\n",
       "      <td>say</td>\n",
       "    </tr>\n",
       "    <tr>\n",
       "      <th>22</th>\n",
       "      <td>40</td>\n",
       "      <td>when</td>\n",
       "    </tr>\n",
       "    <tr>\n",
       "      <th>473</th>\n",
       "      <td>39</td>\n",
       "      <td>banquo</td>\n",
       "    </tr>\n",
       "    <tr>\n",
       "      <th>254</th>\n",
       "      <td>39</td>\n",
       "      <td>were</td>\n",
       "    </tr>\n",
       "    <tr>\n",
       "      <th>49</th>\n",
       "      <td>39</td>\n",
       "      <td>where</td>\n",
       "    </tr>\n",
       "    <tr>\n",
       "      <th>468</th>\n",
       "      <td>39</td>\n",
       "      <td>make</td>\n",
       "    </tr>\n",
       "    <tr>\n",
       "      <th>198</th>\n",
       "      <td>38</td>\n",
       "      <td>o</td>\n",
       "    </tr>\n",
       "    <tr>\n",
       "      <th>230</th>\n",
       "      <td>38</td>\n",
       "      <td>lord</td>\n",
       "    </tr>\n",
       "    <tr>\n",
       "      <th>129</th>\n",
       "      <td>38</td>\n",
       "      <td>doe</td>\n",
       "    </tr>\n",
       "    <tr>\n",
       "      <th>665</th>\n",
       "      <td>37</td>\n",
       "      <td>tis</td>\n",
       "    </tr>\n",
       "    <tr>\n",
       "      <th>30</th>\n",
       "      <td>37</td>\n",
       "      <td>or</td>\n",
       "    </tr>\n",
       "    <tr>\n",
       "      <th>21</th>\n",
       "      <td>36</td>\n",
       "      <td>1</td>\n",
       "    </tr>\n",
       "    <tr>\n",
       "      <th>252</th>\n",
       "      <td>36</td>\n",
       "      <td>must</td>\n",
       "    </tr>\n",
       "    <tr>\n",
       "      <th>489</th>\n",
       "      <td>35</td>\n",
       "      <td>may</td>\n",
       "    </tr>\n",
       "    <tr>\n",
       "      <th>38</th>\n",
       "      <td>35</td>\n",
       "      <td>done</td>\n",
       "    </tr>\n",
       "  </tbody>\n",
       "</table>\n",
       "<p>100 rows × 2 columns</p>\n",
       "</div>"
      ],
      "text/plain": [
       "     count    word\n",
       "29    1962       ,\n",
       "12    1235       .\n",
       "1      650     the\n",
       "36     637       '\n",
       "16     546     and\n",
       "64     477       :\n",
       "54     384      to\n",
       "56     348       i\n",
       "3      338      of\n",
       "27     241       ?\n",
       "84     241       a\n",
       "43     238    that\n",
       "153    224       d\n",
       "487    206     you\n",
       "110    203      my\n",
       "28     201      in\n",
       "66     188      is\n",
       "242    165     not\n",
       "122    161      it\n",
       "55     153    with\n",
       "95     146     his\n",
       "45     137      be\n",
       "474    137    macb\n",
       "37     131       s\n",
       "501    126    your\n",
       "196    123     our\n",
       "413    122    haue\n",
       "162    120     but\n",
       "87     118    what\n",
       "391    113      me\n",
       "..     ...     ...\n",
       "105     49    good\n",
       "630     49     was\n",
       "5       49      by\n",
       "289     49   rosse\n",
       "880     48    lady\n",
       "478     48       t\n",
       "567     48    them\n",
       "529     46    time\n",
       "250     45      if\n",
       "104     43    like\n",
       "386     43     her\n",
       "297     42  should\n",
       "306     42      st\n",
       "453     42     did\n",
       "735     42     let\n",
       "116     41     say\n",
       "22      40    when\n",
       "473     39  banquo\n",
       "254     39    were\n",
       "49      39   where\n",
       "468     39    make\n",
       "198     38       o\n",
       "230     38    lord\n",
       "129     38     doe\n",
       "665     37     tis\n",
       "30      37      or\n",
       "21      36       1\n",
       "252     36    must\n",
       "489     35     may\n",
       "38      35    done\n",
       "\n",
       "[100 rows x 2 columns]"
      ]
     },
     "execution_count": 38,
     "metadata": {},
     "output_type": "execute_result"
    }
   ],
   "source": [
    "#Doing this in place (changing the original DataFrame) as we don't need the unsorted DataFrame\n",
    "countedWords.sort_values('count', ascending=False, inplace=True)\n",
    "countedWords[:100]"
   ]
  },
  {
   "cell_type": "markdown",
   "metadata": {},
   "source": [
    "Punctuation and very common words (articles 'a' and 'the'; prepositions 'of' and 'to') make up the most common values, but this isn't very interesting and can actually get in the way of our analysis. We may remove these 'function words' by removing according to a stopword list, setting some frequency threshold, or using a weighting scheme (like tf.idf) to decrease their influence (all modeled later in this tutorial)."
   ]
  },
  {
   "cell_type": "code",
   "execution_count": 39,
   "metadata": {},
   "outputs": [
    {
     "data": {
      "image/png": "[encoded data removed]",
      "text/plain": [
       "<matplotlib.figure.Figure at 0x1db23058f60>"
      ]
     },
     "metadata": {},
     "output_type": "display_data"
    }
   ],
   "source": [
    "#Creating a figure and axis lets us do things like change the scaling or add a title\n",
    "fig = plt.figure()\n",
    "ax = fig.add_subplot(111)\n",
    "plt.plot(range(len(countedWords)), countedWords['count'])\n",
    "plt.show()"
   ]
  },
  {
   "cell_type": "markdown",
   "metadata": {},
   "source": [
    "This shows that likelihood of a word occurring is inversely proportional to its rank. This effect is called [Zipf's Law](https://en.wikipedia.org/wiki/Zipf%27s_law), and suggests that the most frequent word will occur approximately twice as often as the second most frequent word, three times as often as the third most frequent word, etc. Zipf's law is most easily observed by plotting the data on a log-log graph, with the axes being log (rank order) and log (frequency) resulting in a linear relationship."
   ]
  },
  {
   "cell_type": "code",
   "execution_count": 40,
   "metadata": {},
   "outputs": [
    {
     "data": {
      "image/png": "[encoded data removed]",
      "text/plain": [
       "<matplotlib.figure.Figure at 0x1db23072358>"
      ]
     },
     "metadata": {},
     "output_type": "display_data"
    }
   ],
   "source": [
    "fig = plt.figure()\n",
    "ax = fig.add_subplot(111)\n",
    "plt.plot(range(len(countedWords)), countedWords['count'])\n",
    "ax.set_yscale('log')\n",
    "ax.set_xscale('log')\n",
    "plt.show()"
   ]
  },
  {
   "cell_type": "markdown",
   "metadata": {},
   "source": [
    "(The same relationship occurs in many other rankings, such as population ranks of cities, corporation sizes, income rankings, etc.) \n",
    "\n",
    "The distribution was imagined by Zipf to be driven by a principle of 'least effort' where speakers did not work any harder than necessary to communicate a given idea, but the basis for this relationship is still not well understood and conforms at least as well to a process of [preferential attachment](https://en.wikipedia.org/wiki/Preferential_attachment) whereby people disproportionately attend to popular words.\n",
    "\n",
    "There are many other properties of words we can examine. First lets look surrounding words with the concordance. To do this we need to load the text into a `ConcordanceIndex`"
   ]
  },
  {
   "cell_type": "code",
   "execution_count": 41,
   "metadata": {
    "collapsed": true
   },
   "outputs": [],
   "source": [
    "macbethIndex = nltk.text.ConcordanceIndex(nltk.corpus.gutenberg.words('shakespeare-macbeth.txt'))"
   ]
  },
  {
   "cell_type": "markdown",
   "metadata": {},
   "source": [
    "Then we can retrieve all the words that cooccur with a word in a given word window. Let's first look at `'macbeth'`."
   ]
  },
  {
   "cell_type": "code",
   "execution_count": 42,
   "metadata": {},
   "outputs": [
    {
     "name": "stdout",
     "output_type": "stream",
     "text": [
      "No matches\n"
     ]
    }
   ],
   "source": [
    "macbethIndex.print_concordance('macbeth')"
   ]
  },
  {
   "cell_type": "markdown",
   "metadata": {},
   "source": [
    "Weird?! `'macbeth'` doesn't occur anywhere in the the text. What happened?\n",
    "\n",
    "`ConcordanceIndex` is case sensitive, lets try looking for `'Macbeth'`"
   ]
  },
  {
   "cell_type": "code",
   "execution_count": 43,
   "metadata": {},
   "outputs": [
    {
     "name": "stdout",
     "output_type": "stream",
     "text": [
      "Displaying 25 of 61 matches:\n",
      "                                  Macbeth by William Shakespeare 1603 ] Act\n",
      " the Heath 3 . There to meet with Macbeth 1 . I come , Gray - Malkin All . \n",
      "but all ' s too weake : For braue Macbeth ( well hee deserues that Name ) D\n",
      "smay ' d not this our Captaines , Macbeth and Banquoh ? Cap . Yes , as Spar\n",
      ", And with his former Title greet Macbeth Rosse . Ile see it done King . Wh\n",
      " King . What he hath lost , Noble Macbeth hath wonne . Exeunt . Scena Terti\n",
      "ithin . 3 . A Drumme , a Drumme : Macbeth doth come All . The weyward Siste\n",
      ", the Charme ' s wound vp . Enter Macbeth and Banquo . Macb . So foule and \n",
      "an : what are you ? 1 . All haile Macbeth , haile to thee Thane of Glamis 2\n",
      "hee Thane of Glamis 2 . All haile Macbeth , haile to thee Thane of Cawdor 3\n",
      "hee Thane of Cawdor 3 . All haile Macbeth , that shalt be King hereafter Ba\n",
      ". Hayle 3 . Hayle 1 . Lesser than Macbeth , and greater 2 . Not so happy , \n",
      "hough thou be none : So all haile Macbeth , and Banquo 1 . Banquo , and Mac\n",
      "eth , and Banquo 1 . Banquo , and Macbeth , all haile Macb . Stay you imper\n",
      "he King hath happily receiu ' d , Macbeth , The newes of thy successe : and\n",
      "gh the roughest Day Banq . Worthy Macbeth , wee stay vpon your leysure Macb\n",
      "I built An absolute Trust . Enter Macbeth , Banquo , Rosse , and Angus . O \n",
      "ke , To cry , hold , hold . Enter Macbeth . Great Glamys , worthy Cawdor , \n",
      "ruice ouer the Stage . Then enter Macbeth Macb . If it were done , when ' t\n",
      "re giues way to in repose . Enter Macbeth , and a Seruant with a Torch . Gi\n",
      "hether they liue , or dye . Enter Macbeth . Macb . Who ' s there ? what hoa\n",
      "ard a voyce cry , Sleep no more : Macbeth does murther Sleepe , the innocen\n",
      "ore Cawdor Shall sleepe no more : Macbeth shall sleepe no more Lady . Who w\n",
      " made a Shift to cast him . Enter Macbeth . Macd . Is thy Master stirring ?\n",
      "selues : awake , awake , Exeunt . Macbeth and Lenox . Ring the Alarum Bell \n"
     ]
    }
   ],
   "source": [
    "macbethIndex.print_concordance('Macbeth')"
   ]
  },
  {
   "cell_type": "markdown",
   "metadata": {},
   "source": [
    "That's better. What about something a lot less frequent?"
   ]
  },
  {
   "cell_type": "code",
   "execution_count": 44,
   "metadata": {},
   "outputs": [
    {
     "name": "stdout",
     "output_type": "stream",
     "text": [
      "    count        word\n",
      "80      7  donalbaine\n",
      "Displaying 7 of 7 matches:\n",
      "m within . Enter King Malcome , Donalbaine , Lenox , with attendants , mee\n",
      "Enter King , Lenox , Malcolme , Donalbaine , and Attendants . King . Is ex\n",
      "rches . Enter King , Malcolme , Donalbaine , Banquo , Lenox , Macduff , Ro\n",
      " ' th ' second Chamber ? Lady . Donalbaine Mac . This is a sorry sight Lad\n",
      "er , and Treason , Banquo , and Donalbaine : Malcolme awake , Shake off th\n",
      "to brag of . Enter Malcolme and Donalbaine . Donal . What is amisse ? Macb\n",
      "were subborned , Malcolme , and Donalbaine the Kings two Sonnes Are stolne\n"
     ]
    }
   ],
   "source": [
    "print(countedWords[countedWords['word'] == 'donalbaine'])\n",
    "macbethIndex.print_concordance('Donalbaine')"
   ]
  },
  {
   "cell_type": "markdown",
   "metadata": {},
   "source": [
    "# Getting and working with raw text\n",
    "\n",
    "First, we will retrieve a collection of press releases from a *GitHub API* that archived them, based on a number of analyses by Justin Grimmer, a political scientist whose work we will read next week, and who will be joining the University of Chicago next July!\n",
    "\n",
    "GitHub API requests are made to `'https://api.github.com/'` and responses are in JSON, similar to Tumblr's API.\n",
    "\n",
    "We will get the information on [github.com/lintool/GrimmerSenatePressReleases](https://github.com/lintool/GrimmerSenatePressReleases) as it contains a nice set documents."
   ]
  },
  {
   "cell_type": "code",
   "execution_count": 45,
   "metadata": {},
   "outputs": [
    {
     "name": "stdout",
     "output_type": "stream",
     "text": [
      "dict_keys(['id', 'name', 'full_name', 'owner', 'private', 'html_url', 'description', 'fork', 'url', 'forks_url', 'keys_url', 'collaborators_url', 'teams_url', 'hooks_url', 'issue_events_url', 'events_url', 'assignees_url', 'branches_url', 'tags_url', 'blobs_url', 'git_tags_url', 'git_refs_url', 'trees_url', 'statuses_url', 'languages_url', 'stargazers_url', 'contributors_url', 'subscribers_url', 'subscription_url', 'commits_url', 'git_commits_url', 'comments_url', 'issue_comment_url', 'contents_url', 'compare_url', 'merges_url', 'archive_url', 'downloads_url', 'issues_url', 'pulls_url', 'milestones_url', 'notifications_url', 'labels_url', 'releases_url', 'deployments_url', 'created_at', 'updated_at', 'pushed_at', 'git_url', 'ssh_url', 'clone_url', 'svn_url', 'homepage', 'size', 'stargazers_count', 'watchers_count', 'language', 'has_issues', 'has_projects', 'has_downloads', 'has_wiki', 'has_pages', 'forks_count', 'mirror_url', 'archived', 'open_issues_count', 'license', 'forks', 'open_issues', 'watchers', 'default_branch', 'network_count', 'subscribers_count'])\n",
      "Grimmer's Senate Press Releases\n"
     ]
    }
   ],
   "source": [
    "r = requests.get('https://api.github.com/repos/lintool/GrimmerSenatePressReleases')\n",
    "senateReleasesData = json.loads(r.text)\n",
    "print(senateReleasesData.keys())\n",
    "print(senateReleasesData['description'])"
   ]
  },
  {
   "cell_type": "markdown",
   "metadata": {},
   "source": [
    "What we are interested in here is the `'contents_url'`"
   ]
  },
  {
   "cell_type": "code",
   "execution_count": 46,
   "metadata": {},
   "outputs": [
    {
     "name": "stdout",
     "output_type": "stream",
     "text": [
      "https://api.github.com/repos/lintool/GrimmerSenatePressReleases/contents/{+path}\n"
     ]
    }
   ],
   "source": [
    "print(senateReleasesData['contents_url'])"
   ]
  },
  {
   "cell_type": "markdown",
   "metadata": {},
   "source": [
    "We can use this to get any or all of the files from the repo."
   ]
  },
  {
   "cell_type": "code",
   "execution_count": 47,
   "metadata": {},
   "outputs": [
    {
     "data": {
      "text/plain": [
       "{'_links': {'git': 'https://api.github.com/repos/lintool/GrimmerSenatePressReleases/git/blobs/f524289ee563dca58690c8d36c23dce5dbd9962a',\n",
       "  'html': 'https://github.com/lintool/GrimmerSenatePressReleases/blob/master/raw/Whitehouse/10Apr2007Whitehouse123.txt',\n",
       "  'self': 'https://api.github.com/repos/lintool/GrimmerSenatePressReleases/contents/raw/Whitehouse/10Apr2007Whitehouse123.txt?ref=master'},\n",
       " 'download_url': 'https://raw.githubusercontent.com/lintool/GrimmerSenatePressReleases/master/raw/Whitehouse/10Apr2007Whitehouse123.txt',\n",
       " 'git_url': 'https://api.github.com/repos/lintool/GrimmerSenatePressReleases/git/blobs/f524289ee563dca58690c8d36c23dce5dbd9962a',\n",
       " 'html_url': 'https://github.com/lintool/GrimmerSenatePressReleases/blob/master/raw/Whitehouse/10Apr2007Whitehouse123.txt',\n",
       " 'name': '10Apr2007Whitehouse123.txt',\n",
       " 'path': 'raw/Whitehouse/10Apr2007Whitehouse123.txt',\n",
       " 'sha': 'f524289ee563dca58690c8d36c23dce5dbd9962a',\n",
       " 'size': 2206,\n",
       " 'type': 'file',\n",
       " 'url': 'https://api.github.com/repos/lintool/GrimmerSenatePressReleases/contents/raw/Whitehouse/10Apr2007Whitehouse123.txt?ref=master'}"
      ]
     },
     "execution_count": 47,
     "metadata": {},
     "output_type": "execute_result"
    }
   ],
   "source": [
    "r = requests.get('https://api.github.com/repos/lintool/GrimmerSenatePressReleases/contents/raw/Whitehouse')\n",
    "whitehouseLinks = json.loads(r.text)\n",
    "whitehouseLinks[0]"
   ]
  },
  {
   "cell_type": "markdown",
   "metadata": {},
   "source": [
    "Now we have a list of information about Whitehouse press releases. Let's look at one of them."
   ]
  },
  {
   "cell_type": "code",
   "execution_count": 48,
   "metadata": {},
   "outputs": [
    {
     "name": "stdout",
     "output_type": "stream",
     "text": [
      "SEN. WHITEHOUSE SHARES WESTERLY GIRL'S STORY IN PUSH FOR STEM CELL RESEARCH\n",
      "  Sharing the story of Lila Barber, a 12 year old girl from Westerly, Sen. Sheldon Whitehouse (D-R.I.) on Tuesday, April 10, 2007, illustrated the hope stem cell research can offer in a speech on the Senate floor in favor of legislation to expand federal funding for stem cell research.  \n",
      "   Whitehouse met Lila two weeks ago. She was diagnosed two years ago with osteosarcoma, a cancerous bone condition, and last year underwent cadaver bone transplant surgery. The procedure saved her leg and is helping her remain cancer-free, but the transplanted tissue will not grow with her and likely will break down over time. Stem cell research, Whitehouse explained, could vastly improve the care of patients like Lila by allowing surgeons to enhance transplants with a patient's own stem cells, which could replace the lost bone and cartilage, or grow entirely new replacement bones and joints. \n",
      "   \"Stem cell research gives hope\n"
     ]
    },
    {
     "data": {
      "text/plain": [
       "2206"
      ]
     },
     "execution_count": 48,
     "metadata": {},
     "output_type": "execute_result"
    }
   ],
   "source": [
    "r = requests.get(whitehouseLinks[0]['download_url'])\n",
    "whitehouseRelease = r.text\n",
    "print(whitehouseRelease[:1000])\n",
    "len(whitehouseRelease)"
   ]
  },
  {
   "cell_type": "markdown",
   "metadata": {},
   "source": [
    "Now we have a string of correctly encoded text, similar to those we constructed from last week's assignment. For analysis of its words, next we need to tokenize it, or to split it into a sequence of tokens or word instances."
   ]
  },
  {
   "cell_type": "code",
   "execution_count": 49,
   "metadata": {},
   "outputs": [
    {
     "data": {
      "text/plain": [
       "['STEM',\n",
       " 'CELL',\n",
       " 'RESEARCH',\n",
       " 'Sharing',\n",
       " 'the',\n",
       " 'story',\n",
       " 'of',\n",
       " 'Lila',\n",
       " 'Barber',\n",
       " ',',\n",
       " 'a',\n",
       " '12',\n",
       " 'year',\n",
       " 'old',\n",
       " 'girl',\n",
       " 'from',\n",
       " 'Westerly',\n",
       " ',',\n",
       " 'Sen.',\n",
       " 'Sheldon']"
      ]
     },
     "execution_count": 49,
     "metadata": {},
     "output_type": "execute_result"
    }
   ],
   "source": [
    "whTokens = nltk.word_tokenize(whitehouseRelease)\n",
    "whTokens[10:30]"
   ]
  },
  {
   "cell_type": "markdown",
   "metadata": {},
   "source": [
    "`whTokens` is a list of 'words' constructed from nltk's `word_tokenize` method built on the [Penn Treebank tokenizer](http://www.nltk.org/api/nltk.tokenize.html#module-nltk.tokenize.treebank). While it's better than `.split(' ')`, a general python string method that splits on whitespace, it is not perfect. There are many different ways to tokenize a string. `word_tokenize` is unfortunately unaware of sentences and is essentially a complicated regular expression (regex) run across the string.\n",
    "\n",
    "If we want to find sentences we can use something like `nltk.sent_tokenize()`, which implements the [Punkt Sentence tokenizer](http://www.nltk.org/api/nltk.tokenize.html#nltk.tokenize.punkt.PunktSentenceTokenizer), a machine learning based algorithm that works well for many European languages.\n",
    "\n",
    "We could also use the [Stanford tokenizer](http://www.nltk.org/api/nltk.tokenize.html#module-nltk.tokenize.stanford) or construct our own regex with [`RegexpTokenizer()`](http://www.nltk.org/api/nltk.tokenize.html#module-nltk.tokenize.regexp). Picking the correct tokenizer is important as the tokens form the base of our analysis.\n",
    "\n",
    "For our purposes in this example, the Penn Treebank tokenizer is fine.\n",
    "\n",
    "To use the list of tokens in `nltk`, and take advantage of functions like `concordance`, shown above, we can convert it into a `Text`."
   ]
  },
  {
   "cell_type": "code",
   "execution_count": 50,
   "metadata": {},
   "outputs": [
    {
     "name": "stdout",
     "output_type": "stream",
     "text": [
      "Displaying 5 of 5 matches:\n",
      "rl from Westerly , Sen. Sheldon Whitehouse ( D-R.I. ) on Tuesday , April 1\n",
      "unding for stem cell research . Whitehouse met Lila two weeks ago . She wa\n",
      "ver time . Stem cell research , Whitehouse explained , could vastly improv\n",
      "ch might help or even cure , '' Whitehouse said . Whitehouse also praised \n",
      "ven cure , '' Whitehouse said . Whitehouse also praised the efforts of Rho\n"
     ]
    }
   ],
   "source": [
    "whText = nltk.Text(whTokens)\n",
    "\n",
    "whitehouseIndex = nltk.text.ConcordanceIndex(whText) \n",
    "whitehouseIndex.print_concordance('Whitehouse')"
   ]
  },
  {
   "cell_type": "markdown",
   "metadata": {},
   "source": [
    "*Note* that the `Text` class is for doing rapid, exploratory analysis. It provides an easy interface to many of the operations we want to do, but it does not allow us much control over the particular operations it glosses. When you are doing a more complete analysis, you should be using the module specifically designed for that task instead of the shortcut method `Text` provides, e.g. use  [`collocations` Module](http://www.nltk.org/api/nltk.html#module-nltk.collocations) instead of `.collocations()`.\n",
    "\n",
    "Now that we have gotten this loaded, let's glance at few features we will delve into more deeply later.\n",
    "\n",
    "For example, we can find words that statistically tend to occur together and typically have a composite, idiomatic meaning irreducible to the semantics of its component words. We will do this later with more control over exactly how these are identified."
   ]
  },
  {
   "cell_type": "code",
   "execution_count": 51,
   "metadata": {},
   "outputs": [
    {
     "name": "stdout",
     "output_type": "stream",
     "text": [
      "Rhode Island; stem cells; cell research; Cell Enhancement; Enhancement\n",
      "Act; President Bush; Stem Cell; stem cell; Stem cell\n"
     ]
    }
   ],
   "source": [
    "whText.collocations()"
   ]
  },
  {
   "cell_type": "markdown",
   "metadata": {},
   "source": [
    "Or we can pick a word (or words) and find what words tend to occur around it."
   ]
  },
  {
   "cell_type": "code",
   "execution_count": 52,
   "metadata": {},
   "outputs": [
    {
     "name": "stdout",
     "output_type": "stream",
     "text": [
      "for_cell hope_cell ._cell own_cells ``_cell of_cell on_cells the_cell\n",
      "embryonic_cells\n"
     ]
    }
   ],
   "source": [
    "whText.common_contexts(['stem'])"
   ]
  },
  {
   "cell_type": "markdown",
   "metadata": {},
   "source": [
    "We can also just count the number of times the word occurs."
   ]
  },
  {
   "cell_type": "code",
   "execution_count": 53,
   "metadata": {},
   "outputs": [
    {
     "data": {
      "text/plain": [
       "5"
      ]
     },
     "execution_count": 53,
     "metadata": {},
     "output_type": "execute_result"
    }
   ],
   "source": [
    "whText.count('cell')"
   ]
  },
  {
   "cell_type": "markdown",
   "metadata": {},
   "source": [
    "\n",
    "We can also plot each time a set of words occurs."
   ]
  },
  {
   "cell_type": "code",
   "execution_count": 54,
   "metadata": {},
   "outputs": [
    {
     "data": {
      "image/png": "[encoded data removed]",
      "text/plain": [
       "<matplotlib.figure.Figure at 0x1db264f7588>"
      ]
     },
     "metadata": {},
     "output_type": "display_data"
    }
   ],
   "source": [
    "sns.reset_orig() #Seaborn messes with this plot, disabling it\n",
    "whText.dispersion_plot(['Sen.','stem', 'cell', 'federal' ,'Lila', 'Barber', 'Whitehouse'])\n",
    "sns.set() #Re-enabling seaborn"
   ]
  },
  {
   "cell_type": "markdown",
   "metadata": {},
   "source": [
    "If we want to do an analysis of all the Whitehouse press releases we will first need to obtain them. By looking at the API we can see the the URL we want is [https://api.github.com/repos/lintool/GrimmerSenatePressReleases/contents/raw/Whitehouse](https://api.github.com/repos/lintool/GrimmerSenatePressReleases/contents/raw/Whitehouse), so we can create a function to scrape the individual files.\n",
    "\n",
    "If you want to know more about downloading from APIs, refer back to the 1st notebook."
   ]
  },
  {
   "cell_type": "code",
   "execution_count": 55,
   "metadata": {},
   "outputs": [
    {
     "data": {
      "text/html": [
       "<div>\n",
       "<style scoped>\n",
       "    .dataframe tbody tr th:only-of-type {\n",
       "        vertical-align: middle;\n",
       "    }\n",
       "\n",
       "    .dataframe tbody tr th {\n",
       "        vertical-align: top;\n",
       "    }\n",
       "\n",
       "    .dataframe thead th {\n",
       "        text-align: right;\n",
       "    }\n",
       "</style>\n",
       "<table border=\"1\" class=\"dataframe\">\n",
       "  <thead>\n",
       "    <tr style=\"text-align: right;\">\n",
       "      <th></th>\n",
       "      <th>download_url</th>\n",
       "      <th>html_url</th>\n",
       "      <th>name</th>\n",
       "      <th>path</th>\n",
       "      <th>text</th>\n",
       "    </tr>\n",
       "  </thead>\n",
       "  <tbody>\n",
       "    <tr>\n",
       "      <th>0</th>\n",
       "      <td>https://raw.githubusercontent.com/lintool/Grim...</td>\n",
       "      <td>https://github.com/lintool/GrimmerSenatePressR...</td>\n",
       "      <td>10Apr2007Whitehouse123.txt</td>\n",
       "      <td>raw/Whitehouse/10Apr2007Whitehouse123.txt</td>\n",
       "      <td>SEN. WHITEHOUSE SHARES WESTERLY GIRL'S STORY I...</td>\n",
       "    </tr>\n",
       "    <tr>\n",
       "      <th>1</th>\n",
       "      <td>https://raw.githubusercontent.com/lintool/Grim...</td>\n",
       "      <td>https://github.com/lintool/GrimmerSenatePressR...</td>\n",
       "      <td>10Apr2008Whitehouse2.txt</td>\n",
       "      <td>raw/Whitehouse/10Apr2008Whitehouse2.txt</td>\n",
       "      <td>SEN. WHITEHOUSE SAYS PRESIDENT BUSH MUST BEGIN...</td>\n",
       "    </tr>\n",
       "    <tr>\n",
       "      <th>2</th>\n",
       "      <td>https://raw.githubusercontent.com/lintool/Grim...</td>\n",
       "      <td>https://github.com/lintool/GrimmerSenatePressR...</td>\n",
       "      <td>10Apr2008Whitehouse3.txt</td>\n",
       "      <td>raw/Whitehouse/10Apr2008Whitehouse3.txt</td>\n",
       "      <td>EPA MUST REVIEW LEGAL PROCESS TO ROOT OUT POLI...</td>\n",
       "    </tr>\n",
       "    <tr>\n",
       "      <th>3</th>\n",
       "      <td>https://raw.githubusercontent.com/lintool/Grim...</td>\n",
       "      <td>https://github.com/lintool/GrimmerSenatePressR...</td>\n",
       "      <td>10Aug2007Whitehouse78.txt</td>\n",
       "      <td>raw/Whitehouse/10Aug2007Whitehouse78.txt</td>\n",
       "      <td>R.I. SENATORS PRAISE SEN. DENIAL OF LNG FACILI...</td>\n",
       "    </tr>\n",
       "    <tr>\n",
       "      <th>4</th>\n",
       "      <td>https://raw.githubusercontent.com/lintool/Grim...</td>\n",
       "      <td>https://github.com/lintool/GrimmerSenatePressR...</td>\n",
       "      <td>10Jan2008Whitehouse35.txt</td>\n",
       "      <td>raw/Whitehouse/10Jan2008Whitehouse35.txt</td>\n",
       "      <td>SEN. WHITEHOUSE COMMENTS ON ONE-YEAR ANNIVERSA...</td>\n",
       "    </tr>\n",
       "  </tbody>\n",
       "</table>\n",
       "</div>"
      ],
      "text/plain": [
       "                                        download_url  \\\n",
       "0  https://raw.githubusercontent.com/lintool/Grim...   \n",
       "1  https://raw.githubusercontent.com/lintool/Grim...   \n",
       "2  https://raw.githubusercontent.com/lintool/Grim...   \n",
       "3  https://raw.githubusercontent.com/lintool/Grim...   \n",
       "4  https://raw.githubusercontent.com/lintool/Grim...   \n",
       "\n",
       "                                            html_url  \\\n",
       "0  https://github.com/lintool/GrimmerSenatePressR...   \n",
       "1  https://github.com/lintool/GrimmerSenatePressR...   \n",
       "2  https://github.com/lintool/GrimmerSenatePressR...   \n",
       "3  https://github.com/lintool/GrimmerSenatePressR...   \n",
       "4  https://github.com/lintool/GrimmerSenatePressR...   \n",
       "\n",
       "                         name                                       path  \\\n",
       "0  10Apr2007Whitehouse123.txt  raw/Whitehouse/10Apr2007Whitehouse123.txt   \n",
       "1    10Apr2008Whitehouse2.txt    raw/Whitehouse/10Apr2008Whitehouse2.txt   \n",
       "2    10Apr2008Whitehouse3.txt    raw/Whitehouse/10Apr2008Whitehouse3.txt   \n",
       "3   10Aug2007Whitehouse78.txt   raw/Whitehouse/10Aug2007Whitehouse78.txt   \n",
       "4   10Jan2008Whitehouse35.txt   raw/Whitehouse/10Jan2008Whitehouse35.txt   \n",
       "\n",
       "                                                text  \n",
       "0  SEN. WHITEHOUSE SHARES WESTERLY GIRL'S STORY I...  \n",
       "1  SEN. WHITEHOUSE SAYS PRESIDENT BUSH MUST BEGIN...  \n",
       "2  EPA MUST REVIEW LEGAL PROCESS TO ROOT OUT POLI...  \n",
       "3  R.I. SENATORS PRAISE SEN. DENIAL OF LNG FACILI...  \n",
       "4  SEN. WHITEHOUSE COMMENTS ON ONE-YEAR ANNIVERSA...  "
      ]
     },
     "execution_count": 55,
     "metadata": {},
     "output_type": "execute_result"
    }
   ],
   "source": [
    "def getGithubFiles(target, maxFiles = 100):\n",
    "    #We are setting a max so our examples don't take too long to run\n",
    "    #For converting to a DataFrame\n",
    "    releasesDict = {\n",
    "        'name' : [], #The name of the file\n",
    "        'text' : [], #The text of the file, watch out for binary files\n",
    "        'path' : [], #The path in the git repo to the file\n",
    "        'html_url' : [], #The url to see the file on Github\n",
    "        'download_url' : [], #The url to download the file\n",
    "    }\n",
    "\n",
    "    #Get the directory information from Github\n",
    "    r = requests.get(target)\n",
    "    filesLst = json.loads(r.text)\n",
    "\n",
    "    for fileDict in filesLst[:maxFiles]:\n",
    "        #These are provided by the directory\n",
    "        releasesDict['name'].append(fileDict['name'])\n",
    "        releasesDict['path'].append(fileDict['path'])\n",
    "        releasesDict['html_url'].append(fileDict['html_url'])\n",
    "        releasesDict['download_url'].append(fileDict['download_url'])\n",
    "\n",
    "        #We need to download the text though\n",
    "        text = requests.get(fileDict['download_url']).text\n",
    "        releasesDict['text'].append(text)\n",
    "\n",
    "    return pandas.DataFrame(releasesDict)\n",
    "\n",
    "whReleases = getGithubFiles('https://api.github.com/repos/lintool/GrimmerSenatePressReleases/contents/raw/Whitehouse', maxFiles = 10)\n",
    "whReleases[:5]"
   ]
  },
  {
   "cell_type": "markdown",
   "metadata": {},
   "source": [
    "If you are having trouble downloading the data uncomment this next cell"
   ]
  },
  {
   "cell_type": "code",
   "execution_count": 56,
   "metadata": {
    "collapsed": true
   },
   "outputs": [],
   "source": [
    "#whReleases = pandas.read_csv('../data/whReleases.csv')"
   ]
  },
  {
   "cell_type": "markdown",
   "metadata": {},
   "source": [
    "Now we have all the texts in a DataFrame we can look at a few things.\n",
    "\n",
    "First let's tokenize the texts with the same tokenizer as we used before. We will just save the tokens as a list for now; no need to convert to `Text`s."
   ]
  },
  {
   "cell_type": "code",
   "execution_count": 57,
   "metadata": {
    "collapsed": true
   },
   "outputs": [],
   "source": [
    "whReleases['tokenized_text'] = whReleases['text'].apply(lambda x: nltk.word_tokenize(x))"
   ]
  },
  {
   "cell_type": "markdown",
   "metadata": {},
   "source": [
    "Now lets see how long each of the press releases is:"
   ]
  },
  {
   "cell_type": "code",
   "execution_count": 58,
   "metadata": {},
   "outputs": [
    {
     "data": {
      "text/plain": [
       "0    397\n",
       "1    344\n",
       "2    553\n",
       "3    216\n",
       "4    257\n",
       "5    380\n",
       "6    270\n",
       "7    521\n",
       "8    484\n",
       "9    482\n",
       "Name: word_counts, dtype: int64"
      ]
     },
     "execution_count": 58,
     "metadata": {},
     "output_type": "execute_result"
    }
   ],
   "source": [
    "whReleases['word_counts'] = whReleases['tokenized_text'].apply(lambda x: len(x))\n",
    "whReleases['word_counts']"
   ]
  },
  {
   "cell_type": "markdown",
   "metadata": {},
   "source": [
    "## <span style=\"color:red\">*Exercise 1*</span>\n",
    "\n",
    "<span style=\"color:red\">Construct cells immediately below this that input and interrogate a corpus relating to your anticipated final project. Turn your text into an nltk `Text` object, and explore all of the features examined above, and others that relate to better understanding your corpus in relation to your research question. </span>"
   ]
  },
  {
   "cell_type": "code",
   "execution_count": 59,
   "metadata": {
    "collapsed": true
   },
   "outputs": [],
   "source": [
    "# My project is concerned with how the Vietnam War\n",
    "# is represented in the American imagination, \n",
    "# especially after the fighting is over. \n",
    "# I'm especially interested in how this imaginary changes over time.\n",
    "# The corpus I'll be using for this project is composed of New York Times\n",
    "# articles, selected for mention of Vietnam (or 'Viet Nam'). \n",
    "\n",
    "\n",
    "# For this exercise, I'm going to keep in simple \n",
    "# and read in a single file of New York Times articles. \n",
    "# These cover April to June 1984.\n",
    "\n",
    "with open('C:/Users/Alex/contentAnalysis/vietnam/data/NYT/NYT84.4-6.TXT', encoding = 'utf-8') as f :\n",
    "    eightyFour = f.read()\n",
    "    "
   ]
  },
  {
   "cell_type": "code",
   "execution_count": 60,
   "metadata": {
    "collapsed": true
   },
   "outputs": [],
   "source": [
    "# make into NLTK object, tokenize, and count my precious tokens\n",
    "\n",
    "eightyFourTokens = nltk.word_tokenize(eightyFour)\n",
    "\n",
    "# count 'em\n",
    "\n",
    "def wordCounter(wordList) :\n",
    "    wordCounts = {}\n",
    "    for word in wordList :\n",
    "        wLower = word.lower()\n",
    "        if wLower in wordCounts :\n",
    "            wordCounts[wLower] += 1\n",
    "        else:\n",
    "            wordCounts[wLower] = 1\n",
    "    countsForFrame = {'word' : [], 'count' : []}\n",
    "    for w, c in wordCounts.items() :\n",
    "        countsForFrame['word'].append(w)\n",
    "        countsForFrame['count'].append(c)\n",
    "    return pandas.DataFrame(countsForFrame)\n",
    "\n",
    "eightyFourCount = wordCounter(eightyFourTokens)"
   ]
  },
  {
   "cell_type": "code",
   "execution_count": 61,
   "metadata": {},
   "outputs": [
    {
     "data": {
      "text/html": [
       "<div>\n",
       "<style scoped>\n",
       "    .dataframe tbody tr th:only-of-type {\n",
       "        vertical-align: middle;\n",
       "    }\n",
       "\n",
       "    .dataframe tbody tr th {\n",
       "        vertical-align: top;\n",
       "    }\n",
       "\n",
       "    .dataframe thead th {\n",
       "        text-align: right;\n",
       "    }\n",
       "</style>\n",
       "<table border=\"1\" class=\"dataframe\">\n",
       "  <thead>\n",
       "    <tr style=\"text-align: right;\">\n",
       "      <th></th>\n",
       "      <th>count</th>\n",
       "      <th>word</th>\n",
       "    </tr>\n",
       "  </thead>\n",
       "  <tbody>\n",
       "    <tr>\n",
       "      <th>10</th>\n",
       "      <td>30784</td>\n",
       "      <td>,</td>\n",
       "    </tr>\n",
       "    <tr>\n",
       "      <th>5</th>\n",
       "      <td>30632</td>\n",
       "      <td>the</td>\n",
       "    </tr>\n",
       "    <tr>\n",
       "      <th>65</th>\n",
       "      <td>22847</td>\n",
       "      <td>.</td>\n",
       "    </tr>\n",
       "    <tr>\n",
       "      <th>2</th>\n",
       "      <td>15225</td>\n",
       "      <td>of</td>\n",
       "    </tr>\n",
       "    <tr>\n",
       "      <th>27</th>\n",
       "      <td>11934</td>\n",
       "      <td>to</td>\n",
       "    </tr>\n",
       "    <tr>\n",
       "      <th>61</th>\n",
       "      <td>11895</td>\n",
       "      <td>and</td>\n",
       "    </tr>\n",
       "    <tr>\n",
       "      <th>44</th>\n",
       "      <td>11093</td>\n",
       "      <td>a</td>\n",
       "    </tr>\n",
       "    <tr>\n",
       "      <th>54</th>\n",
       "      <td>10910</td>\n",
       "      <td>in</td>\n",
       "    </tr>\n",
       "    <tr>\n",
       "      <th>46</th>\n",
       "      <td>5912</td>\n",
       "      <td>that</td>\n",
       "    </tr>\n",
       "    <tr>\n",
       "      <th>135</th>\n",
       "      <td>5542</td>\n",
       "      <td>''</td>\n",
       "    </tr>\n",
       "    <tr>\n",
       "      <th>351</th>\n",
       "      <td>4271</td>\n",
       "      <td>is</td>\n",
       "    </tr>\n",
       "    <tr>\n",
       "      <th>63</th>\n",
       "      <td>4170</td>\n",
       "      <td>for</td>\n",
       "    </tr>\n",
       "    <tr>\n",
       "      <th>244</th>\n",
       "      <td>4108</td>\n",
       "      <td>'s</td>\n",
       "    </tr>\n",
       "    <tr>\n",
       "      <th>163</th>\n",
       "      <td>3825</td>\n",
       "      <td>he</td>\n",
       "    </tr>\n",
       "    <tr>\n",
       "      <th>23</th>\n",
       "      <td>3438</td>\n",
       "      <td>by</td>\n",
       "    </tr>\n",
       "    <tr>\n",
       "      <th>101</th>\n",
       "      <td>3420</td>\n",
       "      <td>was</td>\n",
       "    </tr>\n",
       "    <tr>\n",
       "      <th>95</th>\n",
       "      <td>3271</td>\n",
       "      <td>on</td>\n",
       "    </tr>\n",
       "    <tr>\n",
       "      <th>22</th>\n",
       "      <td>3177</td>\n",
       "      <td>:</td>\n",
       "    </tr>\n",
       "    <tr>\n",
       "      <th>117</th>\n",
       "      <td>3022</td>\n",
       "      <td>it</td>\n",
       "    </tr>\n",
       "    <tr>\n",
       "      <th>141</th>\n",
       "      <td>2863</td>\n",
       "      <td>as</td>\n",
       "    </tr>\n",
       "    <tr>\n",
       "      <th>265</th>\n",
       "      <td>2764</td>\n",
       "      <td>with</td>\n",
       "    </tr>\n",
       "    <tr>\n",
       "      <th>280</th>\n",
       "      <td>2746</td>\n",
       "      <td>mr.</td>\n",
       "    </tr>\n",
       "    <tr>\n",
       "      <th>159</th>\n",
       "      <td>2699</td>\n",
       "      <td>his</td>\n",
       "    </tr>\n",
       "    <tr>\n",
       "      <th>128</th>\n",
       "      <td>2542</td>\n",
       "      <td>said</td>\n",
       "    </tr>\n",
       "    <tr>\n",
       "      <th>144</th>\n",
       "      <td>2306</td>\n",
       "      <td>at</td>\n",
       "    </tr>\n",
       "    <tr>\n",
       "      <th>171</th>\n",
       "      <td>2111</td>\n",
       "      <td>from</td>\n",
       "    </tr>\n",
       "    <tr>\n",
       "      <th>148</th>\n",
       "      <td>2087</td>\n",
       "      <td>have</td>\n",
       "    </tr>\n",
       "    <tr>\n",
       "      <th>165</th>\n",
       "      <td>2076</td>\n",
       "      <td>not</td>\n",
       "    </tr>\n",
       "    <tr>\n",
       "      <th>6</th>\n",
       "      <td>2014</td>\n",
       "      <td>new</td>\n",
       "    </tr>\n",
       "    <tr>\n",
       "      <th>440</th>\n",
       "      <td>2012</td>\n",
       "      <td>be</td>\n",
       "    </tr>\n",
       "    <tr>\n",
       "      <th>...</th>\n",
       "      <td>...</td>\n",
       "      <td>...</td>\n",
       "    </tr>\n",
       "    <tr>\n",
       "      <th>594</th>\n",
       "      <td>793</td>\n",
       "      <td>united</td>\n",
       "    </tr>\n",
       "    <tr>\n",
       "      <th>595</th>\n",
       "      <td>793</td>\n",
       "      <td>states</td>\n",
       "    </tr>\n",
       "    <tr>\n",
       "      <th>547</th>\n",
       "      <td>790</td>\n",
       "      <td>she</td>\n",
       "    </tr>\n",
       "    <tr>\n",
       "      <th>558</th>\n",
       "      <td>786</td>\n",
       "      <td>all</td>\n",
       "    </tr>\n",
       "    <tr>\n",
       "      <th>577</th>\n",
       "      <td>772</td>\n",
       "      <td>reagan</td>\n",
       "    </tr>\n",
       "    <tr>\n",
       "      <th>418</th>\n",
       "      <td>771</td>\n",
       "      <td>years</td>\n",
       "    </tr>\n",
       "    <tr>\n",
       "      <th>14</th>\n",
       "      <td>768</td>\n",
       "      <td>city</td>\n",
       "    </tr>\n",
       "    <tr>\n",
       "      <th>50</th>\n",
       "      <td>754</td>\n",
       "      <td>than</td>\n",
       "    </tr>\n",
       "    <tr>\n",
       "      <th>251</th>\n",
       "      <td>744</td>\n",
       "      <td>other</td>\n",
       "    </tr>\n",
       "    <tr>\n",
       "      <th>130</th>\n",
       "      <td>722</td>\n",
       "      <td>n't</td>\n",
       "    </tr>\n",
       "    <tr>\n",
       "      <th>890</th>\n",
       "      <td>715</td>\n",
       "      <td>may</td>\n",
       "    </tr>\n",
       "    <tr>\n",
       "      <th>657</th>\n",
       "      <td>708</td>\n",
       "      <td>soviet</td>\n",
       "    </tr>\n",
       "    <tr>\n",
       "      <th>312</th>\n",
       "      <td>707</td>\n",
       "      <td>people</td>\n",
       "    </tr>\n",
       "    <tr>\n",
       "      <th>162</th>\n",
       "      <td>696</td>\n",
       "      <td>if</td>\n",
       "    </tr>\n",
       "    <tr>\n",
       "      <th>2911</th>\n",
       "      <td>696</td>\n",
       "      <td>her</td>\n",
       "    </tr>\n",
       "    <tr>\n",
       "      <th>564</th>\n",
       "      <td>660</td>\n",
       "      <td>company</td>\n",
       "    </tr>\n",
       "    <tr>\n",
       "      <th>417</th>\n",
       "      <td>645</td>\n",
       "      <td>two</td>\n",
       "    </tr>\n",
       "    <tr>\n",
       "      <th>1013</th>\n",
       "      <td>644</td>\n",
       "      <td>into</td>\n",
       "    </tr>\n",
       "    <tr>\n",
       "      <th>455</th>\n",
       "      <td>629</td>\n",
       "      <td>also</td>\n",
       "    </tr>\n",
       "    <tr>\n",
       "      <th>901</th>\n",
       "      <td>626</td>\n",
       "      <td>no</td>\n",
       "    </tr>\n",
       "    <tr>\n",
       "      <th>296</th>\n",
       "      <td>626</td>\n",
       "      <td>out</td>\n",
       "    </tr>\n",
       "    <tr>\n",
       "      <th>142</th>\n",
       "      <td>617</td>\n",
       "      <td>last</td>\n",
       "    </tr>\n",
       "    <tr>\n",
       "      <th>303</th>\n",
       "      <td>616</td>\n",
       "      <td>our</td>\n",
       "    </tr>\n",
       "    <tr>\n",
       "      <th>391</th>\n",
       "      <td>615</td>\n",
       "      <td>them</td>\n",
       "    </tr>\n",
       "    <tr>\n",
       "      <th>89</th>\n",
       "      <td>614</td>\n",
       "      <td>up</td>\n",
       "    </tr>\n",
       "    <tr>\n",
       "      <th>1</th>\n",
       "      <td>612</td>\n",
       "      <td>1</td>\n",
       "    </tr>\n",
       "    <tr>\n",
       "      <th>221</th>\n",
       "      <td>608</td>\n",
       "      <td>first</td>\n",
       "    </tr>\n",
       "    <tr>\n",
       "      <th>2450</th>\n",
       "      <td>602</td>\n",
       "      <td>?</td>\n",
       "    </tr>\n",
       "    <tr>\n",
       "      <th>652</th>\n",
       "      <td>597</td>\n",
       "      <td>can</td>\n",
       "    </tr>\n",
       "    <tr>\n",
       "      <th>376</th>\n",
       "      <td>591</td>\n",
       "      <td>so</td>\n",
       "    </tr>\n",
       "  </tbody>\n",
       "</table>\n",
       "<p>100 rows × 2 columns</p>\n",
       "</div>"
      ],
      "text/plain": [
       "      count     word\n",
       "10    30784        ,\n",
       "5     30632      the\n",
       "65    22847        .\n",
       "2     15225       of\n",
       "27    11934       to\n",
       "61    11895      and\n",
       "44    11093        a\n",
       "54    10910       in\n",
       "46     5912     that\n",
       "135    5542       ''\n",
       "351    4271       is\n",
       "63     4170      for\n",
       "244    4108       's\n",
       "163    3825       he\n",
       "23     3438       by\n",
       "101    3420      was\n",
       "95     3271       on\n",
       "22     3177        :\n",
       "117    3022       it\n",
       "141    2863       as\n",
       "265    2764     with\n",
       "280    2746      mr.\n",
       "159    2699      his\n",
       "128    2542     said\n",
       "144    2306       at\n",
       "171    2111     from\n",
       "148    2087     have\n",
       "165    2076      not\n",
       "6      2014      new\n",
       "440    2012       be\n",
       "...     ...      ...\n",
       "594     793   united\n",
       "595     793   states\n",
       "547     790      she\n",
       "558     786      all\n",
       "577     772   reagan\n",
       "418     771    years\n",
       "14      768     city\n",
       "50      754     than\n",
       "251     744    other\n",
       "130     722      n't\n",
       "890     715      may\n",
       "657     708   soviet\n",
       "312     707   people\n",
       "162     696       if\n",
       "2911    696      her\n",
       "564     660  company\n",
       "417     645      two\n",
       "1013    644     into\n",
       "455     629     also\n",
       "901     626       no\n",
       "296     626      out\n",
       "142     617     last\n",
       "303     616      our\n",
       "391     615     them\n",
       "89      614       up\n",
       "1       612        1\n",
       "221     608    first\n",
       "2450    602        ?\n",
       "652     597      can\n",
       "376     591       so\n",
       "\n",
       "[100 rows x 2 columns]"
      ]
     },
     "execution_count": 61,
     "metadata": {},
     "output_type": "execute_result"
    }
   ],
   "source": [
    "# display 'em\n",
    "\n",
    "eightyFourCount.sort_values('count', ascending=False, inplace=True)\n",
    "eightyFourCount[:100]"
   ]
  },
  {
   "cell_type": "code",
   "execution_count": 62,
   "metadata": {
    "scrolled": false
   },
   "outputs": [
    {
     "ename": "NameError",
     "evalue": "name 'plot' is not defined",
     "output_type": "error",
     "traceback": [
      "\u001b[1;31m---------------------------------------------------------------------------\u001b[0m",
      "\u001b[1;31mNameError\u001b[0m                                 Traceback (most recent call last)",
      "\u001b[1;32m<ipython-input-62-83ce4d43f120>\u001b[0m in \u001b[0;36m<module>\u001b[1;34m()\u001b[0m\n\u001b[0;32m      5\u001b[0m \u001b[0max\u001b[0m\u001b[1;33m.\u001b[0m\u001b[0mset_yscale\u001b[0m\u001b[1;33m(\u001b[0m\u001b[1;34m'log'\u001b[0m\u001b[1;33m)\u001b[0m\u001b[1;33m\u001b[0m\u001b[0m\n\u001b[0;32m      6\u001b[0m \u001b[0max\u001b[0m\u001b[1;33m.\u001b[0m\u001b[0mset_xscale\u001b[0m\u001b[1;33m(\u001b[0m\u001b[1;34m'log'\u001b[0m\u001b[1;33m)\u001b[0m\u001b[1;33m\u001b[0m\u001b[0m\n\u001b[1;32m----> 7\u001b[1;33m \u001b[0mplot\u001b[0m\u001b[1;33m.\u001b[0m\u001b[0mshow\u001b[0m\u001b[1;33m(\u001b[0m\u001b[1;33m)\u001b[0m\u001b[1;33m\u001b[0m\u001b[0m\n\u001b[0m",
      "\u001b[1;31mNameError\u001b[0m: name 'plot' is not defined"
     ]
    },
    {
     "data": {
      "image/png": "[encoded data removed]",
      "text/plain": [
       "<matplotlib.figure.Figure at 0x1db26652b38>"
      ]
     },
     "metadata": {},
     "output_type": "display_data"
    }
   ],
   "source": [
    "# plot 'em!\n",
    "fig = plt.figure()\n",
    "ax = fig.add_subplot(111)\n",
    "plt.plot(range(len(eightyFourCount)), eightyFourCount['count'])\n",
    "ax.set_yscale('log')\n",
    "ax.set_xscale('log')\n",
    "plot.show()"
   ]
  },
  {
   "cell_type": "code",
   "execution_count": 64,
   "metadata": {},
   "outputs": [
    {
     "name": "stdout",
     "output_type": "stream",
     "text": [
      "Displaying 25 of 40 matches:\n",
      " to her son , an officer reported missing in Vietnam . He does the best he \n",
      " work , Mr. Howell said , she was missing school and falling asleep in clas\n",
      "ation on United States servicemen missing in the Indochina war met today in\n",
      "olicy of isolationism is entirely missing the intention and purpose of thos\n",
      "discuss American servicemen still missing from the Vietnam War . Pentagon o\n",
      "sue of some 2,500 Americans still missing . They said the talks were expect\n",
      "ects as American servicemen still missing in Southeast Asia , the resettlem\n",
      "erican servicemen still listed as missing . Mr. Thach said Thursday that th\n",
      " to help deal with such issues as missing servicemen , the acceleration of \n",
      " Hanoi to inquire about Americans missing in action . Mr. Armitage last vis\n",
      "here , I am concerned that we 're missing issues even more critical , certa\n",
      " return of United States soldiers missing in action , or an accounting for \n",
      "Fairbanks , Roger Culp , had been missing since April 28 . The troopers sai\n",
      "s that night that her husband was missing , she said , they reported that m\n",
      "mbers of their families also were missing . By Friday , the full dimensions\n",
      "nana River in search of the seven missing residents , Manley mourned its mi\n",
      "ng residents , Manley mourned its missing , wondered why the tragedy occurr\n",
      "a memorial service Sunday for the missing and presumed dead people of Manle\n",
      " 2,489 servicemen still listed as missing in action . Government officials \n",
      "e or more fully account for their missing loved ones . For the service path\n",
      " aside from those still listed as missing , the death toll was 58,012 . Wit\n",
      "ay to rest is symbolic of all our missing sons , '' the President said in h\n",
      " and 42 civilians still listed as missing that the Government would not rel\n",
      "account for those still listed as missing . 'We Close No Books' ''We write \n",
      "tic corps and the families of 250 missing servicemen , rose from their seat\n"
     ]
    }
   ],
   "source": [
    "# convert to text\n",
    "\n",
    "eightyFourText = nltk.Text(eightyFourTokens)\n",
    "\n",
    "# I'm especially interested in what Americans thought of \n",
    "# MIA and POWs. let's see concordance for 'missing'\n",
    "# The results show some discussion of the ~2500 US servicemen that were\n",
    "# still listed Missing In Action, almost ten years after the US withdrew\n",
    "# from Vietnam. This is interesting, considering that the ~2500 MIAs from\n",
    "# this war pale in comparison to the tens of thousands never recovered from\n",
    "# WWII and the Korean War.\n",
    "\n",
    "eightyFourIndex = nltk.text.ConcordanceIndex(eightyFourText)\n",
    "eightyFourIndex.print_concordance('missing')"
   ]
  },
  {
   "cell_type": "code",
   "execution_count": 65,
   "metadata": {},
   "outputs": [
    {
     "name": "stdout",
     "output_type": "stream",
     "text": [
      "New York; York Times; United States; Final Edition; 452 DOCUMENTS;\n",
      "Desk LENGTH; City Final; Late City; Copyright 1984; Times Company;\n",
      "Soviet Union; words DATELINE; Mr. Reagan; Agent Orange; Central\n",
      "America; White House; ENGLISH GRAPHIC; Los Angeles; foreign policy;\n",
      "ENGLISH Copyright\n"
     ]
    }
   ],
   "source": [
    "# What about collocations? \n",
    "# Most of these results are obviously spurious. 'Final Edition,' for example\n",
    "# is an artifact of the data source. \n",
    "# That said, 'Agent Orange' and 'Mr. Reagan' are fairly interesting. \n",
    "# In any case, my corpus will have to be stripped of some noise in the future.\n",
    "\n",
    "eightyFourText.collocations()"
   ]
  },
  {
   "cell_type": "code",
   "execution_count": 66,
   "metadata": {},
   "outputs": [
    {
     "name": "stdout",
     "output_type": "stream",
     "text": [
      "reported_in was_school servicemen_in entirely_the still_from still_.\n",
      "still_in as_. as_servicemen americans_in 're_issues soldiers_in\n",
      "been_since was_, were_. seven_residents its_, the_and as_in\n",
      "their_loved\n"
     ]
    }
   ],
   "source": [
    "# what about common contexts for 'missing'? There seem to be a lot of \n",
    "# references to servicemen 'still' missing.\n",
    "\n",
    "eightyFourText.common_contexts(['missing'])"
   ]
  },
  {
   "cell_type": "code",
   "execution_count": 67,
   "metadata": {},
   "outputs": [
    {
     "data": {
      "text/plain": [
       "40"
      ]
     },
     "execution_count": 67,
     "metadata": {},
     "output_type": "execute_result"
    }
   ],
   "source": [
    "# How many times were missing soldiers mentioned? \n",
    "eightyFourText.count('missing')"
   ]
  },
  {
   "cell_type": "code",
   "execution_count": 68,
   "metadata": {},
   "outputs": [
    {
     "data": {
      "image/png": "[encoded data removed]",
      "text/plain": [
       "<matplotlib.figure.Figure at 0x1db3d491978>"
      ]
     },
     "metadata": {},
     "output_type": "display_data"
    }
   ],
   "source": [
    "# I'm also interested in narratives surrounding POWs in relation to\n",
    "# talk about MIAs. \n",
    " \n",
    "sns.reset_orig()\n",
    "eightyFourText.dispersion_plot(['missing', 'prisoner'])\n",
    "sns.set()"
   ]
  },
  {
   "cell_type": "markdown",
   "metadata": {},
   "source": [
    "# Filtering and normalizing text\n",
    "\n",
    "As we want to start comparing the different releases we may choose to do a bit of filtering and normalizing that will allow us to focus on what we most care about. We can first make all of the words lower case, then drop the non-word tokens. Next, we can remove some 'stop words', stem the remaining words to remove suffixes, prefixes and (in some languages) infixes, or lemmatize tokens by intelligently grouping inflected or variant forms of the same word (e.g., with a stemmer and a dictionary). \n",
    "\n",
    "To begin this process, we will first define a function to work over the tokenized lists, then another to add normalized tokens to a new column."
   ]
  },
  {
   "cell_type": "markdown",
   "metadata": {},
   "source": [
    "Nltk has a built-in list of stopwords. They are already imported in the import section. Let's first take a look at what they are."
   ]
  },
  {
   "cell_type": "code",
   "execution_count": 69,
   "metadata": {
    "scrolled": false
   },
   "outputs": [
    {
     "name": "stdout",
     "output_type": "stream",
     "text": [
      "i, me, my, myself, we, our, ours, ourselves, you, you're, you've, you'll, you'd, your, yours, yourself, yourselves, he, him, his, himself, she, she's, her, hers, herself, it, it's, its, itself, they, them, their, theirs, themselves, what, which, who, whom, this, that, that'll, these, those, am, is, are, was, were, be, been, being, have, has, had, having, do, does, did, doing, a, an, the, and, but, if, or, because, as, until, while, of, at, by, for, with, about, against, between, into, through, during, before, after, above, below, to, from, up, down, in, out, on, off, over, under, again, further, then, once, here, there, when, where, why, how, all, any, both, each, few, more, most, other, some, such, no, nor, not, only, own, same, so, than, too, very, s, t, can, will, just, don, don't, should, should've, now, d, ll, m, o, re, ve, y, ain, aren, aren't, couldn, couldn't, didn, didn't, doesn, doesn't, hadn, hadn't, hasn, hasn't, haven, haven't, isn, isn't, ma, mightn, mightn't, mustn, mustn't, needn, needn't, shan, shan't, shouldn, shouldn't, wasn, wasn't, weren, weren't, won, won't, wouldn, wouldn't\n"
     ]
    }
   ],
   "source": [
    "print(', '.join(stopwords.words('english')))"
   ]
  },
  {
   "cell_type": "markdown",
   "metadata": {},
   "source": [
    "We can remove these stopwords from the analysis by fiat, but we could also take a more principled approach by looking at the frequency distribution of words and selecting a specific cut-off associated with the preservation of 'meaningful words' identified upon inspection. Alternatively, we could automatically set a cut-off by rule, such as removal of all words more frequent then the most frequent verb, or the most frequent noun (not pronoun), or some term of central interest. "
   ]
  },
  {
   "cell_type": "markdown",
   "metadata": {},
   "source": [
    "Lets generate our own stop list now."
   ]
  },
  {
   "cell_type": "code",
   "execution_count": 70,
   "metadata": {},
   "outputs": [
    {
     "data": {
      "text/plain": [
       "[('the', 179),\n",
       " (',', 173),\n",
       " ('.', 136),\n",
       " ('of', 112),\n",
       " ('to', 112),\n",
       " ('and', 108),\n",
       " ('in', 64),\n",
       " ('a', 61),\n",
       " (\"'s\", 50),\n",
       " ('that', 41),\n",
       " ('our', 39),\n",
       " ('for', 35),\n",
       " ('on', 33),\n",
       " ('is', 33),\n",
       " ('Whitehouse', 31),\n",
       " ('``', 30),\n",
       " ('Iraq', 28),\n",
       " ('Bush', 27),\n",
       " ('President', 25),\n",
       " ('(', 24)]"
      ]
     },
     "execution_count": 70,
     "metadata": {},
     "output_type": "execute_result"
    }
   ],
   "source": [
    "countsDict = {}\n",
    "for word in whReleases['tokenized_text'].sum():\n",
    "    if word in countsDict:\n",
    "        countsDict[word] += 1\n",
    "    else:\n",
    "        countsDict[word] = 1\n",
    "word_counts = sorted(countsDict.items(), key = lambda x : x[1], reverse = True)\n",
    "word_counts[:20]"
   ]
  },
  {
   "cell_type": "markdown",
   "metadata": {},
   "source": [
    "We can look at this and pick the cutoff, usually it is at the first noun. So we will cut all words before `'Whitehouse'`."
   ]
  },
  {
   "cell_type": "code",
   "execution_count": 71,
   "metadata": {},
   "outputs": [
    {
     "data": {
      "text/plain": [
       "'are'"
      ]
     },
     "execution_count": 71,
     "metadata": {},
     "output_type": "execute_result"
    }
   ],
   "source": [
    "#The stop list is then all words that occur before the first noun\n",
    "stop_words_freq = []\n",
    "for word, count in word_counts:\n",
    "    if word == 'Whitehouse':\n",
    "        break\n",
    "    else:\n",
    "        stop_words_freq.append(word)\n",
    "stop_words_freq\n",
    "wordnet = nltk.stem.WordNetLemmatizer()\n",
    "wordnet.lemmatize('are')"
   ]
  },
  {
   "cell_type": "markdown",
   "metadata": {},
   "source": [
    "Now we can create our function to normalize the tokens"
   ]
  },
  {
   "cell_type": "code",
   "execution_count": 72,
   "metadata": {
    "collapsed": true
   },
   "outputs": [],
   "source": [
    "stop_words_nltk = stopwords.words('english')\n",
    "#stop_words = [\"the\",\"it\",\"she\",\"he\", \"a\"] #Uncomment this line if you want to use your own list of stopwords.\n",
    "\n",
    "#The stemmers and lemmers need to be initialized before bing run\n",
    "porter = nltk.stem.porter.PorterStemmer()\n",
    "snowball = nltk.stem.snowball.SnowballStemmer('english')\n",
    "wordnet = nltk.stem.WordNetLemmatizer()\n",
    "\n",
    "def normlizeTokens(tokenLst, stopwordLst = None, stemmer = None, lemmer = None):\n",
    "    #We can use a generator here as we just need to iterate over it\n",
    "\n",
    "    #Lowering the case and removing non-words\n",
    "    workingIter = (w.lower() for w in tokenLst if w.isalpha())\n",
    "\n",
    "    #Now we can use the semmer, if provided\n",
    "    if stemmer is not None:\n",
    "        workingIter = (stemmer.stem(w) for w in workingIter)\n",
    "        \n",
    "    #And the lemmer\n",
    "    if lemmer is not None:\n",
    "        workingIter = (lemmer.lemmatize(w) for w in workingIter)\n",
    "    \n",
    "    #And remove the stopwords\n",
    "    if stopwordLst is not None:\n",
    "        workingIter = (w for w in workingIter if w not in stopwordLst)\n",
    "    #We will return a list with the stopwords removed\n",
    "    return list(workingIter)\n"
   ]
  },
  {
   "cell_type": "code",
   "execution_count": 73,
   "metadata": {},
   "outputs": [
    {
     "data": {
      "text/html": [
       "<div>\n",
       "<style scoped>\n",
       "    .dataframe tbody tr th:only-of-type {\n",
       "        vertical-align: middle;\n",
       "    }\n",
       "\n",
       "    .dataframe tbody tr th {\n",
       "        vertical-align: top;\n",
       "    }\n",
       "\n",
       "    .dataframe thead th {\n",
       "        text-align: right;\n",
       "    }\n",
       "</style>\n",
       "<table border=\"1\" class=\"dataframe\">\n",
       "  <thead>\n",
       "    <tr style=\"text-align: right;\">\n",
       "      <th></th>\n",
       "      <th>download_url</th>\n",
       "      <th>html_url</th>\n",
       "      <th>name</th>\n",
       "      <th>path</th>\n",
       "      <th>text</th>\n",
       "      <th>tokenized_text</th>\n",
       "      <th>word_counts</th>\n",
       "      <th>normalized_tokens</th>\n",
       "      <th>normalized_tokens_count</th>\n",
       "    </tr>\n",
       "  </thead>\n",
       "  <tbody>\n",
       "    <tr>\n",
       "      <th>0</th>\n",
       "      <td>https://raw.githubusercontent.com/lintool/Grim...</td>\n",
       "      <td>https://github.com/lintool/GrimmerSenatePressR...</td>\n",
       "      <td>10Apr2007Whitehouse123.txt</td>\n",
       "      <td>raw/Whitehouse/10Apr2007Whitehouse123.txt</td>\n",
       "      <td>SEN. WHITEHOUSE SHARES WESTERLY GIRL'S STORY I...</td>\n",
       "      <td>[SEN., WHITEHOUSE, SHARES, WESTERLY, GIRL, 'S,...</td>\n",
       "      <td>397</td>\n",
       "      <td>[whitehous, share, westerli, girl, stori, push...</td>\n",
       "      <td>231</td>\n",
       "    </tr>\n",
       "    <tr>\n",
       "      <th>1</th>\n",
       "      <td>https://raw.githubusercontent.com/lintool/Grim...</td>\n",
       "      <td>https://github.com/lintool/GrimmerSenatePressR...</td>\n",
       "      <td>10Apr2008Whitehouse2.txt</td>\n",
       "      <td>raw/Whitehouse/10Apr2008Whitehouse2.txt</td>\n",
       "      <td>SEN. WHITEHOUSE SAYS PRESIDENT BUSH MUST BEGIN...</td>\n",
       "      <td>[SEN., WHITEHOUSE, SAYS, PRESIDENT, BUSH, MUST...</td>\n",
       "      <td>344</td>\n",
       "      <td>[whitehous, say, presid, bush, must, begin, br...</td>\n",
       "      <td>171</td>\n",
       "    </tr>\n",
       "    <tr>\n",
       "      <th>2</th>\n",
       "      <td>https://raw.githubusercontent.com/lintool/Grim...</td>\n",
       "      <td>https://github.com/lintool/GrimmerSenatePressR...</td>\n",
       "      <td>10Apr2008Whitehouse3.txt</td>\n",
       "      <td>raw/Whitehouse/10Apr2008Whitehouse3.txt</td>\n",
       "      <td>EPA MUST REVIEW LEGAL PROCESS TO ROOT OUT POLI...</td>\n",
       "      <td>[EPA, MUST, REVIEW, LEGAL, PROCESS, TO, ROOT, ...</td>\n",
       "      <td>553</td>\n",
       "      <td>[epa, must, review, legal, process, root, poli...</td>\n",
       "      <td>305</td>\n",
       "    </tr>\n",
       "    <tr>\n",
       "      <th>3</th>\n",
       "      <td>https://raw.githubusercontent.com/lintool/Grim...</td>\n",
       "      <td>https://github.com/lintool/GrimmerSenatePressR...</td>\n",
       "      <td>10Aug2007Whitehouse78.txt</td>\n",
       "      <td>raw/Whitehouse/10Aug2007Whitehouse78.txt</td>\n",
       "      <td>R.I. SENATORS PRAISE SEN. DENIAL OF LNG FACILI...</td>\n",
       "      <td>[R.I, ., SENATORS, PRAISE, SEN, ., DENIAL, OF,...</td>\n",
       "      <td>216</td>\n",
       "      <td>[senat, prais, sen, denial, lng, facil, permit...</td>\n",
       "      <td>115</td>\n",
       "    </tr>\n",
       "    <tr>\n",
       "      <th>4</th>\n",
       "      <td>https://raw.githubusercontent.com/lintool/Grim...</td>\n",
       "      <td>https://github.com/lintool/GrimmerSenatePressR...</td>\n",
       "      <td>10Jan2008Whitehouse35.txt</td>\n",
       "      <td>raw/Whitehouse/10Jan2008Whitehouse35.txt</td>\n",
       "      <td>SEN. WHITEHOUSE COMMENTS ON ONE-YEAR ANNIVERSA...</td>\n",
       "      <td>[SEN., WHITEHOUSE, COMMENTS, ON, ONE-YEAR, ANN...</td>\n",
       "      <td>257</td>\n",
       "      <td>[whitehous, comment, anniversari, presid, bush...</td>\n",
       "      <td>132</td>\n",
       "    </tr>\n",
       "    <tr>\n",
       "      <th>5</th>\n",
       "      <td>https://raw.githubusercontent.com/lintool/Grim...</td>\n",
       "      <td>https://github.com/lintool/GrimmerSenatePressR...</td>\n",
       "      <td>10Mar2008Whitehouse8.txt</td>\n",
       "      <td>raw/Whitehouse/10Mar2008Whitehouse8.txt</td>\n",
       "      <td>SENS. REED, WHITEHOUSE WELCOME RHODE ISLAND ST...</td>\n",
       "      <td>[SENS, ., REED, ,, WHITEHOUSE, WELCOME, RHODE,...</td>\n",
       "      <td>380</td>\n",
       "      <td>[sen, reed, whitehous, welcom, rhode, island, ...</td>\n",
       "      <td>195</td>\n",
       "    </tr>\n",
       "    <tr>\n",
       "      <th>6</th>\n",
       "      <td>https://raw.githubusercontent.com/lintool/Grim...</td>\n",
       "      <td>https://github.com/lintool/GrimmerSenatePressR...</td>\n",
       "      <td>10Sep2007Whitehouse72.txt</td>\n",
       "      <td>raw/Whitehouse/10Sep2007Whitehouse72.txt</td>\n",
       "      <td>REP. WHITEHOUSE ISSUES STATEMENT ON GEN. PETRA...</td>\n",
       "      <td>[REP., WHITEHOUSE, ISSUES, STATEMENT, ON, GEN....</td>\n",
       "      <td>270</td>\n",
       "      <td>[whitehous, issu, statement, petraeu, iraq, re...</td>\n",
       "      <td>118</td>\n",
       "    </tr>\n",
       "    <tr>\n",
       "      <th>7</th>\n",
       "      <td>https://raw.githubusercontent.com/lintool/Grim...</td>\n",
       "      <td>https://github.com/lintool/GrimmerSenatePressR...</td>\n",
       "      <td>11Apr2007Whitehouse122.txt</td>\n",
       "      <td>raw/Whitehouse/11Apr2007Whitehouse122.txt</td>\n",
       "      <td>SEN. WHITEHOUSE URGES BUSH FOR NEW DIRECTION I...</td>\n",
       "      <td>[SEN., WHITEHOUSE, URGES, BUSH, FOR, NEW, DIRE...</td>\n",
       "      <td>521</td>\n",
       "      <td>[whitehous, urg, bush, new, direct, iraq, shel...</td>\n",
       "      <td>257</td>\n",
       "    </tr>\n",
       "    <tr>\n",
       "      <th>8</th>\n",
       "      <td>https://raw.githubusercontent.com/lintool/Grim...</td>\n",
       "      <td>https://github.com/lintool/GrimmerSenatePressR...</td>\n",
       "      <td>11Jan2007Whitehouse161.txt</td>\n",
       "      <td>raw/Whitehouse/11Jan2007Whitehouse161.txt</td>\n",
       "      <td>SENS. REED, WHITEHOUSE URGE PORTUGAL TO RECONS...</td>\n",
       "      <td>[SENS, ., REED, ,, WHITEHOUSE, URGE, PORTUGAL,...</td>\n",
       "      <td>484</td>\n",
       "      <td>[sen, reed, whitehous, urg, portug, reconsid, ...</td>\n",
       "      <td>254</td>\n",
       "    </tr>\n",
       "    <tr>\n",
       "      <th>9</th>\n",
       "      <td>https://raw.githubusercontent.com/lintool/Grim...</td>\n",
       "      <td>https://github.com/lintool/GrimmerSenatePressR...</td>\n",
       "      <td>11Mar2008Whitehouse7.txt</td>\n",
       "      <td>raw/Whitehouse/11Mar2008Whitehouse7.txt</td>\n",
       "      <td>WHITEHOUSE UNVEILS 'BUSH DEBT': $7.7 TRILLION ...</td>\n",
       "      <td>[WHITEHOUSE, UNVEILS, 'BUSH, DEBT, ', :, $, 7....</td>\n",
       "      <td>482</td>\n",
       "      <td>[whitehous, unveil, debt, trillion, foregon, s...</td>\n",
       "      <td>260</td>\n",
       "    </tr>\n",
       "  </tbody>\n",
       "</table>\n",
       "</div>"
      ],
      "text/plain": [
       "                                        download_url  \\\n",
       "0  https://raw.githubusercontent.com/lintool/Grim...   \n",
       "1  https://raw.githubusercontent.com/lintool/Grim...   \n",
       "2  https://raw.githubusercontent.com/lintool/Grim...   \n",
       "3  https://raw.githubusercontent.com/lintool/Grim...   \n",
       "4  https://raw.githubusercontent.com/lintool/Grim...   \n",
       "5  https://raw.githubusercontent.com/lintool/Grim...   \n",
       "6  https://raw.githubusercontent.com/lintool/Grim...   \n",
       "7  https://raw.githubusercontent.com/lintool/Grim...   \n",
       "8  https://raw.githubusercontent.com/lintool/Grim...   \n",
       "9  https://raw.githubusercontent.com/lintool/Grim...   \n",
       "\n",
       "                                            html_url  \\\n",
       "0  https://github.com/lintool/GrimmerSenatePressR...   \n",
       "1  https://github.com/lintool/GrimmerSenatePressR...   \n",
       "2  https://github.com/lintool/GrimmerSenatePressR...   \n",
       "3  https://github.com/lintool/GrimmerSenatePressR...   \n",
       "4  https://github.com/lintool/GrimmerSenatePressR...   \n",
       "5  https://github.com/lintool/GrimmerSenatePressR...   \n",
       "6  https://github.com/lintool/GrimmerSenatePressR...   \n",
       "7  https://github.com/lintool/GrimmerSenatePressR...   \n",
       "8  https://github.com/lintool/GrimmerSenatePressR...   \n",
       "9  https://github.com/lintool/GrimmerSenatePressR...   \n",
       "\n",
       "                         name                                       path  \\\n",
       "0  10Apr2007Whitehouse123.txt  raw/Whitehouse/10Apr2007Whitehouse123.txt   \n",
       "1    10Apr2008Whitehouse2.txt    raw/Whitehouse/10Apr2008Whitehouse2.txt   \n",
       "2    10Apr2008Whitehouse3.txt    raw/Whitehouse/10Apr2008Whitehouse3.txt   \n",
       "3   10Aug2007Whitehouse78.txt   raw/Whitehouse/10Aug2007Whitehouse78.txt   \n",
       "4   10Jan2008Whitehouse35.txt   raw/Whitehouse/10Jan2008Whitehouse35.txt   \n",
       "5    10Mar2008Whitehouse8.txt    raw/Whitehouse/10Mar2008Whitehouse8.txt   \n",
       "6   10Sep2007Whitehouse72.txt   raw/Whitehouse/10Sep2007Whitehouse72.txt   \n",
       "7  11Apr2007Whitehouse122.txt  raw/Whitehouse/11Apr2007Whitehouse122.txt   \n",
       "8  11Jan2007Whitehouse161.txt  raw/Whitehouse/11Jan2007Whitehouse161.txt   \n",
       "9    11Mar2008Whitehouse7.txt    raw/Whitehouse/11Mar2008Whitehouse7.txt   \n",
       "\n",
       "                                                text  \\\n",
       "0  SEN. WHITEHOUSE SHARES WESTERLY GIRL'S STORY I...   \n",
       "1  SEN. WHITEHOUSE SAYS PRESIDENT BUSH MUST BEGIN...   \n",
       "2  EPA MUST REVIEW LEGAL PROCESS TO ROOT OUT POLI...   \n",
       "3  R.I. SENATORS PRAISE SEN. DENIAL OF LNG FACILI...   \n",
       "4  SEN. WHITEHOUSE COMMENTS ON ONE-YEAR ANNIVERSA...   \n",
       "5  SENS. REED, WHITEHOUSE WELCOME RHODE ISLAND ST...   \n",
       "6  REP. WHITEHOUSE ISSUES STATEMENT ON GEN. PETRA...   \n",
       "7  SEN. WHITEHOUSE URGES BUSH FOR NEW DIRECTION I...   \n",
       "8  SENS. REED, WHITEHOUSE URGE PORTUGAL TO RECONS...   \n",
       "9  WHITEHOUSE UNVEILS 'BUSH DEBT': $7.7 TRILLION ...   \n",
       "\n",
       "                                      tokenized_text  word_counts  \\\n",
       "0  [SEN., WHITEHOUSE, SHARES, WESTERLY, GIRL, 'S,...          397   \n",
       "1  [SEN., WHITEHOUSE, SAYS, PRESIDENT, BUSH, MUST...          344   \n",
       "2  [EPA, MUST, REVIEW, LEGAL, PROCESS, TO, ROOT, ...          553   \n",
       "3  [R.I, ., SENATORS, PRAISE, SEN, ., DENIAL, OF,...          216   \n",
       "4  [SEN., WHITEHOUSE, COMMENTS, ON, ONE-YEAR, ANN...          257   \n",
       "5  [SENS, ., REED, ,, WHITEHOUSE, WELCOME, RHODE,...          380   \n",
       "6  [REP., WHITEHOUSE, ISSUES, STATEMENT, ON, GEN....          270   \n",
       "7  [SEN., WHITEHOUSE, URGES, BUSH, FOR, NEW, DIRE...          521   \n",
       "8  [SENS, ., REED, ,, WHITEHOUSE, URGE, PORTUGAL,...          484   \n",
       "9  [WHITEHOUSE, UNVEILS, 'BUSH, DEBT, ', :, $, 7....          482   \n",
       "\n",
       "                                   normalized_tokens  normalized_tokens_count  \n",
       "0  [whitehous, share, westerli, girl, stori, push...                      231  \n",
       "1  [whitehous, say, presid, bush, must, begin, br...                      171  \n",
       "2  [epa, must, review, legal, process, root, poli...                      305  \n",
       "3  [senat, prais, sen, denial, lng, facil, permit...                      115  \n",
       "4  [whitehous, comment, anniversari, presid, bush...                      132  \n",
       "5  [sen, reed, whitehous, welcom, rhode, island, ...                      195  \n",
       "6  [whitehous, issu, statement, petraeu, iraq, re...                      118  \n",
       "7  [whitehous, urg, bush, new, direct, iraq, shel...                      257  \n",
       "8  [sen, reed, whitehous, urg, portug, reconsid, ...                      254  \n",
       "9  [whitehous, unveil, debt, trillion, foregon, s...                      260  "
      ]
     },
     "execution_count": 73,
     "metadata": {},
     "output_type": "execute_result"
    }
   ],
   "source": [
    "whReleases['normalized_tokens'] = whReleases['tokenized_text'].apply(lambda x: normlizeTokens(x, stopwordLst = stop_words_nltk, stemmer = porter))\n",
    "\n",
    "whReleases['normalized_tokens_count'] = whReleases['normalized_tokens'].apply(lambda x: len(x))\n",
    "\n",
    "whReleases"
   ]
  },
  {
   "cell_type": "markdown",
   "metadata": {},
   "source": [
    "The stemmer we use here is called the [Porter Stemmer](http://www.nltk.org/api/nltk.stem.html#module-nltk.stem.porter), there are many others, including another good one by the same person (Martin Porter) called the [Snowball Stemmer](http://www.nltk.org/api/nltk.stem.html#module-nltk.stem.snowball) or 'another stemmer' called the [Lancaster Stemmer](http://www.nltk.org/_modules/nltk/stem/lancaster.html). We can also normalize our words by lemmatizing them, or matching word variants or inflected forms to a common morpheme in a dictionary like [WordNet](https://wordnet.princeton.edu) through intelligent stemming rules. (The WordNet function `morphy` returns the given word if it cannot be matched to a word in the dictionary).\n",
    "\n",
    "Now that it is cleaned we start analyzing the dataset. We can start by finding frequency distributions for the dataset. Lets start looking at all the press releases together. The [`ConditionalFreqDist`](http://www.nltk.org/api/nltk.html#nltk.probability.ConditionalProbDist) class reads in an iterable of tuples, the first element is the condition and the second the focal word. For starters, we will use word lengths as the conditions, but tags or clusters will provide more useful results."
   ]
  },
  {
   "cell_type": "code",
   "execution_count": 74,
   "metadata": {},
   "outputs": [
    {
     "name": "stdout",
     "output_type": "stream",
     "text": [
      "2038\n"
     ]
    }
   ],
   "source": [
    "#.sum() adds together the lists from each row into a single list\n",
    "whcfdist = nltk.ConditionalFreqDist(((len(w), w) for w in whReleases['normalized_tokens'].sum()))\n",
    "\n",
    "#print the number of words\n",
    "print(whcfdist.N())"
   ]
  },
  {
   "cell_type": "markdown",
   "metadata": {},
   "source": [
    "From this we can lookup the distributions of different word lengths"
   ]
  },
  {
   "cell_type": "code",
   "execution_count": 75,
   "metadata": {},
   "outputs": [
    {
     "data": {
      "image/png": "[encoded data removed]",
      "text/plain": [
       "<matplotlib.figure.Figure at 0x1db41b23f28>"
      ]
     },
     "metadata": {},
     "output_type": "display_data"
    }
   ],
   "source": [
    "whcfdist[3].plot()"
   ]
  },
  {
   "cell_type": "markdown",
   "metadata": {},
   "source": [
    "See that the most frequent 3-character word is \"thi\". But what is \"thi\"? It is actually \"this\" stemmed by the Porter Stemmer. "
   ]
  },
  {
   "cell_type": "code",
   "execution_count": 76,
   "metadata": {},
   "outputs": [
    {
     "name": "stdout",
     "output_type": "stream",
     "text": [
      "thi\n"
     ]
    }
   ],
   "source": [
    "porter = nltk.stem.porter.PorterStemmer()\n",
    "print (porter.stem('this'))"
   ]
  },
  {
   "cell_type": "markdown",
   "metadata": {},
   "source": [
    "Let's try with the Snowball Stemer. See that \"this\" is corretly stemmed as a 4-character word. "
   ]
  },
  {
   "cell_type": "code",
   "execution_count": 77,
   "metadata": {},
   "outputs": [
    {
     "name": "stdout",
     "output_type": "stream",
     "text": [
      "this\n"
     ]
    },
    {
     "data": {
      "image/png": "[encoded data removed]",
      "text/plain": [
       "<matplotlib.figure.Figure at 0x1db41bb16d8>"
      ]
     },
     "metadata": {},
     "output_type": "display_data"
    }
   ],
   "source": [
    "print (snowball.stem('this'))\n",
    "\n",
    "whReleases['normalized_tokens'] = whReleases['tokenized_text'].apply(lambda x: normlizeTokens(x, stopwordLst = stop_words_nltk, stemmer = snowball))\n",
    "whReleases['normalized_tokens_count'] = whReleases['normalized_tokens'].apply(lambda x: len(x))\n",
    "whcfdist = nltk.ConditionalFreqDist(((len(w), w) for w in whReleases['normalized_tokens'].sum()))\n",
    "whcfdist[3].plot()"
   ]
  },
  {
   "cell_type": "markdown",
   "metadata": {},
   "source": [
    "We can also create a Conditional Probability Distribution or [`ConditionalProbDist`](http://www.nltk.org/api/nltk.html#nltk.probability.ConditionalProbDist) from the `ConditionalFreqDist`. To do this, however, we need a model for the probability distribution. A simple model is [`ELEProbDist`](http://www.nltk.org/api/nltk.html#nltk.probability.ELEProbDist) which gives the expected likelihood estimate for the probability distribution of the experiment used to generate the observed frequency distribution. "
   ]
  },
  {
   "cell_type": "code",
   "execution_count": 78,
   "metadata": {},
   "outputs": [
    {
     "name": "stdout",
     "output_type": "stream",
     "text": [
      "us\n",
      "0.6470588235294118\n"
     ]
    }
   ],
   "source": [
    "whcpdist = nltk.ConditionalProbDist(whcfdist, nltk.ELEProbDist)\n",
    "\n",
    "#print the most common 2 letter word\n",
    "print(whcpdist[2].max())\n",
    "\n",
    "#And its probability\n",
    "print(whcpdist[2].prob(whcpdist[2].max()))"
   ]
  },
  {
   "cell_type": "markdown",
   "metadata": {},
   "source": [
    "Length is one feature of a word, but there are many more important features we care about. Another critical feature is a word's role in the sentence, or its part of speech (POS). Here, we will be classifying words according to their part of speech (POS), using the [`nltk.pos_tag()`](http://www.nltk.org/api/nltk.tag.html#nltk.tag.pos_tag). The tags used here are those from the [Brown Corpus tagset](http://www.scs.leeds.ac.uk/amalgam/tagsets/brown.html)."
   ]
  },
  {
   "cell_type": "code",
   "execution_count": 79,
   "metadata": {
    "collapsed": true
   },
   "outputs": [],
   "source": [
    "whReleases['normalized_tokens_POS'] = [nltk.pos_tag(t) for t in whReleases['normalized_tokens']]"
   ]
  },
  {
   "cell_type": "markdown",
   "metadata": {},
   "source": [
    "This gives us a new column with the part of speech as a short initialism and the word in a tuple, exactly how the `nltk.ConditionalFreqDist()` function wants them. We can now construct another conditional frequency distribution."
   ]
  },
  {
   "cell_type": "code",
   "execution_count": 80,
   "metadata": {},
   "outputs": [
    {
     "data": {
      "text/plain": [
       "[('whitehous', FreqDist({'JJ': 39, 'NN': 1})),\n",
       " ('share', FreqDist({'NN': 4})),\n",
       " ('wester', FreqDist({'NN': 1, 'RBR': 1})),\n",
       " ('girl', FreqDist({'NN': 2})),\n",
       " ('stori', FreqDist({'FW': 2})),\n",
       " ('push', FreqDist({'NN': 2})),\n",
       " ('stem', FreqDist({'NN': 12})),\n",
       " ('cell', FreqDist({'NN': 9, 'VBP': 3})),\n",
       " ('research', FreqDist({'NN': 9})),\n",
       " ('lila', FreqDist({'CD': 1, 'JJ': 1, 'NN': 2}))]"
      ]
     },
     "execution_count": 80,
     "metadata": {},
     "output_type": "execute_result"
    }
   ],
   "source": [
    "whcfdist_WordtoPOS = nltk.ConditionalFreqDist(whReleases['normalized_tokens_POS'].sum())\n",
    "list(whcfdist_WordtoPOS.items())[:10]"
   ]
  },
  {
   "cell_type": "markdown",
   "metadata": {},
   "source": [
    "This gives the frequency of each word as each part of speech...which can be uninformative and boring."
   ]
  },
  {
   "cell_type": "code",
   "execution_count": 81,
   "metadata": {},
   "outputs": [
    {
     "data": {
      "image/png": "[encoded data removed]",
      "text/plain": [
       "<matplotlib.figure.Figure at 0x1db3d4b2da0>"
      ]
     },
     "metadata": {},
     "output_type": "display_data"
    }
   ],
   "source": [
    "whcfdist_WordtoPOS['administr'].plot()"
   ]
  },
  {
   "cell_type": "markdown",
   "metadata": {},
   "source": [
    "What we want is the converse; the frequency of each part of speech for each word."
   ]
  },
  {
   "cell_type": "code",
   "execution_count": 82,
   "metadata": {
    "collapsed": true
   },
   "outputs": [],
   "source": [
    "whcfdist_POStoWord = nltk.ConditionalFreqDist((p, w) for w, p in whReleases['normalized_tokens_POS'].sum())"
   ]
  },
  {
   "cell_type": "markdown",
   "metadata": {},
   "source": [
    "We can now identify and collect all of the superlative adjectives"
   ]
  },
  {
   "cell_type": "code",
   "execution_count": 83,
   "metadata": {},
   "outputs": [
    {
     "data": {
      "text/plain": [
       "FreqDist({'best': 1, 'strongest': 2})"
      ]
     },
     "execution_count": 83,
     "metadata": {},
     "output_type": "execute_result"
    }
   ],
   "source": [
    "whcfdist_POStoWord['JJS']"
   ]
  },
  {
   "cell_type": "markdown",
   "metadata": {},
   "source": [
    "Or look at the most common nouns"
   ]
  },
  {
   "cell_type": "code",
   "execution_count": 84,
   "metadata": {},
   "outputs": [
    {
     "data": {
      "text/plain": [
       "[('bush', 24), ('presid', 23), ('iraq', 22), ('rhode', 18), ('island', 18)]"
      ]
     },
     "execution_count": 84,
     "metadata": {},
     "output_type": "execute_result"
    }
   ],
   "source": [
    "whcfdist_POStoWord['NN'].most_common(5)"
   ]
  },
  {
   "cell_type": "markdown",
   "metadata": {},
   "source": [
    "Or plot the base form verbs against their number of occurrences"
   ]
  },
  {
   "cell_type": "code",
   "execution_count": 85,
   "metadata": {},
   "outputs": [
    {
     "data": {
      "image/png": "[encoded data removed]",
      "text/plain": [
       "<matplotlib.figure.Figure at 0x1db41b23ac8>"
      ]
     },
     "metadata": {},
     "output_type": "display_data"
    }
   ],
   "source": [
    "whcfdist_POStoWord['VB'].plot()"
   ]
  },
  {
   "cell_type": "markdown",
   "metadata": {},
   "source": [
    "We can then do a similar analysis of the word probabilities"
   ]
  },
  {
   "cell_type": "code",
   "execution_count": 86,
   "metadata": {},
   "outputs": [
    {
     "name": "stdout",
     "output_type": "stream",
     "text": [
      "bush\n",
      "0.017844136926438457\n"
     ]
    }
   ],
   "source": [
    "whcpdist_POStoWord = nltk.ConditionalProbDist(whcfdist_POStoWord, nltk.ELEProbDist)\n",
    "\n",
    "#print the most common nouns\n",
    "print(whcpdist_POStoWord['NN'].max())\n",
    "\n",
    "#And its probability\n",
    "print(whcpdist_POStoWord['NN'].prob(whcpdist_POStoWord['NN'].max()))"
   ]
  },
  {
   "cell_type": "markdown",
   "metadata": {},
   "source": [
    "We can even create a...wait for it...*WORD CLOUD* or Wordl to gaze at and draw mystical, approximate inferences about important nouns and verbs in our corpus:"
   ]
  },
  {
   "cell_type": "code",
   "execution_count": 90,
   "metadata": {},
   "outputs": [
    {
     "data": {
      "image/png": "[encoded data removed]",
      "text/plain": [
       "<matplotlib.figure.Figure at 0x1db436aec50>"
      ]
     },
     "metadata": {},
     "output_type": "display_data"
    }
   ],
   "source": [
    "wc = wordcloud.WordCloud(background_color=\"white\", max_words=500, width= 1000, height = 1000, mode ='RGBA', scale=.5).generate(' '.join(whReleases['normalized_tokens'].sum()))\n",
    "plt.imshow(wc)\n",
    "plt.axis(\"off\")\n",
    "plt.savefig(\"whitehouse_word_cloud.pdf\", format = 'pdf')"
   ]
  },
  {
   "cell_type": "markdown",
   "metadata": {},
   "source": [
    "## <span style=\"color:red\">*Exercise 2*</span>\n",
    "\n",
    "<span style=\"color:red\">Construct cells immediately below this that filter, stem and lemmatize the tokens in your corpus, and then creates plots (with titles and labels) that map the word frequency distribution, word probability distribution, and at least two conditional probability distributions that help us better understand the social and cultural game underlying the production of your corpus. Create a wordl of words (or normalized words) and add a few vague comments about what mysteries are revealed through it.</span>"
   ]
  },
  {
   "cell_type": "code",
   "execution_count": 91,
   "metadata": {
    "collapsed": true
   },
   "outputs": [],
   "source": [
    "# for this exercise, I'll use my whole corpus. \n",
    "\n",
    "# first, some packages I need\n",
    "import os\n",
    "from os import listdir\n",
    "from os.path import isfile, join\n",
    "import re"
   ]
  },
  {
   "cell_type": "code",
   "execution_count": 92,
   "metadata": {
    "collapsed": true
   },
   "outputs": [],
   "source": [
    "# now, define some useful objects:\n",
    "\n",
    "targetDir = 'C:/Users/Alex/contentAnalysis/content-analysis-2018/data/NYT'\n",
    "\n",
    "# article regex = r'(DOCUMENTS)(.*?)(The New York Times Company)'\n",
    "# date regex = r'^(DOCUMENTS)(.*?)(,)(Monday|Tuesday|Wednesday|Thursday|Friday|Saturday|Sunday)$'\n",
    "\n",
    "def getText(x):\n",
    "    reResults = re.findall(r'(DOCUMENTS)(.*?)(The New York Times Company)', x.replace('\\n', ' '), flags = re.M)\n",
    "    return[t[1] for t in reResults]\n",
    "\n",
    "def getDate(x) :\n",
    "    reResults = re.findall(r'(DOCUMENTS)(.*?)(Monday|Tuesday|Wednesday|Thursday|Friday|Saturday|Sunday)', x.replace('\\n', ' '))\n",
    "    return[t[1] for t in reResults]"
   ]
  },
  {
   "cell_type": "code",
   "execution_count": 93,
   "metadata": {
    "collapsed": true
   },
   "outputs": [],
   "source": [
    "# next, turn New York Times articles into DTM (article text by date published)\n",
    "\n",
    "\n",
    "nytText = []\n",
    "nytDate = []\n",
    "\n",
    "\n",
    "for file in (file for file in os.scandir(targetDir) if file.is_file() and not file.name.startswith('.')):\n",
    "    with open(file.path, encoding='utf-8') as f:\n",
    "        workingText = f.read()\n",
    "        workingText = str(workingText)\n",
    "        goodText = getText(workingText)\n",
    "        date = getDate(workingText)\n",
    "        nytText += goodText\n",
    "        nytDate += date\n",
    "        #break\n",
    "        \n",
    "        \n",
    "# for some reason, I have one more date than I have articles.\n",
    "# Will figure this out later. For now:\n",
    "nytDF = pandas.DataFrame({'date' : nytDate[:-1], 'article' : nytText})\n"
   ]
  },
  {
   "cell_type": "code",
   "execution_count": 94,
   "metadata": {},
   "outputs": [
    {
     "name": "stdout",
     "output_type": "stream",
     "text": [
      "                                                 article  \\\n",
      "0                                         NEW YORK TI...   \n",
      "1                                         NEW YORK TI...   \n",
      "2                                         NEW YORK TI...   \n",
      "3                                         NEW YORK TI...   \n",
      "4                                         NEW YORK TI...   \n",
      "5                                         NEW YORK TI...   \n",
      "6                                         NEW YORK TI...   \n",
      "7                                         NEW YORK TI...   \n",
      "8                                         NEW YORK TI...   \n",
      "9                                         NEW YORK TI...   \n",
      "10                                        NEW YORK TI...   \n",
      "11                                        NEW YORK TI...   \n",
      "12                                        NEW YORK TI...   \n",
      "13                                        NEW YORK TI...   \n",
      "14                                        NEW YORK TI...   \n",
      "15                                        NEW YORK TI...   \n",
      "16                                        NEW YORK TI...   \n",
      "17                                        NEW YORK TI...   \n",
      "18                                        NEW YORK TI...   \n",
      "19                                        NEW YORK TI...   \n",
      "20                                        NEW YORK TI...   \n",
      "21                                        NEW YORK TI...   \n",
      "22                                        NEW YORK TI...   \n",
      "23                                        NEW YORK TI...   \n",
      "24                                        NEW YORK TI...   \n",
      "25                                        NEW YORK TI...   \n",
      "26                                        NEW YORK TI...   \n",
      "27                                        NEW YORK TI...   \n",
      "28                                        NEW YORK TI...   \n",
      "29                                        NEW YORK TI...   \n",
      "...                                                  ...   \n",
      "25822                                   The New York ...   \n",
      "25823                                   The New York ...   \n",
      "25824                                   The New York ...   \n",
      "25825                                   The New York ...   \n",
      "25826                                   The New York ...   \n",
      "25827                                   The New York ...   \n",
      "25828                                   The New York ...   \n",
      "25829                                   The New York ...   \n",
      "25830                                   The New York ...   \n",
      "25831                                   The New York ...   \n",
      "25832                                   The New York ...   \n",
      "25833                                   The New York ...   \n",
      "25834                                   The New York ...   \n",
      "25835                                   The New York ...   \n",
      "25836                                   The New York ...   \n",
      "25837                                   The New York ...   \n",
      "25838                                   The New York ...   \n",
      "25839                                   The New York ...   \n",
      "25840                                   The New York ...   \n",
      "25841                                   The New York ...   \n",
      "25842                                   The New York ...   \n",
      "25843                                   The New York ...   \n",
      "25844                                   The New York ...   \n",
      "25845                                   The New York ...   \n",
      "25846                                   The New York ...   \n",
      "25847                                   The New York ...   \n",
      "25848                                   The New York ...   \n",
      "25849                                   The New York ...   \n",
      "25850                                   The New York ...   \n",
      "25851                                   The New York ...   \n",
      "\n",
      "                                                    date  \n",
      "0                                         NEW YORK TI...  \n",
      "1                                         NEW YORK TI...  \n",
      "2                                         NEW YORK TI...  \n",
      "3                                         NEW YORK TI...  \n",
      "4                                         NEW YORK TI...  \n",
      "5                                         NEW YORK TI...  \n",
      "6                                         NEW YORK TI...  \n",
      "7                                         NEW YORK TI...  \n",
      "8                                         NEW YORK TI...  \n",
      "9                                         NEW YORK TI...  \n",
      "10                                        NEW YORK TI...  \n",
      "11                                        NEW YORK TI...  \n",
      "12                                        NEW YORK TI...  \n",
      "13                                        NEW YORK TI...  \n",
      "14                                        NEW YORK TI...  \n",
      "15                                        NEW YORK TI...  \n",
      "16                                        NEW YORK TI...  \n",
      "17                                        NEW YORK TI...  \n",
      "18                                        NEW YORK TI...  \n",
      "19                                        NEW YORK TI...  \n",
      "20                                        NEW YORK TI...  \n",
      "21                                        NEW YORK TI...  \n",
      "22                                        NEW YORK TI...  \n",
      "23                                        NEW YORK TI...  \n",
      "24                                        NEW YORK TI...  \n",
      "25                                        NEW YORK TI...  \n",
      "26                                        NEW YORK TI...  \n",
      "27                                        NEW YORK TI...  \n",
      "28                                        NEW YORK TI...  \n",
      "29                                        NEW YORK TI...  \n",
      "...                                                  ...  \n",
      "25822                                   The New York ...  \n",
      "25823                                   The New York ...  \n",
      "25824                                   The New York ...  \n",
      "25825                                   The New York ...  \n",
      "25826                                   The New York ...  \n",
      "25827                                   The New York ...  \n",
      "25828                                   The New York ...  \n",
      "25829                                   The New York ...  \n",
      "25830                                   The New York ...  \n",
      "25831                                   The New York ...  \n",
      "25832                                   The New York ...  \n",
      "25833                                   The New York ...  \n",
      "25834                                   The New York ...  \n",
      "25835                                   The New York ...  \n",
      "25836                                   The New York ...  \n",
      "25837                                   The New York ...  \n",
      "25838                                   The New York ...  \n",
      "25839                                   The New York ...  \n",
      "25840                                   The New York ...  \n",
      "25841                                   The New York ...  \n",
      "25842                                   The New York ...  \n",
      "25843                                   The New York ...  \n",
      "25844                                   The New York ...  \n",
      "25845                                   The New York ...  \n",
      "25846                                   The New York ...  \n",
      "25847                                   The New York ...  \n",
      "25848                                   The New York ...  \n",
      "25849                                   The New York ...  \n",
      "25850                                   The New York ...  \n",
      "25851                                   The New York ...  \n",
      "\n",
      "[25852 rows x 2 columns]\n"
     ]
    }
   ],
   "source": [
    "print(nytDF)"
   ]
  },
  {
   "cell_type": "code",
   "execution_count": 95,
   "metadata": {
    "collapsed": true
   },
   "outputs": [],
   "source": [
    "# Next, define still more useful objects - this time for cleaning\n",
    "# these helper functions don't make everything perfectly beautiful...\n",
    "# but they'll do for now!\n",
    "\n",
    "\n",
    "# strip out NYT title upper case\n",
    "def cleanerUpper(x):\n",
    "    return re.sub(r'\\s+NEW YORK TIMES\\s+', '', x)\n",
    "\n",
    "# strip out NYT title lower case\n",
    "def cleanerLower(x):\n",
    "    return re.sub(r'\\s+The New York Times\\s+', '', x)\n",
    "\n",
    "#strip out useless text\n",
    "def cleanerText(x):\n",
    "    return re.sub(r'(January|February|March|April|May|June|July|August|September|October|November|December)(.*?)(LENGTH:)', '', x)\n",
    "\n",
    "# strip out copyright and year\n",
    "def cleanerCopy(x):\n",
    "    return re.sub(r'(Copyright)\\s+(\\d{4})', '', x)\n",
    "\n",
    "# simply the date\n",
    "def cleanerYear(x):\n",
    "    return re.sub(r'(\\D+)\\s(\\d{1,2})\\W', '', x)\n",
    "\n",
    "def destroyComma(x):\n",
    "    return re.sub(r',', '', x)"
   ]
  },
  {
   "cell_type": "code",
   "execution_count": 96,
   "metadata": {
    "collapsed": true
   },
   "outputs": [],
   "source": [
    "# finally, clean this bad boy\n",
    "\n",
    "# clean dates\n",
    "# NB for simplicity's sake, I'm making year published my unit of observation\n",
    "nytDF['date'] = nytDF['date'].apply(cleanerUpper)\n",
    "nytDF['date'] = nytDF['date'].apply(cleanerLower)\n",
    "nytDF['date'] = nytDF['date'].apply(cleanerYear)\n",
    "nytDF['date'] = nytDF['date'].apply(destroyComma)\n",
    "\n",
    "#clean articles\n",
    "nytDF['article'] = nytDF['article'].apply(cleanerUpper)\n",
    "nytDF['article'] = nytDF['article'].apply(cleanerLower)\n",
    "nytDF['article'] = nytDF['article'].apply(cleanerText)\n",
    "nytDF['article'] = nytDF['article'].apply(cleanerCopy)\n"
   ]
  },
  {
   "cell_type": "code",
   "execution_count": 97,
   "metadata": {},
   "outputs": [
    {
     "data": {
      "text/plain": [
       "25852"
      ]
     },
     "execution_count": 97,
     "metadata": {},
     "output_type": "execute_result"
    }
   ],
   "source": [
    "# print to show off a little\n",
    "len(nytDF)"
   ]
  },
  {
   "cell_type": "code",
   "execution_count": 98,
   "metadata": {},
   "outputs": [
    {
     "name": "stdout",
     "output_type": "stream",
     "text": [
      "                                                 article    date\n",
      "0       105 words  S Vietnamese House of Reprs, by na...   1970 \n",
      "1       105 words  US rept (as of Dec 20, 1969) of 9 ...   1970 \n",
      "2       25 words  Unusual methods used by US brigade ...   1970 \n",
      "3       79 words  Internatl Press Inst '69 press free...   1970 \n",
      "4       124 words  Vice Pres Agnew on Far East tour t...   1970 \n",
      "5       18 words  Sen H Williams makes unannounced vi...   1970 \n",
      "6       63 words  Army announces it will try Sgt D Mi...   1970 \n",
      "7       30 words  C L Sulzberger holds Laos is most s...   1970 \n",
      "8       54 words  Lr, commenting on James Reston Dec ...   1970 \n",
      "9       199 words  George C Wallace, who headed 3d pa...   1970 \n",
      "10      40 words  Vietcong issues communique describi...   1970 \n",
      "11      42 words  H Ross Perot expresses disappointme...   1970 \n",
      "12      61 words  Allied and enemy forces expected to...   1970 \n",
      "13      38 words  S Vietnamese militant Buddhist fact...   1970 \n",
      "14      32 words  Deserted ammunition ship Badger Sta...   1970 \n",
      "15      126 words  Vice Pres Agnew visits wounded US ...   1970 \n",
      "16      69 words  Ed deplores tendency of US Army aut...   1970 \n",
      "17      14 words  S Vietnamese servicemen and civil s...   1970 \n",
      "18      45 words  US troops kill 16 enemy in sharp cl...   1970 \n",
      "19      28 words  Article on relaxed atmosphere in Ha...   1970 \n",
      "20      35 words  Consensus in Saigon said to be that...   1970 \n",
      "21      104 words  Vice Pres Agnew arrives, Taipei; g...   1970 \n",
      "22      15 words  Comment on N Vietnamese mil strateg...   1970 \n",
      "23      18 words  Comment on S Vietnamese House vote ...   1970 \n",
      "24      10 words  Lr says N Vietnam and USSR are aggr...   1970 \n",
      "25      33 words  Lr, commenting on Nov 30 articles b...   1970 \n",
      "26      25 words  Lawyer Carl McAfee, representing 28...   1970 \n",
      "27      36 words  Negro soldier Billy H Terry Jr, kil...   1970 \n",
      "28      59 words  Pres Nixon thanks Bob Hope for his ...   1970 \n",
      "29      12 words  James Forest and another Amer reach...   1970 \n",
      "...                                                  ...     ...\n",
      "25822   198 words    SHIFTING LOYALTIES By Daniel Can...   1995 \n",
      "25823   1659 words   Like many of his classmates, Ran...   1995 \n",
      "25824   530 words  DATELINE: RICHMOND, Sept. 18   A b...   1995 \n",
      "25825  September 19, 1995, Tuesday, Late Edition - Fi...   1995 \n",
      "25826   1484 words   AT the Pho Bang restaurant at 11...   1995 \n",
      "25827   914 words   VIETNAMESE cuisine is whetting ap...   1995 \n",
      "25828   216 words   To the Editor:  Robert S. McNamar...   1995 \n",
      "25829   185 words   To the Editor:  Robert S. McNamar...   1995 \n",
      "25830   1222 words  DATELINE: PARAMARIBO, Suriname   ...   1995 \n",
      "25831   297 words   Critics' choices of some other Ma...   1995 \n",
      "25832   712 words   And now for something truly diffe...   1995 \n",
      "25833   1016 words    Genes, Blood and Courage A Boy ...   1995 \n",
      "25834   838 words   There has never been a better tim...   1995 \n",
      "25835   174 words  DATELINE: HANOI, Vietnam, Sept. 21...   1995 \n",
      "25836   1270 words  DATELINE: MIAMI, Sept. 22   After...   1995 \n",
      "25837   719 words   Here is news you may not be dying...   1995 \n",
      "25838   1053 words    FUN AT THE JAYS'  Friends of th...   1995 \n",
      "25839   104 words   As soon as I saw your editorializ...   1995 \n",
      "25840   1277 words  DATELINE: WASHINGTON   AS Newt Gi...   1995 \n",
      "25841   904 words   Her daughter's life crammed into ...   1995 \n",
      "25842   1236 words  DATELINE: LOS ANGELES, Sept. 23  ...   1995 \n",
      "25843   714 words  DATELINE: TRENTON, Sept. 21   For ...   1995 \n",
      "25844   736 words  DATELINE: WASHINGTON   The Jewish ...   1995 \n",
      "25845   359 words   WITH the wisdom that hindsight af...   1995 \n",
      "25846   881 words    HUDDLE FEVER Living in the Immig...   1995 \n",
      "25847   767 words  DATELINE: WASHINGTON, Sept. 26   T...   1995 \n",
      "25848   389 words   A New Jersey businessman implicat...   1995 \n",
      "25849   973 words  DATELINE: WASHINGTON, Sept. 28   F...   1995 \n",
      "25850   897 words   The 33d New York Film Festival op...   1995 \n",
      "25851   761 words   There is a reason the terms \"soph...   1995 \n",
      "\n",
      "[25852 rows x 2 columns]\n"
     ]
    }
   ],
   "source": [
    "# show off a little more\n",
    "print(nytDF)"
   ]
  },
  {
   "cell_type": "code",
   "execution_count": 99,
   "metadata": {
    "collapsed": true
   },
   "outputs": [],
   "source": [
    "# now I'll tokenize each article, storing in a new column\n",
    "\n",
    "# big time tokenization\n",
    "nytDF['tokenized-article'] = nytDF.apply(lambda row: nltk.word_tokenize(row['article']), axis=1)\n"
   ]
  },
  {
   "cell_type": "code",
   "execution_count": 100,
   "metadata": {},
   "outputs": [
    {
     "name": "stdout",
     "output_type": "stream",
     "text": [
      "['1302', 'words', 'Sobered', 'by', 'the', 'hail', 'of', 'missiles', 'on', 'Israel', 'but', 'proud', 'in', 'a', 'subdued', 'way', 'about', 'America', \"'s\", 'early', 'military', 'success', 'in', 'the', 'Persian', 'Gulf', ',', 'men', 'and', 'women', 'around', 'the', 'nation', 'drew', 'close', 'yesterday', 'on', 'the', 'first', 'full', 'day', 'of', 'war', '.', 'Waking', 'from', 'a', 'short', 'night', 'of', 'sleep', 'that', 'was', 'interrupted', 'by', 'hours', 'in', 'front', 'of', 'the', 'television', 'or', 'by', 'worried', 'dreams', ',', 'Americans', 'did', 'what', 'they', 'always', 'do', 'in', 'crisis', ':', 'reached', 'out', 'for', 'each', 'other', 'and', 'marked', 'in', 'their', 'mental', 'calendars', 'where', 'they', 'had', 'been', 'and', 'what', 'they', 'were', 'doing', 'at', 'the', 'moment', 'history', 'was', 'made', '.', 'They', 'awoke', 'yesterday', 'morning', 'to', 'what', 'was', 'to', 'many', 'of', 'them', 'surprising', 'news', ':', 'the', 'military', 'that', '11', 'years', 'ago', 'had', 'embarrassed', 'itself', 'on', 'the', 'deserts', 'of', 'the', 'Mideast', 'in', 'a', 'bungled', 'mission', 'to', 'rescue', 'hostages', 'in', 'Iran', 'had', 'this', 'time', 'carried', 'off', 'what', 'seemed', 'for', 'the', 'moment', 'to', 'be', 'a', 'job', 'well', 'done', ',', 'a', 'huge', 'air', 'attack', 'against', 'Iraq', 'that', 'Pentagon', 'officials', 'said', 'destroyed', 'important', 'targets', 'and', 'cost', 'only', 'one', 'American', 'life', 'in', 'the', 'first', '24', 'hours', '.', 'But', 'by', 'nightfall', ',', 'with', 'Israel', 'under', 'attack', ',', 'Americans', 'gasped', 'at', 'a', 'volatile', 'situation', 'that', 'had', 'turned', 'so', 'suddenly', 'from', 'promise', 'to', 'peril', ',', 'at', 'the', 'reminder', 'that', 'their', 'country', 'and', 'its', 'allies', 'had', 'begun', 'a', 'journey', 'of', 'unknown', 'consequence', 'and', 'duration', '.', '``', 'I', \"'m\", 'real', 'afraid', 'that', 'it', \"'s\", 'sort', 'of', 'a', 'World', 'War', 'III', 'scenario', 'at', 'this', 'point', ',', \"''\", 'said', 'Robert', 'G.', 'Aberg', ',', 'a', 'psychologist', 'in', 'Dallas', '.', '``', 'When', 'all', 'this', 'is', 'over', ',', 'there', 'are', \"n't\", 'going', 'to', 'be', 'any', 'winners', '.', 'How', 'is', 'this', 'going', 'to', 'settle', 'out', '?', \"''\", 'Hours', 'earlier', ',', 'on', 'a', 'day', 'that', 'began', 'with', 'almost', 'smug', 'admiration', 'for', 'the', 'efficiency', ',', 'precision', 'and', 'technological', 'aplomb', 'of', 'the', 'early', 'bombing', 'runs', ',', 'Mr.', 'Aberg', ',', 'like', 'so', 'many', 'Americans', ',', 'was', '``', 'real', 'proud', 'and', 'relieved', 'that', 'things', 'seem', 'to', 'be', 'going', 'so', 'well', 'militarily', '.', \"''\", 'Positive', 'Reactions', 'Andrew', 'Dawson', ',', 'the', 'manager', 'of', 'a', 'fine', 'arts', 'ticket', 'service', 'in', 'Houston', ',', 'said', ':', '``', 'War', 'goes', 'against', 'the', 'most', 'traditional', 'of', 'my', 'feelings', '.', 'I', \"'ve\", 'never', 'been', 'able', 'to', 'support', 'military', 'action', ',', 'but', 'something', 'else', 'came', 'over', 'me', 'as', 'I', 'watched', 'this', 'unfold', '.', 'I', \"'m\", 'seeing', 'that', 'a', 'fast', 'and', 'a', 'direct', 'action', 'can', 'save', 'lives', '.', \"''\", 'From', 'the', 'morning', 'of', 'optimism', 'to', 'the', 'evening', 'of', 'fear', ',', 'Americans', 'came', 'together', 'in', 'a', 'search', 'for', 'community', ',', 'flocking', 'to', 'houses', 'of', 'worship', 'to', 'pray', 'and', 'to', 'blood', 'banks', 'to', 'send', 'solace', 'to', 'the', 'troops', 'in', 'a', 'most', 'basic', 'and', 'symbolic', 'way', '.', 'Searching', 'for', 'meaning', ',', 'they', 'vented', 'a', 'jumble', 'of', 'emotions', 'to', 'radio', 'talk', 'show', 'hosts', 'and', 'lifelong', 'friends', '.', 'And', 'searching', 'for', 'information', ',', 'they', 'snatched', 'newspapers', 'off', 'the', 'stands', 'as', 'fast', 'as', 'they', 'were', 'delivered', 'and', 'stayed', 'close', 'to', 'their', 'television', 'sets', '.', 'All', 'of', 'this', 'seemed', 'a', 'way', 'to', 'join', 'hands', 'with', 'their', 'fellow', 'Americans', 'now', 'that', 'the', 'war', ',', 'so', 'long', 'awaited', ',', 'had', 'actually', 'begun', '.', '``', 'It', \"'s\", 'like', 'in', 'a', 'family', 'when', 'some', 'trauma', 'happens', ',', \"''\", 'Mr.', 'Aberg', 'said', '.', '``', 'It', 'brings', 'into', 'focus', 'your', 'common', 'bonds', '.', \"''\", 'President', 'Bush', 'quickly', 'won', 'high', 'praise', 'for', 'directing', 'the', 'swift', 'and', 'sure', 'attack', ',', 'starting', 'just', '17', 'hours', 'after', 'the', 'United', 'Nations', 'deadline', 'for', 'Iraq', 'to', 'withdraw', 'from', 'Kuwait', 'or', 'face', 'the', 'threat', 'of', 'military', 'action', '.', 'But', 'final', 'judgment', 'was', 'still', 'days', ',', 'weeks', ',', 'or', 'even', 'months', 'away', '.', 'Before', 'any', 'of', 'the', 'reports', 'of', 'counterattacks', ',', 'Randy', 'Denton', ',', 'an', 'insurance', 'executive', 'from', 'Maryland', ',', 'said', 'of', 'the', 'President', ':', '``', 'I', 'respect', 'him', 'for', 'making', 'the', 'decision', 'and', 'taking', 'the', 'full', 'brunt', 'of', 'it', 'if', 'it', 'went', 'badly', '.', 'He', 'will', 'make', 'his', 'mark', 'in', 'history', 'because', 'of', 'this', '.', \"''\", 'Support', 'for', 'Bush', ',', 'but', 'Cautiously', 'Early', 'support', 'for', 'the', 'President', 'was', 'evident', 'in', 'a', 'Gallup', 'Poll', 'of', '895', 'Americans', ',', 'conducted', 'within', 'minutes', 'of', 'Mr.', 'Bush', \"'s\", 'address', 'to', 'the', 'nation', 'on', 'Wednesday', 'night', '.', 'Eighty-one', 'percent', 'of', 'those', 'polled', 'said', 'they', 'approved', 'of', 'the', 'way', 'Mr.', 'Bush', 'was', 'handling', 'the', 'situtation', 'in', 'the', 'gulf', ',', 'with', '12', 'percent', 'disapproving', '.', 'But', 'some', 'Americans', 'yesterday', 'emphasized', 'the', 'uncertainity', 'of', 'war', ',', 'the', 'folly', 'of', 'being', 'too', 'pleased', 'too', 'soon', '.', '``', 'It', \"'s\", 'so', 'premature', 'to', 'evaluate', 'how', 'this', 'thing', 'is', 'going', ',', \"''\", 'said', 'Scott', 'Edwards', ',', 'a', 'consumer', 'electronics', 'executive', 'from', 'Baltimore', '.', '``', 'I', \"'m\", 'not', 'sure', 'yet', 'we', 'have', 'legitimate', 'information', '.', 'I', \"'m\", 'not', 'ready', 'to', 'say', 'we', 'won', '.', \"''\", 'Debbie', 'Smith', 'of', 'Foster', 'City', ',', 'Calif.', ',', 'an', 'administrator', 'at', 'a', 'computer', 'programming', 'company', ',', 'noted', 'after', 'the', 'attack', 'on', 'Israel', 'that', 'Secretary', 'of', 'Defense', 'Dick', 'Cheney', 'had', 'been', 'right', 'yesterday', 'morning', 'in', 'warning', 'the', 'public', 'not', 'to', 'leap', 'to', 'optimistic', 'conclusions', '.', '``', 'It', \"'s\", 'going', 'to', 'be', 'a', 'longer', ',', 'more', 'drawn-out', 'course', 'of', 'events', ',', \"''\", 'Ms.', 'Smith', 'said', '.', 'Dread', 'that', 'the', 'military', 'situation', 'could', 'suddenly', 'sour', 'was', 'accompanied', 'by', 'fear', 'that', 'terrorist', 'attacks', 'could', 'bring', 'the', 'war', 'to', 'America', ',', 'a', 'concern', 'that', 'for', 'now', 'is', 'outpacing', 'reality', '.', '``', 'I', \"'m\", 'looking', 'for', 'them', 'to', 'start', 'bombing', 'bridges', ',', 'railroad', 'tracks', ',', 'stuff', 'like', 'that', ',', \"''\", 'said', 'Adolph', 'Thacker', ',', 'an', 'Amtrak', 'employee', 'who', 'was', 'dispensing', 'coffee', 'and', 'doughnuts', 'in', 'the', 'club', 'car', 'of', 'a', 'Washington-to-New', 'York', 'Metroliner', 'yesterday', 'morning', '.', \"'Feeling\", 'of', 'Impending', 'Peril', \"'\", 'Others', 'making', 'the', 'trip', 'said', 'they', 'were', 'traveling', 'warily', ',', 'even', 'on', 'a', 'train', ',', 'and', 'planned', 'to', 'cancel', 'unnecessary', 'airplane', 'trips', '.', '``', 'There', \"'s\", 'an', 'eerie', 'feeling', 'of', 'impending', 'peril', ',', \"''\", 'said', 'Phil', 'Williams', ',', 'a', 'lawyer', 'making', 'the', 'trip', 'from', 'Washington', 'to', 'Baltimore', '.', 'In', 'recognition', 'of', 'the', 'threat', 'of', 'terrorism', ',', 'military', 'bases', 'across', 'the', 'nation', 'have', 'been', 'put', 'on', 'high', 'alert', ',', 'as', 'have', 'airports', ',', 'where', 'concourses', 'have', 'been', 'closed', 'to', 'all', 'but', 'passengers', 'carrying', 'tickets', 'and', 'curbside', 'check-in', 'of', 'luggage', 'has', 'been', 'canceled', '.', 'Precautions', 'against', 'terrorism', 'were', 'the', 'tightest', 'in', 'Washington', ',', 'a', 'city', 'preoccupied', 'with', 'security', 'even', 'in', 'ordinary', 'times', '.', 'Senate', 'staff', 'workers', 'were', 'searched', 'yesterday', 'with', 'uncommon', 'scrutiny', 'before', 'entering', 'the', 'Russell', 'Senate', 'Office', 'Building', '.', 'Police', 'dogs', 'prowled', 'the', 'Capitol', ',', 'and', 'Secret', 'Service', 'agents', 'with', 'shotguns', 'stood', 'guard', 'outside', 'the', 'Iraqi', 'Embassy', '.', 'In', 'the', 'midst', 'of', 'the', 'largely', 'supportive', 'mood', ',', 'sporadic', 'antiwar', 'protests', 'continued', 'in', 'cities', 'around', 'the', 'country', ',', 'including', 'Washington', ',', 'New', 'York', ',', 'Chicago', ',', 'Los', 'Angeles', ',', 'Hartford', 'and', 'New', 'Haven', '.', 'Some', 'who', 'protested', 'on', 'Wednesday', 'night', 'thought', 'better', 'of', 'it', 'yesterday', '.', '``', 'When', 'the', 'bombing', 'started', ',', 'I', 'felt', 'the', 'electricity', 'and', 'nostalgia', 'of', 'opposing', 'a', 'war', ',', \"''\", 'said', 'Rabbi', 'Michael', 'Paley', ',', 'the', 'director', 'of', 'the', 'Earl', 'Hall', 'Center', 'for', 'Religious', 'Life', 'at', 'Columbia', 'Univerisity', 'in', 'New', 'York', '.', '``', 'But', 'today', 'it', 'hit', 'me', ':', 'this', 'is', 'a', 'real', 'war', 'out', 'there', '.', 'People', 'will', 'die', '.', 'I', \"'m\", 'older', 'than', 'I', 'was', 'in', 'the', 'Vietnam', 'War', '.', 'There', 'was', 'a', 'momentary', 'exhileration', 'Wednesday', ',', 'but', 'nostalgia', 'is', 'short', 'lived', '.', \"''\", 'Opponents', 'Reconsider', 'While', 'protests', 'continued', ',', 'some', 'Americans', 'were', 'reconsidering', 'their', 'opposition', 'to', 'the', 'war', ',', 'in', 'light', 'of', 'what', 'seemed', 'yesterday', 'morning', 'a', 'singular', 'moment', 'of', 'international', 'cooperation', '.', '``', 'As', 'hokey', 'as', 'this', 'may', 'sound', ',', \"''\", 'said', 'Mr.', 'Dawson', 'of', 'Houston', ',', '``', 'President', 'Bush', \"'s\", 'whole', 'premise', 'that', 'there', 'is', 'a', 'possibility', 'for', 'a', 'stronger', 'United', 'Nations', 'and', 'a', 'genuine', 'world', 'peace', 'must', 'be', 'valued', ',', \"''\", 'he', 'said', '.', '``', 'It', 'surprises', 'me', 'so', 'much', 'to', 'feel', 'this', 'way', '.', \"''\", 'A', 'similar', 'hope', 'for', 'a', 'new', 'world', 'order', 'was', 'expressed', 'by', 'Mike', 'Houghton', 'of', 'Alexandria', ',', 'Va.', ',', 'a', 'manager', 'of', 'international', 'corporate', 'relations', 'at', 'Bell', 'Atlantic', '.', '``', 'What', 'is', 'really', 'good', 'to', 'see', 'is', 'all', 'the', 'countries', 'banding', 'together', ',', \"''\", 'Mr.', 'Houghton', 'said', ',', 'before', 'the', 'attack', 'on', 'Israel', '.', '``', 'Often', 'the', 'United', 'States', 'takes', 'the', 'peacekeeping', 'role', 'and', 'gets', 'criticized', 'for', 'it', '.', 'But', 'we', \"'re\", 'all', 'in', 'this', 'together', 'and', 'that', \"'s\", 'a', 'good', 'sign', '.', 'It', \"'s\", 'not', 'an', 'Arab-Western', 'war', ',', 'as', 'Saddam', 'Hussein', 'likes', 'to', 'paint', 'it', '.', 'It', \"'s\", 'an', 'aggressor', 'vesus', 'a', 'peacekeeping', 'force', '.', \"''\", 'The', 'thoughts', 'and', 'feeling', 'of', 'this', 'first', 'day', 'of', 'war', 'would', 'likely', 'stay', 'with', 'them', 'forever', ',', 'the', 'men', 'and', 'women', 'interviewed', 'said', ',', 'since', 'this', 'was', 'certain', 'to', 'be', 'one', 'of', 'those', 'events', 'that', 'marks', 'the', 'end', 'of', 'an', 'old', 'era', 'and', 'the', 'start', 'of', 'a', 'new', 'one', '.', 'Several', 'people', 'compared', 'their', 'feelings', 'to', 'those', 'on', 'the', 'days', 'of', 'John', 'F.', 'Kennedy', \"'s\", 'assassination', 'or', 'the', 'explosion', 'of', 'the', 'space', 'shuttle', 'Challenger', ',', 'when', 'they', 'knew', 'instantly', ',', 'watching', 'the', 'first', 'television', 'pictures', ',', 'that', 'nothing', 'would', 'be', 'quite', 'the', 'same', 'again', '.', '``', 'The', 'course', 'of', 'history', 'has', 'changed', ',', \"''\", 'said', 'Mr.', 'Houghton', '.', '``', 'I', 'do', \"n't\", 'know', 'exactly', 'what', 'that', 'means', ',', 'but', 'I', 'know', 'things', 'are', 'going', 'to', 'be', 'different', '.', \"''\", 'LOAD-DATE', ':', 'January', '18', ',', '1991', 'LANGUAGE', ':', 'ENGLISH', 'GRAPHIC', ':', 'Photo', ':', 'Americans', 'lent', 'support', 'to', 'the', 'Persian', 'Gulf', 'effort', 'with', 'blood', 'donations', '.', 'Angelo', 'Licata', 'and', 'Annette', 'Reid', 'stacked', 'cases', 'of', 'blood', 'being', 'readied', 'at', 'the', 'Red', 'Cross', 'center', 'in', 'Buffalo', 'for', 'shipment', 'to', 'the', 'Middle', 'East', '.', '(', 'Reuters', ')']\n"
     ]
    }
   ],
   "source": [
    "# let's see what an observation in the new column looks like\n",
    "# This article, chosen at randomn portends the future...\n",
    "# Indeed, my entire corpus will soon be \"as bland and as standardized as \n",
    "# fast food.\" But all in the name of (social) science! \n",
    "\n",
    "print(nytDF['tokenized-article'][20000])"
   ]
  },
  {
   "cell_type": "code",
   "execution_count": 101,
   "metadata": {},
   "outputs": [
    {
     "name": "stdout",
     "output_type": "stream",
     "text": [
      "                                                 article  \\\n",
      "7369    29 words  '79 food production in Vietnam was ...   \n",
      "7370    61 words  Karleton Armstrong, convicted of '7...   \n",
      "7371    160 words  Militants holding US diplomatic pe...   \n",
      "7372    160 words  Militants holding US diplomatic pe...   \n",
      "7373    195 words  China apparently concludes that be...   \n",
      "7374    129 words  5 US chemical companies that produ...   \n",
      "7375    99 words  Phnom Penh, Cambodia, celebrates 1s...   \n",
      "7376    30 words  Australian Government agrees to for...   \n",
      "7377    33 words  Warrant Officer Francis Anton, form...   \n",
      "7378    65 words  Author Richard J Walton article on ...   \n",
      "7379    78 words  Former Vietnam war prisoner Luis An...   \n",
      "7380    27 words  Vietnam accuses China of conducting...   \n",
      "7381    43 words  Military prosecutors, in surprise m...   \n",
      "7382    12 words  Vietnam accuses US and China of mil...   \n",
      "7383    183 words  Neil Sheehan interview with Tran N...   \n",
      "7384    55 words  Talat Sait Halman article on preval...   \n",
      "7385    49 words  Yuri Tavrovsky letter disputes Dece...   \n",
      "7386    53 words  Pakistan Pres Mohammed Zia ul-Haq, ...   \n",
      "7387    31 words  China accuses Vietnam of killing at...   \n",
      "7388    86 words  Pakistani Pres Mohammed Zia ul-Haq,...   \n",
      "7389    24 words  Prof John Somerville letter likens ...   \n",
      "7390    18 words  Article on history of Selective Ser...   \n",
      "7391    32 words  Senate approves 15% increase in edu...   \n",
      "7392    10 words  ILO announces membership of Vietnam...   \n",
      "7393    39 words  Letter by Kay Camp (Women's Interna...   \n",
      "7394    86 words  Chinese Foreign Ministry says its c...   \n",
      "7395    33 words  China issues document reasserting c...   \n",
      "7396    102 words  Defense witness Staff Sgt John E P...   \n",
      "7397    62 words  Karleton Armstrong is released on F...   \n",
      "7398    111 words  Military judge Major Thomas B Hami...   \n",
      "...                                                  ...   \n",
      "8375    783 words  DATELINE: WASHINGTON   There was a...   \n",
      "8376    877 words  DATELINE: YPSILANTI, Mich.   If th...   \n",
      "8377    719 words  DATELINE: WASHINGTON, Sept. 24   T...   \n",
      "8378    613 words  DATELINE: MONTGOMERY, Ala., Sept. ...   \n",
      "8379    320 words   THE old sarge in ''Without Warnin...   \n",
      "8380    2833 words  DATELINE: MacDILL AIR FORCE BASE,...   \n",
      "8381    440 words  DATELINE: SAN JOSE, Calif., Sept. ...   \n",
      "8382    890 words  DATELINE: WASHINGTON   The court-m...   \n",
      "8383    2753 words   The problem of aging and ineffic...   \n",
      "8384    304 words   Virginia Trumbull Robinson, daugh...   \n",
      "8385    1113 words  DATELINE: WASHINGTON   It was a s...   \n",
      "8386    256 words   We read last week that the Bengal...   \n",
      "8387    922 words   Political sins go in and out of f...   \n",
      "8388    1458 words   Thursday night in Las Vegas, Nev...   \n",
      "8389    5544 words   Edward B. Fiske is education edi...   \n",
      "8390    1192 words   THE MASTER THINKERS By Andre Glu...   \n",
      "8391    1133 words   BERLIN BLIND By Alan Scholefield...   \n",
      "8392    1434 words   THE TENTH COMMANDMENT By Lawrenc...   \n",
      "8393    1904 words   THE first time I heard of E.L. D...   \n",
      "8394    700 words   NEW JERSEY GUIDE  TALKS AT THE HE...   \n",
      "8395    112 words  DATELINE: TOKYO, Sept. 28   Vietna...   \n",
      "8396    1138 words  DATELINE: COLUMBIA, Mo., Sept. 27...   \n",
      "8397    2661 words  DATELINE: LAS VEGAS, Nev.  DADDY ...   \n",
      "8398    915 words  DATELINE: OKLAHOMA CITY, Sept. 26 ...   \n",
      "8399    336 words   The New Democratic Coalition of N...   \n",
      "8400    566 words  DATELINE: SISOPHON DISTRICT, Cambo...   \n",
      "8401    126 words  DATELINE: WASHINGTON, Sept. 29   T...   \n",
      "8402    109 words  DATELINE: CAMP LEJEUNE, N.C., Sept...   \n",
      "11620   1797 words  DATELINE: BEIRUT, Lebanon, Dec. 4...   \n",
      "12026   1339 words   NEWARK THE STREETS were nearly d...   \n",
      "\n",
      "                                                    date  \\\n",
      "7369                                               1980    \n",
      "7370                                               1980    \n",
      "7371                                               1980    \n",
      "7372                                               1980    \n",
      "7373                                               1980    \n",
      "7374                                               1980    \n",
      "7375                                               1980    \n",
      "7376                                               1980    \n",
      "7377                                               1980    \n",
      "7378                                               1980    \n",
      "7379                                               1980    \n",
      "7380                                               1980    \n",
      "7381                                               1980    \n",
      "7382                                               1980    \n",
      "7383                                               1980    \n",
      "7384                                               1980    \n",
      "7385                                               1980    \n",
      "7386                                               1980    \n",
      "7387                                               1980    \n",
      "7388                                               1980    \n",
      "7389                                               1980    \n",
      "7390                                               1980    \n",
      "7391                                               1980    \n",
      "7392                                               1980    \n",
      "7393                                               1980    \n",
      "7394                                               1980    \n",
      "7395                                               1980    \n",
      "7396                                               1980    \n",
      "7397                                               1980    \n",
      "7398                                               1980    \n",
      "...                                                  ...   \n",
      "8375                                               1980    \n",
      "8376                                               1980    \n",
      "8377                                               1980    \n",
      "8378                                               1980    \n",
      "8379                                               1980    \n",
      "8380                                               1980    \n",
      "8381                                               1980    \n",
      "8382                                               1980    \n",
      "8383                                               1980    \n",
      "8384                                               1980    \n",
      "8385                                               1980    \n",
      "8386                                               1980    \n",
      "8387                                               1980    \n",
      "8388                                               1980    \n",
      "8389                                               1980    \n",
      "8390                                               1980    \n",
      "8391                                               1980    \n",
      "8392                                               1980    \n",
      "8393                                               1980    \n",
      "8394                                               1980    \n",
      "8395                                               1980    \n",
      "8396                                               1980    \n",
      "8397                                               1980    \n",
      "8398                                               1980    \n",
      "8399                                               1980    \n",
      "8400                                               1980    \n",
      "8401                                               1980    \n",
      "8402                                               1980    \n",
      "11620   RELATING TO THE SENTIMENTAL AGENTS IN THE VOL...   \n",
      "12026   RELATING TO THE SENTIMENTAL AGENTS IN THE VOL...   \n",
      "\n",
      "                                       tokenized-article  \n",
      "7369   [29, words, '79, food, production, in, Vietnam...  \n",
      "7370   [61, words, Karleton, Armstrong, ,, convicted,...  \n",
      "7371   [160, words, Militants, holding, US, diplomati...  \n",
      "7372   [160, words, Militants, holding, US, diplomati...  \n",
      "7373   [195, words, China, apparently, concludes, tha...  \n",
      "7374   [129, words, 5, US, chemical, companies, that,...  \n",
      "7375   [99, words, Phnom, Penh, ,, Cambodia, ,, celeb...  \n",
      "7376   [30, words, Australian, Government, agrees, to...  \n",
      "7377   [33, words, Warrant, Officer, Francis, Anton, ...  \n",
      "7378   [65, words, Author, Richard, J, Walton, articl...  \n",
      "7379   [78, words, Former, Vietnam, war, prisoner, Lu...  \n",
      "7380   [27, words, Vietnam, accuses, China, of, condu...  \n",
      "7381   [43, words, Military, prosecutors, ,, in, surp...  \n",
      "7382   [12, words, Vietnam, accuses, US, and, China, ...  \n",
      "7383   [183, words, Neil, Sheehan, interview, with, T...  \n",
      "7384   [55, words, Talat, Sait, Halman, article, on, ...  \n",
      "7385   [49, words, Yuri, Tavrovsky, letter, disputes,...  \n",
      "7386   [53, words, Pakistan, Pres, Mohammed, Zia, ul-...  \n",
      "7387   [31, words, China, accuses, Vietnam, of, killi...  \n",
      "7388   [86, words, Pakistani, Pres, Mohammed, Zia, ul...  \n",
      "7389   [24, words, Prof, John, Somerville, letter, li...  \n",
      "7390   [18, words, Article, on, history, of, Selectiv...  \n",
      "7391   [32, words, Senate, approves, 15, %, increase,...  \n",
      "7392   [10, words, ILO, announces, membership, of, Vi...  \n",
      "7393   [39, words, Letter, by, Kay, Camp, (, Women, '...  \n",
      "7394   [86, words, Chinese, Foreign, Ministry, says, ...  \n",
      "7395   [33, words, China, issues, document, reasserti...  \n",
      "7396   [102, words, Defense, witness, Staff, Sgt, Joh...  \n",
      "7397   [62, words, Karleton, Armstrong, is, released,...  \n",
      "7398   [111, words, Military, judge, Major, Thomas, B...  \n",
      "...                                                  ...  \n",
      "8375   [783, words, DATELINE, :, WASHINGTON, There, w...  \n",
      "8376   [877, words, DATELINE, :, YPSILANTI, ,, Mich, ...  \n",
      "8377   [719, words, DATELINE, :, WASHINGTON, ,, Sept....  \n",
      "8378   [613, words, DATELINE, :, MONTGOMERY, ,, Ala.,...  \n",
      "8379   [320, words, THE, old, sarge, in, ''Without, W...  \n",
      "8380   [2833, words, DATELINE, :, MacDILL, AIR, FORCE...  \n",
      "8381   [440, words, DATELINE, :, SAN, JOSE, ,, Calif....  \n",
      "8382   [890, words, DATELINE, :, WASHINGTON, The, cou...  \n",
      "8383   [2753, words, The, problem, of, aging, and, in...  \n",
      "8384   [304, words, Virginia, Trumbull, Robinson, ,, ...  \n",
      "8385   [1113, words, DATELINE, :, WASHINGTON, It, was...  \n",
      "8386   [256, words, We, read, last, week, that, the, ...  \n",
      "8387   [922, words, Political, sins, go, in, and, out...  \n",
      "8388   [1458, words, Thursday, night, in, Las, Vegas,...  \n",
      "8389   [5544, words, Edward, B., Fiske, is, education...  \n",
      "8390   [1192, words, THE, MASTER, THINKERS, By, Andre...  \n",
      "8391   [1133, words, BERLIN, BLIND, By, Alan, Scholef...  \n",
      "8392   [1434, words, THE, TENTH, COMMANDMENT, By, Law...  \n",
      "8393   [1904, words, THE, first, time, I, heard, of, ...  \n",
      "8394   [700, words, NEW, JERSEY, GUIDE, TALKS, AT, TH...  \n",
      "8395   [112, words, DATELINE, :, TOKYO, ,, Sept., 28,...  \n",
      "8396   [1138, words, DATELINE, :, COLUMBIA, ,, Mo., ,...  \n",
      "8397   [2661, words, DATELINE, :, LAS, VEGAS, ,, Nev....  \n",
      "8398   [915, words, DATELINE, :, OKLAHOMA, CITY, ,, S...  \n",
      "8399   [336, words, The, New, Democratic, Coalition, ...  \n",
      "8400   [566, words, DATELINE, :, SISOPHON, DISTRICT, ...  \n",
      "8401   [126, words, DATELINE, :, WASHINGTON, ,, Sept....  \n",
      "8402   [109, words, DATELINE, :, CAMP, LEJEUNE, ,, N....  \n",
      "11620  [1797, words, DATELINE, :, BEIRUT, ,, Lebanon,...  \n",
      "12026  [1339, words, NEWARK, THE, STREETS, were, near...  \n",
      "\n",
      "[1036 rows x 3 columns]\n"
     ]
    }
   ],
   "source": [
    "# let's get to normalization\n",
    "# for this portion, I am only going to use articles from the 1980s\n",
    "\n",
    "# (for some reason I can't coerce dates into int, so this instead...)\n",
    "    \n",
    "nytFilter = []   \n",
    "\n",
    "nytFilter = nytDF[nytDF['date'].str.contains('1980', na = False)]\n",
    "\n",
    "print(nytFilter)\n"
   ]
  },
  {
   "cell_type": "code",
   "execution_count": 102,
   "metadata": {
    "collapsed": true
   },
   "outputs": [],
   "source": [
    "# instead of creating a dict, as was done in the example\n",
    "# I'm going to do this sort of arbitrarily, because creating a dict with\n",
    "# my whole corpus takes way too long\n",
    "\n",
    "\n",
    "stop_words_nltk.append('new')\n",
    "stop_words_nltk.append('york')\n",
    "stop_words_nltk.append('times')\n",
    "stop_words_nltk.append('vietnam')\n",
    "stop_words_nltk.append('words')\n",
    "stop_words_nltk.append('word')\n",
    "stop_words_nltk.append('datelin')\n",
    "stop_words_nltk.append('languag')\n",
    "stop_words_nltk.append('english')"
   ]
  },
  {
   "cell_type": "code",
   "execution_count": 103,
   "metadata": {},
   "outputs": [
    {
     "name": "stderr",
     "output_type": "stream",
     "text": [
      "D:\\computation\\Anaconda3\\lib\\site-packages\\ipykernel_launcher.py:1: SettingWithCopyWarning: \n",
      "A value is trying to be set on a copy of a slice from a DataFrame.\n",
      "Try using .loc[row_indexer,col_indexer] = value instead\n",
      "\n",
      "See the caveats in the documentation: http://pandas.pydata.org/pandas-docs/stable/indexing.html#indexing-view-versus-copy\n",
      "  \"\"\"Entry point for launching an IPython kernel.\n",
      "D:\\computation\\Anaconda3\\lib\\site-packages\\ipykernel_launcher.py:2: SettingWithCopyWarning: \n",
      "A value is trying to be set on a copy of a slice from a DataFrame.\n",
      "Try using .loc[row_indexer,col_indexer] = value instead\n",
      "\n",
      "See the caveats in the documentation: http://pandas.pydata.org/pandas-docs/stable/indexing.html#indexing-view-versus-copy\n",
      "  \n"
     ]
    }
   ],
   "source": [
    "nytFilter['normalized-tokens'] = nytFilter['tokenized-article'].apply(lambda x: normlizeTokens(x, stopwordLst = stop_words_nltk, stemmer = snowball))\n",
    "nytFilter['normalized-tokens-count'] = nytFilter['normalized-tokens'].apply(lambda x: len(x))\n",
    "\n",
    "# I don't understand the error message I get here, but it doesn't seem to stop the object from being created"
   ]
  },
  {
   "cell_type": "code",
   "execution_count": 104,
   "metadata": {},
   "outputs": [
    {
     "name": "stdout",
     "output_type": "stream",
     "text": [
      "7369     [food, product, onli, million, ton, million, t...\n",
      "7370     [karleton, armstrong, convict, bomb, protest, ...\n",
      "7371     [milit, hold, us, diplomat, personnel, hostag,...\n",
      "7372     [milit, hold, us, diplomat, personnel, hostag,...\n",
      "7373     [china, appar, conclud, best, strategi, deal, ...\n",
      "7374     [us, chemic, compani, produc, militari, defoli...\n",
      "7375     [phnom, penh, cambodia, celebr, anniversari, o...\n",
      "7376     [australian, govern, agre, form, independ, stu...\n",
      "7377     [warrant, offic, franci, anton, former, armi, ...\n",
      "7378     [author, richard, j, walton, articl, soviet, i...\n",
      "7379     [former, war, prison, lui, antonio, say, marin...\n",
      "7380     [accus, china, conduct, militari, exercis, mov...\n",
      "7381     [militari, prosecutor, surpris, move, finish, ...\n",
      "7382     [accus, us, china, militari, allianc, ussr, ny...\n",
      "7383     [neil, sheehan, interview, tran, ngoc, chau, f...\n",
      "7384     [talat, sait, halman, articl, preval, myth, re...\n",
      "7385     [yuri, tavrovski, letter, disput, decemb, edit...\n",
      "7386     [pakistan, pres, moham, zia, comment, soviet, ...\n",
      "7387     [china, accus, kill, least, chines, artilleri,...\n",
      "7388     [pakistani, pres, moham, zia, interview, sever...\n",
      "7389     [prof, john, somervill, letter, liken, us, afg...\n",
      "7390     [articl, histori, select, servic, system, draf...\n",
      "7391     [senat, approv, increas, educ, benefit, millio...\n",
      "7392          [ilo, announc, membership, organ, nyt, type]\n",
      "7393     [letter, kay, camp, women, intern, leagu, hold...\n",
      "7394     [chines, foreign, ministri, say, chief, negoti...\n",
      "7395     [china, issu, document, reassert, claim, parac...\n",
      "7396     [defens, wit, staff, sgt, john, e, peterson, h...\n",
      "7397     [karleton, armstrong, releas, feder, parol, fo...\n",
      "7398     [militari, judg, major, thoma, b, hamilton, jr...\n",
      "                               ...                        \n",
      "8375     [washington, sigh, relief, quarter, victori, b...\n",
      "8376     [ypsilanti, mich, presidenti, elect, close, ob...\n",
      "8377     [washington, campaign, interpret, offici, post...\n",
      "8378     [montgomeri, senat, donald, stewart, democrat,...\n",
      "8379     [old, sarg, warn, open, today, cinerama, theat...\n",
      "8380     [macdil, air, forc, base, tuck, away, remot, b...\n",
      "8381     [san, jose, repres, paul, mccloskey, liber, re...\n",
      "8382     [washington, pfc, robert, garwood, former, pri...\n",
      "8383     [problem, age, ineffici, industri, plant, cost...\n",
      "8384     [virginia, trumbul, robinson, daughter, henri,...\n",
      "8385     [washington, squeaki, victori, therefor, espec...\n",
      "8386     [read, last, week, bengal, tiger, longer, enda...\n",
      "8387     [polit, sin, go, fashion, time, time, one, cro...\n",
      "8388     [thursday, night, las, vega, muhammad, ali, ye...\n",
      "8389     [edward, fisk, educ, editor, time, edward, fis...\n",
      "8390     [master, thinker, andr, glucksmann, translat, ...\n",
      "8391     [berlin, blind, alan, scholefield, pp, william...\n",
      "8392     [tenth, command, lawrenc, sander, pp, putnam, ...\n",
      "8393     [first, time, heard, doctorow, friend, mine, w...\n",
      "8394     [jersey, guid, talk, hermitag, hermitag, stone...\n",
      "8395     [tokyo, suffer, food, shortag, hanoi, govern, ...\n",
      "8396     [columbia, bob, taylor, lectur, pelvic, area, ...\n",
      "8397     [las, vega, daddi, suppos, enjoy, rest, day, l...\n",
      "8398     [oklahoma, citi, larg, shop, mall, two, bookst...\n",
      "8399     [democrat, coalit, state, origin, one, staunch...\n",
      "8400     [sisophon, district, cambodia, despit, road, f...\n",
      "8401     [washington, two, unit, state, offici, visit, ...\n",
      "8402     [camp, lejeun, militari, judg, rule, today, pf...\n",
      "11620    [beirut, lebanon, fight, lebanon, increas, sha...\n",
      "12026    [newark, street, near, desert, except, hand, c...\n",
      "Name: normalized-tokens, Length: 1036, dtype: object\n"
     ]
    }
   ],
   "source": [
    "print(nytFilter['normalized-tokens'])"
   ]
  },
  {
   "cell_type": "code",
   "execution_count": 105,
   "metadata": {},
   "outputs": [
    {
     "name": "stdout",
     "output_type": "stream",
     "text": [
      "493522\n"
     ]
    }
   ],
   "source": [
    "nytCFD = nltk.ConditionalFreqDist(((len(w), w) for w in nytFilter['normalized-tokens'].sum()))\n",
    "\n",
    "print(nytCFD.N())"
   ]
  },
  {
   "cell_type": "code",
   "execution_count": 106,
   "metadata": {},
   "outputs": [
    {
     "data": {
      "image/png": "[encoded data removed]",
      "text/plain": [
       "<matplotlib.figure.Figure at 0x1db4416f278>"
      ]
     },
     "metadata": {},
     "output_type": "display_data"
    },
    {
     "data": {
      "image/png": "[encoded data removed]",
      "text/plain": [
       "<matplotlib.figure.Figure at 0x1db4416f198>"
      ]
     },
     "metadata": {},
     "output_type": "display_data"
    },
    {
     "data": {
      "image/png": "[encoded data removed]",
      "text/plain": [
       "<matplotlib.figure.Figure at 0x1db43614940>"
      ]
     },
     "metadata": {},
     "output_type": "display_data"
    }
   ],
   "source": [
    "# this kind of granular detail does not seem to be very useful for my data...\n",
    "# plus I don't know how to scale axes in python\n",
    "nytCFD[6].plot()\n",
    "nytCFD[2].plot()\n",
    "nytCFD[5].plot()"
   ]
  },
  {
   "cell_type": "code",
   "execution_count": 107,
   "metadata": {},
   "outputs": [
    {
     "data": {
      "image/png": "[encoded data removed]",
      "text/plain": [
       "<matplotlib.figure.Figure at 0x1db4416f048>"
      ]
     },
     "metadata": {},
     "output_type": "display_data"
    }
   ],
   "source": [
    "# because my project is concerned with a particular narrative, I'm going to\n",
    "# skip exploring parts and speech and head directly to the \n",
    "# WORD CLOUD!!\n",
    "\n",
    "wc = wordcloud.WordCloud(background_color=\"white\", max_words=500, width= 1000, height = 1000, mode ='RGBA', scale=.5).generate(' '.join(nytFilter['normalized-tokens'].sum()))\n",
    "plt.imshow(wc)\n",
    "plt.axis(\"off\")\n",
    "plt.savefig(\"vietnamNYTcloud.pdf\", format = 'pdf')"
   ]
  },
  {
   "cell_type": "markdown",
   "metadata": {},
   "source": [
    "# Collocations"
   ]
  },
  {
   "cell_type": "markdown",
   "metadata": {},
   "source": [
    "As illustrated above, we might want to find significant bigrams (two-word phrases), trigrams (three-word phrases), n-grams (*n*-word phrases) or skip-grams (noncontinguous 'phrases' with skip-length *n*). We will begin with the [`nltk.collocations.BigramCollocationFinder`](http://www.nltk.org/api/nltk.html?highlight=bigramcollocationfinder#nltk.collocations.BigramCollocationFinder) class, which can be given raw lists of strings with the `from_words()` method. By default it only looks at continuous bigrams but there is an option (`window_size`) to allow skip-grams."
   ]
  },
  {
   "cell_type": "code",
   "execution_count": 108,
   "metadata": {},
   "outputs": [
    {
     "name": "stdout",
     "output_type": "stream",
     "text": [
      "There are 1999 bigrams in the finder\n"
     ]
    }
   ],
   "source": [
    "whBigrams = nltk.collocations.BigramCollocationFinder.from_words(whReleases['normalized_tokens'].sum())\n",
    "print(\"There are {} bigrams in the finder\".format(whBigrams.N))"
   ]
  },
  {
   "cell_type": "markdown",
   "metadata": {},
   "source": [
    "To compare the bigrams we need to tell nltk what our score function is. Initially, we will look at the raw counts."
   ]
  },
  {
   "cell_type": "code",
   "execution_count": 109,
   "metadata": {},
   "outputs": [
    {
     "name": "stdout",
     "output_type": "stream",
     "text": [
      "[('rhode', 'island'), ('presid', 'bush'), ('sheldon', 'whitehous'), ('stem', 'cell'), ('whitehous', 'said'), ('bush', 'administr'), ('american', 'peopl'), ('bring', 'troop'), ('senat', 'sheldon'), ('troop', 'home')]\n"
     ]
    }
   ],
   "source": [
    "def bigramScoring(count, wordsTuple, total):\n",
    "    return count\n",
    "\n",
    "print(whBigrams.nbest(bigramScoring, 10))"
   ]
  },
  {
   "cell_type": "markdown",
   "metadata": {},
   "source": [
    "One note about how `BigramCollocationFinder` works. It doesn't use the strings internally."
   ]
  },
  {
   "cell_type": "code",
   "execution_count": 110,
   "metadata": {},
   "outputs": [
    {
     "ename": "NameError",
     "evalue": "name 'bigramScores' is not defined",
     "output_type": "error",
     "traceback": [
      "\u001b[1;31m---------------------------------------------------------------------------\u001b[0m",
      "\u001b[1;31mNameError\u001b[0m                                 Traceback (most recent call last)",
      "\u001b[1;32m<ipython-input-110-11b50ffe3c49>\u001b[0m in \u001b[0;36m<module>\u001b[1;34m()\u001b[0m\n\u001b[0;32m      7\u001b[0m \u001b[1;33m\u001b[0m\u001b[0m\n\u001b[0;32m      8\u001b[0m \u001b[0mwhBigrams\u001b[0m\u001b[1;33m.\u001b[0m\u001b[0mnbest\u001b[0m\u001b[1;33m(\u001b[0m\u001b[0mbigramPrinting\u001b[0m\u001b[1;33m,\u001b[0m \u001b[1;36m10\u001b[0m\u001b[1;33m)\u001b[0m\u001b[1;33m\u001b[0m\u001b[0m\n\u001b[1;32m----> 9\u001b[1;33m \u001b[0mprint\u001b[0m\u001b[1;33m(\u001b[0m\u001b[1;34m'\\n'\u001b[0m\u001b[1;33m.\u001b[0m\u001b[0mjoin\u001b[0m\u001b[1;33m(\u001b[0m\u001b[0mbigramScores\u001b[0m\u001b[1;33m[\u001b[0m\u001b[1;33m:\u001b[0m\u001b[1;36m10\u001b[0m\u001b[1;33m]\u001b[0m\u001b[1;33m)\u001b[0m\u001b[1;33m)\u001b[0m\u001b[1;33m\u001b[0m\u001b[0m\n\u001b[0m",
      "\u001b[1;31mNameError\u001b[0m: name 'bigramScores' is not defined"
     ]
    }
   ],
   "source": [
    "birgramScores = []\n",
    "\n",
    "def bigramPrinting(count, wordsTuple, total):\n",
    "    global birgramScores\n",
    "    birgramScores.append(\"The first word is:  {}, The second word is: {}\".format(*wordsTuple))\n",
    "    #Returns None so all the tuples are considered to have the same rank\n",
    "\n",
    "whBigrams.nbest(bigramPrinting, 10)\n",
    "print('\\n'.join(bigramScores[:10]))"
   ]
  },
  {
   "cell_type": "markdown",
   "metadata": {},
   "source": [
    "The words are each given numeric IDs and there is a dictionary that maps the IDs to the words they represent. This is a common performance optimization.\n",
    "\n",
    "Two words can appear together by chance. Recall from  Manning and Schütze's textbook that a $t-value can be computed for each bigram to see how significant the association is. You may also want to try computing the $\\chi^2$, likelihood ratio, and pointwise mutual information statistics. "
   ]
  },
  {
   "cell_type": "code",
   "execution_count": null,
   "metadata": {},
   "outputs": [],
   "source": [
    "bigram_measures = nltk.collocations.BigramAssocMeasures()\n",
    "whBigrams.score_ngrams(bigram_measures.likelihood_ratio)[:40]\n",
    "# other options include student_t, chi_sq, likelihood_ratio, pmi"
   ]
  },
  {
   "cell_type": "markdown",
   "metadata": {},
   "source": [
    "There are a few other available measures"
   ]
  },
  {
   "cell_type": "code",
   "execution_count": null,
   "metadata": {},
   "outputs": [],
   "source": [
    "[s for s in dir(bigram_measures) if s[0] != '_']"
   ]
  },
  {
   "cell_type": "markdown",
   "metadata": {},
   "source": [
    "We can also look at trigrams"
   ]
  },
  {
   "cell_type": "code",
   "execution_count": null,
   "metadata": {},
   "outputs": [],
   "source": [
    "trigram_measures = nltk.collocations.TrigramAssocMeasures()\n",
    "whTrigrams = nltk.collocations.TrigramCollocationFinder.from_words(whReleases['normalized_tokens'].sum())\n",
    "whTrigrams.score_ngrams(trigram_measures.student_t)[:20]"
   ]
  },
  {
   "cell_type": "markdown",
   "metadata": {},
   "source": [
    "Or n-grams (for any number n)"
   ]
  },
  {
   "cell_type": "code",
   "execution_count": null,
   "metadata": {},
   "outputs": [],
   "source": [
    "Ngrams = nltk.ngrams(whReleases['normalized_tokens'].sum(), 4)\n",
    "Counts = {}\n",
    "for ngram in list(Ngrams):\n",
    "    if ngram in Counts.keys():\n",
    "        Counts[ngram] += 1\n",
    "    else:\n",
    "        Counts[ngram] = 1\n",
    "Filtered = {}\n",
    "for key in Counts.keys():\n",
    "    if Counts[key] < 2:\n",
    "        pass\n",
    "    else:\n",
    "        Filtered[key] = Counts[key]\n",
    "print(Filtered)"
   ]
  },
  {
   "cell_type": "markdown",
   "metadata": {},
   "source": [
    "## <span style=\"color:red\">*Exercise 3*</span>\n",
    "\n",
    "<span style=\"color:red\">Construct cells immediately below this that identify statistically significant bigrams, trigrams, quadgrams, higher-order *n*grams and skipgrams. Explore whether these collocations are idiomatic and so irreducible to the semantic sum of their component words. You can do this by examination of conditional frequencies (e.g., what else is 'united' besides the 'United States'). If these phrases are idiomatic, what do they suggest about the culture of the world producing them?\n",
    "\n",
    "<span style=\"color:red\">**Stretch**: In Manning and Schütze's textbook, there Section 5.3.2 explores how to use the *t*-test to find words whose co-occurance patterns best distinguish two words. Implement that and use it to explore phrases in your corpus. For instance, you could tell what words come after \"America\" much more often than after \"Iraq\"?</span> "
   ]
  },
  {
   "cell_type": "code",
   "execution_count": null,
   "metadata": {},
   "outputs": [],
   "source": [
    "nytBigrams = nltk.collocations.BigramCollocationFinder.from_words(nytFilter['normalized-tokens'].sum())\n",
    "print(\"There are {} bigrams in the finder\".format(nytBigrams.N))"
   ]
  },
  {
   "cell_type": "code",
   "execution_count": null,
   "metadata": {},
   "outputs": [],
   "source": [
    "print(nytBigrams.nbest(bigramScoring, 10))"
   ]
  },
  {
   "cell_type": "code",
   "execution_count": null,
   "metadata": {},
   "outputs": [],
   "source": [
    "# bigrams\n",
    "# there is still a lot of noise to be taken out, like 'illus photo'\n",
    "# but two interesting things poke out:\n",
    "# 1) many references to civil rights and the supreme court, and\n",
    "# 2) more importantly, Private Garwood is a significant bigram. \n",
    "# This is interesting for my project b/c PFC Garwood was a former POW\n",
    "# who defected to the Vietnamese and did not return until 1979.\n",
    "nytBigrams.score_ngrams(bigram_measures.likelihood_ratio)[:40]"
   ]
  },
  {
   "cell_type": "code",
   "execution_count": null,
   "metadata": {},
   "outputs": [],
   "source": [
    "# trigrams\n",
    "\n",
    "nytTrigrams = nltk.collocations.TrigramCollocationFinder.from_words(nytFilter['normalized-tokens'].sum())\n",
    "nytTrigrams.score_ngrams(trigram_measures.student_t)[:20]"
   ]
  },
  {
   "cell_type": "markdown",
   "metadata": {},
   "source": [
    "# Distributional distances\n",
    "\n",
    "If we want to compare different corpora, we need a distance or divergence that compares the two distributions.\n",
    "\n",
    "We will use the: \n",
    "\n",
    "+ Kullback-Leibler (KL) divergence\n",
    "+ $\\chi^2$ divergence\n",
    "+ Kolmogorov-Smirnov (KS) distance\n",
    "+ Wasserstein distance\n",
    "\n",
    "### Kullback-Leibler and $x^2$ divergences ###\n",
    "\n",
    "KL and $\\chi^2$ divergences are members of the broader <a \"href=https://en.wikipedia.org/wiki/F-divergence\" target=\"_blank\">$f$-divergence</a> family, a function of $D_f (P || Q)$ that calculates the difference between two probability distributions P and Q. The KL $f(t)$ is $ t \\text{ log } t $, while the $\\chi^2$ is $t^2-1$. KL comes from information and $\\chi^2$ from measure theory. As such, the KL divergence computes the relative entropy between two distributions--how they differ in bits, while the $\\chi^2$ whether the same statistical inferences can be drawn from them both.  \n",
    "\n",
    "Specifically, given two discrete probability distributions $P$ and $Q$, the Kullback-Leibler divergence from $Q$ to $P$ is defined as:\n",
    "\n",
    "$D_{\\mathrm{KL}}(P\\|Q) = \\sum_i P(i) \\, \\log\\frac{P(i)}{Q(i)}$.\n",
    "\n",
    "The [scipy.stats.entropy()](https://docs.scipy.org/doc/scipy/reference/generated/scipy.stats.entropy.html) function does the calculation for you, which takes in two arrays of probabilities and computes the KL divergence. Note that the KL divergence is in general not commutative, i.e. $D_{\\mathrm{KL}}(P\\|Q) \\neq D_{\\mathrm{KL}}(Q\\|P)$ .\n",
    "\n",
    "Also note that the KL divernce is the sum of elementwise divergences. Scipy provides [scipy.special.kl_div()](https://docs.scipy.org/doc/scipy/reference/generated/scipy.special.kl_div.html#scipy-special-kl-div) which calculates elementwise divergences for you.\n",
    "\n",
    "The $\\chi^2$ Divergence is defined as:\n",
    "\n",
    "$D_{\\mathrm{\\chi^2}}(P\\|Q) = \\sum_i \\left(\\frac{P(i)}{Q(i)}-1\\right)^2$. \n",
    "\n",
    "This is also noncommutative, and the code can be drawn directly from scipy.\n",
    "\n",
    "### Kolmogorov-Smirnov ###\n",
    "\n",
    "The two-sample Kolmogovorov-Smirnov test statistic calculates the distance between the cumulative distribution function of the two distributions to be compared, and, along with the $x^2$ divergence, is among the most common approaches two calculating a distance in statistics. It can be interpreted as a test of whether two distributions are drawn from the same underlying distribution. As with the others, the code is readily available in scipy.\n",
    "\n",
    "### Wasserstein Distance ###\n",
    "\n",
    "When this is computed on a Euclidian metric structure (e.g., numbers of words), this is also known as the earth mover’s distance, because it can be seen as the minimum amount of \"work\" required to transform $P$ into $Q$, where \"work\" is measured as the amount of distribution weight that must be moved, multiplied by the distance it has to be moved.\n",
    "\n",
    "### Computing ###\n",
    "\n",
    "To do this we will need to create the arrays, lets compare the Whitehouse releases with the Kennedy releases. First we have to download them and load them into a DataFrame."
   ]
  },
  {
   "cell_type": "code",
   "execution_count": null,
   "metadata": {
    "collapsed": true
   },
   "outputs": [],
   "source": [
    "kenReleases = getGithubFiles('https://api.github.com/repos/lintool/GrimmerSenatePressReleases/contents/raw/Kennedy', maxFiles = 10)\n",
    "kenReleases[:5]"
   ]
  },
  {
   "cell_type": "markdown",
   "metadata": {},
   "source": [
    "Then we can tokenize, stem and remove stop words, like we did for the Whitehouse press releases"
   ]
  },
  {
   "cell_type": "code",
   "execution_count": null,
   "metadata": {
    "collapsed": true
   },
   "outputs": [],
   "source": [
    "kenReleases['tokenized_text'] = kenReleases['text'].apply(lambda x: nltk.word_tokenize(x))\n",
    "kenReleases['normalized_tokens'] = kenReleases['tokenized_text'].apply(lambda x: normlizeTokens(x, stopwordLst = stop_words_nltk, stemmer = snowball))"
   ]
  },
  {
   "cell_type": "markdown",
   "metadata": {},
   "source": [
    "Now we need to compare the two collection of words, remove those not found in both, and assign the remaining ones indices."
   ]
  },
  {
   "cell_type": "code",
   "execution_count": null,
   "metadata": {
    "collapsed": true
   },
   "outputs": [],
   "source": [
    "whWords = set(whReleases['normalized_tokens'].sum())\n",
    "kenWords = set(kenReleases['normalized_tokens'].sum())\n",
    "\n",
    "#Change & to | if you want to keep all words\n",
    "overlapWords = whWords & kenWords\n",
    "\n",
    "overlapWordsDict = {word: index for index, word in enumerate(overlapWords)}\n",
    "overlapWordsDict['student']"
   ]
  },
  {
   "cell_type": "markdown",
   "metadata": {},
   "source": [
    "Now we can count the occurrences of each word in the corpora and create our arrays. Note that we don't have to use numpy arrays as we do here. We could just use a list, but the arrays are faster in numpy so we encourage you to get in the habit of using them."
   ]
  },
  {
   "cell_type": "code",
   "execution_count": null,
   "metadata": {
    "collapsed": true
   },
   "outputs": [],
   "source": [
    "def makeProbsArray(dfColumn, overlapDict):\n",
    "    words = dfColumn.sum()\n",
    "    countList = [0] * len(overlapDict)\n",
    "    for word in words:\n",
    "        try:\n",
    "            countList[overlapDict[word]] += 1\n",
    "        except KeyError:\n",
    "            #The word is not common so we skip it\n",
    "            pass\n",
    "    countArray = np.array(countList)\n",
    "    return countArray / countArray.sum()\n",
    "\n",
    "whProbArray = makeProbsArray(whReleases['normalized_tokens'], overlapWordsDict)\n",
    "kenProbArray = makeProbsArray(kenReleases['normalized_tokens'], overlapWordsDict)\n",
    "kenProbArray.sum()\n",
    "#There is a little bit of a floating point math error\n",
    "#but it's too small to see with print and too small matter here"
   ]
  },
  {
   "cell_type": "markdown",
   "metadata": {},
   "source": [
    "We can now compute the KL divergence. Pay attention to the asymmetry. Use [the Jensen–Shannon divergence](https://en.wikipedia.org/wiki/Jensen%E2%80%93Shannon_divergence), which is the average KL divergence between each distribution and the average of both distributions (i.e., the midpoint), if you want symmetry."
   ]
  },
  {
   "cell_type": "code",
   "execution_count": null,
   "metadata": {
    "collapsed": true
   },
   "outputs": [],
   "source": [
    "wh_kenDivergence = scipy.stats.entropy(whProbArray, kenProbArray)\n",
    "print (wh_kenDivergence)\n",
    "ken_whDivergence = scipy.stats.entropy(kenProbArray, whProbArray)\n",
    "print (ken_whDivergence)"
   ]
  },
  {
   "cell_type": "markdown",
   "metadata": {},
   "source": [
    "Then, we can do the elementwise calculation and see which words best distinguish the two corpora."
   ]
  },
  {
   "cell_type": "code",
   "execution_count": null,
   "metadata": {
    "collapsed": true
   },
   "outputs": [],
   "source": [
    "wh_kenDivergence_ew = scipy.special.kl_div(whProbArray, kenProbArray)\n",
    "kl_df = pandas.DataFrame(list(overlapWordsDict.keys()), columns = ['word'], index = list(overlapWordsDict.values()))\n",
    "kl_df = kl_df.sort_index()\n",
    "kl_df['elementwise divergence'] = wh_kenDivergence_ew\n",
    "kl_df[:10]"
   ]
  },
  {
   "cell_type": "code",
   "execution_count": null,
   "metadata": {
    "collapsed": true
   },
   "outputs": [],
   "source": [
    "kl_df.sort_values(by='elementwise divergence', ascending=False)[:10]"
   ]
  },
  {
   "cell_type": "markdown",
   "metadata": {},
   "source": [
    "Now we will apply what we learned today to the Guternberg texts in nltk and see if we can detect patterns between them. \n",
    "\n",
    "First, let's transform every text into normalized tokens. Note that in this first step, no stopword is removed. "
   ]
  },
  {
   "cell_type": "code",
   "execution_count": null,
   "metadata": {
    "collapsed": true
   },
   "outputs": [],
   "source": [
    "fileids = nltk.corpus.gutenberg.fileids()\n",
    "corpora = []\n",
    "for fileid in fileids:\n",
    "    words = nltk.corpus.gutenberg.words(fileid)\n",
    "    normalized_tokens = normlizeTokens(words, stopwordLst = [], stemmer = snowball)\n",
    "    corpora.append(normalized_tokens)"
   ]
  },
  {
   "cell_type": "markdown",
   "metadata": {},
   "source": [
    "Then, let's separate the normalized tokens into stopwords and non-stopwords."
   ]
  },
  {
   "cell_type": "code",
   "execution_count": null,
   "metadata": {
    "collapsed": true
   },
   "outputs": [],
   "source": [
    "corpora_s = []\n",
    "corpora_nons = []\n",
    "for corpus in corpora:\n",
    "    s = []\n",
    "    nons = []\n",
    "    for word in corpus:\n",
    "        if word in stop_words_nltk:\n",
    "            s.append(word)\n",
    "        else:\n",
    "            nons.append(word)\n",
    "    corpora_s.append(s)\n",
    "    corpora_nons.append(nons)"
   ]
  },
  {
   "cell_type": "markdown",
   "metadata": {},
   "source": [
    "Define some covenient funtions for calculating divergence and distances."
   ]
  },
  {
   "cell_type": "code",
   "execution_count": null,
   "metadata": {
    "collapsed": true
   },
   "outputs": [],
   "source": [
    "def kl_divergence(X, Y):\n",
    "    P = X.copy()\n",
    "    Q = Y.copy()\n",
    "    P.columns = ['P']\n",
    "    Q.columns = ['Q']\n",
    "    df = Q.join(P).fillna(0)\n",
    "    p = df.iloc[:,1]\n",
    "    q = df.iloc[:,0]\n",
    "    D_kl = scipy.stats.entropy(p, q)\n",
    "    return D_kl\n",
    "\n",
    "def chi2_divergence(X,Y):\n",
    "    P = X.copy()\n",
    "    Q = Y.copy()\n",
    "    P.columns = ['P']\n",
    "    Q.columns = ['Q']\n",
    "    df = Q.join(P).fillna(0)\n",
    "    p = df.iloc[:,1]\n",
    "    q = df.iloc[:,0]\n",
    "    return scipy.stats.chisquare(p, q).statistic\n",
    "\n",
    "def Divergence(corpus1, corpus2, difference=\"KL\"):\n",
    "    \"\"\"Difference parameter can equal KL, Chi2, or Wass\"\"\"\n",
    "    freqP = nltk.FreqDist(corpus1)\n",
    "    P = pandas.DataFrame(list(freqP.values()), columns = ['frequency'], index = list(freqP.keys()))\n",
    "    freqQ = nltk.FreqDist(corpus2)\n",
    "    Q = pandas.DataFrame(list(freqQ.values()), columns = ['frequency'], index = list(freqQ.keys()))\n",
    "    if difference == \"KL\":\n",
    "        return kl_divergence(P, Q)\n",
    "    elif difference == \"Chi2\":\n",
    "        return chi2_divergence(P, Q)\n",
    "    elif difference == \"KS\":\n",
    "        try:\n",
    "            return scipy.stats.ks_2samp(P['frequency'], Q['frequency']).statistic\n",
    "        except:\n",
    "            return scipy.stats.ks_2samp(P['frequency'], Q['frequency'])\n",
    "    elif difference == \"Wasserstein\":\n",
    "        try:\n",
    "            return scipy.stats.wasserstein_distance(P['frequency'], Q['frequency'], u_weights=None, v_weights=None).statistic\n",
    "        except:\n",
    "            return scipy.stats.wasserstein_distance(P['frequency'], Q['frequency'], u_weights=None, v_weights=None)"
   ]
  },
  {
   "cell_type": "markdown",
   "metadata": {},
   "source": [
    "Now we will calculate the KL divergence for each pair of corpora, turn the results into a matrix, and visualize the matrix as a heatmap. Recall that $D_{\\mathrm{KL}}(P\\|Q)$ measures the amount of information loss when $Q$ is used to approximate $P$. Here, the rows are the $P$s used for calculating KL divergences, and the columns are the $Q$s. So, each cell measures the amount of information loss when the word distribution of the column text is used to approximate the word distribution of the row text. Because the KL divergence is directional, such that the divergence of $P$ from $Q$ is different from the same of $Q$ from $P$, the matrix is assymetric and contains unique information above and below the diagonal. The same is true for the $\\chi^2$ divergence."
   ]
  },
  {
   "cell_type": "code",
   "execution_count": null,
   "metadata": {
    "collapsed": true
   },
   "outputs": [],
   "source": [
    "L = []\n",
    "for p in corpora:\n",
    "    l = []\n",
    "    for q in corpora:\n",
    "        l.append(Divergence(p,q, difference = 'KL'))\n",
    "    L.append(l)\n",
    "M = np.array(L)\n",
    "fig = plt.figure()\n",
    "div = pandas.DataFrame(M, columns = fileids, index = fileids)\n",
    "ax = sns.heatmap(div)\n",
    "plt.show()"
   ]
  },
  {
   "cell_type": "markdown",
   "metadata": {},
   "source": [
    "Note that works by the same author have the lowest within-group KL divergences. \n",
    "\n",
    "To reveal more patterns, let's do a multidimensional scaling of the matrix."
   ]
  },
  {
   "cell_type": "code",
   "execution_count": null,
   "metadata": {
    "collapsed": true
   },
   "outputs": [],
   "source": [
    "mds = sklearn.manifold.MDS()\n",
    "pos = mds.fit(M).embedding_\n",
    "x = pos[:,0]\n",
    "y = pos[:,1]\n",
    "fig, ax = plt.subplots(figsize = (6,6))\n",
    "plt.plot(x, y, ' ')\n",
    "for i, txt in enumerate(fileids):\n",
    "    ax.annotate(txt, (x[i],y[i]))"
   ]
  },
  {
   "cell_type": "markdown",
   "metadata": {},
   "source": [
    "Do you see any patterns in the image shown above? Does it make sense?\n",
    "\n",
    "We may just want to focus on the distrbution of stopwords or non-stopwords. Let's do the analysis again first for stopwords and then for non-stopwords."
   ]
  },
  {
   "cell_type": "code",
   "execution_count": null,
   "metadata": {
    "collapsed": true
   },
   "outputs": [],
   "source": [
    "L = []\n",
    "for p in corpora_s:\n",
    "    l = []\n",
    "    for q in corpora_s:\n",
    "        l.append(Divergence(p,q, difference='KL'))\n",
    "    L.append(l)\n",
    "M = np.array(L)\n",
    "fig = plt.figure()\n",
    "div = pandas.DataFrame(M, columns = fileids, index = fileids)\n",
    "ax = sns.heatmap(div)\n",
    "plt.show()"
   ]
  },
  {
   "cell_type": "code",
   "execution_count": null,
   "metadata": {
    "collapsed": true
   },
   "outputs": [],
   "source": [
    "L = []\n",
    "for p in corpora_nons:\n",
    "    l = []\n",
    "    for q in corpora_nons:\n",
    "        l.append(Divergence(p,q, difference='KL'))\n",
    "    L.append(l)\n",
    "M = np.array(L)\n",
    "fig = plt.figure()\n",
    "div = pandas.DataFrame(M, columns = fileids, index = fileids)\n",
    "ax = sns.heatmap(div)\n",
    "plt.show()"
   ]
  },
  {
   "cell_type": "markdown",
   "metadata": {},
   "source": [
    "Now we compute the same for the assymmetric $\\chi^2$ Divergence."
   ]
  },
  {
   "cell_type": "code",
   "execution_count": null,
   "metadata": {
    "collapsed": true
   },
   "outputs": [],
   "source": [
    "L = []\n",
    "for p in corpora_nons:\n",
    "    l = []\n",
    "    for q in corpora_nons:\n",
    "        l.append(Divergence(p,q, difference='Chi2'))\n",
    "    L.append(l)\n",
    "M = np.array(L)\n",
    "fig = plt.figure()\n",
    "div = pandas.DataFrame(M, columns = fileids, index = fileids)\n",
    "ax = sns.heatmap(div)\n",
    "plt.show()"
   ]
  },
  {
   "cell_type": "markdown",
   "metadata": {
    "scrolled": true
   },
   "source": [
    "For the KS distance:"
   ]
  },
  {
   "cell_type": "code",
   "execution_count": null,
   "metadata": {
    "collapsed": true
   },
   "outputs": [],
   "source": [
    "L = []\n",
    "for p in corpora_nons:\n",
    "    l = []\n",
    "    for q in corpora_nons:\n",
    "        l.append(Divergence(p,q, difference='KS'))\n",
    "    L.append(l)\n",
    "M = np.array(L)\n",
    "fig = plt.figure()\n",
    "div = pandas.DataFrame(M, columns = fileids, index = fileids)\n",
    "ax = sns.heatmap(div)\n",
    "plt.show()"
   ]
  },
  {
   "cell_type": "markdown",
   "metadata": {},
   "source": [
    "And finally for the Wasserstein or \"earth mover's\" Distance."
   ]
  },
  {
   "cell_type": "code",
   "execution_count": null,
   "metadata": {
    "collapsed": true
   },
   "outputs": [],
   "source": [
    "L = []\n",
    "for p in corpora_nons:\n",
    "    l = []\n",
    "    for q in corpora_nons:\n",
    "        l.append(Divergence(p,q, difference='Wasserstein'))\n",
    "    L.append(l)\n",
    "M = np.array(L)\n",
    "fig = plt.figure()\n",
    "div = pandas.DataFrame(M, columns = fileids, index = fileids)\n",
    "ax = sns.heatmap(div)\n",
    "plt.show()"
   ]
  },
  {
   "cell_type": "markdown",
   "metadata": {},
   "source": [
    "You can see that the Bible is highly divergent and this makes reading the plot somewhat difficult. Let's fix this by taking the log of each cell, which will reduce the distance of the Bible from other texts as an outlier."
   ]
  },
  {
   "cell_type": "code",
   "execution_count": null,
   "metadata": {
    "collapsed": true
   },
   "outputs": [],
   "source": [
    "ax = sns.heatmap(div.apply(np.log).replace([np.inf, -np.inf], np.nan))\n",
    "plt.show()"
   ]
  },
  {
   "cell_type": "markdown",
   "metadata": {},
   "source": [
    "This is more legible, as it continues to show that the Bible is divergent, but other structure is also visible, such as the divergence of Austen's *Emma* and *Sense and Sensibility*, and Edgeworth's *The Parent's Assistant*. \n",
    "\n",
    "If we want to rerun this on a new data set of our own composition, we can be a bit more efficient with our coding. Let's use the Shakespeare texts from last week as example: "
   ]
  },
  {
   "cell_type": "code",
   "execution_count": null,
   "metadata": {
    "collapsed": true
   },
   "outputs": [],
   "source": [
    "shakespeare_df = lucem_illud.loadTextDirectory('../data/Shakespeare')"
   ]
  },
  {
   "cell_type": "markdown",
   "metadata": {},
   "source": [
    "Now we stem and remove stopwords"
   ]
  },
  {
   "cell_type": "code",
   "execution_count": null,
   "metadata": {
    "collapsed": true
   },
   "outputs": [],
   "source": [
    "shakespeare_df['tokenized_text'] = shakespeare_df['text'].apply(lambda x: nltk.word_tokenize(x))\n",
    "shakespeare_df['normalized_tokens'] = shakespeare_df['tokenized_text'].apply(lambda x: normlizeTokens(x, stopwordLst = stop_words_nltk, stemmer = porter))"
   ]
  },
  {
   "cell_type": "markdown",
   "metadata": {},
   "source": [
    "Create the corpus file and generate the heatmap:"
   ]
  },
  {
   "cell_type": "code",
   "execution_count": null,
   "metadata": {
    "collapsed": true
   },
   "outputs": [],
   "source": [
    "measure = 'KS' #\"KL\", \"Chi2\", \"KS\", \"Wasserstein\"\n",
    "num_of_texts = 10 #The bigger this number the slower it will run, you can also try selecting your own plays\n",
    "fileids_sp = list(shakespeare_df[:num_of_texts].index)\n",
    "corpora_sp = list(shakespeare_df[:num_of_texts]['normalized_tokens'])\n",
    "L = []\n",
    "for p in corpora_sp:\n",
    "    l = []\n",
    "    for q in corpora_sp:\n",
    "        l.append(Divergence(p,q, difference=measure))\n",
    "    L.append(l)\n",
    "M = np.array(L)\n",
    "fig = plt.figure()\n",
    "div = pandas.DataFrame(M, columns = fileids_sp, index = fileids_sp)\n",
    "ax = sns.heatmap(div)\n",
    "plt.show()"
   ]
  },
  {
   "cell_type": "markdown",
   "metadata": {},
   "source": [
    "What are \"The Passionate Pilgrim\" and \"The Phoenix and the Turtle\"? Little known poems by Shakespeare that are unsurprisingly hard to classify, as they are so different from everything else he wrote."
   ]
  },
  {
   "cell_type": "markdown",
   "metadata": {},
   "source": [
    "## <span style=\"color:red\">*Exercise 4*</span>\n",
    "\n",
    "<span style=\"color:red\">Construct cells immediately below this that calculate the KL and $\\chi^2$ divergences, and the KS and Wasserstein distances between four separate corpora, plot these with heatmaps, and then array them in two dimensions with multidimensional scaling as above. What does this reveal about relations between the corpora? Which analysis (and divergence or distribution) distinguishes the authors or documents better? \n",
    "\n",
    "<span style=\"color:red\">**Stretch**: Calculate the <a \"href=https://en.wikipedia.org/wiki/Jensen–Shannon_divergence\" target=\"_blank\">Jensen-Shannon Divergence</a> between your four corpora. What is the relationship between the KL and JS divergences?</span> "
   ]
  },
  {
   "cell_type": "code",
   "execution_count": null,
   "metadata": {},
   "outputs": [],
   "source": [
    "# for this exercise, I'll use four different selections from my data\n",
    "# the 1980 object already used, as well as 1984, 1988, and 1992\n",
    "\n",
    "# create objects\n",
    "\n",
    "eighty = nytFilter\n",
    "\n",
    "eightyFour = nytDF[nytDF['date'].str.contains('1984', na = False)]\n",
    "eightyFour['normalized-tokens'] = eightyFour['tokenized-article'].apply(lambda x: normlizeTokens(x, stopwordLst = stop_words_nltk, stemmer = snowball))\n",
    "eightyFour['normalized-tokens-count'] = eightyFour['normalized-tokens'].apply(lambda x: len(x))\n",
    "\n",
    "eightyNine = nytDF[nytDF['date'].str.contains('1989', na = False)]\n",
    "eightyNine['normalized-tokens'] = eightyNine['tokenized-article'].apply(lambda x: normlizeTokens(x, stopwordLst = stop_words_nltk, stemmer = snowball))\n",
    "eightyNine['normalized-tokens-count'] = eightyNine['normalized-tokens'].apply(lambda x: len(x))\n",
    "\n",
    "ninetyTwo = nytDF[nytDF['date'].str.contains('1992', na = False)]\n",
    "ninetyTwo['normalized-tokens'] = ninetyTwo['tokenized-article'].apply(lambda x: normlizeTokens(x, stopwordLst = stop_words_nltk, stemmer = snowball))\n",
    "ninetyTwo['normalized-tokens-count'] = ninetyTwo['normalized-tokens'].apply(lambda x: len(x))\n",
    "\n"
   ]
  },
  {
   "cell_type": "code",
   "execution_count": null,
   "metadata": {},
   "outputs": [],
   "source": [
    "eightyWords = set(eighty['normalized-tokens'].sum())\n",
    "eightyFourWords = set(eightyFour['normalized-tokens'].sum())\n",
    "eightyNineWords = set(eightyNine['normalized-tokens'].sum())\n",
    "ninetyTwoWords = set(ninetyTwo['normalized-tokens'].sum())\n",
    "\n",
    "overlap = eightyWords & eightyFourWords & eightyNineWords & ninetyTwoWords\n",
    "\n",
    "overlap = {word: index for index, word in enumerate(overlap)}\n",
    "len(overlap)"
   ]
  },
  {
   "cell_type": "code",
   "execution_count": null,
   "metadata": {},
   "outputs": [],
   "source": [
    "print(overlap['miss'])\n",
    "print(overlap['prison'])"
   ]
  },
  {
   "cell_type": "code",
   "execution_count": null,
   "metadata": {},
   "outputs": [],
   "source": [
    "def makeProbsArray(dfColumn, overlapDict):\n",
    "    words = dfColumn.sum()\n",
    "    countList = [0] * len(overlapDict)\n",
    "    for word in words:\n",
    "        try:\n",
    "            countList[overlap[word]] += 1\n",
    "        except KeyError:\n",
    "            #The word is not common so we skip it\n",
    "            pass\n",
    "    countArray = np.array(countList)\n",
    "    return countArray / countArray.sum()\n",
    "\n",
    "eProbArray = makeProbsArray(eighty['normalized-tokens'], overlap)\n",
    "EfProbArray = makeProbsArray(eightyFour['normalized-tokens'], overlap)\n",
    "EnProbArray = makeProbsArray(eightyNine['normalized-tokens'], overlap)\n",
    "NnProbArray = makeProbsArray(ninetyTwo['normalized-tokens'], overlap)\n"
   ]
  },
  {
   "cell_type": "code",
   "execution_count": null,
   "metadata": {},
   "outputs": [],
   "source": [
    "eightiesDiv = scipy.stats.entropy(eProbArray, EfProbArray)\n",
    "print(eightiesDiv)\n",
    "ninetiesDiv = scipy.stats.entropy(NnProbArray, EnProbArray)\n",
    "print(ninetiesDiv)\n",
    "\n",
    "bigDiv = scipy.stats.entropy(NnProbArray, eProbArray)\n",
    "print(bigDiv)"
   ]
  },
  {
   "cell_type": "code",
   "execution_count": null,
   "metadata": {},
   "outputs": [],
   "source": [
    "nytDiv = scipy.special.kl_div(eProbArray, NnProbArray)\n",
    "divDF = pandas.DataFrame(list(overlap.keys()), columns = ['word'], index = list(overlap.values()))\n",
    "divDF = divDF.sort_index()\n",
    "divDF['elementwise divergence'] = nytDiv\n",
    "print(divDF[:25])"
   ]
  },
  {
   "cell_type": "code",
   "execution_count": null,
   "metadata": {},
   "outputs": [],
   "source": [
    "divDF.sort_values(by='elementwise divergence', ascending=False)[:25]"
   ]
  }
 ],
 "metadata": {
  "anaconda-cloud": {},
  "kernelspec": {
   "display_name": "Python 3",
   "language": "python",
   "name": "python3"
  },
  "language_info": {
   "codemirror_mode": {
    "name": "ipython",
    "version": 3
   },
   "file_extension": ".py",
   "mimetype": "text/x-python",
   "name": "python",
   "nbconvert_exporter": "python",
   "pygments_lexer": "ipython3",
   "version": "3.6.3"
  }
 },
 "nbformat": 4,
 "nbformat_minor": 1
}
